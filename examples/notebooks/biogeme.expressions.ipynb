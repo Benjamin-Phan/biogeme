{
 "cells": [
  {
   "cell_type": "markdown",
   "metadata": {},
   "source": [
    "# Module biogeme.expressions "
   ]
  },
  {
   "cell_type": "markdown",
   "metadata": {},
   "source": [
    "## Examples of use of each function"
   ]
  },
  {
   "cell_type": "markdown",
   "metadata": {},
   "source": [
    "This webpage is for programmers who need examples of use of the functions of the module. The examples are designed to illustrate the syntax. They do not correspond to any meaningful model. For examples of models, visit  [biogeme.epfl.ch](http://biogeme.epfl.ch)."
   ]
  },
  {
   "cell_type": "code",
   "execution_count": 1,
   "metadata": {},
   "outputs": [
    {
     "name": "stdout",
     "output_type": "stream",
     "text": [
      "2021-10-26 17:42:15.414522\n"
     ]
    }
   ],
   "source": [
    "import datetime\n",
    "print(datetime.datetime.now())"
   ]
  },
  {
   "cell_type": "code",
   "execution_count": 2,
   "metadata": {},
   "outputs": [
    {
     "name": "stdout",
     "output_type": "stream",
     "text": [
      "biogeme 3.2.9a [2021-10-26]\n",
      "Version entirely written in Python\n",
      "Home page: http://biogeme.epfl.ch\n",
      "Submit questions to https://groups.google.com/d/forum/biogeme\n",
      "Michel Bierlaire, Transport and Mobility Laboratory, Ecole Polytechnique Fédérale de Lausanne (EPFL)\n",
      "\n"
     ]
    }
   ],
   "source": [
    "import biogeme.version as ver\n",
    "print(ver.getText())"
   ]
  },
  {
   "cell_type": "code",
   "execution_count": 3,
   "metadata": {},
   "outputs": [],
   "source": [
    "import numpy as np\n",
    "import pandas as pd"
   ]
  },
  {
   "cell_type": "code",
   "execution_count": 4,
   "metadata": {},
   "outputs": [],
   "source": [
    "import biogeme.expressions as ex\n",
    "import biogeme.database as db\n",
    "import biogeme.exceptions as excep\n",
    "import biogeme.models as models\n",
    "from biogeme import tools\n",
    "import biogeme.messaging as msg"
   ]
  },
  {
   "cell_type": "markdown",
   "metadata": {},
   "source": [
    "We first create a small database"
   ]
  },
  {
   "cell_type": "code",
   "execution_count": 5,
   "metadata": {},
   "outputs": [],
   "source": [
    "df = pd.DataFrame({'Person': [1, 1, 1, 2, 2],\n",
    "                   'Exclude': [0, 0, 1, 0, 1],\n",
    "                   'Variable1': [10, 20, 30, 40, 50],\n",
    "                   'Variable2': [100, 200, 300, 400, 500],\n",
    "                   'Choice': [2, 2, 3, 1, 2],\n",
    "                   'Av1': [0, 1, 1, 1, 1],\n",
    "                   'Av2': [1, 1, 1, 1, 1],\n",
    "                   'Av3': [0, 1, 1, 1, 1]})\n",
    "myData = db.Database('test', df)"
   ]
  },
  {
   "cell_type": "markdown",
   "metadata": {},
   "source": [
    "The following type of expression is a literal called Variable that corresponds to an entry in the database."
   ]
  },
  {
   "cell_type": "code",
   "execution_count": 6,
   "metadata": {},
   "outputs": [],
   "source": [
    "Person = ex.Variable('Person')\n",
    "Variable1 = ex.Variable('Variable1')\n",
    "Variable2 = ex.Variable('Variable2')\n",
    "Choice = ex.Variable('Choice')\n",
    "Av1 = ex.Variable('Av1')\n",
    "Av2 = ex.Variable('Av2')\n",
    "Av3 = ex.Variable('Av3')"
   ]
  },
  {
   "cell_type": "markdown",
   "metadata": {},
   "source": [
    "It is possible to add a new column to the database, that creates a new variable that can be used in expressions."
   ]
  },
  {
   "cell_type": "code",
   "execution_count": 7,
   "metadata": {},
   "outputs": [
    {
     "name": "stdout",
     "output_type": "stream",
     "text": [
      "biogeme database test:\n",
      "   Person  Exclude  Variable1  Variable2  Choice  Av1  Av2  Av3  newvar\n",
      "0       1        0         10        100       2    0    1    0   110.0\n",
      "1       1        0         20        200       2    1    1    1   220.0\n",
      "2       1        1         30        300       3    1    1    1   330.0\n",
      "3       2        0         40        400       1    1    1    1   440.0\n",
      "4       2        1         50        500       2    1    1    1   550.0\n"
     ]
    }
   ],
   "source": [
    "newvar = ex.DefineVariable('newvar',\n",
    "                           Variable1 + Variable2,\n",
    "                           myData)\n",
    "print(myData)"
   ]
  },
  {
   "cell_type": "markdown",
   "metadata": {},
   "source": [
    "The following type of expression is another literal, corresponding to an unknown parameter. "
   ]
  },
  {
   "cell_type": "code",
   "execution_count": 8,
   "metadata": {},
   "outputs": [],
   "source": [
    "beta1 = ex.Beta('beta1', 0.2, None, None, 0)\n",
    "beta2 = ex.Beta('beta2', 0.4, None, None, 0)\n",
    "beta3 = ex.Beta('beta3', 1, None, None, 1)\n",
    "beta4 = ex.Beta('beta4', 0, None, None, 1)"
   ]
  },
  {
   "cell_type": "markdown",
   "metadata": {},
   "source": [
    "Arithmetic operators are overloaded to allow standard manipulations of expressions. The first expression is $$e_1 = 2  \\beta_1 - \\frac{\\exp(-\\beta_2)}{\\beta_2 (\\beta_3 \\geq \\beta_4) + \\beta_1 (\\beta_3 < \\beta_4)},$$\n",
    "where $(\\beta_2 \\geq \\beta_1)$ equals 1 if $\\beta_2 \\geq \\beta_1$ and 0 otherwise."
   ]
  },
  {
   "cell_type": "code",
   "execution_count": 9,
   "metadata": {},
   "outputs": [
    {
     "name": "stdout",
     "output_type": "stream",
     "text": [
      "((`2` * beta1(0.2)) - (exp((-beta2(0.4))) / ((beta2(0.4) * (beta3(1) >= beta4(0))) + (beta1(0.2) * (beta3(1) < beta4(0))))))\n"
     ]
    }
   ],
   "source": [
    "expr1 = 2 * beta1 - ex.exp(-beta2) / (beta2 * (beta3 >= beta4) + beta1 * (beta3 < beta4))\n",
    "print(expr1)"
   ]
  },
  {
   "cell_type": "markdown",
   "metadata": {},
   "source": [
    "The evaluation of expressions can be done in two ways. For simple expressions, the fonction getValue(), implemented in Python, returns the value of the expression.  "
   ]
  },
  {
   "cell_type": "code",
   "execution_count": 10,
   "metadata": {},
   "outputs": [
    {
     "data": {
      "text/plain": [
       "-1.275800115089098"
      ]
     },
     "execution_count": 10,
     "metadata": {},
     "output_type": "execute_result"
    }
   ],
   "source": [
    "expr1.getValue()"
   ]
  },
  {
   "cell_type": "markdown",
   "metadata": {},
   "source": [
    "It is possible to modify the values of the parameters"
   ]
  },
  {
   "cell_type": "code",
   "execution_count": 11,
   "metadata": {},
   "outputs": [
    {
     "data": {
      "text/plain": [
       "1.9323323583816936"
      ]
     },
     "execution_count": 11,
     "metadata": {},
     "output_type": "execute_result"
    }
   ],
   "source": [
    "newvalues = {'beta1': 1, 'beta2': 2, 'beta3': 3, 'beta4': 2}\n",
    "expr1.changeInitValues(newvalues)\n",
    "expr1.getValue()"
   ]
  },
  {
   "cell_type": "markdown",
   "metadata": {},
   "source": [
    "The function getValue_c() is implemented in C++, and works for any expression."
   ]
  },
  {
   "cell_type": "code",
   "execution_count": 12,
   "metadata": {},
   "outputs": [
    {
     "data": {
      "text/plain": [
       "array([1.93233236])"
      ]
     },
     "execution_count": 12,
     "metadata": {},
     "output_type": "execute_result"
    }
   ],
   "source": [
    "expr1.getValue_c()"
   ]
  },
  {
   "cell_type": "markdown",
   "metadata": {},
   "source": [
    "It actually calls the function getValueAndDerivates(), and returns its first output (without calculating the derivatives)."
   ]
  },
  {
   "cell_type": "code",
   "execution_count": 13,
   "metadata": {},
   "outputs": [],
   "source": [
    "f, g, h, bhhh = expr1.getValueAndDerivatives()"
   ]
  },
  {
   "cell_type": "code",
   "execution_count": 14,
   "metadata": {},
   "outputs": [
    {
     "data": {
      "text/plain": [
       "1.9323323583816936"
      ]
     },
     "execution_count": 14,
     "metadata": {},
     "output_type": "execute_result"
    }
   ],
   "source": [
    "f"
   ]
  },
  {
   "cell_type": "code",
   "execution_count": 15,
   "metadata": {},
   "outputs": [
    {
     "data": {
      "text/plain": [
       "array([2.        , 0.10150146])"
      ]
     },
     "execution_count": 15,
     "metadata": {},
     "output_type": "execute_result"
    }
   ],
   "source": [
    "g"
   ]
  },
  {
   "cell_type": "code",
   "execution_count": 16,
   "metadata": {},
   "outputs": [
    {
     "data": {
      "text/plain": [
       "array([[ 0.       ,  0.       ],\n",
       "       [ 0.       , -0.1691691]])"
      ]
     },
     "execution_count": 16,
     "metadata": {},
     "output_type": "execute_result"
    }
   ],
   "source": [
    "h"
   ]
  },
  {
   "cell_type": "code",
   "execution_count": 17,
   "metadata": {},
   "outputs": [
    {
     "data": {
      "text/plain": [
       "array([[4.        , 0.20300292],\n",
       "       [0.20300292, 0.01030255]])"
      ]
     },
     "execution_count": 17,
     "metadata": {},
     "output_type": "execute_result"
    }
   ],
   "source": [
    "bhhh"
   ]
  },
  {
   "cell_type": "markdown",
   "metadata": {},
   "source": [
    "Note that the BHHH matrix is the outer product of the gradient with itself."
   ]
  },
  {
   "cell_type": "code",
   "execution_count": 18,
   "metadata": {},
   "outputs": [
    {
     "data": {
      "text/plain": [
       "array([[4.        , 0.20300292],\n",
       "       [0.20300292, 0.01030255]])"
      ]
     },
     "execution_count": 18,
     "metadata": {},
     "output_type": "execute_result"
    }
   ],
   "source": [
    "np.outer(g, g)"
   ]
  },
  {
   "cell_type": "markdown",
   "metadata": {},
   "source": [
    "If the derivatives are not needed, their calculation can be skipped. Here, we calculate the gradient, but not the hessian."
   ]
  },
  {
   "cell_type": "code",
   "execution_count": 19,
   "metadata": {},
   "outputs": [
    {
     "data": {
      "text/plain": [
       "(1.9323323583816936, array([2.        , 0.10150146]), None, None)"
      ]
     },
     "execution_count": 19,
     "metadata": {},
     "output_type": "execute_result"
    }
   ],
   "source": [
    "expr1.getValueAndDerivatives(gradient=True, hessian=False, bhhh=False)"
   ]
  },
  {
   "cell_type": "markdown",
   "metadata": {},
   "source": [
    "It can also generate a function that takes the value of the parameters as argument, and provides a tuple with the value of the expression and its derivatives. By default, it returns the value of the function, its gradient and its hessian."
   ]
  },
  {
   "cell_type": "code",
   "execution_count": 20,
   "metadata": {},
   "outputs": [],
   "source": [
    "the_function = expr1.createFunction()"
   ]
  },
  {
   "cell_type": "markdown",
   "metadata": {},
   "source": [
    "We evaluate it at one point..."
   ]
  },
  {
   "cell_type": "code",
   "execution_count": 21,
   "metadata": {},
   "outputs": [
    {
     "data": {
      "text/plain": [
       "(1.9323323583816936,\n",
       " array([2.        , 0.10150146]),\n",
       " array([[ 0.       ,  0.       ],\n",
       "        [ 0.       , -0.1691691]]))"
      ]
     },
     "execution_count": 21,
     "metadata": {},
     "output_type": "execute_result"
    }
   ],
   "source": [
    "the_function([1, 2])"
   ]
  },
  {
   "cell_type": "markdown",
   "metadata": {},
   "source": [
    "... and at another point."
   ]
  },
  {
   "cell_type": "code",
   "execution_count": 22,
   "metadata": {},
   "outputs": [
    {
     "data": {
      "text/plain": [
       "(23.694528049465326,\n",
       " array([ 2.        , -1.84726402]),\n",
       " array([[0.        , 0.        ],\n",
       "        [0.        , 1.84726402]]))"
      ]
     },
     "execution_count": 22,
     "metadata": {},
     "output_type": "execute_result"
    }
   ],
   "source": [
    "the_function([10, -2])"
   ]
  },
  {
   "cell_type": "markdown",
   "metadata": {},
   "source": [
    "We can use it to check the derivatives"
   ]
  },
  {
   "cell_type": "code",
   "execution_count": 23,
   "metadata": {},
   "outputs": [
    {
     "name": "stdout",
     "output_type": "stream",
     "text": [
      "[17:42:16] < Detailed >  x\t\tGradient\tFinDiff\t\tDifference\n",
      "[17:42:16] < Detailed >  x[0]           \t+2.000000E+00\t+2.000000E+00\t-1.167734E-09\n",
      "[17:42:16] < Detailed >  x[1]           \t+1.015015E-01\t+1.015014E-01\t+1.629049E-08\n",
      "[17:42:16] < Detailed >  Row\t\tCol\t\tHessian\tFinDiff\t\tDifference\n",
      "[17:42:16] < Detailed >  x[0]           \tx[0]           \t+0.000000E+00\t+0.000000E+00\t+0.000000E+00\n",
      "[17:42:16] < Detailed >  x[0]           \tx[1]           \t+0.000000E+00\t+0.000000E+00\t+0.000000E+00\n",
      "[17:42:16] < Detailed >  x[1]           \tx[0]           \t+0.000000E+00\t+0.000000E+00\t+0.000000E+00\n",
      "[17:42:16] < Detailed >  x[1]           \tx[1]           \t-1.691691E-01\t-1.691691E-01\t-3.203118E-08\n"
     ]
    },
    {
     "data": {
      "text/plain": [
       "(1.9323323583816936,\n",
       " array([2.        , 0.10150146]),\n",
       " array([[ 0.       ,  0.       ],\n",
       "        [ 0.       , -0.1691691]]),\n",
       " array([-1.16773435e-09,  1.62904950e-08]),\n",
       " array([[ 0.00000000e+00,  0.00000000e+00],\n",
       "        [ 0.00000000e+00, -3.20311803e-08]]))"
      ]
     },
     "execution_count": 23,
     "metadata": {},
     "output_type": "execute_result"
    }
   ],
   "source": [
    "logger = msg.bioMessage()\n",
    "logger.setDebug()\n",
    "tools.checkDerivatives(the_function, [1, 2], logg=True)"
   ]
  },
  {
   "cell_type": "markdown",
   "metadata": {},
   "source": [
    "But it is possible to also obtain the BHHH matrix."
   ]
  },
  {
   "cell_type": "code",
   "execution_count": 24,
   "metadata": {},
   "outputs": [
    {
     "data": {
      "text/plain": [
       "(1.9323323583816936,\n",
       " array([2.        , 0.10150146]),\n",
       " array([[ 0.       ,  0.       ],\n",
       "        [ 0.       , -0.1691691]]),\n",
       " array([[4.        , 0.20300292],\n",
       "        [0.20300292, 0.01030255]]))"
      ]
     },
     "execution_count": 24,
     "metadata": {},
     "output_type": "execute_result"
    }
   ],
   "source": [
    "the_function = expr1.createFunction(bhhh=True)\n",
    "the_function([1, 2])"
   ]
  },
  {
   "cell_type": "markdown",
   "metadata": {},
   "source": [
    "It can take a database as input, and evaluate the expression  and its derivatives for each entry in the database.\n",
    "In the following example, as no variable of the database is involved in the expression, the output of the expression is the same for each entry."
   ]
  },
  {
   "cell_type": "code",
   "execution_count": 25,
   "metadata": {},
   "outputs": [
    {
     "data": {
      "text/plain": [
       "(array([1.93233236, 1.93233236, 1.93233236, 1.93233236, 1.93233236]),\n",
       " array([[2.        , 0.10150146],\n",
       "        [2.        , 0.10150146],\n",
       "        [2.        , 0.10150146],\n",
       "        [2.        , 0.10150146],\n",
       "        [2.        , 0.10150146]]),\n",
       " array([[[ 0.       ,  0.       ],\n",
       "         [ 0.       , -0.1691691]],\n",
       " \n",
       "        [[ 0.       ,  0.       ],\n",
       "         [ 0.       , -0.1691691]],\n",
       " \n",
       "        [[ 0.       ,  0.       ],\n",
       "         [ 0.       , -0.1691691]],\n",
       " \n",
       "        [[ 0.       ,  0.       ],\n",
       "         [ 0.       , -0.1691691]],\n",
       " \n",
       "        [[ 0.       ,  0.       ],\n",
       "         [ 0.       , -0.1691691]]]),\n",
       " array([[[4.        , 0.20300292],\n",
       "         [0.20300292, 0.01030255]],\n",
       " \n",
       "        [[4.        , 0.20300292],\n",
       "         [0.20300292, 0.01030255]],\n",
       " \n",
       "        [[4.        , 0.20300292],\n",
       "         [0.20300292, 0.01030255]],\n",
       " \n",
       "        [[4.        , 0.20300292],\n",
       "         [0.20300292, 0.01030255]],\n",
       " \n",
       "        [[4.        , 0.20300292],\n",
       "         [0.20300292, 0.01030255]]]))"
      ]
     },
     "execution_count": 25,
     "metadata": {},
     "output_type": "execute_result"
    }
   ],
   "source": [
    "expr1.getValueAndDerivatives(myData, aggregation=False)"
   ]
  },
  {
   "cell_type": "markdown",
   "metadata": {},
   "source": [
    "If `aggregation`is set to `False`, the results are accumulated as a sum."
   ]
  },
  {
   "cell_type": "code",
   "execution_count": 26,
   "metadata": {},
   "outputs": [
    {
     "data": {
      "text/plain": [
       "(9.661661791908468,\n",
       " array([10.        ,  0.50750731]),\n",
       " array([[ 0.        ,  0.        ],\n",
       "        [ 0.        , -0.84584552]]),\n",
       " array([[20.        ,  1.01501462],\n",
       "        [ 1.01501462,  0.05151273]]))"
      ]
     },
     "execution_count": 26,
     "metadata": {},
     "output_type": "execute_result"
    }
   ],
   "source": [
    "expr1.getValueAndDerivatives(myData, aggregation=True)"
   ]
  },
  {
   "cell_type": "markdown",
   "metadata": {},
   "source": [
    "The following function scans the expression and extracts a dict with all free parameters."
   ]
  },
  {
   "cell_type": "code",
   "execution_count": 27,
   "metadata": {},
   "outputs": [
    {
     "data": {
      "text/plain": [
       "{'beta1', 'beta2'}"
      ]
     },
     "execution_count": 27,
     "metadata": {},
     "output_type": "execute_result"
    }
   ],
   "source": [
    "expr1.setOfBetas()"
   ]
  },
  {
   "cell_type": "markdown",
   "metadata": {},
   "source": [
    "Options can be set to extract free parameters, fixed parameters, or both. "
   ]
  },
  {
   "cell_type": "code",
   "execution_count": 28,
   "metadata": {},
   "outputs": [
    {
     "data": {
      "text/plain": [
       "{'beta3', 'beta4'}"
      ]
     },
     "execution_count": 28,
     "metadata": {},
     "output_type": "execute_result"
    }
   ],
   "source": [
    "expr1.setOfBetas(free=False, fixed=True)"
   ]
  },
  {
   "cell_type": "code",
   "execution_count": 29,
   "metadata": {},
   "outputs": [
    {
     "data": {
      "text/plain": [
       "{'beta1', 'beta2', 'beta3', 'beta4'}"
      ]
     },
     "execution_count": 29,
     "metadata": {},
     "output_type": "execute_result"
    }
   ],
   "source": [
    "expr1.setOfBetas(free=True, fixed=True)"
   ]
  },
  {
   "cell_type": "markdown",
   "metadata": {},
   "source": [
    "It is possible also to extract an elementary expression from its name."
   ]
  },
  {
   "cell_type": "code",
   "execution_count": 30,
   "metadata": {},
   "outputs": [
    {
     "data": {
      "text/plain": [
       "beta2(2)"
      ]
     },
     "execution_count": 30,
     "metadata": {},
     "output_type": "execute_result"
    }
   ],
   "source": [
    "expr1.getElementaryExpression('beta2')"
   ]
  },
  {
   "cell_type": "markdown",
   "metadata": {},
   "source": [
    "Let's consider an expression involving two variables $V_1$ and $V_2$: $$e_2 = 2  \\beta_1 V_1 - \\frac{\\exp(-\\beta_2 V_2)}{\\beta_2 (\\beta_3 \\geq \\beta_4) + \\beta_1 (\\beta_3 < \\beta_4)},$$\n",
    "where $(\\beta_2 \\geq \\beta_1)$ equals 1 if $\\beta_2 \\geq \\beta_1$ and 0 otherwise. Note that, in our example, the second term is numerically negligible with respect to the first one."
   ]
  },
  {
   "cell_type": "code",
   "execution_count": 31,
   "metadata": {},
   "outputs": [
    {
     "name": "stdout",
     "output_type": "stream",
     "text": [
      "(((`2` * beta1(1)) * Variable1) - (exp(((-beta2(2)) * Variable2)) / ((beta2(2) * (beta3(3) >= beta4(2))) + (beta1(1) * (beta3(3) < beta4(2))))))\n"
     ]
    }
   ],
   "source": [
    "expr2 = 2 * beta1 * Variable1 - ex.exp(-beta2 * Variable2) / (beta2 * (beta3 >= beta4) + beta1 * (beta3 < beta4))\n",
    "print(expr2)"
   ]
  },
  {
   "cell_type": "markdown",
   "metadata": {},
   "source": [
    "It is not a simple expression anymore, and only the function `getValue_c` can be invoked. If we try the `getValue`function, it raises an exception."
   ]
  },
  {
   "cell_type": "code",
   "execution_count": 32,
   "metadata": {},
   "outputs": [
    {
     "name": "stdout",
     "output_type": "stream",
     "text": [
      "Exception raised: Evaluating Variable Variable1 requires a database. Use the function getValue_c instead.\n"
     ]
    }
   ],
   "source": [
    "try:\n",
    "    expr2.getValue()\n",
    "except excep.biogemeError as e:\n",
    "    print(f'Exception raised: {e}')"
   ]
  },
  {
   "cell_type": "code",
   "execution_count": 33,
   "metadata": {},
   "outputs": [
    {
     "data": {
      "text/plain": [
       "array([ 20.,  40.,  60.,  80., 100.])"
      ]
     },
     "execution_count": 33,
     "metadata": {},
     "output_type": "execute_result"
    }
   ],
   "source": [
    "expr2.getValue_c(database=myData, aggregation=False)"
   ]
  },
  {
   "cell_type": "markdown",
   "metadata": {},
   "source": [
    "Note that if no database is provided, an exception is raised when the formula contains variables. Indeed, the values of these variables cannot be found anywhere."
   ]
  },
  {
   "cell_type": "code",
   "execution_count": 34,
   "metadata": {},
   "outputs": [
    {
     "name": "stdout",
     "output_type": "stream",
     "text": [
      "Exception raised: The database must be provided to audit the variable.\n"
     ]
    }
   ],
   "source": [
    "try:\n",
    "    expr2.getValue_c()\n",
    "except excep.biogemeError as e:\n",
    "    print(f'Exception raised: {e}')"
   ]
  },
  {
   "cell_type": "markdown",
   "metadata": {},
   "source": [
    "The following function extracts the names of the parameters apprearing in the expression"
   ]
  },
  {
   "cell_type": "code",
   "execution_count": 35,
   "metadata": {},
   "outputs": [
    {
     "data": {
      "text/plain": [
       "{'beta1', 'beta2', 'beta3', 'beta4'}"
      ]
     },
     "execution_count": 35,
     "metadata": {},
     "output_type": "execute_result"
    }
   ],
   "source": [
    "expr2.setOfBetas(free=True,fixed=True)"
   ]
  },
  {
   "cell_type": "markdown",
   "metadata": {},
   "source": [
    "The list of parameters can also be obtained in the form of a dictionary."
   ]
  },
  {
   "cell_type": "code",
   "execution_count": 36,
   "metadata": {},
   "outputs": [
    {
     "data": {
      "text/plain": [
       "{'beta1': beta1(1), 'beta2': beta2(2), 'beta3': beta3(3), 'beta4': beta4(2)}"
      ]
     },
     "execution_count": 36,
     "metadata": {},
     "output_type": "execute_result"
    }
   ],
   "source": [
    "expr2.dictOfBetas(free=True,fixed=True)"
   ]
  },
  {
   "cell_type": "markdown",
   "metadata": {},
   "source": [
    "The list of variables can also be obtained in the form of a dictionary"
   ]
  },
  {
   "cell_type": "code",
   "execution_count": 37,
   "metadata": {},
   "outputs": [
    {
     "data": {
      "text/plain": [
       "{'Variable1': Variable1, 'Variable2': Variable2}"
      ]
     },
     "execution_count": 37,
     "metadata": {},
     "output_type": "execute_result"
    }
   ],
   "source": [
    "expr2.dictOfVariables()"
   ]
  },
  {
   "cell_type": "markdown",
   "metadata": {},
   "source": [
    "or a set..."
   ]
  },
  {
   "cell_type": "code",
   "execution_count": 38,
   "metadata": {},
   "outputs": [
    {
     "data": {
      "text/plain": [
       "{'Variable1', 'Variable2'}"
      ]
     },
     "execution_count": 38,
     "metadata": {},
     "output_type": "execute_result"
    }
   ],
   "source": [
    "expr2.setOfVariables()"
   ]
  },
  {
   "cell_type": "markdown",
   "metadata": {},
   "source": [
    "Expressions are defined recursively, using a tree representation. The following function describes the type of the upper most node of the tree."
   ]
  },
  {
   "cell_type": "code",
   "execution_count": 39,
   "metadata": {},
   "outputs": [
    {
     "data": {
      "text/plain": [
       "'Minus'"
      ]
     },
     "execution_count": 39,
     "metadata": {},
     "output_type": "execute_result"
    }
   ],
   "source": [
    "expr2.getClassName()"
   ]
  },
  {
   "cell_type": "markdown",
   "metadata": {},
   "source": [
    "The signature is a formal representation of the expression, assigning identifiers to each node of the tree, and representing them starting from the leaves. It is easy to parse, and is passed to the C++ implementation. "
   ]
  },
  {
   "cell_type": "code",
   "execution_count": 40,
   "metadata": {},
   "outputs": [
    {
     "data": {
      "text/plain": [
       "[b'<Numeric>{140319677341360},2',\n",
       " b'<Beta>{140321557220560}\"beta1\"[0],0,0',\n",
       " b'<Times>{140319677340832}(2),140319677341360,140321557220560',\n",
       " b'<Variable>{140321557309808}\"Variable1\",6,2',\n",
       " b'<Times>{140319677338528}(2),140319677340832,140321557309808',\n",
       " b'<Beta>{140321557220320}\"beta2\"[0],1,1',\n",
       " b'<UnaryMinus>{140319677372784}(1),140321557220320',\n",
       " b'<Variable>{140321557310576}\"Variable2\",7,3',\n",
       " b'<Times>{140319677372832}(2),140319677372784,140321557310576',\n",
       " b'<exp>{140319677371344}(1),140319677372832',\n",
       " b'<Beta>{140321557220320}\"beta2\"[0],1,1',\n",
       " b'<Beta>{140321557219600}\"beta3\"[1],2,0',\n",
       " b'<Beta>{140321557220656}\"beta4\"[1],3,1',\n",
       " b'<GreaterOrEqual>{140319677371392}(2),140321557219600,140321557220656',\n",
       " b'<Times>{140319677371440}(2),140321557220320,140319677371392',\n",
       " b'<Beta>{140321557220560}\"beta1\"[0],0,0',\n",
       " b'<Beta>{140321557219600}\"beta3\"[1],2,0',\n",
       " b'<Beta>{140321557220656}\"beta4\"[1],3,1',\n",
       " b'<Less>{140319677371056}(2),140321557219600,140321557220656',\n",
       " b'<Times>{140319677372928}(2),140321557220560,140319677371056',\n",
       " b'<Plus>{140319677372976}(2),140319677371440,140319677372928',\n",
       " b'<Divide>{140319677373024}(2),140319677371344,140319677372976',\n",
       " b'<Minus>{140319677372304}(2),140319677338528,140319677373024']"
      ]
     },
     "execution_count": 40,
     "metadata": {},
     "output_type": "execute_result"
    }
   ],
   "source": [
    "expr2.getSignature()"
   ]
  },
  {
   "cell_type": "markdown",
   "metadata": {},
   "source": [
    "The elementary expressions are\n",
    "- free parameters,\n",
    "- fixed parameters,\n",
    "- random variables (for numerical integration),\n",
    "- draws (for Monte-Carlo integration), and\n",
    "- variables from the database.\n",
    "\n",
    "The following function extracts all elementary expressions from a list of formulas, give them a unique numbering, and return them organized by group, as defined above (with the exception of the variables, that are directly available in the database)."
   ]
  },
  {
   "cell_type": "code",
   "execution_count": 41,
   "metadata": {},
   "outputs": [],
   "source": [
    "collectionOfFormulas = [expr1, expr2]\n",
    "(elementaryExpressionIndex,\n",
    "    allFreeBetas,freeBetaNames,\n",
    "    allFixedBetas,\n",
    "    fixedBetaNames,\n",
    "    allRandomVariables,\n",
    "    randomVariableNames,\n",
    "    allDraws,\n",
    "    drawNames) =\\\n",
    "ex.defineNumberingOfElementaryExpressions(collectionOfFormulas,\n",
    "                                         list(myData.data.columns))"
   ]
  },
  {
   "cell_type": "markdown",
   "metadata": {},
   "source": [
    "Unique numbering for all elementary expressions"
   ]
  },
  {
   "cell_type": "code",
   "execution_count": 42,
   "metadata": {},
   "outputs": [
    {
     "data": {
      "text/plain": [
       "{'beta1': 0,\n",
       " 'beta2': 1,\n",
       " 'beta3': 2,\n",
       " 'beta4': 3,\n",
       " 'Person': 4,\n",
       " 'Exclude': 5,\n",
       " 'Variable1': 6,\n",
       " 'Variable2': 7,\n",
       " 'Choice': 8,\n",
       " 'Av1': 9,\n",
       " 'Av2': 10,\n",
       " 'Av3': 11,\n",
       " 'newvar': 12}"
      ]
     },
     "execution_count": 42,
     "metadata": {},
     "output_type": "execute_result"
    }
   ],
   "source": [
    "elementaryExpressionIndex"
   ]
  },
  {
   "cell_type": "code",
   "execution_count": 43,
   "metadata": {},
   "outputs": [
    {
     "data": {
      "text/plain": [
       "{'beta1': beta1(1), 'beta2': beta2(2)}"
      ]
     },
     "execution_count": 43,
     "metadata": {},
     "output_type": "execute_result"
    }
   ],
   "source": [
    "allFreeBetas"
   ]
  },
  {
   "cell_type": "markdown",
   "metadata": {},
   "source": [
    "Each elementary expression has two ids. One unique across all elementary expressions, and one unique within each specific group"
   ]
  },
  {
   "cell_type": "code",
   "execution_count": 44,
   "metadata": {},
   "outputs": [
    {
     "data": {
      "text/plain": [
       "[(0, 0), (1, 1)]"
      ]
     },
     "execution_count": 44,
     "metadata": {},
     "output_type": "execute_result"
    }
   ],
   "source": [
    "[(i.uniqueId, i.betaId) for k, i in allFreeBetas.items()]"
   ]
  },
  {
   "cell_type": "code",
   "execution_count": 45,
   "metadata": {},
   "outputs": [
    {
     "data": {
      "text/plain": [
       "['beta1', 'beta2']"
      ]
     },
     "execution_count": 45,
     "metadata": {},
     "output_type": "execute_result"
    }
   ],
   "source": [
    "freeBetaNames"
   ]
  },
  {
   "cell_type": "code",
   "execution_count": 46,
   "metadata": {},
   "outputs": [
    {
     "data": {
      "text/plain": [
       "{'beta3': beta3(3), 'beta4': beta4(2)}"
      ]
     },
     "execution_count": 46,
     "metadata": {},
     "output_type": "execute_result"
    }
   ],
   "source": [
    "allFixedBetas"
   ]
  },
  {
   "cell_type": "code",
   "execution_count": 47,
   "metadata": {},
   "outputs": [
    {
     "data": {
      "text/plain": [
       "[(2, 0), (3, 1)]"
      ]
     },
     "execution_count": 47,
     "metadata": {},
     "output_type": "execute_result"
    }
   ],
   "source": [
    "[(i.uniqueId, i.betaId) for k, i in allFixedBetas.items()]"
   ]
  },
  {
   "cell_type": "code",
   "execution_count": 48,
   "metadata": {},
   "outputs": [
    {
     "data": {
      "text/plain": [
       "['beta3', 'beta4']"
      ]
     },
     "execution_count": 48,
     "metadata": {},
     "output_type": "execute_result"
    }
   ],
   "source": [
    "fixedBetaNames"
   ]
  },
  {
   "cell_type": "code",
   "execution_count": 49,
   "metadata": {},
   "outputs": [
    {
     "data": {
      "text/plain": [
       "{}"
      ]
     },
     "execution_count": 49,
     "metadata": {},
     "output_type": "execute_result"
    }
   ],
   "source": [
    "allRandomVariables"
   ]
  },
  {
   "cell_type": "markdown",
   "metadata": {},
   "source": [
    "Monte Carlo integration is based on draws. "
   ]
  },
  {
   "cell_type": "code",
   "execution_count": 50,
   "metadata": {},
   "outputs": [],
   "source": [
    "myDraws = ex.bioDraws('myDraws', 'UNIFORM')\n",
    "expr3 = ex.MonteCarlo(myDraws * myDraws)"
   ]
  },
  {
   "cell_type": "code",
   "execution_count": 51,
   "metadata": {},
   "outputs": [
    {
     "name": "stdout",
     "output_type": "stream",
     "text": [
      "MonteCarlo((bioDraws(\"myDraws\", \"UNIFORM\") * bioDraws(\"myDraws\", \"UNIFORM\")))\n"
     ]
    }
   ],
   "source": [
    "print(expr3)"
   ]
  },
  {
   "cell_type": "markdown",
   "metadata": {},
   "source": [
    "Note that draws are not random variables, used for numerical integration."
   ]
  },
  {
   "cell_type": "code",
   "execution_count": 52,
   "metadata": {},
   "outputs": [
    {
     "data": {
      "text/plain": [
       "{}"
      ]
     },
     "execution_count": 52,
     "metadata": {},
     "output_type": "execute_result"
    }
   ],
   "source": [
    "expr3.dictOfRandomVariables()"
   ]
  },
  {
   "cell_type": "markdown",
   "metadata": {},
   "source": [
    "The following function reports the draws involved in an expression."
   ]
  },
  {
   "cell_type": "code",
   "execution_count": 53,
   "metadata": {},
   "outputs": [
    {
     "data": {
      "text/plain": [
       "{'myDraws': 'UNIFORM'}"
      ]
     },
     "execution_count": 53,
     "metadata": {},
     "output_type": "execute_result"
    }
   ],
   "source": [
    "expr3.dictOfDraws()"
   ]
  },
  {
   "cell_type": "markdown",
   "metadata": {},
   "source": [
    "The expression is a Monte-Carlo integration."
   ]
  },
  {
   "cell_type": "code",
   "execution_count": 54,
   "metadata": {},
   "outputs": [
    {
     "data": {
      "text/plain": [
       "'MonteCarlo'"
      ]
     },
     "execution_count": 54,
     "metadata": {},
     "output_type": "execute_result"
    }
   ],
   "source": [
    "expr3.getClassName()"
   ]
  },
  {
   "cell_type": "markdown",
   "metadata": {},
   "source": [
    "Note that the draws are associated with a database. Therefore, the evaluation of expressions involving Monte Carlo integration can only be done on a database. If none is provided, an exception is raised."
   ]
  },
  {
   "cell_type": "code",
   "execution_count": 55,
   "metadata": {},
   "outputs": [
    {
     "name": "stdout",
     "output_type": "stream",
     "text": [
      "Exception raised: An expression involving MonteCarlo integration must be associated with a database.\n"
     ]
    }
   ],
   "source": [
    "try:\n",
    "    expr3.getValue_c(numberOfDraws=100000)\n",
    "except excep.biogemeError as e:\n",
    "    print(f'Exception raised: {e}')"
   ]
  },
  {
   "cell_type": "markdown",
   "metadata": {},
   "source": [
    "Here is its value. It is an approximation of $\\int_0^1 x^2 dx=\\frac{1}{3}$."
   ]
  },
  {
   "cell_type": "code",
   "execution_count": 56,
   "metadata": {},
   "outputs": [
    {
     "data": {
      "text/plain": [
       "array([0.33559021, 0.33221393, 0.33341424, 0.33232416, 0.33366952])"
      ]
     },
     "execution_count": 56,
     "metadata": {},
     "output_type": "execute_result"
    }
   ],
   "source": [
    "expr3.getValue_c(database=myData, numberOfDraws=100000)"
   ]
  },
  {
   "cell_type": "markdown",
   "metadata": {},
   "source": [
    "Here is its signature."
   ]
  },
  {
   "cell_type": "code",
   "execution_count": 57,
   "metadata": {},
   "outputs": [
    {
     "data": {
      "text/plain": [
       "[b'<bioDraws>{140320747016496}\"myDraws\",0,0',\n",
       " b'<bioDraws>{140320747016496}\"myDraws\",0,0',\n",
       " b'<Times>{140320747001936}(2),140320747016496,140320747016496',\n",
       " b'<MonteCarlo>{140320747003328}(1),140320747001936']"
      ]
     },
     "execution_count": 57,
     "metadata": {},
     "output_type": "execute_result"
    }
   ],
   "source": [
    "expr3.getSignature()"
   ]
  },
  {
   "cell_type": "markdown",
   "metadata": {},
   "source": [
    "The same integral can be calculated using numerical integration, declaring a random variable. "
   ]
  },
  {
   "cell_type": "code",
   "execution_count": 58,
   "metadata": {},
   "outputs": [],
   "source": [
    "omega = ex.RandomVariable('omega')"
   ]
  },
  {
   "cell_type": "markdown",
   "metadata": {},
   "source": [
    "Numerical integration calculates integrals between $-\\infty$ and $+\\infty$. Here, the interval being $[0,1]$, a change of variables is required."
   ]
  },
  {
   "cell_type": "code",
   "execution_count": 59,
   "metadata": {},
   "outputs": [],
   "source": [
    "a = 0\n",
    "b = 1\n",
    "x = a + (b - a) / ( 1 + ex.exp(-omega))\n",
    "dx = (b - a) * ex.exp(-omega) * (1 + ex.exp(-omega))**(-2) \n",
    "integrand = x * x\n",
    "expr4 = ex.Integrate(integrand * dx /(b - a), 'omega')"
   ]
  },
  {
   "cell_type": "markdown",
   "metadata": {},
   "source": [
    "In this case, omega is a random variable."
   ]
  },
  {
   "cell_type": "code",
   "execution_count": 60,
   "metadata": {},
   "outputs": [
    {
     "data": {
      "text/plain": [
       "{'omega': omega}"
      ]
     },
     "execution_count": 60,
     "metadata": {},
     "output_type": "execute_result"
    }
   ],
   "source": [
    "expr4.dictOfRandomVariables()"
   ]
  },
  {
   "cell_type": "code",
   "execution_count": 61,
   "metadata": {},
   "outputs": [
    {
     "name": "stdout",
     "output_type": "stream",
     "text": [
      "Integrate(((((`0` + (`1` / (`1` + exp((-omega))))) * (`0` + (`1` / (`1` + exp((-omega)))))) * ((`1` * exp((-omega))) * ((`1` + exp((-omega))) ** `-2`))) / `1`), \"omega\")\n"
     ]
    }
   ],
   "source": [
    "print(expr4)"
   ]
  },
  {
   "cell_type": "markdown",
   "metadata": {},
   "source": [
    "Calculating its value requires the C++ implementation."
   ]
  },
  {
   "cell_type": "code",
   "execution_count": 62,
   "metadata": {},
   "outputs": [
    {
     "data": {
      "text/plain": [
       "array([0.33333231, 0.33333231, 0.33333231, 0.33333231, 0.33333231])"
      ]
     },
     "execution_count": 62,
     "metadata": {},
     "output_type": "execute_result"
    }
   ],
   "source": [
    "expr4.getValue_c(myData)"
   ]
  },
  {
   "cell_type": "markdown",
   "metadata": {},
   "source": [
    "We illustrate now the Elem function. It takes two arguments: a dictionary, and a formula for the key. For each entry in the database, the formula is evaluated, and its result identifies which formula in the dictionary should be evaluated.\n",
    "Here is 'Person' is 1, the expression is $$e_1=2  \\beta_1 - \\frac{\\exp(-\\beta_2)}{\\beta_3 (\\beta_2 \\geq \\beta_1)},$$ and if 'Person' is 2, the expression is $$e_2=2 \\beta_1  V_1 - \\frac{\\exp(-\\beta_2 V_2) }{ \\beta_3  (\\beta_2 \\geq \\beta_1)}.$$ As it is a regular expression, it can be included in any formula. Here, we illustrate it by dividing the result by 10."
   ]
  },
  {
   "cell_type": "code",
   "execution_count": 63,
   "metadata": {},
   "outputs": [
    {
     "name": "stdout",
     "output_type": "stream",
     "text": [
      "({{1:((`2` * beta1(1)) - (exp((-beta2(2))) / ((beta2(2) * (beta3(3) >= beta4(2))) + (beta1(1) * (beta3(3) < beta4(2)))))), 2:(((`2` * beta1(1)) * Variable1) - (exp(((-beta2(2)) * Variable2)) / ((beta2(2) * (beta3(3) >= beta4(2))) + (beta1(1) * (beta3(3) < beta4(2))))))}[Person] / `10`)\n"
     ]
    }
   ],
   "source": [
    "elemExpr = ex.Elem({1: expr1, 2: expr2}, Person) \n",
    "expr5 =  elemExpr / 10\n",
    "print(expr5)"
   ]
  },
  {
   "cell_type": "code",
   "execution_count": 64,
   "metadata": {},
   "outputs": [
    {
     "data": {
      "text/plain": [
       "{'Variable1': Variable1, 'Variable2': Variable2, 'Person': Person}"
      ]
     },
     "execution_count": 64,
     "metadata": {},
     "output_type": "execute_result"
    }
   ],
   "source": [
    "expr5.dictOfVariables()"
   ]
  },
  {
   "cell_type": "code",
   "execution_count": 65,
   "metadata": {},
   "outputs": [
    {
     "data": {
      "text/plain": [
       "array([ 0.19323324,  0.19323324,  0.19323324,  8.        , 10.        ])"
      ]
     },
     "execution_count": 65,
     "metadata": {},
     "output_type": "execute_result"
    }
   ],
   "source": [
    "expr5.getValue_c(myData)"
   ]
  },
  {
   "cell_type": "markdown",
   "metadata": {},
   "source": [
    "The next expression is simply the sum of multiples expressions. The argument is a list of expressions. "
   ]
  },
  {
   "cell_type": "code",
   "execution_count": 66,
   "metadata": {},
   "outputs": [],
   "source": [
    "expr6 = ex.bioMultSum([expr1, expr2, expr4])"
   ]
  },
  {
   "cell_type": "code",
   "execution_count": 67,
   "metadata": {},
   "outputs": [
    {
     "name": "stdout",
     "output_type": "stream",
     "text": [
      "bioMultSum(((`2` * beta1(1)) - (exp((-beta2(2))) / ((beta2(2) * (beta3(3) >= beta4(2))) + (beta1(1) * (beta3(3) < beta4(2)))))), (((`2` * beta1(1)) * Variable1) - (exp(((-beta2(2)) * Variable2)) / ((beta2(2) * (beta3(3) >= beta4(2))) + (beta1(1) * (beta3(3) < beta4(2)))))), Integrate(((((`0` + (`1` / (`1` + exp((-omega))))) * (`0` + (`1` / (`1` + exp((-omega)))))) * ((`1` * exp((-omega))) * ((`1` + exp((-omega))) ** `-2`))) / `1`), \"omega\"))\n"
     ]
    }
   ],
   "source": [
    "print(expr6)"
   ]
  },
  {
   "cell_type": "code",
   "execution_count": 68,
   "metadata": {},
   "outputs": [
    {
     "data": {
      "text/plain": [
       "array([ 22.26566467,  42.26566467,  62.26566467,  82.26566467,\n",
       "       102.26566467])"
      ]
     },
     "execution_count": 68,
     "metadata": {},
     "output_type": "execute_result"
    }
   ],
   "source": [
    "expr6.getValue_c(database=myData, numberOfDraws=100000)"
   ]
  },
  {
   "cell_type": "markdown",
   "metadata": {},
   "source": [
    "We now illustrate how to calculate a logit model, that is $$ \\frac{y_1 e^{V_1}}{y_0 e^{V_0}+y_1 e^{V_1}+y_2 e^{V_2}}$$ where $V_0=-\\beta_1$, $V_1=-\\beta_2$ and $V_2=-\\beta_1$, and $y_i = 1$, $i=1,2,3$."
   ]
  },
  {
   "cell_type": "code",
   "execution_count": 69,
   "metadata": {},
   "outputs": [],
   "source": [
    "V = {0: -beta1, 1: -beta2, 2: -beta1}\n",
    "av = {0: 1, 1: 1, 2: 1}\n",
    "expr7 = ex.LogLogit(V, av, 1)"
   ]
  },
  {
   "cell_type": "code",
   "execution_count": 70,
   "metadata": {},
   "outputs": [
    {
     "data": {
      "text/plain": [
       "-1.861994804058251"
      ]
     },
     "execution_count": 70,
     "metadata": {},
     "output_type": "execute_result"
    }
   ],
   "source": [
    "expr7.getValue()"
   ]
  },
  {
   "cell_type": "markdown",
   "metadata": {},
   "source": [
    "If the alternative is not in the choice set, an exception is raised."
   ]
  },
  {
   "cell_type": "code",
   "execution_count": 71,
   "metadata": {},
   "outputs": [
    {
     "name": "stdout",
     "output_type": "stream",
     "text": [
      "Exception: Alternative 3 for not appear in the list of utility functions: dict_keys([0, 1, 2])\n"
     ]
    }
   ],
   "source": [
    "expr7_wrong = ex.LogLogit(V, av, 3)\n",
    "try:\n",
    "    expr7_wrong.getValue()\n",
    "except excep.biogemeError as e:\n",
    "    print(f'Exception: {e}')"
   ]
  },
  {
   "cell_type": "markdown",
   "metadata": {},
   "source": [
    "It is actually better to use the C++ implementation, available in the module models"
   ]
  },
  {
   "cell_type": "code",
   "execution_count": 72,
   "metadata": {},
   "outputs": [],
   "source": [
    "expr8 = models.loglogit(V, av, 1)"
   ]
  },
  {
   "cell_type": "code",
   "execution_count": 73,
   "metadata": {},
   "outputs": [
    {
     "data": {
      "text/plain": [
       "array([-1.8619948, -1.8619948, -1.8619948, -1.8619948, -1.8619948])"
      ]
     },
     "execution_count": 73,
     "metadata": {},
     "output_type": "execute_result"
    }
   ],
   "source": [
    "expr8.getValue_c(myData)"
   ]
  },
  {
   "cell_type": "markdown",
   "metadata": {},
   "source": [
    "As the result is a numpy array, it can be used for any calculation. Here, we show how to calculate the logsum"
   ]
  },
  {
   "cell_type": "code",
   "execution_count": 74,
   "metadata": {},
   "outputs": [
    {
     "name": "stdout",
     "output_type": "stream",
     "text": [
      "[-1. -1. -1. -1. -1.]\n",
      "[-2. -2. -2. -2. -2.]\n",
      "[-1. -1. -1. -1. -1.]\n"
     ]
    }
   ],
   "source": [
    "for v in V.values():\n",
    "    print(v.getValue_c(myData))"
   ]
  },
  {
   "cell_type": "code",
   "execution_count": 75,
   "metadata": {},
   "outputs": [
    {
     "data": {
      "text/plain": [
       "array([ 0.60943791, -0.39056209,  0.60943791])"
      ]
     },
     "execution_count": 75,
     "metadata": {},
     "output_type": "execute_result"
    }
   ],
   "source": [
    "logsum = np.log(np.sum([np.exp(v.getValue_c(myData)) \n",
    "                        for v in V.values()], axis=1))\n",
    "logsum"
   ]
  },
  {
   "cell_type": "markdown",
   "metadata": {},
   "source": [
    "It is possible to calculate the derivative of a formula with respect to a literal: $$e_9=\\frac{\\partial e_8}{\\partial \\beta_2}.$$"
   ]
  },
  {
   "cell_type": "code",
   "execution_count": 76,
   "metadata": {},
   "outputs": [],
   "source": [
    "expr9 = ex.Derive(expr8, 'beta2')"
   ]
  },
  {
   "cell_type": "code",
   "execution_count": 77,
   "metadata": {},
   "outputs": [
    {
     "data": {
      "text/plain": [
       "array([-0.8446376, -0.8446376, -0.8446376, -0.8446376, -0.8446376])"
      ]
     },
     "execution_count": 77,
     "metadata": {},
     "output_type": "execute_result"
    }
   ],
   "source": [
    "expr9.getValue_c(myData)"
   ]
  },
  {
   "cell_type": "markdown",
   "metadata": {},
   "source": [
    "Biogeme also provides an approximation of the CDF of the normal distribution: $$e_{10}= \\frac{1}{{\\sigma \\sqrt {2\\pi } }}\\int_{-\\infty}^t e^{{{ - \\left( {x - \\mu } \\right)^2 } \\mathord{\\left/ {\\vphantom {{ - \\left( {x - \\mu } \\right)^2 } {2\\sigma ^2 }}} \\right. } {2\\sigma ^2 }}}dx$$"
   ]
  },
  {
   "cell_type": "code",
   "execution_count": 78,
   "metadata": {},
   "outputs": [],
   "source": [
    "expr10 = ex.bioNormalCdf(Variable1 / 10 - 1)"
   ]
  },
  {
   "cell_type": "code",
   "execution_count": 79,
   "metadata": {},
   "outputs": [
    {
     "data": {
      "text/plain": [
       "array([0.5       , 0.84134475, 0.97724987, 0.9986501 , 0.99996833])"
      ]
     },
     "execution_count": 79,
     "metadata": {},
     "output_type": "execute_result"
    }
   ],
   "source": [
    "expr10.getValue_c(myData)"
   ]
  },
  {
   "cell_type": "markdown",
   "metadata": {},
   "source": [
    "Min and max operators are also available. To avoid any ambiguity with the Python operator, they are called bioMin and bioMax. "
   ]
  },
  {
   "cell_type": "code",
   "execution_count": 80,
   "metadata": {},
   "outputs": [
    {
     "data": {
      "text/plain": [
       "array([0.19323324, 0.19323324, 0.19323324, 0.9986501 , 0.99996833])"
      ]
     },
     "execution_count": 80,
     "metadata": {},
     "output_type": "execute_result"
    }
   ],
   "source": [
    "expr11 = ex.bioMin(expr5, expr10)\n",
    "expr11.getValue_c(myData)"
   ]
  },
  {
   "cell_type": "code",
   "execution_count": 81,
   "metadata": {},
   "outputs": [
    {
     "data": {
      "text/plain": [
       "array([ 0.5       ,  0.84134475,  0.97724987,  8.        , 10.        ])"
      ]
     },
     "execution_count": 81,
     "metadata": {},
     "output_type": "execute_result"
    }
   ],
   "source": [
    "expr12 = ex.bioMax(expr5, expr10)\n",
    "expr12.getValue_c(myData)"
   ]
  },
  {
   "cell_type": "markdown",
   "metadata": {},
   "source": [
    "For the sake of efficiency, it is possible to specify explicitly a linear function, where each term is the product of a parameter and a variable."
   ]
  },
  {
   "cell_type": "code",
   "execution_count": 82,
   "metadata": {},
   "outputs": [],
   "source": [
    "terms = [(beta1, ex.Variable('Variable1')),\n",
    "         (beta2, ex.Variable('Variable2')),\n",
    "         (beta3, ex.Variable('newvar'))]"
   ]
  },
  {
   "cell_type": "code",
   "execution_count": 83,
   "metadata": {},
   "outputs": [],
   "source": [
    "expr13 = ex.bioLinearUtility(terms)"
   ]
  },
  {
   "cell_type": "code",
   "execution_count": 84,
   "metadata": {},
   "outputs": [
    {
     "data": {
      "text/plain": [
       "array([ 540., 1080., 1620., 2160., 2700.])"
      ]
     },
     "execution_count": 84,
     "metadata": {},
     "output_type": "execute_result"
    }
   ],
   "source": [
    "expr13.getValue_c(myData)"
   ]
  },
  {
   "cell_type": "markdown",
   "metadata": {},
   "source": [
    "In terms of specification, it is equivalent to the expression below. But the calculation of the derivates is more efficient, as the linear structure of the specification is exploited."
   ]
  },
  {
   "cell_type": "code",
   "execution_count": 85,
   "metadata": {},
   "outputs": [],
   "source": [
    "expr13bis = beta1 * Variable1 + beta2 * Variable2 + beta3 * newvar"
   ]
  },
  {
   "cell_type": "code",
   "execution_count": 86,
   "metadata": {},
   "outputs": [
    {
     "data": {
      "text/plain": [
       "array([ 540., 1080., 1620., 2160., 2700.])"
      ]
     },
     "execution_count": 86,
     "metadata": {},
     "output_type": "execute_result"
    }
   ],
   "source": [
    "expr13bis.getValue_c(myData)"
   ]
  },
  {
   "cell_type": "markdown",
   "metadata": {},
   "source": [
    "A Pythonic way to write a linear utility function"
   ]
  },
  {
   "cell_type": "code",
   "execution_count": 87,
   "metadata": {},
   "outputs": [
    {
     "name": "stdout",
     "output_type": "stream",
     "text": [
      "((((((`0` + (beta_v1(0) * v1)) + (beta_v2(0) * v2)) + (beta_v3(0) * v3)) + (beta_cost(0) * cost)) + (beta_time(0) * time)) + (beta_headway(0) * headway))\n"
     ]
    }
   ],
   "source": [
    "variables = ['v1', 'v2', 'v3', 'cost', 'time', 'headway']\n",
    "coefficients = {f'{v}': ex.Beta(f'beta_{v}', 0, None, None, 0) \n",
    "                for v in variables}\n",
    "terms = [coefficients[v] * ex.Variable(v) for v in variables]\n",
    "util = sum(terms)\n",
    "print(util)"
   ]
  },
  {
   "cell_type": "markdown",
   "metadata": {},
   "source": [
    "If the data is organized a panel data, it means that several rows correspond to the same individual. The expression `PanelLikelihoodTrajectory` calculates the product of the expression evaluated for each row. If Monte Carlo integration is involved, the same draws are used for each them."
   ]
  },
  {
   "cell_type": "markdown",
   "metadata": {},
   "source": [
    "Our database contains 5 observations."
   ]
  },
  {
   "cell_type": "code",
   "execution_count": 88,
   "metadata": {},
   "outputs": [
    {
     "data": {
      "text/plain": [
       "5"
      ]
     },
     "execution_count": 88,
     "metadata": {},
     "output_type": "execute_result"
    }
   ],
   "source": [
    "myData.getSampleSize()"
   ]
  },
  {
   "cell_type": "code",
   "execution_count": 89,
   "metadata": {},
   "outputs": [],
   "source": [
    "myData.panel('Person')"
   ]
  },
  {
   "cell_type": "markdown",
   "metadata": {},
   "source": [
    "Once the data has been labeled as \"panel\", it is considered that there are only two series of observations, corresponsing to each person. Each of these observation is associated with several rows of observations."
   ]
  },
  {
   "cell_type": "code",
   "execution_count": 90,
   "metadata": {},
   "outputs": [
    {
     "data": {
      "text/plain": [
       "2"
      ]
     },
     "execution_count": 90,
     "metadata": {},
     "output_type": "execute_result"
    }
   ],
   "source": [
    "myData.getSampleSize()"
   ]
  },
  {
   "cell_type": "markdown",
   "metadata": {},
   "source": [
    "If we try to evaluate again the integral $\\int_0^1 x^2 dx=\\frac{1}{3}$, an exception is raised."
   ]
  },
  {
   "cell_type": "code",
   "execution_count": 91,
   "metadata": {},
   "outputs": [
    {
     "name": "stdout",
     "output_type": "stream",
     "text": [
      "[17:42:17] < Warning >   As the database is panel, the argument of MonteCarlo must contain a PanelLikelihoodTrajectory: MonteCarlo((bioDraws(\"myDraws\", \"UNIFORM\") * bioDraws(\"myDraws\", \"UNIFORM\")))\n",
      "Exception: As the database is panel, the argument of MonteCarlo must contain a PanelLikelihoodTrajectory: MonteCarlo((bioDraws(\"myDraws\", \"UNIFORM\") * bioDraws(\"myDraws\", \"UNIFORM\")))\n"
     ]
    }
   ],
   "source": [
    "try:\n",
    "    expr3.getValue_c(database=myData)\n",
    "except excep.biogemeError as e:\n",
    "    print(f'Exception: {e}')"
   ]
  },
  {
   "cell_type": "markdown",
   "metadata": {},
   "source": [
    "This is detected my the `audit` function, called before the expression is evaluated."
   ]
  },
  {
   "cell_type": "code",
   "execution_count": 92,
   "metadata": {},
   "outputs": [
    {
     "data": {
      "text/plain": [
       "(['As the database is panel, the argument of MonteCarlo must contain a PanelLikelihoodTrajectory: MonteCarlo((bioDraws(\"myDraws\", \"UNIFORM\") * bioDraws(\"myDraws\", \"UNIFORM\")))'],\n",
       " [])"
      ]
     },
     "execution_count": 92,
     "metadata": {},
     "output_type": "execute_result"
    }
   ],
   "source": [
    "expr3.audit(database=myData)"
   ]
  },
  {
   "cell_type": "markdown",
   "metadata": {},
   "source": [
    "We now evaluate an expression for panel data."
   ]
  },
  {
   "cell_type": "code",
   "execution_count": 93,
   "metadata": {},
   "outputs": [],
   "source": [
    "c1 = ex.bioDraws('draws1', 'NORMAL_HALTON2')\n",
    "c2 = ex.bioDraws('draws2', 'NORMAL_HALTON2')\n",
    "U1 = ex.Beta('beta1', 0, None, None, 0) * Variable1 + 10 * c1\n",
    "U2 = ex.Beta('beta2', 0, None, None, 0) * Variable2 + 10 * c2\n",
    "U3 = 0\n",
    "U = {1: U1, 2: U2, 3: U3}\n",
    "av = {1: Av1, 2: Av2, 3: Av3}\n",
    "expr14 = ex.log(ex.MonteCarlo(ex.PanelLikelihoodTrajectory(models.logit(U, av, Choice))))"
   ]
  },
  {
   "cell_type": "code",
   "execution_count": 94,
   "metadata": {},
   "outputs": [
    {
     "data": {
      "text/plain": [
       "array([-3.93304323, -2.10368902])"
      ]
     },
     "execution_count": 94,
     "metadata": {},
     "output_type": "execute_result"
    }
   ],
   "source": [
    "expr14.getValue_c(database=myData, numberOfDraws=100000)"
   ]
  },
  {
   "cell_type": "code",
   "execution_count": 95,
   "metadata": {},
   "outputs": [
    {
     "data": {
      "text/plain": [
       "(array([-3.93304323, -2.10368902]),\n",
       " array([[-12.58379787,  74.16202131],\n",
       "        [ -3.18202248,  68.17977517]]),\n",
       " array([[[  -167.20399417,   1599.74750426],\n",
       "         [  1599.74750426, -16720.39941732]],\n",
       " \n",
       "        [[  -987.11277651,   9800.68247707],\n",
       "         [  9800.68247707, -98711.27765108]]]),\n",
       " array([[[ 158.35196881, -933.23988571],\n",
       "         [-933.23988571, 5500.00540447]],\n",
       " \n",
       "        [[  10.12526708, -216.94957747],\n",
       "         [-216.94957747, 4648.48174247]]]))"
      ]
     },
     "execution_count": 95,
     "metadata": {},
     "output_type": "execute_result"
    }
   ],
   "source": [
    "expr14.getValueAndDerivatives(database=myData, numberOfDraws=100000, gradient=True, hessian=True, aggregation=False)"
   ]
  },
  {
   "cell_type": "code",
   "execution_count": 96,
   "metadata": {},
   "outputs": [
    {
     "data": {
      "text/plain": [
       "(-6.036732247045969,\n",
       " array([-15.76582035, 142.34179648]),\n",
       " array([[  -1154.31677068,   11400.42998133],\n",
       "        [  11400.42998133, -115431.6770684 ]]),\n",
       " array([[  168.47723589, -1150.18946318],\n",
       "        [-1150.18946318, 10148.48714694]]))"
      ]
     },
     "execution_count": 96,
     "metadata": {},
     "output_type": "execute_result"
    }
   ],
   "source": [
    "expr14.getValueAndDerivatives(database=myData, numberOfDraws=100000, gradient=True, hessian=True, aggregation=True)"
   ]
  },
  {
   "cell_type": "markdown",
   "metadata": {},
   "source": [
    "A Python function can also be obtained for this expression. Note that it is available only for the aggregated version, summing over the database."
   ]
  },
  {
   "cell_type": "code",
   "execution_count": 97,
   "metadata": {},
   "outputs": [],
   "source": [
    "the_function = expr14.createFunction(database=myData, numberOfDraws=100000, gradient=True, hessian=True)"
   ]
  },
  {
   "cell_type": "code",
   "execution_count": 98,
   "metadata": {},
   "outputs": [
    {
     "data": {
      "text/plain": [
       "(-6.036732247045969,\n",
       " array([-15.76582035, 142.34179648]),\n",
       " array([[  -1154.31677068,   11400.42998133],\n",
       "        [  11400.42998133, -115431.6770684 ]]))"
      ]
     },
     "execution_count": 98,
     "metadata": {},
     "output_type": "execute_result"
    }
   ],
   "source": [
    "the_function([0, 0])"
   ]
  },
  {
   "cell_type": "code",
   "execution_count": 99,
   "metadata": {},
   "outputs": [
    {
     "data": {
      "text/plain": [
       "(-49.75681225567917,\n",
       " array([  39.99999993, -540.99128904]),\n",
       " array([[-1.47237739e-06,  1.45492276e-05],\n",
       "        [ 1.45492276e-05, -4.37717159e+02]]))"
      ]
     },
     "execution_count": 99,
     "metadata": {},
     "output_type": "execute_result"
    }
   ],
   "source": [
    "the_function([0.1, 0.1])"
   ]
  },
  {
   "cell_type": "markdown",
   "metadata": {},
   "source": [
    "# Signatures"
   ]
  },
  {
   "cell_type": "markdown",
   "metadata": {},
   "source": [
    "The Python library communicates the expressions to the C++ library using a syntax called a \"signature\". We describe and illustrate now the signature for each expression. Each expression is identified by an identifier provided by Python using the function 'id'. "
   ]
  },
  {
   "cell_type": "code",
   "execution_count": 100,
   "metadata": {},
   "outputs": [
    {
     "data": {
      "text/plain": [
       "140321557296272"
      ]
     },
     "execution_count": 100,
     "metadata": {},
     "output_type": "execute_result"
    }
   ],
   "source": [
    "id(expr1)"
   ]
  },
  {
   "cell_type": "markdown",
   "metadata": {},
   "source": [
    "## Numerical expression"
   ]
  },
  {
   "cell_type": "markdown",
   "metadata": {},
   "source": [
    "&lt;Numeric&gt;{identifier},value"
   ]
  },
  {
   "cell_type": "code",
   "execution_count": 101,
   "metadata": {},
   "outputs": [
    {
     "data": {
      "text/plain": [
       "[b'<Numeric>{140320747133536},0']"
      ]
     },
     "execution_count": 101,
     "metadata": {},
     "output_type": "execute_result"
    }
   ],
   "source": [
    "ex.Numeric(0).getSignature()"
   ]
  },
  {
   "cell_type": "markdown",
   "metadata": {},
   "source": [
    "## Beta parameters"
   ]
  },
  {
   "cell_type": "markdown",
   "metadata": {},
   "source": [
    "&lt;Beta&gt;{identifier}\"name\"[status],uniqueId,betaId'\n",
    "where \n",
    "- status is 0 for free parameters, and non zero for fixed parameters,\n",
    "- uniqueId is a unique index given by Biogeme to all elementary expressions,\n",
    "- betaId is a unique index given by Biogeme to all free parameters, and to all fixed parameters."
   ]
  },
  {
   "cell_type": "code",
   "execution_count": 102,
   "metadata": {},
   "outputs": [
    {
     "data": {
      "text/plain": [
       "[b'<Beta>{140321557220560}\"beta1\"[0],0,0']"
      ]
     },
     "execution_count": 102,
     "metadata": {},
     "output_type": "execute_result"
    }
   ],
   "source": [
    "beta1.getSignature()"
   ]
  },
  {
   "cell_type": "code",
   "execution_count": 103,
   "metadata": {},
   "outputs": [
    {
     "data": {
      "text/plain": [
       "[b'<Beta>{140321557219600}\"beta3\"[1],2,0']"
      ]
     },
     "execution_count": 103,
     "metadata": {},
     "output_type": "execute_result"
    }
   ],
   "source": [
    "beta3.getSignature()"
   ]
  },
  {
   "cell_type": "markdown",
   "metadata": {},
   "source": [
    "## Variables"
   ]
  },
  {
   "cell_type": "markdown",
   "metadata": {},
   "source": [
    "&lt;Variable&gt;{identifier}\"name\",uniqueId,variableId \n",
    "where\n",
    "- uniqueId is a unique index given by Biogeme to all elementary expressions,\n",
    "- variableId is a unique index given by Biogeme to all variables.\n"
   ]
  },
  {
   "cell_type": "code",
   "execution_count": 104,
   "metadata": {},
   "outputs": [
    {
     "data": {
      "text/plain": [
       "[b'<Variable>{140321557309808}\"Variable1\",6,2']"
      ]
     },
     "execution_count": 104,
     "metadata": {},
     "output_type": "execute_result"
    }
   ],
   "source": [
    "Variable1.getSignature()"
   ]
  },
  {
   "cell_type": "markdown",
   "metadata": {},
   "source": [
    "## Random variables"
   ]
  },
  {
   "cell_type": "markdown",
   "metadata": {},
   "source": [
    "&lt;RandomVariable&gt;{identifier}\"name\",uniqueId,randomVariableId\n",
    "where\n",
    "- uniqueId is a unique index given by Biogeme to all elementary expressions,\n",
    "- randomVariableId is a unique index given by Biogeme to all random variables."
   ]
  },
  {
   "cell_type": "code",
   "execution_count": 105,
   "metadata": {},
   "outputs": [
    {
     "data": {
      "text/plain": [
       "[b'<RandomVariable>{140320747040880}\"omega\",4,0']"
      ]
     },
     "execution_count": 105,
     "metadata": {},
     "output_type": "execute_result"
    }
   ],
   "source": [
    "omega.getSignature()"
   ]
  },
  {
   "cell_type": "markdown",
   "metadata": {},
   "source": [
    "## Draws"
   ]
  },
  {
   "cell_type": "markdown",
   "metadata": {},
   "source": [
    "&lt;bioDraws&gt;{identifier}\"name\",uniqueId,drawId\n",
    "where\n",
    "- uniqueId is a unique index given by Biogeme to all elementary expressions,\n",
    "- drawId is a unique index given by Biogeme to all draws.\n"
   ]
  },
  {
   "cell_type": "code",
   "execution_count": 106,
   "metadata": {},
   "outputs": [
    {
     "data": {
      "text/plain": [
       "[b'<bioDraws>{140320747016496}\"myDraws\",0,0']"
      ]
     },
     "execution_count": 106,
     "metadata": {},
     "output_type": "execute_result"
    }
   ],
   "source": [
    "myDraws.getSignature()"
   ]
  },
  {
   "cell_type": "markdown",
   "metadata": {},
   "source": [
    "## General expression"
   ]
  },
  {
   "cell_type": "markdown",
   "metadata": {},
   "source": [
    "<code>&lt;operator&gt;{identifier}(numberOfChildren),idFirstChild,idSecondChild,idThirdChild,</code> etc...\n",
    "where the number of identifiers given after the comma matches the reported number of children. \n",
    "\n",
    "Specific examples are reported below."
   ]
  },
  {
   "cell_type": "markdown",
   "metadata": {},
   "source": [
    "### Binary operator"
   ]
  },
  {
   "cell_type": "markdown",
   "metadata": {},
   "source": [
    "<code>&lt;operator&gt;{identifier}(2),idFirstChild,idSecondChild </code>\n",
    "where operator is one of: \n",
    "    - 'Plus'\n",
    "    - 'Minus'\n",
    "    - 'Times'\n",
    "    - 'Divide'\n",
    "    - 'Power'\n",
    "    - 'bioMin'\n",
    "    - 'bioMax'\n",
    "    - 'And'\n",
    "    - 'Or'\n",
    "    - 'Equal'\n",
    "    - 'NotEqual'\n",
    "    - 'LessOrEqual'\n",
    "    - 'GreaterOrEqual'\n",
    "    - 'Less'\n",
    "    - 'Greater'\n"
   ]
  },
  {
   "cell_type": "code",
   "execution_count": 107,
   "metadata": {},
   "outputs": [],
   "source": [
    "sum = beta1 + Variable1"
   ]
  },
  {
   "cell_type": "code",
   "execution_count": 108,
   "metadata": {},
   "outputs": [
    {
     "data": {
      "text/plain": [
       "[b'<Beta>{140321557220560}\"beta1\"[0],0,0',\n",
       " b'<Variable>{140321557309808}\"Variable1\",6,2',\n",
       " b'<Plus>{140319677302528}(2),140321557220560,140321557309808']"
      ]
     },
     "execution_count": 108,
     "metadata": {},
     "output_type": "execute_result"
    }
   ],
   "source": [
    "sum.getSignature()"
   ]
  },
  {
   "cell_type": "markdown",
   "metadata": {},
   "source": [
    "### Unary operator"
   ]
  },
  {
   "cell_type": "markdown",
   "metadata": {},
   "source": [
    "&lt;operator&gt;{identifier}(1),idChild, \n",
    "where operator is one of: \n",
    "    - 'UnaryMinus'\n",
    "    - 'MonteCarlo'\n",
    "    - 'bioNormalCdf'\n",
    "    - 'PanelLikelihoodTrajectory'\n",
    "    - 'exp'\n",
    "    - 'log'"
   ]
  },
  {
   "cell_type": "code",
   "execution_count": 109,
   "metadata": {},
   "outputs": [],
   "source": [
    "m = -beta1"
   ]
  },
  {
   "cell_type": "code",
   "execution_count": 110,
   "metadata": {},
   "outputs": [
    {
     "data": {
      "text/plain": [
       "[b'<Beta>{140321557220560}\"beta1\"[0],0,0',\n",
       " b'<UnaryMinus>{140319677301856}(1),140321557220560']"
      ]
     },
     "execution_count": 110,
     "metadata": {},
     "output_type": "execute_result"
    }
   ],
   "source": [
    "m.getSignature()"
   ]
  },
  {
   "cell_type": "markdown",
   "metadata": {},
   "source": [
    "## LogLogit"
   ]
  },
  {
   "cell_type": "markdown",
   "metadata": {},
   "source": [
    "&lt;LogLogit&gt;{identifier}(nbrOfAlternatives),chosenAlt,altNumber,utility,availability,altNumber,utility,availability, etc."
   ]
  },
  {
   "cell_type": "code",
   "execution_count": 111,
   "metadata": {},
   "outputs": [
    {
     "data": {
      "text/plain": [
       "[b'<Numeric>{140320747018896},1',\n",
       " b'<Beta>{140321557220560}\"beta1\"[0],0,0',\n",
       " b'<UnaryMinus>{140320747060480}(1),140321557220560',\n",
       " b'<Beta>{140321557220320}\"beta2\"[0],1,1',\n",
       " b'<UnaryMinus>{140320747058416}(1),140321557220320',\n",
       " b'<Beta>{140321557220560}\"beta1\"[0],0,0',\n",
       " b'<UnaryMinus>{140320747060720}(1),140321557220560',\n",
       " b'<Numeric>{140320747018608},1',\n",
       " b'<Numeric>{140320747017648},1',\n",
       " b'<Numeric>{140320747017504},1',\n",
       " b'<LogLogit>{140320747016256}(3),140320747018896,0,140320747060480,140320747018608,1,140320747058416,140320747017648,2,140320747060720,140320747017504']"
      ]
     },
     "execution_count": 111,
     "metadata": {},
     "output_type": "execute_result"
    }
   ],
   "source": [
    "expr7.getSignature()"
   ]
  },
  {
   "cell_type": "markdown",
   "metadata": {},
   "source": [
    "## Derive"
   ]
  },
  {
   "cell_type": "markdown",
   "metadata": {},
   "source": [
    "&lt;Derive&gt;{identifier},id of expression to derive,unique index of elementary expression"
   ]
  },
  {
   "cell_type": "code",
   "execution_count": 112,
   "metadata": {},
   "outputs": [
    {
     "data": {
      "text/plain": [
       "[b'<Numeric>{140320747041648},1',\n",
       " b'<Beta>{140321557220560}\"beta1\"[0],0,0',\n",
       " b'<UnaryMinus>{140320747060480}(1),140321557220560',\n",
       " b'<Beta>{140321557220320}\"beta2\"[0],1,1',\n",
       " b'<UnaryMinus>{140320747058416}(1),140321557220320',\n",
       " b'<Beta>{140321557220560}\"beta1\"[0],0,0',\n",
       " b'<UnaryMinus>{140320747060720}(1),140321557220560',\n",
       " b'<Numeric>{140320747041264},1',\n",
       " b'<Numeric>{140320747043952},1',\n",
       " b'<Numeric>{140320747041312},1',\n",
       " b'<_bioLogLogit>{140320747042896}(3),140320747041648,0,140320747060480,140320747041264,1,140320747058416,140320747043952,2,140320747060720,140320747041312',\n",
       " b'<Derive>{140320747019232},140320747042896,1']"
      ]
     },
     "execution_count": 112,
     "metadata": {},
     "output_type": "execute_result"
    }
   ],
   "source": [
    "expr9.getSignature()"
   ]
  },
  {
   "cell_type": "markdown",
   "metadata": {},
   "source": [
    "## Integrate"
   ]
  },
  {
   "cell_type": "markdown",
   "metadata": {},
   "source": [
    "&lt;Integrate&gt;{identifier},id of expression to derive,index of random variable"
   ]
  },
  {
   "cell_type": "code",
   "execution_count": 113,
   "metadata": {},
   "outputs": [
    {
     "data": {
      "text/plain": [
       "[b'<Numeric>{140320747059520},0',\n",
       " b'<Numeric>{140320747058848},1',\n",
       " b'<Numeric>{140320747060960},1',\n",
       " b'<RandomVariable>{140320747040880}\"omega\",4,0',\n",
       " b'<UnaryMinus>{140320747058992}(1),140320747040880',\n",
       " b'<exp>{140320747058704}(1),140320747058992',\n",
       " b'<Plus>{140320747058944}(2),140320747060960,140320747058704',\n",
       " b'<Divide>{140320747058896}(2),140320747058848,140320747058944',\n",
       " b'<Plus>{140320747058656}(2),140320747059520,140320747058896',\n",
       " b'<Numeric>{140320747059520},0',\n",
       " b'<Numeric>{140320747058848},1',\n",
       " b'<Numeric>{140320747060960},1',\n",
       " b'<RandomVariable>{140320747040880}\"omega\",4,0',\n",
       " b'<UnaryMinus>{140320747058992}(1),140320747040880',\n",
       " b'<exp>{140320747058704}(1),140320747058992',\n",
       " b'<Plus>{140320747058944}(2),140320747060960,140320747058704',\n",
       " b'<Divide>{140320747058896}(2),140320747058848,140320747058944',\n",
       " b'<Plus>{140320747058656}(2),140320747059520,140320747058896',\n",
       " b'<Times>{140320747059472}(2),140320747058656,140320747058656',\n",
       " b'<Numeric>{140320747057792},1',\n",
       " b'<RandomVariable>{140320747040880}\"omega\",4,0',\n",
       " b'<UnaryMinus>{140320747061008}(1),140320747040880',\n",
       " b'<exp>{140320747058800}(1),140320747061008',\n",
       " b'<Times>{140320747057840}(2),140320747057792,140320747058800',\n",
       " b'<Numeric>{140320747044768},1',\n",
       " b'<RandomVariable>{140320747040880}\"omega\",4,0',\n",
       " b'<UnaryMinus>{140320747057744}(1),140320747040880',\n",
       " b'<exp>{140320747057696}(1),140320747057744',\n",
       " b'<Plus>{140320747061104}(2),140320747044768,140320747057696',\n",
       " b'<Numeric>{140320747044576},-2',\n",
       " b'<Power>{140320747044720}(2),140320747061104,140320747044576',\n",
       " b'<Times>{140320747044528}(2),140320747057840,140320747044720',\n",
       " b'<Times>{140320747044480}(2),140320747059472,140320747044528',\n",
       " b'<Numeric>{140320747044432},1',\n",
       " b'<Divide>{140320747044288}(2),140320747044480,140320747044432',\n",
       " b'<Integrate>{140320747044336},140320747044288,0']"
      ]
     },
     "execution_count": 113,
     "metadata": {},
     "output_type": "execute_result"
    }
   ],
   "source": [
    "expr4.getSignature()"
   ]
  },
  {
   "cell_type": "markdown",
   "metadata": {},
   "source": [
    "## Elem"
   ]
  },
  {
   "cell_type": "markdown",
   "metadata": {},
   "source": [
    "&lt;Elem&gt;{identifier}(numberOfExpressions),keyId,value1,expression1,value2,expression2, etc...\n",
    "\n",
    "where\n",
    "- keyId is the identifier of the expression calculating the key,\n",
    "- the number of pairs valuex,expressionx must correspond to the value of numberOfExpressions"
   ]
  },
  {
   "cell_type": "code",
   "execution_count": 114,
   "metadata": {},
   "outputs": [
    {
     "data": {
      "text/plain": [
       "[b'<Variable>{140321557310528}\"Person\",4,0',\n",
       " b'<Numeric>{140321557298144},2',\n",
       " b'<Beta>{140321557220560}\"beta1\"[0],0,0',\n",
       " b'<Times>{140321557295312}(2),140321557298144,140321557220560',\n",
       " b'<Beta>{140321557220320}\"beta2\"[0],1,1',\n",
       " b'<UnaryMinus>{140321557296560}(1),140321557220320',\n",
       " b'<exp>{140321557296608}(1),140321557296560',\n",
       " b'<Beta>{140321557220320}\"beta2\"[0],1,1',\n",
       " b'<Beta>{140321557219600}\"beta3\"[1],2,0',\n",
       " b'<Beta>{140321557220656}\"beta4\"[1],3,1',\n",
       " b'<GreaterOrEqual>{140321557296656}(2),140321557219600,140321557220656',\n",
       " b'<Times>{140321557296752}(2),140321557220320,140321557296656',\n",
       " b'<Beta>{140321557220560}\"beta1\"[0],0,0',\n",
       " b'<Beta>{140321557219600}\"beta3\"[1],2,0',\n",
       " b'<Beta>{140321557220656}\"beta4\"[1],3,1',\n",
       " b'<Less>{140321557296032}(2),140321557219600,140321557220656',\n",
       " b'<Times>{140321557298336}(2),140321557220560,140321557296032',\n",
       " b'<Plus>{140321557296992}(2),140321557296752,140321557298336',\n",
       " b'<Divide>{140321557296512}(2),140321557296608,140321557296992',\n",
       " b'<Minus>{140321557296272}(2),140321557295312,140321557296512',\n",
       " b'<Numeric>{140319677341360},2',\n",
       " b'<Beta>{140321557220560}\"beta1\"[0],0,0',\n",
       " b'<Times>{140319677340832}(2),140319677341360,140321557220560',\n",
       " b'<Variable>{140321557309808}\"Variable1\",6,2',\n",
       " b'<Times>{140319677338528}(2),140319677340832,140321557309808',\n",
       " b'<Beta>{140321557220320}\"beta2\"[0],1,1',\n",
       " b'<UnaryMinus>{140319677372784}(1),140321557220320',\n",
       " b'<Variable>{140321557310576}\"Variable2\",7,3',\n",
       " b'<Times>{140319677372832}(2),140319677372784,140321557310576',\n",
       " b'<exp>{140319677371344}(1),140319677372832',\n",
       " b'<Beta>{140321557220320}\"beta2\"[0],1,1',\n",
       " b'<Beta>{140321557219600}\"beta3\"[1],2,0',\n",
       " b'<Beta>{140321557220656}\"beta4\"[1],3,1',\n",
       " b'<GreaterOrEqual>{140319677371392}(2),140321557219600,140321557220656',\n",
       " b'<Times>{140319677371440}(2),140321557220320,140319677371392',\n",
       " b'<Beta>{140321557220560}\"beta1\"[0],0,0',\n",
       " b'<Beta>{140321557219600}\"beta3\"[1],2,0',\n",
       " b'<Beta>{140321557220656}\"beta4\"[1],3,1',\n",
       " b'<Less>{140319677371056}(2),140321557219600,140321557220656',\n",
       " b'<Times>{140319677372928}(2),140321557220560,140319677371056',\n",
       " b'<Plus>{140319677372976}(2),140319677371440,140319677372928',\n",
       " b'<Divide>{140319677373024}(2),140319677371344,140319677372976',\n",
       " b'<Minus>{140319677372304}(2),140319677338528,140319677373024',\n",
       " b'<Elem>{140320747132048}(2),140321557310528,1,140321557296272,2,140319677372304']"
      ]
     },
     "execution_count": 114,
     "metadata": {},
     "output_type": "execute_result"
    }
   ],
   "source": [
    "elemExpr.getSignature()"
   ]
  },
  {
   "cell_type": "markdown",
   "metadata": {},
   "source": [
    "## bioLinearUtility"
   ]
  },
  {
   "cell_type": "markdown",
   "metadata": {},
   "source": [
    "&lt;bioLinearUtility&gt;{identifier}(numberOfTerms), beta1_exprId, beta1_uniqueId, beta1_name, variable1_exprId, variable1_uniqueId, variable1_name, etc...\n",
    "\n",
    "where 6 entries are provided for each term:\n",
    "    - beta1_exprId is the expression id of the beta parameter\n",
    "    - beta1_uniqueId is the unique id of the beta parameter\n",
    "    - beta1_name is the name of the parameter\n",
    "    - variable1_exprId is the expression id of the variable\n",
    "    - variable1_uniqueId is the unique id of the variable\n",
    "    - variable1_name is the name of the variable\n"
   ]
  },
  {
   "cell_type": "code",
   "execution_count": 115,
   "metadata": {},
   "outputs": [
    {
     "data": {
      "text/plain": [
       "[b'<Beta>{140321557220560}\"beta1\"[0],0,0',\n",
       " b'<Beta>{140321557220320}\"beta2\"[0],1,1',\n",
       " b'<Beta>{140321557219600}\"beta3\"[1],2,0',\n",
       " b'<Variable>{140319677500480}\"Variable1\",5,2',\n",
       " b'<Variable>{140319677499088}\"Variable2\",6,3',\n",
       " b'<Variable>{140319677497888}\"newvar\",11,8',\n",
       " b'<bioLinearUtility>{140319677500528}(3),140321557220560,0,beta1,140319677500480,5,Variable1,140321557220320,1,beta2,140319677499088,6,Variable2,140321557219600,2,beta3,140319677497888,11,newvar']"
      ]
     },
     "execution_count": 115,
     "metadata": {},
     "output_type": "execute_result"
    }
   ],
   "source": [
    "expr13.getSignature()"
   ]
  }
 ],
 "metadata": {
  "kernelspec": {
   "display_name": "Python 3",
   "language": "python",
   "name": "python3"
  },
  "language_info": {
   "codemirror_mode": {
    "name": "ipython",
    "version": 3
   },
   "file_extension": ".py",
   "mimetype": "text/x-python",
   "name": "python",
   "nbconvert_exporter": "python",
   "pygments_lexer": "ipython3",
   "version": "3.9.5"
  }
 },
 "nbformat": 4,
 "nbformat_minor": 2
}
