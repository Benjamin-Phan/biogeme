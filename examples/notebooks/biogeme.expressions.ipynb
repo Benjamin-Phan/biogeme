{
 "cells": [
  {
   "cell_type": "markdown",
   "metadata": {},
   "source": [
    "# Module biogeme.expressions "
   ]
  },
  {
   "cell_type": "markdown",
   "metadata": {},
   "source": [
    "## Examples of use of each function"
   ]
  },
  {
   "cell_type": "markdown",
   "metadata": {},
   "source": [
    "This webpage is for programmers who need examples of use of the functions of the module. The examples are designed to illustrate the syntax. They do not correspond to any meaningful model. For examples of models, visit  [biogeme.epfl.ch](http://biogeme.epfl.ch)."
   ]
  },
  {
   "cell_type": "code",
   "execution_count": 1,
   "metadata": {
    "execution": {
     "iopub.execute_input": "2023-08-04T15:51:52.493262Z",
     "iopub.status.busy": "2023-08-04T15:51:52.493033Z",
     "iopub.status.idle": "2023-08-04T15:51:52.500333Z",
     "shell.execute_reply": "2023-08-04T15:51:52.499912Z"
    }
   },
   "outputs": [
    {
     "name": "stdout",
     "output_type": "stream",
     "text": [
      "2023-08-04 17:51:52.498248\n"
     ]
    }
   ],
   "source": [
    "import datetime\n",
    "print(datetime.datetime.now())"
   ]
  },
  {
   "cell_type": "code",
   "execution_count": 2,
   "metadata": {
    "execution": {
     "iopub.execute_input": "2023-08-04T15:51:52.503016Z",
     "iopub.status.busy": "2023-08-04T15:51:52.502656Z",
     "iopub.status.idle": "2023-08-04T15:51:52.507740Z",
     "shell.execute_reply": "2023-08-04T15:51:52.507155Z"
    }
   },
   "outputs": [
    {
     "name": "stdout",
     "output_type": "stream",
     "text": [
      "biogeme 3.2.12 [2023-08-04]\n",
      "Home page: http://biogeme.epfl.ch\n",
      "Submit questions to https://groups.google.com/d/forum/biogeme\n",
      "Michel Bierlaire, Transport and Mobility Laboratory, Ecole Polytechnique Fédérale de Lausanne (EPFL)\n",
      "\n"
     ]
    }
   ],
   "source": [
    "import biogeme.version as ver\n",
    "print(ver.getText())"
   ]
  },
  {
   "cell_type": "code",
   "execution_count": 3,
   "metadata": {
    "execution": {
     "iopub.execute_input": "2023-08-04T15:51:52.510238Z",
     "iopub.status.busy": "2023-08-04T15:51:52.510042Z",
     "iopub.status.idle": "2023-08-04T15:51:52.783861Z",
     "shell.execute_reply": "2023-08-04T15:51:52.781617Z"
    }
   },
   "outputs": [],
   "source": [
    "import numpy as np\n",
    "import pandas as pd"
   ]
  },
  {
   "cell_type": "code",
   "execution_count": 4,
   "metadata": {
    "execution": {
     "iopub.execute_input": "2023-08-04T15:51:52.789040Z",
     "iopub.status.busy": "2023-08-04T15:51:52.788914Z",
     "iopub.status.idle": "2023-08-04T15:51:53.036983Z",
     "shell.execute_reply": "2023-08-04T15:51:53.036702Z"
    }
   },
   "outputs": [],
   "source": [
    "import biogeme.expressions as ex\n",
    "import biogeme.database as db\n",
    "import biogeme.exceptions as excep\n",
    "import biogeme.models as models\n",
    "from biogeme import tools\n",
    "from biogeme.idmanager import IdManager\n",
    "import biogeme.logging as blog\n",
    "from biogeme.elementary_expressions import TypeOfElementaryExpression\n"
   ]
  },
  {
   "cell_type": "code",
   "execution_count": 5,
   "metadata": {
    "execution": {
     "iopub.execute_input": "2023-08-04T15:51:53.038308Z",
     "iopub.status.busy": "2023-08-04T15:51:53.038211Z",
     "iopub.status.idle": "2023-08-04T15:51:53.039954Z",
     "shell.execute_reply": "2023-08-04T15:51:53.039725Z"
    }
   },
   "outputs": [],
   "source": [
    "logger = blog.get_screen_logger(level=blog.INFO)"
   ]
  },
  {
   "cell_type": "markdown",
   "metadata": {},
   "source": [
    "We set the number of draws for Monte-Carlo integration. It should be a large number. For the sake of computational efficiency, as this notebook is designed to illustrate the various function, we use a  low value. "
   ]
  },
  {
   "cell_type": "code",
   "execution_count": 6,
   "metadata": {
    "execution": {
     "iopub.execute_input": "2023-08-04T15:51:53.041057Z",
     "iopub.status.busy": "2023-08-04T15:51:53.040979Z",
     "iopub.status.idle": "2023-08-04T15:51:53.042500Z",
     "shell.execute_reply": "2023-08-04T15:51:53.042280Z"
    }
   },
   "outputs": [],
   "source": [
    "number_of_draws = 100"
   ]
  },
  {
   "cell_type": "markdown",
   "metadata": {},
   "source": [
    "We first create a small database"
   ]
  },
  {
   "cell_type": "code",
   "execution_count": 7,
   "metadata": {
    "execution": {
     "iopub.execute_input": "2023-08-04T15:51:53.043434Z",
     "iopub.status.busy": "2023-08-04T15:51:53.043365Z",
     "iopub.status.idle": "2023-08-04T15:51:53.048825Z",
     "shell.execute_reply": "2023-08-04T15:51:53.048618Z"
    }
   },
   "outputs": [
    {
     "data": {
      "text/html": [
       "<div>\n",
       "<style scoped>\n",
       "    .dataframe tbody tr th:only-of-type {\n",
       "        vertical-align: middle;\n",
       "    }\n",
       "\n",
       "    .dataframe tbody tr th {\n",
       "        vertical-align: top;\n",
       "    }\n",
       "\n",
       "    .dataframe thead th {\n",
       "        text-align: right;\n",
       "    }\n",
       "</style>\n",
       "<table border=\"1\" class=\"dataframe\">\n",
       "  <thead>\n",
       "    <tr style=\"text-align: right;\">\n",
       "      <th></th>\n",
       "      <th>Person</th>\n",
       "      <th>Exclude</th>\n",
       "      <th>Variable1</th>\n",
       "      <th>Variable2</th>\n",
       "      <th>Choice</th>\n",
       "      <th>Av1</th>\n",
       "      <th>Av2</th>\n",
       "      <th>Av3</th>\n",
       "    </tr>\n",
       "  </thead>\n",
       "  <tbody>\n",
       "    <tr>\n",
       "      <th>0</th>\n",
       "      <td>1</td>\n",
       "      <td>0</td>\n",
       "      <td>10</td>\n",
       "      <td>100</td>\n",
       "      <td>2</td>\n",
       "      <td>0</td>\n",
       "      <td>1</td>\n",
       "      <td>0</td>\n",
       "    </tr>\n",
       "    <tr>\n",
       "      <th>1</th>\n",
       "      <td>1</td>\n",
       "      <td>0</td>\n",
       "      <td>20</td>\n",
       "      <td>200</td>\n",
       "      <td>2</td>\n",
       "      <td>1</td>\n",
       "      <td>1</td>\n",
       "      <td>1</td>\n",
       "    </tr>\n",
       "    <tr>\n",
       "      <th>2</th>\n",
       "      <td>1</td>\n",
       "      <td>1</td>\n",
       "      <td>30</td>\n",
       "      <td>300</td>\n",
       "      <td>3</td>\n",
       "      <td>1</td>\n",
       "      <td>1</td>\n",
       "      <td>1</td>\n",
       "    </tr>\n",
       "    <tr>\n",
       "      <th>3</th>\n",
       "      <td>2</td>\n",
       "      <td>0</td>\n",
       "      <td>40</td>\n",
       "      <td>400</td>\n",
       "      <td>1</td>\n",
       "      <td>1</td>\n",
       "      <td>1</td>\n",
       "      <td>1</td>\n",
       "    </tr>\n",
       "    <tr>\n",
       "      <th>4</th>\n",
       "      <td>2</td>\n",
       "      <td>1</td>\n",
       "      <td>50</td>\n",
       "      <td>500</td>\n",
       "      <td>2</td>\n",
       "      <td>1</td>\n",
       "      <td>1</td>\n",
       "      <td>1</td>\n",
       "    </tr>\n",
       "  </tbody>\n",
       "</table>\n",
       "</div>"
      ],
      "text/plain": [
       "   Person  Exclude  Variable1  Variable2  Choice  Av1  Av2  Av3\n",
       "0       1        0         10        100       2    0    1    0\n",
       "1       1        0         20        200       2    1    1    1\n",
       "2       1        1         30        300       3    1    1    1\n",
       "3       2        0         40        400       1    1    1    1\n",
       "4       2        1         50        500       2    1    1    1"
      ]
     },
     "execution_count": 7,
     "metadata": {},
     "output_type": "execute_result"
    }
   ],
   "source": [
    "df = pd.DataFrame({'Person': [1, 1, 1, 2, 2],\n",
    "                   'Exclude': [0, 0, 1, 0, 1],\n",
    "                   'Variable1': [10, 20, 30, 40, 50],\n",
    "                   'Variable2': [100, 200, 300, 400, 500],\n",
    "                   'Choice': [2, 2, 3, 1, 2],\n",
    "                   'Av1': [0, 1, 1, 1, 1],\n",
    "                   'Av2': [1, 1, 1, 1, 1],\n",
    "                   'Av3': [0, 1, 1, 1, 1]})\n",
    "df"
   ]
  },
  {
   "cell_type": "code",
   "execution_count": 8,
   "metadata": {
    "execution": {
     "iopub.execute_input": "2023-08-04T15:51:53.049675Z",
     "iopub.status.busy": "2023-08-04T15:51:53.049611Z",
     "iopub.status.idle": "2023-08-04T15:51:53.051243Z",
     "shell.execute_reply": "2023-08-04T15:51:53.051020Z"
    }
   },
   "outputs": [],
   "source": [
    "myData = db.Database('test', df)"
   ]
  },
  {
   "cell_type": "markdown",
   "metadata": {},
   "source": [
    "The following type of expression is a literal called Variable that corresponds to an entry in the database."
   ]
  },
  {
   "cell_type": "code",
   "execution_count": 9,
   "metadata": {
    "execution": {
     "iopub.execute_input": "2023-08-04T15:51:53.052152Z",
     "iopub.status.busy": "2023-08-04T15:51:53.052095Z",
     "iopub.status.idle": "2023-08-04T15:51:53.053897Z",
     "shell.execute_reply": "2023-08-04T15:51:53.053704Z"
    }
   },
   "outputs": [],
   "source": [
    "Person = ex.Variable('Person')\n",
    "Variable1 = ex.Variable('Variable1')\n",
    "Variable2 = ex.Variable('Variable2')\n",
    "Choice = ex.Variable('Choice')\n",
    "Av1 = ex.Variable('Av1')\n",
    "Av2 = ex.Variable('Av2')\n",
    "Av3 = ex.Variable('Av3')"
   ]
  },
  {
   "cell_type": "markdown",
   "metadata": {},
   "source": [
    "It is possible to add a new column to the database, that creates a new variable that can be used in expressions."
   ]
  },
  {
   "cell_type": "code",
   "execution_count": 10,
   "metadata": {
    "execution": {
     "iopub.execute_input": "2023-08-04T15:51:53.054774Z",
     "iopub.status.busy": "2023-08-04T15:51:53.054706Z",
     "iopub.status.idle": "2023-08-04T15:51:53.057413Z",
     "shell.execute_reply": "2023-08-04T15:51:53.057220Z"
    }
   },
   "outputs": [
    {
     "name": "stdout",
     "output_type": "stream",
     "text": [
      "biogeme database test:\n",
      "   Person  Exclude  Variable1  Variable2  Choice  Av1  Av2  Av3  newvar_b\n",
      "0       1        0         10        100       2    0    1    0     110.0\n",
      "1       1        0         20        200       2    1    1    1     220.0\n",
      "2       1        1         30        300       3    1    1    1     330.0\n",
      "3       2        0         40        400       1    1    1    1     440.0\n",
      "4       2        1         50        500       2    1    1    1     550.0\n"
     ]
    }
   ],
   "source": [
    "newvar_b = myData.DefineVariable('newvar_b',\n",
    "                           Variable1 + Variable2)\n",
    "print(myData)"
   ]
  },
  {
   "cell_type": "markdown",
   "metadata": {},
   "source": [
    "It is equivalent to the following Pandas statement"
   ]
  },
  {
   "cell_type": "code",
   "execution_count": 11,
   "metadata": {
    "execution": {
     "iopub.execute_input": "2023-08-04T15:51:53.058281Z",
     "iopub.status.busy": "2023-08-04T15:51:53.058202Z",
     "iopub.status.idle": "2023-08-04T15:51:53.061645Z",
     "shell.execute_reply": "2023-08-04T15:51:53.061427Z"
    }
   },
   "outputs": [
    {
     "data": {
      "text/html": [
       "<div>\n",
       "<style scoped>\n",
       "    .dataframe tbody tr th:only-of-type {\n",
       "        vertical-align: middle;\n",
       "    }\n",
       "\n",
       "    .dataframe tbody tr th {\n",
       "        vertical-align: top;\n",
       "    }\n",
       "\n",
       "    .dataframe thead th {\n",
       "        text-align: right;\n",
       "    }\n",
       "</style>\n",
       "<table border=\"1\" class=\"dataframe\">\n",
       "  <thead>\n",
       "    <tr style=\"text-align: right;\">\n",
       "      <th></th>\n",
       "      <th>Person</th>\n",
       "      <th>Exclude</th>\n",
       "      <th>Variable1</th>\n",
       "      <th>Variable2</th>\n",
       "      <th>Choice</th>\n",
       "      <th>Av1</th>\n",
       "      <th>Av2</th>\n",
       "      <th>Av3</th>\n",
       "      <th>newvar_b</th>\n",
       "      <th>newvar_p</th>\n",
       "    </tr>\n",
       "  </thead>\n",
       "  <tbody>\n",
       "    <tr>\n",
       "      <th>0</th>\n",
       "      <td>1</td>\n",
       "      <td>0</td>\n",
       "      <td>10</td>\n",
       "      <td>100</td>\n",
       "      <td>2</td>\n",
       "      <td>0</td>\n",
       "      <td>1</td>\n",
       "      <td>0</td>\n",
       "      <td>110.0</td>\n",
       "      <td>110</td>\n",
       "    </tr>\n",
       "    <tr>\n",
       "      <th>1</th>\n",
       "      <td>1</td>\n",
       "      <td>0</td>\n",
       "      <td>20</td>\n",
       "      <td>200</td>\n",
       "      <td>2</td>\n",
       "      <td>1</td>\n",
       "      <td>1</td>\n",
       "      <td>1</td>\n",
       "      <td>220.0</td>\n",
       "      <td>220</td>\n",
       "    </tr>\n",
       "    <tr>\n",
       "      <th>2</th>\n",
       "      <td>1</td>\n",
       "      <td>1</td>\n",
       "      <td>30</td>\n",
       "      <td>300</td>\n",
       "      <td>3</td>\n",
       "      <td>1</td>\n",
       "      <td>1</td>\n",
       "      <td>1</td>\n",
       "      <td>330.0</td>\n",
       "      <td>330</td>\n",
       "    </tr>\n",
       "    <tr>\n",
       "      <th>3</th>\n",
       "      <td>2</td>\n",
       "      <td>0</td>\n",
       "      <td>40</td>\n",
       "      <td>400</td>\n",
       "      <td>1</td>\n",
       "      <td>1</td>\n",
       "      <td>1</td>\n",
       "      <td>1</td>\n",
       "      <td>440.0</td>\n",
       "      <td>440</td>\n",
       "    </tr>\n",
       "    <tr>\n",
       "      <th>4</th>\n",
       "      <td>2</td>\n",
       "      <td>1</td>\n",
       "      <td>50</td>\n",
       "      <td>500</td>\n",
       "      <td>2</td>\n",
       "      <td>1</td>\n",
       "      <td>1</td>\n",
       "      <td>1</td>\n",
       "      <td>550.0</td>\n",
       "      <td>550</td>\n",
       "    </tr>\n",
       "  </tbody>\n",
       "</table>\n",
       "</div>"
      ],
      "text/plain": [
       "   Person  Exclude  Variable1  Variable2  Choice  Av1  Av2  Av3  newvar_b  \\\n",
       "0       1        0         10        100       2    0    1    0     110.0   \n",
       "1       1        0         20        200       2    1    1    1     220.0   \n",
       "2       1        1         30        300       3    1    1    1     330.0   \n",
       "3       2        0         40        400       1    1    1    1     440.0   \n",
       "4       2        1         50        500       2    1    1    1     550.0   \n",
       "\n",
       "   newvar_p  \n",
       "0       110  \n",
       "1       220  \n",
       "2       330  \n",
       "3       440  \n",
       "4       550  "
      ]
     },
     "execution_count": 11,
     "metadata": {},
     "output_type": "execute_result"
    }
   ],
   "source": [
    "myData.data['newvar_p'] = myData.data['Variable1'] + myData.data['Variable2']\n",
    "myData.data"
   ]
  },
  {
   "cell_type": "markdown",
   "metadata": {},
   "source": [
    "**Do not use chaining comparison expressions with Biogeme. Not only it does not provide the expected expression, but it does not trigger a warning or an exception.**"
   ]
  },
  {
   "cell_type": "code",
   "execution_count": 12,
   "metadata": {
    "execution": {
     "iopub.execute_input": "2023-08-04T15:51:53.062620Z",
     "iopub.status.busy": "2023-08-04T15:51:53.062554Z",
     "iopub.status.idle": "2023-08-04T15:51:53.064065Z",
     "shell.execute_reply": "2023-08-04T15:51:53.063860Z"
    }
   },
   "outputs": [
    {
     "name": "stdout",
     "output_type": "stream",
     "text": [
      "(Variable2 <= `400.0`)\n"
     ]
    }
   ],
   "source": [
    "my_expression = (200 <= Variable2 <= 400)\n",
    "print(my_expression)"
   ]
  },
  {
   "cell_type": "markdown",
   "metadata": {},
   "source": [
    "The reason is that Python executes `200 <= Variable2 <= 400` as `(200 <= Variable2) and (Variable2 <= 400)`. The `and` operator cannot be overloaded in Python. Therefore, it does not return a Biogeme expression. Note that Pandas does not allow chaining either, and has implemented a `between` function instead. "
   ]
  },
  {
   "cell_type": "code",
   "execution_count": 13,
   "metadata": {
    "execution": {
     "iopub.execute_input": "2023-08-04T15:51:53.064970Z",
     "iopub.status.busy": "2023-08-04T15:51:53.064890Z",
     "iopub.status.idle": "2023-08-04T15:51:53.066635Z",
     "shell.execute_reply": "2023-08-04T15:51:53.066444Z"
    }
   },
   "outputs": [],
   "source": [
    "myData.data['chaining_p'] = myData.data['Variable2'].between(200, 400)"
   ]
  },
  {
   "cell_type": "code",
   "execution_count": 14,
   "metadata": {
    "execution": {
     "iopub.execute_input": "2023-08-04T15:51:53.067440Z",
     "iopub.status.busy": "2023-08-04T15:51:53.067381Z",
     "iopub.status.idle": "2023-08-04T15:51:53.070654Z",
     "shell.execute_reply": "2023-08-04T15:51:53.070463Z"
    }
   },
   "outputs": [
    {
     "data": {
      "text/html": [
       "<div>\n",
       "<style scoped>\n",
       "    .dataframe tbody tr th:only-of-type {\n",
       "        vertical-align: middle;\n",
       "    }\n",
       "\n",
       "    .dataframe tbody tr th {\n",
       "        vertical-align: top;\n",
       "    }\n",
       "\n",
       "    .dataframe thead th {\n",
       "        text-align: right;\n",
       "    }\n",
       "</style>\n",
       "<table border=\"1\" class=\"dataframe\">\n",
       "  <thead>\n",
       "    <tr style=\"text-align: right;\">\n",
       "      <th></th>\n",
       "      <th>Person</th>\n",
       "      <th>Exclude</th>\n",
       "      <th>Variable1</th>\n",
       "      <th>Variable2</th>\n",
       "      <th>Choice</th>\n",
       "      <th>Av1</th>\n",
       "      <th>Av2</th>\n",
       "      <th>Av3</th>\n",
       "      <th>newvar_b</th>\n",
       "      <th>newvar_p</th>\n",
       "      <th>chaining_p</th>\n",
       "    </tr>\n",
       "  </thead>\n",
       "  <tbody>\n",
       "    <tr>\n",
       "      <th>0</th>\n",
       "      <td>1</td>\n",
       "      <td>0</td>\n",
       "      <td>10</td>\n",
       "      <td>100</td>\n",
       "      <td>2</td>\n",
       "      <td>0</td>\n",
       "      <td>1</td>\n",
       "      <td>0</td>\n",
       "      <td>110.0</td>\n",
       "      <td>110</td>\n",
       "      <td>False</td>\n",
       "    </tr>\n",
       "    <tr>\n",
       "      <th>1</th>\n",
       "      <td>1</td>\n",
       "      <td>0</td>\n",
       "      <td>20</td>\n",
       "      <td>200</td>\n",
       "      <td>2</td>\n",
       "      <td>1</td>\n",
       "      <td>1</td>\n",
       "      <td>1</td>\n",
       "      <td>220.0</td>\n",
       "      <td>220</td>\n",
       "      <td>True</td>\n",
       "    </tr>\n",
       "    <tr>\n",
       "      <th>2</th>\n",
       "      <td>1</td>\n",
       "      <td>1</td>\n",
       "      <td>30</td>\n",
       "      <td>300</td>\n",
       "      <td>3</td>\n",
       "      <td>1</td>\n",
       "      <td>1</td>\n",
       "      <td>1</td>\n",
       "      <td>330.0</td>\n",
       "      <td>330</td>\n",
       "      <td>True</td>\n",
       "    </tr>\n",
       "    <tr>\n",
       "      <th>3</th>\n",
       "      <td>2</td>\n",
       "      <td>0</td>\n",
       "      <td>40</td>\n",
       "      <td>400</td>\n",
       "      <td>1</td>\n",
       "      <td>1</td>\n",
       "      <td>1</td>\n",
       "      <td>1</td>\n",
       "      <td>440.0</td>\n",
       "      <td>440</td>\n",
       "      <td>True</td>\n",
       "    </tr>\n",
       "    <tr>\n",
       "      <th>4</th>\n",
       "      <td>2</td>\n",
       "      <td>1</td>\n",
       "      <td>50</td>\n",
       "      <td>500</td>\n",
       "      <td>2</td>\n",
       "      <td>1</td>\n",
       "      <td>1</td>\n",
       "      <td>1</td>\n",
       "      <td>550.0</td>\n",
       "      <td>550</td>\n",
       "      <td>False</td>\n",
       "    </tr>\n",
       "  </tbody>\n",
       "</table>\n",
       "</div>"
      ],
      "text/plain": [
       "   Person  Exclude  Variable1  Variable2  Choice  Av1  Av2  Av3  newvar_b  \\\n",
       "0       1        0         10        100       2    0    1    0     110.0   \n",
       "1       1        0         20        200       2    1    1    1     220.0   \n",
       "2       1        1         30        300       3    1    1    1     330.0   \n",
       "3       2        0         40        400       1    1    1    1     440.0   \n",
       "4       2        1         50        500       2    1    1    1     550.0   \n",
       "\n",
       "   newvar_p  chaining_p  \n",
       "0       110       False  \n",
       "1       220        True  \n",
       "2       330        True  \n",
       "3       440        True  \n",
       "4       550       False  "
      ]
     },
     "execution_count": 14,
     "metadata": {},
     "output_type": "execute_result"
    }
   ],
   "source": [
    "myData.data"
   ]
  },
  {
   "cell_type": "markdown",
   "metadata": {},
   "source": [
    "The following type of expression is another literal, corresponding to an unknown parameter. "
   ]
  },
  {
   "cell_type": "code",
   "execution_count": 15,
   "metadata": {
    "execution": {
     "iopub.execute_input": "2023-08-04T15:51:53.071521Z",
     "iopub.status.busy": "2023-08-04T15:51:53.071455Z",
     "iopub.status.idle": "2023-08-04T15:51:53.073111Z",
     "shell.execute_reply": "2023-08-04T15:51:53.072889Z"
    }
   },
   "outputs": [],
   "source": [
    "beta1 = ex.Beta('beta1', 0.2, None, None, 0)\n",
    "beta2 = ex.Beta('beta2', 0.4, None, None, 0)\n",
    "beta3 = ex.Beta('beta3', 1, None, None, 1)\n",
    "beta4 = ex.Beta('beta4', 0, None, None, 1)"
   ]
  },
  {
   "cell_type": "markdown",
   "metadata": {},
   "source": [
    "Arithmetic operators are overloaded to allow standard manipulations of expressions. The first expression is $$e_1 = 2  \\beta_1 - \\frac{\\exp(-\\beta_2)}{\\beta_2 (\\beta_3 \\geq \\beta_4) + \\beta_1 (\\beta_3 < \\beta_4)},$$\n",
    "where $(\\beta_2 \\geq \\beta_1)$ equals 1 if $\\beta_2 \\geq \\beta_1$ and 0 otherwise."
   ]
  },
  {
   "cell_type": "code",
   "execution_count": 16,
   "metadata": {
    "execution": {
     "iopub.execute_input": "2023-08-04T15:51:53.073971Z",
     "iopub.status.busy": "2023-08-04T15:51:53.073912Z",
     "iopub.status.idle": "2023-08-04T15:51:53.075555Z",
     "shell.execute_reply": "2023-08-04T15:51:53.075360Z"
    }
   },
   "outputs": [
    {
     "name": "stdout",
     "output_type": "stream",
     "text": [
      "((`2.0` * beta1(init=0.2)) - (exp((-beta2(init=0.4))) / ((beta2(init=0.4) * (beta3(fixed=1) >= beta4(fixed=0))) + (beta1(init=0.2) * (beta3(fixed=1) < beta4(fixed=0))))))\n"
     ]
    }
   ],
   "source": [
    "expr1 = 2 * beta1 - ex.exp(-beta2) / (beta2 * (beta3 >= beta4) + beta1 * (beta3 < beta4))\n",
    "print(expr1)"
   ]
  },
  {
   "cell_type": "markdown",
   "metadata": {},
   "source": [
    "The evaluation of expressions can be done in two ways. For simple expressions, the fonction getValue(), implemented in Python, returns the value of the expression.  "
   ]
  },
  {
   "cell_type": "code",
   "execution_count": 17,
   "metadata": {
    "execution": {
     "iopub.execute_input": "2023-08-04T15:51:53.076423Z",
     "iopub.status.busy": "2023-08-04T15:51:53.076353Z",
     "iopub.status.idle": "2023-08-04T15:51:53.078055Z",
     "shell.execute_reply": "2023-08-04T15:51:53.077879Z"
    }
   },
   "outputs": [
    {
     "data": {
      "text/plain": [
       "-1.275800115089098"
      ]
     },
     "execution_count": 17,
     "metadata": {},
     "output_type": "execute_result"
    }
   ],
   "source": [
    "expr1.getValue()"
   ]
  },
  {
   "cell_type": "markdown",
   "metadata": {},
   "source": [
    "It is possible to modify the values of the parameters"
   ]
  },
  {
   "cell_type": "code",
   "execution_count": 18,
   "metadata": {
    "execution": {
     "iopub.execute_input": "2023-08-04T15:51:53.078931Z",
     "iopub.status.busy": "2023-08-04T15:51:53.078872Z",
     "iopub.status.idle": "2023-08-04T15:51:53.080799Z",
     "shell.execute_reply": "2023-08-04T15:51:53.080603Z"
    }
   },
   "outputs": [
    {
     "data": {
      "text/plain": [
       "1.9323323583816936"
      ]
     },
     "execution_count": 18,
     "metadata": {},
     "output_type": "execute_result"
    }
   ],
   "source": [
    "newvalues = {'beta1': 1, 'beta2': 2, 'beta3': 3, 'beta4': 2}\n",
    "expr1.change_init_values(newvalues)\n",
    "expr1.getValue()"
   ]
  },
  {
   "cell_type": "markdown",
   "metadata": {},
   "source": [
    "The function getValue_c() is implemented in C++, and works for any expression. When use outside a specific context, the IDs must be explicitly prepared. "
   ]
  },
  {
   "cell_type": "code",
   "execution_count": 19,
   "metadata": {
    "execution": {
     "iopub.execute_input": "2023-08-04T15:51:53.081719Z",
     "iopub.status.busy": "2023-08-04T15:51:53.081660Z",
     "iopub.status.idle": "2023-08-04T15:51:53.083652Z",
     "shell.execute_reply": "2023-08-04T15:51:53.083465Z"
    }
   },
   "outputs": [
    {
     "data": {
      "text/plain": [
       "1.9323323583816936"
      ]
     },
     "execution_count": 19,
     "metadata": {},
     "output_type": "execute_result"
    }
   ],
   "source": [
    "expr1.getValue_c(prepareIds=True)"
   ]
  },
  {
   "cell_type": "markdown",
   "metadata": {},
   "source": [
    "It actually calls the function getValueAndDerivates(), and returns its first output (without calculating the derivatives)."
   ]
  },
  {
   "cell_type": "code",
   "execution_count": 20,
   "metadata": {
    "execution": {
     "iopub.execute_input": "2023-08-04T15:51:53.084530Z",
     "iopub.status.busy": "2023-08-04T15:51:53.084469Z",
     "iopub.status.idle": "2023-08-04T15:51:53.086031Z",
     "shell.execute_reply": "2023-08-04T15:51:53.085824Z"
    }
   },
   "outputs": [],
   "source": [
    "f, g, h, bhhh = expr1.getValueAndDerivatives(prepareIds=True)"
   ]
  },
  {
   "cell_type": "code",
   "execution_count": 21,
   "metadata": {
    "execution": {
     "iopub.execute_input": "2023-08-04T15:51:53.086922Z",
     "iopub.status.busy": "2023-08-04T15:51:53.086856Z",
     "iopub.status.idle": "2023-08-04T15:51:53.088535Z",
     "shell.execute_reply": "2023-08-04T15:51:53.088323Z"
    }
   },
   "outputs": [
    {
     "data": {
      "text/plain": [
       "1.9323323583816936"
      ]
     },
     "execution_count": 21,
     "metadata": {},
     "output_type": "execute_result"
    }
   ],
   "source": [
    "f"
   ]
  },
  {
   "cell_type": "code",
   "execution_count": 22,
   "metadata": {
    "execution": {
     "iopub.execute_input": "2023-08-04T15:51:53.089493Z",
     "iopub.status.busy": "2023-08-04T15:51:53.089417Z",
     "iopub.status.idle": "2023-08-04T15:51:53.091126Z",
     "shell.execute_reply": "2023-08-04T15:51:53.090919Z"
    }
   },
   "outputs": [
    {
     "data": {
      "text/plain": [
       "array([2.        , 0.10150146])"
      ]
     },
     "execution_count": 22,
     "metadata": {},
     "output_type": "execute_result"
    }
   ],
   "source": [
    "g"
   ]
  },
  {
   "cell_type": "code",
   "execution_count": 23,
   "metadata": {
    "execution": {
     "iopub.execute_input": "2023-08-04T15:51:53.091927Z",
     "iopub.status.busy": "2023-08-04T15:51:53.091857Z",
     "iopub.status.idle": "2023-08-04T15:51:53.093788Z",
     "shell.execute_reply": "2023-08-04T15:51:53.093604Z"
    }
   },
   "outputs": [
    {
     "data": {
      "text/plain": [
       "array([[ 0.       ,  0.       ],\n",
       "       [ 0.       , -0.1691691]])"
      ]
     },
     "execution_count": 23,
     "metadata": {},
     "output_type": "execute_result"
    }
   ],
   "source": [
    "h"
   ]
  },
  {
   "cell_type": "code",
   "execution_count": 24,
   "metadata": {
    "execution": {
     "iopub.execute_input": "2023-08-04T15:51:53.094550Z",
     "iopub.status.busy": "2023-08-04T15:51:53.094491Z",
     "iopub.status.idle": "2023-08-04T15:51:53.096261Z",
     "shell.execute_reply": "2023-08-04T15:51:53.096011Z"
    }
   },
   "outputs": [
    {
     "data": {
      "text/plain": [
       "array([[4.        , 0.20300292],\n",
       "       [0.20300292, 0.01030255]])"
      ]
     },
     "execution_count": 24,
     "metadata": {},
     "output_type": "execute_result"
    }
   ],
   "source": [
    "bhhh"
   ]
  },
  {
   "cell_type": "markdown",
   "metadata": {},
   "source": [
    "Note that the BHHH matrix is the outer product of the gradient with itself."
   ]
  },
  {
   "cell_type": "code",
   "execution_count": 25,
   "metadata": {
    "execution": {
     "iopub.execute_input": "2023-08-04T15:51:53.097122Z",
     "iopub.status.busy": "2023-08-04T15:51:53.097061Z",
     "iopub.status.idle": "2023-08-04T15:51:53.098782Z",
     "shell.execute_reply": "2023-08-04T15:51:53.098576Z"
    }
   },
   "outputs": [
    {
     "data": {
      "text/plain": [
       "array([[4.        , 0.20300292],\n",
       "       [0.20300292, 0.01030255]])"
      ]
     },
     "execution_count": 25,
     "metadata": {},
     "output_type": "execute_result"
    }
   ],
   "source": [
    "np.outer(g, g)"
   ]
  },
  {
   "cell_type": "markdown",
   "metadata": {},
   "source": [
    "If the derivatives are not needed, their calculation can be skipped. Here, we calculate the gradient, but not the hessian."
   ]
  },
  {
   "cell_type": "code",
   "execution_count": 26,
   "metadata": {
    "execution": {
     "iopub.execute_input": "2023-08-04T15:51:53.099624Z",
     "iopub.status.busy": "2023-08-04T15:51:53.099553Z",
     "iopub.status.idle": "2023-08-04T15:51:53.102151Z",
     "shell.execute_reply": "2023-08-04T15:51:53.101963Z"
    }
   },
   "outputs": [
    {
     "data": {
      "text/plain": [
       "(1.9323323583816936, array([2.        , 0.10150146]), None, None)"
      ]
     },
     "execution_count": 26,
     "metadata": {},
     "output_type": "execute_result"
    }
   ],
   "source": [
    "expr1.getValueAndDerivatives(gradient=True, hessian=False, bhhh=False, prepareIds=True)"
   ]
  },
  {
   "cell_type": "markdown",
   "metadata": {},
   "source": [
    "It can also generate a function that takes the value of the parameters as argument, and provides a tuple with the value of the expression and its derivatives. By default, it returns the value of the function, its gradient and its hessian."
   ]
  },
  {
   "cell_type": "code",
   "execution_count": 27,
   "metadata": {
    "execution": {
     "iopub.execute_input": "2023-08-04T15:51:53.103016Z",
     "iopub.status.busy": "2023-08-04T15:51:53.102940Z",
     "iopub.status.idle": "2023-08-04T15:51:53.104396Z",
     "shell.execute_reply": "2023-08-04T15:51:53.104173Z"
    }
   },
   "outputs": [],
   "source": [
    "the_function = expr1.createFunction()"
   ]
  },
  {
   "cell_type": "markdown",
   "metadata": {},
   "source": [
    "We evaluate it at one point..."
   ]
  },
  {
   "cell_type": "code",
   "execution_count": 28,
   "metadata": {
    "execution": {
     "iopub.execute_input": "2023-08-04T15:51:53.105325Z",
     "iopub.status.busy": "2023-08-04T15:51:53.105258Z",
     "iopub.status.idle": "2023-08-04T15:51:53.107203Z",
     "shell.execute_reply": "2023-08-04T15:51:53.106992Z"
    }
   },
   "outputs": [
    {
     "data": {
      "text/plain": [
       "(1.9323323583816936,\n",
       " array([2.        , 0.10150146]),\n",
       " array([[ 0.       ,  0.       ],\n",
       "        [ 0.       , -0.1691691]]))"
      ]
     },
     "execution_count": 28,
     "metadata": {},
     "output_type": "execute_result"
    }
   ],
   "source": [
    "the_function([1, 2])"
   ]
  },
  {
   "cell_type": "markdown",
   "metadata": {},
   "source": [
    "... and at another point."
   ]
  },
  {
   "cell_type": "code",
   "execution_count": 29,
   "metadata": {
    "execution": {
     "iopub.execute_input": "2023-08-04T15:51:53.108067Z",
     "iopub.status.busy": "2023-08-04T15:51:53.107997Z",
     "iopub.status.idle": "2023-08-04T15:51:53.109919Z",
     "shell.execute_reply": "2023-08-04T15:51:53.109696Z"
    }
   },
   "outputs": [
    {
     "data": {
      "text/plain": [
       "(23.694528049465326,\n",
       " array([ 2.        , -1.84726402]),\n",
       " array([[0.        , 0.        ],\n",
       "        [0.        , 1.84726402]]))"
      ]
     },
     "execution_count": 29,
     "metadata": {},
     "output_type": "execute_result"
    }
   ],
   "source": [
    "the_function([10, -2])"
   ]
  },
  {
   "cell_type": "markdown",
   "metadata": {},
   "source": [
    "We can use it to check the derivatives"
   ]
  },
  {
   "cell_type": "code",
   "execution_count": 30,
   "metadata": {
    "execution": {
     "iopub.execute_input": "2023-08-04T15:51:53.110832Z",
     "iopub.status.busy": "2023-08-04T15:51:53.110772Z",
     "iopub.status.idle": "2023-08-04T15:51:53.114513Z",
     "shell.execute_reply": "2023-08-04T15:51:53.114328Z"
    }
   },
   "outputs": [
    {
     "name": "stderr",
     "output_type": "stream",
     "text": [
      "x\t\tGradient\tFinDiff\t\tDifference \n"
     ]
    },
    {
     "name": "stderr",
     "output_type": "stream",
     "text": [
      "x[0]           \t+2.000000E+00\t+2.000000E+00\t-1.167734E-09 \n"
     ]
    },
    {
     "name": "stderr",
     "output_type": "stream",
     "text": [
      "x[1]           \t+1.015015E-01\t+1.015014E-01\t+1.629049E-08 \n"
     ]
    },
    {
     "name": "stderr",
     "output_type": "stream",
     "text": [
      "Row\t\tCol\t\tHessian\tFinDiff\t\tDifference \n"
     ]
    },
    {
     "name": "stderr",
     "output_type": "stream",
     "text": [
      "x[0]           \tx[0]           \t+0.000000E+00\t+0.000000E+00\t+0.000000E+00 \n"
     ]
    },
    {
     "name": "stderr",
     "output_type": "stream",
     "text": [
      "x[0]           \tx[1]           \t+0.000000E+00\t+0.000000E+00\t+0.000000E+00 \n"
     ]
    },
    {
     "name": "stderr",
     "output_type": "stream",
     "text": [
      "x[1]           \tx[0]           \t+0.000000E+00\t+0.000000E+00\t+0.000000E+00 \n"
     ]
    },
    {
     "name": "stderr",
     "output_type": "stream",
     "text": [
      "x[1]           \tx[1]           \t-1.691691E-01\t-1.691691E-01\t-3.203118E-08 \n"
     ]
    },
    {
     "data": {
      "text/plain": [
       "(1.9323323583816936,\n",
       " array([2.        , 0.10150146]),\n",
       " array([[ 0.       ,  0.       ],\n",
       "        [ 0.       , -0.1691691]]),\n",
       " array([-1.16773435e-09,  1.62904950e-08]),\n",
       " array([[ 0.00000000e+00,  0.00000000e+00],\n",
       "        [ 0.00000000e+00, -3.20311803e-08]]))"
      ]
     },
     "execution_count": 30,
     "metadata": {},
     "output_type": "execute_result"
    }
   ],
   "source": [
    "tools.checkDerivatives(the_function, [1, 2], logg=True)"
   ]
  },
  {
   "cell_type": "markdown",
   "metadata": {},
   "source": [
    "But it is possible to also obtain the BHHH matrix."
   ]
  },
  {
   "cell_type": "code",
   "execution_count": 31,
   "metadata": {
    "execution": {
     "iopub.execute_input": "2023-08-04T15:51:53.115395Z",
     "iopub.status.busy": "2023-08-04T15:51:53.115328Z",
     "iopub.status.idle": "2023-08-04T15:51:53.117401Z",
     "shell.execute_reply": "2023-08-04T15:51:53.117189Z"
    }
   },
   "outputs": [
    {
     "data": {
      "text/plain": [
       "(1.9323323583816936,\n",
       " array([2.        , 0.10150146]),\n",
       " array([[ 0.       ,  0.       ],\n",
       "        [ 0.       , -0.1691691]]),\n",
       " array([[4.        , 0.20300292],\n",
       "        [0.20300292, 0.01030255]]))"
      ]
     },
     "execution_count": 31,
     "metadata": {},
     "output_type": "execute_result"
    }
   ],
   "source": [
    "the_function = expr1.createFunction(bhhh=True)\n",
    "the_function([1, 2])"
   ]
  },
  {
   "cell_type": "markdown",
   "metadata": {},
   "source": [
    "It can take a database as input, and evaluate the expression  and its derivatives for each entry in the database.\n",
    "In the following example, as no variable of the database is involved in the expression, the output of the expression is the same for each entry."
   ]
  },
  {
   "cell_type": "code",
   "execution_count": 32,
   "metadata": {
    "execution": {
     "iopub.execute_input": "2023-08-04T15:51:53.118274Z",
     "iopub.status.busy": "2023-08-04T15:51:53.118212Z",
     "iopub.status.idle": "2023-08-04T15:51:53.120780Z",
     "shell.execute_reply": "2023-08-04T15:51:53.120550Z"
    }
   },
   "outputs": [
    {
     "data": {
      "text/plain": [
       "(array([1.93233236, 1.93233236, 1.93233236, 1.93233236, 1.93233236]),\n",
       " array([[2.        , 0.10150146],\n",
       "        [2.        , 0.10150146],\n",
       "        [2.        , 0.10150146],\n",
       "        [2.        , 0.10150146],\n",
       "        [2.        , 0.10150146]]),\n",
       " array([[[ 0.       ,  0.       ],\n",
       "         [ 0.       , -0.1691691]],\n",
       " \n",
       "        [[ 0.       ,  0.       ],\n",
       "         [ 0.       , -0.1691691]],\n",
       " \n",
       "        [[ 0.       ,  0.       ],\n",
       "         [ 0.       , -0.1691691]],\n",
       " \n",
       "        [[ 0.       ,  0.       ],\n",
       "         [ 0.       , -0.1691691]],\n",
       " \n",
       "        [[ 0.       ,  0.       ],\n",
       "         [ 0.       , -0.1691691]]]),\n",
       " array([[[4.        , 0.20300292],\n",
       "         [0.20300292, 0.01030255]],\n",
       " \n",
       "        [[4.        , 0.20300292],\n",
       "         [0.20300292, 0.01030255]],\n",
       " \n",
       "        [[4.        , 0.20300292],\n",
       "         [0.20300292, 0.01030255]],\n",
       " \n",
       "        [[4.        , 0.20300292],\n",
       "         [0.20300292, 0.01030255]],\n",
       " \n",
       "        [[4.        , 0.20300292],\n",
       "         [0.20300292, 0.01030255]]]))"
      ]
     },
     "execution_count": 32,
     "metadata": {},
     "output_type": "execute_result"
    }
   ],
   "source": [
    "expr1.getValueAndDerivatives(database=myData, aggregation=False)"
   ]
  },
  {
   "cell_type": "markdown",
   "metadata": {},
   "source": [
    "If `aggregation`is set to `True`, the results are accumulated as a sum."
   ]
  },
  {
   "cell_type": "code",
   "execution_count": 33,
   "metadata": {
    "execution": {
     "iopub.execute_input": "2023-08-04T15:51:53.121660Z",
     "iopub.status.busy": "2023-08-04T15:51:53.121595Z",
     "iopub.status.idle": "2023-08-04T15:51:53.123795Z",
     "shell.execute_reply": "2023-08-04T15:51:53.123583Z"
    }
   },
   "outputs": [
    {
     "data": {
      "text/plain": [
       "(9.661661791908468,\n",
       " array([10.        ,  0.50750731]),\n",
       " array([[ 0.        ,  0.        ],\n",
       "        [ 0.        , -0.84584552]]),\n",
       " array([[20.        ,  1.01501462],\n",
       "        [ 1.01501462,  0.05151273]]))"
      ]
     },
     "execution_count": 33,
     "metadata": {},
     "output_type": "execute_result"
    }
   ],
   "source": [
    "expr1.getValueAndDerivatives(database=myData, aggregation=True)"
   ]
  },
  {
   "cell_type": "markdown",
   "metadata": {},
   "source": [
    "The following function scans the expression and extracts a dict with all free parameters."
   ]
  },
  {
   "cell_type": "code",
   "execution_count": 34,
   "metadata": {
    "execution": {
     "iopub.execute_input": "2023-08-04T15:51:53.124659Z",
     "iopub.status.busy": "2023-08-04T15:51:53.124597Z",
     "iopub.status.idle": "2023-08-04T15:51:53.126369Z",
     "shell.execute_reply": "2023-08-04T15:51:53.126158Z"
    }
   },
   "outputs": [
    {
     "data": {
      "text/plain": [
       "{'beta1', 'beta2'}"
      ]
     },
     "execution_count": 34,
     "metadata": {},
     "output_type": "execute_result"
    }
   ],
   "source": [
    "expr1.set_of_elementary_expression(TypeOfElementaryExpression.FREE_BETA)"
   ]
  },
  {
   "cell_type": "markdown",
   "metadata": {},
   "source": [
    "Options can be set to extract free parameters, fixed parameters, or both. "
   ]
  },
  {
   "cell_type": "code",
   "execution_count": 35,
   "metadata": {
    "execution": {
     "iopub.execute_input": "2023-08-04T15:51:53.127223Z",
     "iopub.status.busy": "2023-08-04T15:51:53.127162Z",
     "iopub.status.idle": "2023-08-04T15:51:53.128884Z",
     "shell.execute_reply": "2023-08-04T15:51:53.128689Z"
    }
   },
   "outputs": [
    {
     "data": {
      "text/plain": [
       "{'beta3', 'beta4'}"
      ]
     },
     "execution_count": 35,
     "metadata": {},
     "output_type": "execute_result"
    }
   ],
   "source": [
    "expr1.set_of_elementary_expression(TypeOfElementaryExpression.FIXED_BETA)"
   ]
  },
  {
   "cell_type": "code",
   "execution_count": 36,
   "metadata": {
    "execution": {
     "iopub.execute_input": "2023-08-04T15:51:53.129680Z",
     "iopub.status.busy": "2023-08-04T15:51:53.129602Z",
     "iopub.status.idle": "2023-08-04T15:51:53.131390Z",
     "shell.execute_reply": "2023-08-04T15:51:53.131133Z"
    }
   },
   "outputs": [
    {
     "data": {
      "text/plain": [
       "{'beta1', 'beta2', 'beta3', 'beta4'}"
      ]
     },
     "execution_count": 36,
     "metadata": {},
     "output_type": "execute_result"
    }
   ],
   "source": [
    "expr1.set_of_elementary_expression(TypeOfElementaryExpression.BETA)"
   ]
  },
  {
   "cell_type": "markdown",
   "metadata": {},
   "source": [
    "It is possible also to extract an elementary expression from its name."
   ]
  },
  {
   "cell_type": "code",
   "execution_count": 37,
   "metadata": {
    "execution": {
     "iopub.execute_input": "2023-08-04T15:51:53.132241Z",
     "iopub.status.busy": "2023-08-04T15:51:53.132180Z",
     "iopub.status.idle": "2023-08-04T15:51:53.133993Z",
     "shell.execute_reply": "2023-08-04T15:51:53.133793Z"
    }
   },
   "outputs": [
    {
     "data": {
      "text/plain": [
       "beta2(init=2)"
      ]
     },
     "execution_count": 37,
     "metadata": {},
     "output_type": "execute_result"
    }
   ],
   "source": [
    "expr1.getElementaryExpression('beta2')"
   ]
  },
  {
   "cell_type": "markdown",
   "metadata": {},
   "source": [
    "Let's consider an expression involving two variables $V_1$ and $V_2$: $$e_2 = 2  \\beta_1 V_1 - \\frac{\\exp(-\\beta_2 V_2)}{\\beta_2 (\\beta_3 \\geq \\beta_4) + \\beta_1 (\\beta_3 < \\beta_4)},$$\n",
    "where $(\\beta_2 \\geq \\beta_1)$ equals 1 if $\\beta_2 \\geq \\beta_1$ and 0 otherwise. Note that, in our example, the second term is numerically negligible with respect to the first one."
   ]
  },
  {
   "cell_type": "code",
   "execution_count": 38,
   "metadata": {
    "execution": {
     "iopub.execute_input": "2023-08-04T15:51:53.134909Z",
     "iopub.status.busy": "2023-08-04T15:51:53.134847Z",
     "iopub.status.idle": "2023-08-04T15:51:53.136623Z",
     "shell.execute_reply": "2023-08-04T15:51:53.136433Z"
    }
   },
   "outputs": [
    {
     "name": "stdout",
     "output_type": "stream",
     "text": [
      "(((`2.0` * beta1(init=1)) * Variable1) - (exp(((-beta2(init=2)) * Variable2)) / ((beta2(init=2) * (beta3(fixed=3) >= beta4(fixed=2))) + (beta1(init=1) * (beta3(fixed=3) < beta4(fixed=2))))))\n"
     ]
    }
   ],
   "source": [
    "expr2 = 2 * beta1 * Variable1 - ex.exp(-beta2 * Variable2) / (beta2 * (beta3 >= beta4) + beta1 * (beta3 < beta4))\n",
    "print(expr2)"
   ]
  },
  {
   "cell_type": "markdown",
   "metadata": {},
   "source": [
    "It is not a simple expression anymore, and only the function `getValue_c` can be invoked. If we try the `getValue`function, it raises an exception."
   ]
  },
  {
   "cell_type": "code",
   "execution_count": 39,
   "metadata": {
    "execution": {
     "iopub.execute_input": "2023-08-04T15:51:53.137469Z",
     "iopub.status.busy": "2023-08-04T15:51:53.137411Z",
     "iopub.status.idle": "2023-08-04T15:51:53.139020Z",
     "shell.execute_reply": "2023-08-04T15:51:53.138822Z"
    }
   },
   "outputs": [
    {
     "name": "stdout",
     "output_type": "stream",
     "text": [
      "Exception raised: Evaluating Variable Variable1 requires a database. Use the function getValue_c instead.\n"
     ]
    }
   ],
   "source": [
    "try:\n",
    "    expr2.getValue()\n",
    "except excep.BiogemeError as e:\n",
    "    print(f'Exception raised: {e}')"
   ]
  },
  {
   "cell_type": "markdown",
   "metadata": {},
   "source": [
    "As the expression is called out of a specific context, it should be ibnstructed to prepare its IDs. Note that if no database is provided, an exception is raised when the formula contains variables. Indeed, the values of these variables cannot be found anywhere. "
   ]
  },
  {
   "cell_type": "code",
   "execution_count": 40,
   "metadata": {
    "execution": {
     "iopub.execute_input": "2023-08-04T15:51:53.139890Z",
     "iopub.status.busy": "2023-08-04T15:51:53.139823Z",
     "iopub.status.idle": "2023-08-04T15:51:53.141462Z",
     "shell.execute_reply": "2023-08-04T15:51:53.141257Z"
    }
   },
   "outputs": [
    {
     "name": "stdout",
     "output_type": "stream",
     "text": [
      "Exception raised: No database is provided and an expression contains variables: {'Variable2', 'Variable1'}\n"
     ]
    }
   ],
   "source": [
    "try:\n",
    "    expr2.getValue_c(prepareIds=True)\n",
    "except excep.BiogemeError as e:\n",
    "    print(f'Exception raised: {e}')"
   ]
  },
  {
   "cell_type": "code",
   "execution_count": 41,
   "metadata": {
    "execution": {
     "iopub.execute_input": "2023-08-04T15:51:53.142349Z",
     "iopub.status.busy": "2023-08-04T15:51:53.142181Z",
     "iopub.status.idle": "2023-08-04T15:51:53.144591Z",
     "shell.execute_reply": "2023-08-04T15:51:53.144409Z"
    }
   },
   "outputs": [
    {
     "data": {
      "text/plain": [
       "array([ 20.,  40.,  60.,  80., 100.])"
      ]
     },
     "execution_count": 41,
     "metadata": {},
     "output_type": "execute_result"
    }
   ],
   "source": [
    "expr2.getValue_c(database=myData, aggregation=False, prepareIds=True)"
   ]
  },
  {
   "cell_type": "markdown",
   "metadata": {},
   "source": [
    "The following function extracts the names of the parameters apprearing in the expression"
   ]
  },
  {
   "cell_type": "code",
   "execution_count": 42,
   "metadata": {
    "execution": {
     "iopub.execute_input": "2023-08-04T15:51:53.145483Z",
     "iopub.status.busy": "2023-08-04T15:51:53.145407Z",
     "iopub.status.idle": "2023-08-04T15:51:53.147205Z",
     "shell.execute_reply": "2023-08-04T15:51:53.147004Z"
    }
   },
   "outputs": [
    {
     "data": {
      "text/plain": [
       "{'beta1', 'beta2', 'beta3', 'beta4'}"
      ]
     },
     "execution_count": 42,
     "metadata": {},
     "output_type": "execute_result"
    }
   ],
   "source": [
    "expr2.set_of_elementary_expression(TypeOfElementaryExpression.BETA)"
   ]
  },
  {
   "cell_type": "markdown",
   "metadata": {},
   "source": [
    "The list of parameters can also be obtained in the form of a dictionary."
   ]
  },
  {
   "cell_type": "code",
   "execution_count": 43,
   "metadata": {
    "execution": {
     "iopub.execute_input": "2023-08-04T15:51:53.148036Z",
     "iopub.status.busy": "2023-08-04T15:51:53.147972Z",
     "iopub.status.idle": "2023-08-04T15:51:53.149743Z",
     "shell.execute_reply": "2023-08-04T15:51:53.149544Z"
    }
   },
   "outputs": [
    {
     "data": {
      "text/plain": [
       "{'beta1': beta1(init=1),\n",
       " 'beta2': beta2(init=2),\n",
       " 'beta3': beta3(fixed=3),\n",
       " 'beta4': beta4(fixed=2)}"
      ]
     },
     "execution_count": 43,
     "metadata": {},
     "output_type": "execute_result"
    }
   ],
   "source": [
    "expr2.dict_of_elementary_expression(TypeOfElementaryExpression.BETA)"
   ]
  },
  {
   "cell_type": "markdown",
   "metadata": {},
   "source": [
    "The list of variables can also be obtained in the form of a dictionary"
   ]
  },
  {
   "cell_type": "code",
   "execution_count": 44,
   "metadata": {
    "execution": {
     "iopub.execute_input": "2023-08-04T15:51:53.150595Z",
     "iopub.status.busy": "2023-08-04T15:51:53.150527Z",
     "iopub.status.idle": "2023-08-04T15:51:53.152274Z",
     "shell.execute_reply": "2023-08-04T15:51:53.152067Z"
    }
   },
   "outputs": [
    {
     "data": {
      "text/plain": [
       "{'Variable1': Variable1, 'Variable2': Variable2}"
      ]
     },
     "execution_count": 44,
     "metadata": {},
     "output_type": "execute_result"
    }
   ],
   "source": [
    "expr2.dict_of_elementary_expression(TypeOfElementaryExpression.VARIABLE)"
   ]
  },
  {
   "cell_type": "markdown",
   "metadata": {},
   "source": [
    "or a set..."
   ]
  },
  {
   "cell_type": "code",
   "execution_count": 45,
   "metadata": {
    "execution": {
     "iopub.execute_input": "2023-08-04T15:51:53.153140Z",
     "iopub.status.busy": "2023-08-04T15:51:53.153078Z",
     "iopub.status.idle": "2023-08-04T15:51:53.154766Z",
     "shell.execute_reply": "2023-08-04T15:51:53.154575Z"
    }
   },
   "outputs": [
    {
     "data": {
      "text/plain": [
       "{'Variable1', 'Variable2'}"
      ]
     },
     "execution_count": 45,
     "metadata": {},
     "output_type": "execute_result"
    }
   ],
   "source": [
    "expr2.set_of_elementary_expression(TypeOfElementaryExpression.VARIABLE)"
   ]
  },
  {
   "cell_type": "markdown",
   "metadata": {},
   "source": [
    "Expressions are defined recursively, using a tree representation. The following function describes the type of the upper most node of the tree."
   ]
  },
  {
   "cell_type": "code",
   "execution_count": 46,
   "metadata": {
    "execution": {
     "iopub.execute_input": "2023-08-04T15:51:53.155600Z",
     "iopub.status.busy": "2023-08-04T15:51:53.155522Z",
     "iopub.status.idle": "2023-08-04T15:51:53.157254Z",
     "shell.execute_reply": "2023-08-04T15:51:53.157035Z"
    }
   },
   "outputs": [
    {
     "data": {
      "text/plain": [
       "'Minus'"
      ]
     },
     "execution_count": 46,
     "metadata": {},
     "output_type": "execute_result"
    }
   ],
   "source": [
    "expr2.getClassName()"
   ]
  },
  {
   "cell_type": "markdown",
   "metadata": {},
   "source": [
    "The signature is a formal representation of the expression, assigning identifiers to each node of the tree, and representing them starting from the leaves. It is easy to parse, and is passed to the C++ implementation. "
   ]
  },
  {
   "cell_type": "markdown",
   "metadata": {},
   "source": [
    "As the expression is used out of a specific context, it must be prepared before using it."
   ]
  },
  {
   "cell_type": "code",
   "execution_count": 47,
   "metadata": {
    "execution": {
     "iopub.execute_input": "2023-08-04T15:51:53.158117Z",
     "iopub.status.busy": "2023-08-04T15:51:53.158058Z",
     "iopub.status.idle": "2023-08-04T15:51:53.159572Z",
     "shell.execute_reply": "2023-08-04T15:51:53.159335Z"
    }
   },
   "outputs": [],
   "source": [
    "expr2.prepare(database=myData, numberOfDraws=0)"
   ]
  },
  {
   "cell_type": "code",
   "execution_count": 48,
   "metadata": {
    "execution": {
     "iopub.execute_input": "2023-08-04T15:51:53.160363Z",
     "iopub.status.busy": "2023-08-04T15:51:53.160295Z",
     "iopub.status.idle": "2023-08-04T15:51:53.162020Z",
     "shell.execute_reply": "2023-08-04T15:51:53.161819Z"
    }
   },
   "outputs": [
    {
     "data": {
      "text/plain": [
       "({'Variable1', 'Variable2', 'beta1', 'beta2', 'beta3', 'beta4'}, set())"
      ]
     },
     "execution_count": 48,
     "metadata": {},
     "output_type": "execute_result"
    }
   ],
   "source": [
    "expr2.getStatusIdManager()"
   ]
  },
  {
   "cell_type": "code",
   "execution_count": 49,
   "metadata": {
    "execution": {
     "iopub.execute_input": "2023-08-04T15:51:53.162866Z",
     "iopub.status.busy": "2023-08-04T15:51:53.162808Z",
     "iopub.status.idle": "2023-08-04T15:51:53.164260Z",
     "shell.execute_reply": "2023-08-04T15:51:53.164069Z"
    }
   },
   "outputs": [
    {
     "name": "stdout",
     "output_type": "stream",
     "text": [
      "(((`2.0` * beta1(init=1)) * Variable1) - (exp(((-beta2(init=2)) * Variable2)) / ((beta2(init=2) * (beta3(fixed=3) >= beta4(fixed=2))) + (beta1(init=1) * (beta3(fixed=3) < beta4(fixed=2))))))\n"
     ]
    }
   ],
   "source": [
    "print(expr2)"
   ]
  },
  {
   "cell_type": "code",
   "execution_count": 50,
   "metadata": {
    "execution": {
     "iopub.execute_input": "2023-08-04T15:51:53.165120Z",
     "iopub.status.busy": "2023-08-04T15:51:53.165045Z",
     "iopub.status.idle": "2023-08-04T15:51:53.166820Z",
     "shell.execute_reply": "2023-08-04T15:51:53.166628Z"
    }
   },
   "outputs": [
    {
     "data": {
      "text/plain": [
       "[b'<Numeric>{6127446992},2.0',\n",
       " b'<Beta>{4399541712}\"beta1\"[0],0,0',\n",
       " b'<Times>{6127437456}(2),6127446992,4399541712',\n",
       " b'<Variable>{6127297616}\"Variable1\",6,2',\n",
       " b'<Times>{6127441616}(2),6127437456,6127297616',\n",
       " b'<Beta>{6127298512}\"beta2\"[0],1,1',\n",
       " b'<UnaryMinus>{6127436752}(1),6127298512',\n",
       " b'<Variable>{6127297936}\"Variable2\",7,3',\n",
       " b'<Times>{6127358480}(2),6127436752,6127297936',\n",
       " b'<exp>{6127358608}(1),6127358480',\n",
       " b'<Beta>{6127298512}\"beta2\"[0],1,1',\n",
       " b'<Beta>{6127335888}\"beta3\"[1],2,0',\n",
       " b'<Beta>{6127329744}\"beta4\"[1],3,1',\n",
       " b'<GreaterOrEqual>{6127228304}(2),6127335888,6127329744',\n",
       " b'<Times>{6127437776}(2),6127298512,6127228304',\n",
       " b'<Beta>{4399541712}\"beta1\"[0],0,0',\n",
       " b'<Beta>{6127335888}\"beta3\"[1],2,0',\n",
       " b'<Beta>{6127329744}\"beta4\"[1],3,1',\n",
       " b'<Less>{6127444560}(2),6127335888,6127329744',\n",
       " b'<Times>{6127446736}(2),4399541712,6127444560',\n",
       " b'<Plus>{6127228688}(2),6127437776,6127446736',\n",
       " b'<Divide>{6127417616}(2),6127358608,6127228688',\n",
       " b'<Minus>{6127336592}(2),6127441616,6127417616']"
      ]
     },
     "execution_count": 50,
     "metadata": {},
     "output_type": "execute_result"
    }
   ],
   "source": [
    "expr2.getSignature()"
   ]
  },
  {
   "cell_type": "markdown",
   "metadata": {},
   "source": [
    "The elementary expressions are\n",
    "- free parameters,\n",
    "- fixed parameters,\n",
    "- random variables (for numerical integration),\n",
    "- draws (for Monte-Carlo integration), and\n",
    "- variables from the database.\n",
    "\n",
    "The following function extracts all elementary expressions from a list of formulas, give them a unique numbering, and return them organized by group, as defined above (with the exception of the variables, that are directly available in the database)."
   ]
  },
  {
   "cell_type": "code",
   "execution_count": 51,
   "metadata": {
    "execution": {
     "iopub.execute_input": "2023-08-04T15:51:53.167705Z",
     "iopub.status.busy": "2023-08-04T15:51:53.167645Z",
     "iopub.status.idle": "2023-08-04T15:51:53.169390Z",
     "shell.execute_reply": "2023-08-04T15:51:53.169167Z"
    }
   },
   "outputs": [],
   "source": [
    "collectionOfFormulas = [expr1, expr2]\n",
    "formulas = IdManager(collectionOfFormulas, myData, None)\n"
   ]
  },
  {
   "cell_type": "markdown",
   "metadata": {},
   "source": [
    "Unique numbering for all elementary expressions"
   ]
  },
  {
   "cell_type": "code",
   "execution_count": 52,
   "metadata": {
    "execution": {
     "iopub.execute_input": "2023-08-04T15:51:53.170194Z",
     "iopub.status.busy": "2023-08-04T15:51:53.170135Z",
     "iopub.status.idle": "2023-08-04T15:51:53.171912Z",
     "shell.execute_reply": "2023-08-04T15:51:53.171713Z"
    }
   },
   "outputs": [
    {
     "data": {
      "text/plain": [
       "{'beta1': 0,\n",
       " 'beta2': 1,\n",
       " 'beta3': 2,\n",
       " 'beta4': 3,\n",
       " 'Person': 4,\n",
       " 'Exclude': 5,\n",
       " 'Variable1': 6,\n",
       " 'Variable2': 7,\n",
       " 'Choice': 8,\n",
       " 'Av1': 9,\n",
       " 'Av2': 10,\n",
       " 'Av3': 11,\n",
       " 'newvar_b': 12,\n",
       " 'newvar_p': 13,\n",
       " 'chaining_p': 14}"
      ]
     },
     "execution_count": 52,
     "metadata": {},
     "output_type": "execute_result"
    }
   ],
   "source": [
    "formulas.elementary_expressions.indices"
   ]
  },
  {
   "cell_type": "code",
   "execution_count": 53,
   "metadata": {
    "execution": {
     "iopub.execute_input": "2023-08-04T15:51:53.172701Z",
     "iopub.status.busy": "2023-08-04T15:51:53.172643Z",
     "iopub.status.idle": "2023-08-04T15:51:53.174301Z",
     "shell.execute_reply": "2023-08-04T15:51:53.174093Z"
    }
   },
   "outputs": [
    {
     "data": {
      "text/plain": [
       "ElementsTuple(expressions={'beta1': beta1(init=1), 'beta2': beta2(init=2)}, indices={'beta1': 0, 'beta2': 1}, names=['beta1', 'beta2'])"
      ]
     },
     "execution_count": 53,
     "metadata": {},
     "output_type": "execute_result"
    }
   ],
   "source": [
    "formulas.free_betas"
   ]
  },
  {
   "cell_type": "markdown",
   "metadata": {},
   "source": [
    "Each elementary expression has two ids. One unique index across all elementary expressions, and one unique within each specific group"
   ]
  },
  {
   "cell_type": "code",
   "execution_count": 54,
   "metadata": {
    "execution": {
     "iopub.execute_input": "2023-08-04T15:51:53.175134Z",
     "iopub.status.busy": "2023-08-04T15:51:53.175059Z",
     "iopub.status.idle": "2023-08-04T15:51:53.176873Z",
     "shell.execute_reply": "2023-08-04T15:51:53.176669Z"
    }
   },
   "outputs": [
    {
     "data": {
      "text/plain": [
       "[(0, 0), (1, 1)]"
      ]
     },
     "execution_count": 54,
     "metadata": {},
     "output_type": "execute_result"
    }
   ],
   "source": [
    "[(i.elementaryIndex, i.betaId) for k, i in formulas.free_betas.expressions.items()]"
   ]
  },
  {
   "cell_type": "code",
   "execution_count": 55,
   "metadata": {
    "execution": {
     "iopub.execute_input": "2023-08-04T15:51:53.177656Z",
     "iopub.status.busy": "2023-08-04T15:51:53.177590Z",
     "iopub.status.idle": "2023-08-04T15:51:53.179355Z",
     "shell.execute_reply": "2023-08-04T15:51:53.179120Z"
    }
   },
   "outputs": [
    {
     "data": {
      "text/plain": [
       "['beta1', 'beta2']"
      ]
     },
     "execution_count": 55,
     "metadata": {},
     "output_type": "execute_result"
    }
   ],
   "source": [
    "formulas.free_betas.names"
   ]
  },
  {
   "cell_type": "code",
   "execution_count": 56,
   "metadata": {
    "execution": {
     "iopub.execute_input": "2023-08-04T15:51:53.180217Z",
     "iopub.status.busy": "2023-08-04T15:51:53.180151Z",
     "iopub.status.idle": "2023-08-04T15:51:53.181817Z",
     "shell.execute_reply": "2023-08-04T15:51:53.181612Z"
    }
   },
   "outputs": [
    {
     "data": {
      "text/plain": [
       "ElementsTuple(expressions={'beta3': beta3(fixed=3), 'beta4': beta4(fixed=2)}, indices={'beta3': 0, 'beta4': 1}, names=['beta3', 'beta4'])"
      ]
     },
     "execution_count": 56,
     "metadata": {},
     "output_type": "execute_result"
    }
   ],
   "source": [
    "formulas.fixed_betas"
   ]
  },
  {
   "cell_type": "code",
   "execution_count": 57,
   "metadata": {
    "execution": {
     "iopub.execute_input": "2023-08-04T15:51:53.182657Z",
     "iopub.status.busy": "2023-08-04T15:51:53.182598Z",
     "iopub.status.idle": "2023-08-04T15:51:53.184447Z",
     "shell.execute_reply": "2023-08-04T15:51:53.184212Z"
    }
   },
   "outputs": [
    {
     "data": {
      "text/plain": [
       "[(2, 0), (3, 1)]"
      ]
     },
     "execution_count": 57,
     "metadata": {},
     "output_type": "execute_result"
    }
   ],
   "source": [
    "[(i.elementaryIndex, i.betaId) for k, i in formulas.fixed_betas.expressions.items()]"
   ]
  },
  {
   "cell_type": "code",
   "execution_count": 58,
   "metadata": {
    "execution": {
     "iopub.execute_input": "2023-08-04T15:51:53.185304Z",
     "iopub.status.busy": "2023-08-04T15:51:53.185196Z",
     "iopub.status.idle": "2023-08-04T15:51:53.186932Z",
     "shell.execute_reply": "2023-08-04T15:51:53.186745Z"
    }
   },
   "outputs": [
    {
     "data": {
      "text/plain": [
       "['beta3', 'beta4']"
      ]
     },
     "execution_count": 58,
     "metadata": {},
     "output_type": "execute_result"
    }
   ],
   "source": [
    "formulas.fixed_betas.names"
   ]
  },
  {
   "cell_type": "code",
   "execution_count": 59,
   "metadata": {
    "execution": {
     "iopub.execute_input": "2023-08-04T15:51:53.187666Z",
     "iopub.status.busy": "2023-08-04T15:51:53.187609Z",
     "iopub.status.idle": "2023-08-04T15:51:53.189386Z",
     "shell.execute_reply": "2023-08-04T15:51:53.189192Z"
    }
   },
   "outputs": [
    {
     "data": {
      "text/plain": [
       "ElementsTuple(expressions={}, indices={}, names=[])"
      ]
     },
     "execution_count": 59,
     "metadata": {},
     "output_type": "execute_result"
    }
   ],
   "source": [
    "formulas.random_variables"
   ]
  },
  {
   "cell_type": "markdown",
   "metadata": {},
   "source": [
    "Monte Carlo integration is based on draws. "
   ]
  },
  {
   "cell_type": "code",
   "execution_count": 60,
   "metadata": {
    "execution": {
     "iopub.execute_input": "2023-08-04T15:51:53.190223Z",
     "iopub.status.busy": "2023-08-04T15:51:53.190167Z",
     "iopub.status.idle": "2023-08-04T15:51:53.191588Z",
     "shell.execute_reply": "2023-08-04T15:51:53.191389Z"
    }
   },
   "outputs": [],
   "source": [
    "myDraws = ex.bioDraws('myDraws', 'UNIFORM')\n",
    "expr3 = ex.MonteCarlo(myDraws * myDraws)"
   ]
  },
  {
   "cell_type": "code",
   "execution_count": 61,
   "metadata": {
    "execution": {
     "iopub.execute_input": "2023-08-04T15:51:53.192338Z",
     "iopub.status.busy": "2023-08-04T15:51:53.192281Z",
     "iopub.status.idle": "2023-08-04T15:51:53.193678Z",
     "shell.execute_reply": "2023-08-04T15:51:53.193483Z"
    }
   },
   "outputs": [
    {
     "name": "stdout",
     "output_type": "stream",
     "text": [
      "MonteCarlo((bioDraws(\"myDraws\", \"UNIFORM\") * bioDraws(\"myDraws\", \"UNIFORM\")))\n"
     ]
    }
   ],
   "source": [
    "print(expr3)"
   ]
  },
  {
   "cell_type": "markdown",
   "metadata": {},
   "source": [
    "Note that draws are not random variables, used for numerical integration."
   ]
  },
  {
   "cell_type": "code",
   "execution_count": 62,
   "metadata": {
    "execution": {
     "iopub.execute_input": "2023-08-04T15:51:53.194623Z",
     "iopub.status.busy": "2023-08-04T15:51:53.194503Z",
     "iopub.status.idle": "2023-08-04T15:51:53.196278Z",
     "shell.execute_reply": "2023-08-04T15:51:53.196072Z"
    }
   },
   "outputs": [
    {
     "data": {
      "text/plain": [
       "set()"
      ]
     },
     "execution_count": 62,
     "metadata": {},
     "output_type": "execute_result"
    }
   ],
   "source": [
    "expr3.set_of_elementary_expression(TypeOfElementaryExpression.RANDOM_VARIABLE)"
   ]
  },
  {
   "cell_type": "markdown",
   "metadata": {},
   "source": [
    "The following function reports the draws involved in an expression."
   ]
  },
  {
   "cell_type": "code",
   "execution_count": 63,
   "metadata": {
    "execution": {
     "iopub.execute_input": "2023-08-04T15:51:53.197241Z",
     "iopub.status.busy": "2023-08-04T15:51:53.197170Z",
     "iopub.status.idle": "2023-08-04T15:51:53.198915Z",
     "shell.execute_reply": "2023-08-04T15:51:53.198716Z"
    }
   },
   "outputs": [
    {
     "data": {
      "text/plain": [
       "{'myDraws'}"
      ]
     },
     "execution_count": 63,
     "metadata": {},
     "output_type": "execute_result"
    }
   ],
   "source": [
    "expr3.set_of_elementary_expression(TypeOfElementaryExpression.DRAWS)"
   ]
  },
  {
   "cell_type": "markdown",
   "metadata": {},
   "source": [
    "The following function checks if draws are defined outside MonteCarlo, and return their names."
   ]
  },
  {
   "cell_type": "code",
   "execution_count": 64,
   "metadata": {
    "execution": {
     "iopub.execute_input": "2023-08-04T15:51:53.199740Z",
     "iopub.status.busy": "2023-08-04T15:51:53.199686Z",
     "iopub.status.idle": "2023-08-04T15:51:53.201457Z",
     "shell.execute_reply": "2023-08-04T15:51:53.201268Z"
    }
   },
   "outputs": [
    {
     "data": {
      "text/plain": [
       "{'myDraws'}"
      ]
     },
     "execution_count": 64,
     "metadata": {},
     "output_type": "execute_result"
    }
   ],
   "source": [
    "wrong_expression = myDraws + ex.MonteCarlo(myDraws * myDraws)\n",
    "wrong_expression.check_draws()"
   ]
  },
  {
   "cell_type": "markdown",
   "metadata": {},
   "source": [
    "Checking the correct expression returns an empty set"
   ]
  },
  {
   "cell_type": "code",
   "execution_count": 65,
   "metadata": {
    "execution": {
     "iopub.execute_input": "2023-08-04T15:51:53.202350Z",
     "iopub.status.busy": "2023-08-04T15:51:53.202281Z",
     "iopub.status.idle": "2023-08-04T15:51:53.203906Z",
     "shell.execute_reply": "2023-08-04T15:51:53.203716Z"
    }
   },
   "outputs": [
    {
     "data": {
      "text/plain": [
       "set()"
      ]
     },
     "execution_count": 65,
     "metadata": {},
     "output_type": "execute_result"
    }
   ],
   "source": [
    "expr3.check_draws()"
   ]
  },
  {
   "cell_type": "markdown",
   "metadata": {},
   "source": [
    "The expression is a Monte-Carlo integration."
   ]
  },
  {
   "cell_type": "code",
   "execution_count": 66,
   "metadata": {
    "execution": {
     "iopub.execute_input": "2023-08-04T15:51:53.204715Z",
     "iopub.status.busy": "2023-08-04T15:51:53.204650Z",
     "iopub.status.idle": "2023-08-04T15:51:53.206271Z",
     "shell.execute_reply": "2023-08-04T15:51:53.206055Z"
    }
   },
   "outputs": [
    {
     "data": {
      "text/plain": [
       "'MonteCarlo'"
      ]
     },
     "execution_count": 66,
     "metadata": {},
     "output_type": "execute_result"
    }
   ],
   "source": [
    "expr3.getClassName()"
   ]
  },
  {
   "cell_type": "markdown",
   "metadata": {},
   "source": [
    "Note that the draws are associated with a database. Therefore, the evaluation of expressions involving Monte Carlo integration can only be done on a database. If none is provided, an exception is raised."
   ]
  },
  {
   "cell_type": "code",
   "execution_count": 67,
   "metadata": {
    "execution": {
     "iopub.execute_input": "2023-08-04T15:51:53.207068Z",
     "iopub.status.busy": "2023-08-04T15:51:53.207009Z",
     "iopub.status.idle": "2023-08-04T15:51:53.208554Z",
     "shell.execute_reply": "2023-08-04T15:51:53.208358Z"
    }
   },
   "outputs": [
    {
     "name": "stdout",
     "output_type": "stream",
     "text": [
      "Exception raised: An expression involving MonteCarlo integration must be associated with a database.\n"
     ]
    }
   ],
   "source": [
    "try:\n",
    "    expr3.getValue_c(numberOfDraws=number_of_draws)\n",
    "except excep.BiogemeError as e:\n",
    "    print(f'Exception raised: {e}')"
   ]
  },
  {
   "cell_type": "markdown",
   "metadata": {},
   "source": [
    "Here is its value. It is an approximation of $\\int_0^1 x^2 dx=\\frac{1}{3}$."
   ]
  },
  {
   "cell_type": "code",
   "execution_count": 68,
   "metadata": {
    "execution": {
     "iopub.execute_input": "2023-08-04T15:51:53.209362Z",
     "iopub.status.busy": "2023-08-04T15:51:53.209305Z",
     "iopub.status.idle": "2023-08-04T15:51:53.211668Z",
     "shell.execute_reply": "2023-08-04T15:51:53.211458Z"
    }
   },
   "outputs": [
    {
     "data": {
      "text/plain": [
       "array([0.3934398 , 0.298537  , 0.28521049, 0.34738013, 0.36951969])"
      ]
     },
     "execution_count": 68,
     "metadata": {},
     "output_type": "execute_result"
    }
   ],
   "source": [
    "expr3.getValue_c(database=myData, numberOfDraws=number_of_draws, prepareIds=True)"
   ]
  },
  {
   "cell_type": "markdown",
   "metadata": {},
   "source": [
    "Here is its signature."
   ]
  },
  {
   "cell_type": "code",
   "execution_count": 69,
   "metadata": {
    "execution": {
     "iopub.execute_input": "2023-08-04T15:51:53.212465Z",
     "iopub.status.busy": "2023-08-04T15:51:53.212402Z",
     "iopub.status.idle": "2023-08-04T15:51:53.214200Z",
     "shell.execute_reply": "2023-08-04T15:51:53.214016Z"
    }
   },
   "outputs": [
    {
     "data": {
      "text/plain": [
       "[b'<bioDraws>{6127498640}\"myDraws\",0,0',\n",
       " b'<bioDraws>{6127498640}\"myDraws\",0,0',\n",
       " b'<Times>{4369506192}(2),6127498640,6127498640',\n",
       " b'<MonteCarlo>{6127326416}(1),4369506192']"
      ]
     },
     "execution_count": 69,
     "metadata": {},
     "output_type": "execute_result"
    }
   ],
   "source": [
    "expr3.prepare(database=myData, numberOfDraws=number_of_draws)\n",
    "expr3.getSignature()"
   ]
  },
  {
   "cell_type": "markdown",
   "metadata": {},
   "source": [
    "The same integral can be calculated using numerical integration, declaring a random variable. "
   ]
  },
  {
   "cell_type": "code",
   "execution_count": 70,
   "metadata": {
    "execution": {
     "iopub.execute_input": "2023-08-04T15:51:53.215154Z",
     "iopub.status.busy": "2023-08-04T15:51:53.215078Z",
     "iopub.status.idle": "2023-08-04T15:51:53.216457Z",
     "shell.execute_reply": "2023-08-04T15:51:53.216279Z"
    }
   },
   "outputs": [],
   "source": [
    "omega = ex.RandomVariable('omega')"
   ]
  },
  {
   "cell_type": "markdown",
   "metadata": {},
   "source": [
    "Numerical integration calculates integrals between $-\\infty$ and $+\\infty$. Here, the interval being $[0,1]$, a change of variables is required."
   ]
  },
  {
   "cell_type": "code",
   "execution_count": 71,
   "metadata": {
    "execution": {
     "iopub.execute_input": "2023-08-04T15:51:53.217260Z",
     "iopub.status.busy": "2023-08-04T15:51:53.217201Z",
     "iopub.status.idle": "2023-08-04T15:51:53.218973Z",
     "shell.execute_reply": "2023-08-04T15:51:53.218776Z"
    }
   },
   "outputs": [],
   "source": [
    "a = 0\n",
    "b = 1\n",
    "x = a + (b - a) / ( 1 + ex.exp(-omega))\n",
    "dx = (b - a) * ex.exp(-omega) * (1 + ex.exp(-omega))**(-2) \n",
    "integrand = x * x\n",
    "expr4 = ex.Integrate(integrand * dx /(b - a), 'omega')"
   ]
  },
  {
   "cell_type": "markdown",
   "metadata": {},
   "source": [
    "In this case, omega is a random variable."
   ]
  },
  {
   "cell_type": "code",
   "execution_count": 72,
   "metadata": {
    "execution": {
     "iopub.execute_input": "2023-08-04T15:51:53.219919Z",
     "iopub.status.busy": "2023-08-04T15:51:53.219853Z",
     "iopub.status.idle": "2023-08-04T15:51:53.221548Z",
     "shell.execute_reply": "2023-08-04T15:51:53.221367Z"
    }
   },
   "outputs": [
    {
     "data": {
      "text/plain": [
       "{'omega': omega}"
      ]
     },
     "execution_count": 72,
     "metadata": {},
     "output_type": "execute_result"
    }
   ],
   "source": [
    "expr4.dict_of_elementary_expression(TypeOfElementaryExpression.RANDOM_VARIABLE)"
   ]
  },
  {
   "cell_type": "code",
   "execution_count": 73,
   "metadata": {
    "execution": {
     "iopub.execute_input": "2023-08-04T15:51:53.222407Z",
     "iopub.status.busy": "2023-08-04T15:51:53.222334Z",
     "iopub.status.idle": "2023-08-04T15:51:53.223795Z",
     "shell.execute_reply": "2023-08-04T15:51:53.223592Z"
    }
   },
   "outputs": [
    {
     "name": "stdout",
     "output_type": "stream",
     "text": [
      "Integrate(((((`0.0` + (`1.0` / (`1.0` + exp((-omega))))) * (`0.0` + (`1.0` / (`1.0` + exp((-omega)))))) * ((`1.0` * exp((-omega))) * ((`1.0` + exp((-omega))) ** `-2.0`))) / `1.0`), \"omega\")\n"
     ]
    }
   ],
   "source": [
    "print(expr4)"
   ]
  },
  {
   "cell_type": "markdown",
   "metadata": {},
   "source": [
    "The folllowing function checks if random variables are defined outside an Integrate statement."
   ]
  },
  {
   "cell_type": "code",
   "execution_count": 74,
   "metadata": {
    "execution": {
     "iopub.execute_input": "2023-08-04T15:51:53.224675Z",
     "iopub.status.busy": "2023-08-04T15:51:53.224619Z",
     "iopub.status.idle": "2023-08-04T15:51:53.226373Z",
     "shell.execute_reply": "2023-08-04T15:51:53.226174Z"
    }
   },
   "outputs": [
    {
     "data": {
      "text/plain": [
       "{'omega'}"
      ]
     },
     "execution_count": 74,
     "metadata": {},
     "output_type": "execute_result"
    }
   ],
   "source": [
    "wrong_expression =  x * x\n",
    "wrong_expression.check_rv()"
   ]
  },
  {
   "cell_type": "markdown",
   "metadata": {},
   "source": [
    "The same function called from the correct expression returns an empty set."
   ]
  },
  {
   "cell_type": "code",
   "execution_count": 75,
   "metadata": {
    "execution": {
     "iopub.execute_input": "2023-08-04T15:51:53.227230Z",
     "iopub.status.busy": "2023-08-04T15:51:53.227171Z",
     "iopub.status.idle": "2023-08-04T15:51:53.228918Z",
     "shell.execute_reply": "2023-08-04T15:51:53.228712Z"
    }
   },
   "outputs": [
    {
     "data": {
      "text/plain": [
       "set()"
      ]
     },
     "execution_count": 75,
     "metadata": {},
     "output_type": "execute_result"
    }
   ],
   "source": [
    "expr4.check_rv()"
   ]
  },
  {
   "cell_type": "markdown",
   "metadata": {},
   "source": [
    "Calculating its value requires the C++ implementation."
   ]
  },
  {
   "cell_type": "code",
   "execution_count": 76,
   "metadata": {
    "execution": {
     "iopub.execute_input": "2023-08-04T15:51:53.229838Z",
     "iopub.status.busy": "2023-08-04T15:51:53.229775Z",
     "iopub.status.idle": "2023-08-04T15:51:53.232076Z",
     "shell.execute_reply": "2023-08-04T15:51:53.231873Z"
    }
   },
   "outputs": [
    {
     "data": {
      "text/plain": [
       "array([0.33333231, 0.33333231, 0.33333231, 0.33333231, 0.33333231])"
      ]
     },
     "execution_count": 76,
     "metadata": {},
     "output_type": "execute_result"
    }
   ],
   "source": [
    "expr4.getValue_c(myData, prepareIds=True)"
   ]
  },
  {
   "cell_type": "markdown",
   "metadata": {},
   "source": [
    "We illustrate now the Elem function. It takes two arguments: a dictionary, and a formula for the key. For each entry in the database, the formula is evaluated, and its result identifies which formula in the dictionary should be evaluated.\n",
    "Here is 'Person' is 1, the expression is $$e_1=2  \\beta_1 - \\frac{\\exp(-\\beta_2)}{\\beta_3 (\\beta_2 \\geq \\beta_1)},$$ and if 'Person' is 2, the expression is $$e_2=2 \\beta_1  V_1 - \\frac{\\exp(-\\beta_2 V_2) }{ \\beta_3  (\\beta_2 \\geq \\beta_1)}.$$ As it is a regular expression, it can be included in any formula. Here, we illustrate it by dividing the result by 10."
   ]
  },
  {
   "cell_type": "code",
   "execution_count": 77,
   "metadata": {
    "execution": {
     "iopub.execute_input": "2023-08-04T15:51:53.232983Z",
     "iopub.status.busy": "2023-08-04T15:51:53.232915Z",
     "iopub.status.idle": "2023-08-04T15:51:53.234462Z",
     "shell.execute_reply": "2023-08-04T15:51:53.234272Z"
    }
   },
   "outputs": [
    {
     "name": "stdout",
     "output_type": "stream",
     "text": [
      "({{1:((`2.0` * beta1(init=1)) - (exp((-beta2(init=2))) / ((beta2(init=2) * (beta3(fixed=3) >= beta4(fixed=2))) + (beta1(init=1) * (beta3(fixed=3) < beta4(fixed=2)))))), 2:(((`2.0` * beta1(init=1)) * Variable1) - (exp(((-beta2(init=2)) * Variable2)) / ((beta2(init=2) * (beta3(fixed=3) >= beta4(fixed=2))) + (beta1(init=1) * (beta3(fixed=3) < beta4(fixed=2))))))}[Person] / `10.0`)\n"
     ]
    }
   ],
   "source": [
    "elemExpr = ex.Elem({1: expr1, 2: expr2}, Person) \n",
    "expr5 =  elemExpr / 10\n",
    "print(expr5)"
   ]
  },
  {
   "cell_type": "code",
   "execution_count": 78,
   "metadata": {
    "execution": {
     "iopub.execute_input": "2023-08-04T15:51:53.235314Z",
     "iopub.status.busy": "2023-08-04T15:51:53.235232Z",
     "iopub.status.idle": "2023-08-04T15:51:53.236955Z",
     "shell.execute_reply": "2023-08-04T15:51:53.236764Z"
    }
   },
   "outputs": [
    {
     "data": {
      "text/plain": [
       "{'Person': Person, 'Variable1': Variable1, 'Variable2': Variable2}"
      ]
     },
     "execution_count": 78,
     "metadata": {},
     "output_type": "execute_result"
    }
   ],
   "source": [
    "expr5.dict_of_elementary_expression(TypeOfElementaryExpression.VARIABLE)"
   ]
  },
  {
   "cell_type": "markdown",
   "metadata": {},
   "source": [
    "Note that ` Variable1` and `Variable2`have previously been involved in another formula. Therefore, they have been numbered according to this formula, and this numbering is invalid for the new expression `expr5`. An error is triggered"
   ]
  },
  {
   "cell_type": "code",
   "execution_count": 79,
   "metadata": {
    "execution": {
     "iopub.execute_input": "2023-08-04T15:51:53.237818Z",
     "iopub.status.busy": "2023-08-04T15:51:53.237757Z",
     "iopub.status.idle": "2023-08-04T15:51:53.239372Z",
     "shell.execute_reply": "2023-08-04T15:51:53.239177Z"
    }
   },
   "outputs": [
    {
     "name": "stdout",
     "output_type": "stream",
     "text": [
      "Expression evaluated out of context. Set prepareIds to True.\n"
     ]
    }
   ],
   "source": [
    "try:\n",
    "    expr5.getValue_c(database=myData)\n",
    "except excep.BiogemeError as e:\n",
    "    print(e)"
   ]
  },
  {
   "cell_type": "code",
   "execution_count": 80,
   "metadata": {
    "execution": {
     "iopub.execute_input": "2023-08-04T15:51:53.240241Z",
     "iopub.status.busy": "2023-08-04T15:51:53.240177Z",
     "iopub.status.idle": "2023-08-04T15:51:53.242584Z",
     "shell.execute_reply": "2023-08-04T15:51:53.242386Z"
    }
   },
   "outputs": [
    {
     "data": {
      "text/plain": [
       "array([ 0.19323324,  0.19323324,  0.19323324,  8.        , 10.        ])"
      ]
     },
     "execution_count": 80,
     "metadata": {},
     "output_type": "execute_result"
    }
   ],
   "source": [
    "expr5.getValue_c(database=myData, prepareIds=True)"
   ]
  },
  {
   "cell_type": "code",
   "execution_count": 81,
   "metadata": {
    "execution": {
     "iopub.execute_input": "2023-08-04T15:51:53.243455Z",
     "iopub.status.busy": "2023-08-04T15:51:53.243386Z",
     "iopub.status.idle": "2023-08-04T15:51:53.244822Z",
     "shell.execute_reply": "2023-08-04T15:51:53.244628Z"
    }
   },
   "outputs": [],
   "source": [
    "testElem = ex.MonteCarlo(ex.Elem({1: myDraws * myDraws}, 1))"
   ]
  },
  {
   "cell_type": "code",
   "execution_count": 82,
   "metadata": {
    "execution": {
     "iopub.execute_input": "2023-08-04T15:51:53.245885Z",
     "iopub.status.busy": "2023-08-04T15:51:53.245808Z",
     "iopub.status.idle": "2023-08-04T15:51:53.247482Z",
     "shell.execute_reply": "2023-08-04T15:51:53.247293Z"
    }
   },
   "outputs": [
    {
     "data": {
      "text/plain": [
       "([], [])"
      ]
     },
     "execution_count": 82,
     "metadata": {},
     "output_type": "execute_result"
    }
   ],
   "source": [
    "testElem.audit()"
   ]
  },
  {
   "cell_type": "markdown",
   "metadata": {},
   "source": [
    "The next expression is simply the sum of multiple expressions. The argument is a list of expressions. "
   ]
  },
  {
   "cell_type": "code",
   "execution_count": 83,
   "metadata": {
    "execution": {
     "iopub.execute_input": "2023-08-04T15:51:53.248374Z",
     "iopub.status.busy": "2023-08-04T15:51:53.248305Z",
     "iopub.status.idle": "2023-08-04T15:51:53.249688Z",
     "shell.execute_reply": "2023-08-04T15:51:53.249501Z"
    }
   },
   "outputs": [],
   "source": [
    "expr6 = ex.bioMultSum([expr1, expr2, expr4])"
   ]
  },
  {
   "cell_type": "code",
   "execution_count": 84,
   "metadata": {
    "execution": {
     "iopub.execute_input": "2023-08-04T15:51:53.250522Z",
     "iopub.status.busy": "2023-08-04T15:51:53.250462Z",
     "iopub.status.idle": "2023-08-04T15:51:53.251904Z",
     "shell.execute_reply": "2023-08-04T15:51:53.251703Z"
    }
   },
   "outputs": [
    {
     "name": "stdout",
     "output_type": "stream",
     "text": [
      "bioMultSum(((`2.0` * beta1(init=1)) - (exp((-beta2(init=2))) / ((beta2(init=2) * (beta3(fixed=3) >= beta4(fixed=2))) + (beta1(init=1) * (beta3(fixed=3) < beta4(fixed=2)))))), (((`2.0` * beta1(init=1)) * Variable1) - (exp(((-beta2(init=2)) * Variable2)) / ((beta2(init=2) * (beta3(fixed=3) >= beta4(fixed=2))) + (beta1(init=1) * (beta3(fixed=3) < beta4(fixed=2)))))), Integrate(((((`0.0` + (`1.0` / (`1.0` + exp((-omega))))) * (`0.0` + (`1.0` / (`1.0` + exp((-omega)))))) * ((`1.0` * exp((-omega))) * ((`1.0` + exp((-omega))) ** `-2.0`))) / `1.0`), \"omega\"))\n"
     ]
    }
   ],
   "source": [
    "print(expr6)"
   ]
  },
  {
   "cell_type": "code",
   "execution_count": 85,
   "metadata": {
    "execution": {
     "iopub.execute_input": "2023-08-04T15:51:53.252717Z",
     "iopub.status.busy": "2023-08-04T15:51:53.252659Z",
     "iopub.status.idle": "2023-08-04T15:51:53.255478Z",
     "shell.execute_reply": "2023-08-04T15:51:53.255280Z"
    }
   },
   "outputs": [
    {
     "data": {
      "text/plain": [
       "array([ 22.26566467,  42.26566467,  62.26566467,  82.26566467,\n",
       "       102.26566467])"
      ]
     },
     "execution_count": 85,
     "metadata": {},
     "output_type": "execute_result"
    }
   ],
   "source": [
    "expr6.getValue_c(database=myData, numberOfDraws=number_of_draws, prepareIds=True)"
   ]
  },
  {
   "cell_type": "markdown",
   "metadata": {},
   "source": [
    "We now illustrate how to calculate a logit model, that is $$ \\frac{y_1 e^{V_1}}{y_0 e^{V_0}+y_1 e^{V_1}+y_2 e^{V_2}}$$ where $V_0=-\\beta_1$, $V_1=-\\beta_2$ and $V_2=-\\beta_1$, and $y_i = 1$, $i=1,2,3$."
   ]
  },
  {
   "cell_type": "code",
   "execution_count": 86,
   "metadata": {
    "execution": {
     "iopub.execute_input": "2023-08-04T15:51:53.256389Z",
     "iopub.status.busy": "2023-08-04T15:51:53.256327Z",
     "iopub.status.idle": "2023-08-04T15:51:53.257871Z",
     "shell.execute_reply": "2023-08-04T15:51:53.257673Z"
    }
   },
   "outputs": [],
   "source": [
    "V = {0: -beta1, 1: -beta2, 2: -beta1}\n",
    "av = {0: 1, 1: 1, 2: 1}\n",
    "expr7 = ex._bioLogLogit(V, av, 1)"
   ]
  },
  {
   "cell_type": "code",
   "execution_count": 87,
   "metadata": {
    "execution": {
     "iopub.execute_input": "2023-08-04T15:51:53.258726Z",
     "iopub.status.busy": "2023-08-04T15:51:53.258658Z",
     "iopub.status.idle": "2023-08-04T15:51:53.260338Z",
     "shell.execute_reply": "2023-08-04T15:51:53.260145Z"
    }
   },
   "outputs": [
    {
     "data": {
      "text/plain": [
       "-1.861994804058251"
      ]
     },
     "execution_count": 87,
     "metadata": {},
     "output_type": "execute_result"
    }
   ],
   "source": [
    "expr7.getValue()"
   ]
  },
  {
   "cell_type": "markdown",
   "metadata": {},
   "source": [
    "If the alternative is not in the choice set, an exception is raised."
   ]
  },
  {
   "cell_type": "code",
   "execution_count": 88,
   "metadata": {
    "execution": {
     "iopub.execute_input": "2023-08-04T15:51:53.261244Z",
     "iopub.status.busy": "2023-08-04T15:51:53.261181Z",
     "iopub.status.idle": "2023-08-04T15:51:53.262931Z",
     "shell.execute_reply": "2023-08-04T15:51:53.262682Z"
    }
   },
   "outputs": [
    {
     "name": "stdout",
     "output_type": "stream",
     "text": [
      "Exception: Alternative 3 does not appear in the list of utility functions: dict_keys([0, 1, 2])\n"
     ]
    }
   ],
   "source": [
    "expr7_wrong = ex.LogLogit(V, av, 3)\n",
    "try:\n",
    "    expr7_wrong.getValue()\n",
    "except excep.BiogemeError as e:\n",
    "    print(f'Exception: {e}')"
   ]
  },
  {
   "cell_type": "markdown",
   "metadata": {},
   "source": [
    "It is actually better to use the C++ implementation, available in the module models"
   ]
  },
  {
   "cell_type": "code",
   "execution_count": 89,
   "metadata": {
    "execution": {
     "iopub.execute_input": "2023-08-04T15:51:53.263845Z",
     "iopub.status.busy": "2023-08-04T15:51:53.263773Z",
     "iopub.status.idle": "2023-08-04T15:51:53.265222Z",
     "shell.execute_reply": "2023-08-04T15:51:53.265006Z"
    }
   },
   "outputs": [],
   "source": [
    "expr8 = models.loglogit(V, av, 1)"
   ]
  },
  {
   "cell_type": "code",
   "execution_count": 90,
   "metadata": {
    "execution": {
     "iopub.execute_input": "2023-08-04T15:51:53.266107Z",
     "iopub.status.busy": "2023-08-04T15:51:53.266044Z",
     "iopub.status.idle": "2023-08-04T15:51:53.268663Z",
     "shell.execute_reply": "2023-08-04T15:51:53.268458Z"
    }
   },
   "outputs": [
    {
     "data": {
      "text/plain": [
       "array([-1.8619948, -1.8619948, -1.8619948, -1.8619948, -1.8619948])"
      ]
     },
     "execution_count": 90,
     "metadata": {},
     "output_type": "execute_result"
    }
   ],
   "source": [
    "expr8.getValue_c(database=myData, prepareIds=True)"
   ]
  },
  {
   "cell_type": "markdown",
   "metadata": {},
   "source": [
    "As the result is a numpy array, it can be used for any calculation. Here, we show how to calculate the logsum"
   ]
  },
  {
   "cell_type": "code",
   "execution_count": 91,
   "metadata": {
    "execution": {
     "iopub.execute_input": "2023-08-04T15:51:53.269540Z",
     "iopub.status.busy": "2023-08-04T15:51:53.269482Z",
     "iopub.status.idle": "2023-08-04T15:51:53.271668Z",
     "shell.execute_reply": "2023-08-04T15:51:53.271460Z"
    }
   },
   "outputs": [
    {
     "name": "stdout",
     "output_type": "stream",
     "text": [
      "[-1. -1. -1. -1. -1.]\n",
      "[-2. -2. -2. -2. -2.]\n",
      "[-1. -1. -1. -1. -1.]\n"
     ]
    }
   ],
   "source": [
    "for v in V.values():\n",
    "    print(v.getValue_c(database=myData, prepareIds=True))"
   ]
  },
  {
   "cell_type": "code",
   "execution_count": 92,
   "metadata": {
    "execution": {
     "iopub.execute_input": "2023-08-04T15:51:53.272487Z",
     "iopub.status.busy": "2023-08-04T15:51:53.272427Z",
     "iopub.status.idle": "2023-08-04T15:51:53.274795Z",
     "shell.execute_reply": "2023-08-04T15:51:53.274586Z"
    }
   },
   "outputs": [
    {
     "data": {
      "text/plain": [
       "array([ 0.60943791, -0.39056209,  0.60943791])"
      ]
     },
     "execution_count": 92,
     "metadata": {},
     "output_type": "execute_result"
    }
   ],
   "source": [
    "logsum = np.log(np.sum([np.exp(v.getValue_c(database=myData, prepareIds=True)) \n",
    "                        for v in V.values()], axis=1))\n",
    "logsum"
   ]
  },
  {
   "cell_type": "markdown",
   "metadata": {},
   "source": [
    "It is possible to calculate the derivative of a formula with respect to a literal: $$e_9=\\frac{\\partial e_8}{\\partial \\beta_2}.$$"
   ]
  },
  {
   "cell_type": "code",
   "execution_count": 93,
   "metadata": {
    "execution": {
     "iopub.execute_input": "2023-08-04T15:51:53.275657Z",
     "iopub.status.busy": "2023-08-04T15:51:53.275593Z",
     "iopub.status.idle": "2023-08-04T15:51:53.277082Z",
     "shell.execute_reply": "2023-08-04T15:51:53.276840Z"
    }
   },
   "outputs": [],
   "source": [
    "expr9 = ex.Derive(expr8, 'beta2')"
   ]
  },
  {
   "cell_type": "code",
   "execution_count": 94,
   "metadata": {
    "execution": {
     "iopub.execute_input": "2023-08-04T15:51:53.277924Z",
     "iopub.status.busy": "2023-08-04T15:51:53.277826Z",
     "iopub.status.idle": "2023-08-04T15:51:53.280675Z",
     "shell.execute_reply": "2023-08-04T15:51:53.280448Z"
    }
   },
   "outputs": [
    {
     "data": {
      "text/plain": [
       "array([-0.8446376, -0.8446376, -0.8446376, -0.8446376, -0.8446376])"
      ]
     },
     "execution_count": 94,
     "metadata": {},
     "output_type": "execute_result"
    }
   ],
   "source": [
    "expr9.getValue_c(database=myData, prepareIds=True)"
   ]
  },
  {
   "cell_type": "code",
   "execution_count": 95,
   "metadata": {
    "execution": {
     "iopub.execute_input": "2023-08-04T15:51:53.281617Z",
     "iopub.status.busy": "2023-08-04T15:51:53.281538Z",
     "iopub.status.idle": "2023-08-04T15:51:53.283174Z",
     "shell.execute_reply": "2023-08-04T15:51:53.282991Z"
    }
   },
   "outputs": [
    {
     "data": {
      "text/plain": [
       "'beta2'"
      ]
     },
     "execution_count": 95,
     "metadata": {},
     "output_type": "execute_result"
    }
   ],
   "source": [
    "expr9.elementaryName"
   ]
  },
  {
   "cell_type": "markdown",
   "metadata": {},
   "source": [
    "Biogeme also provides an approximation of the CDF of the normal distribution: $$e_{10}= \\frac{1}{{\\sigma \\sqrt {2\\pi } }}\\int_{-\\infty}^t e^{{{ - \\left( {x - \\mu } \\right)^2 } \\mathord{\\left/ {\\vphantom {{ - \\left( {x - \\mu } \\right)^2 } {2\\sigma ^2 }}} \\right. } {2\\sigma ^2 }}}dx$$"
   ]
  },
  {
   "cell_type": "code",
   "execution_count": 96,
   "metadata": {
    "execution": {
     "iopub.execute_input": "2023-08-04T15:51:53.283985Z",
     "iopub.status.busy": "2023-08-04T15:51:53.283926Z",
     "iopub.status.idle": "2023-08-04T15:51:53.285467Z",
     "shell.execute_reply": "2023-08-04T15:51:53.285247Z"
    }
   },
   "outputs": [],
   "source": [
    "expr10 = ex.bioNormalCdf(Variable1 / 10 - 1)"
   ]
  },
  {
   "cell_type": "code",
   "execution_count": 97,
   "metadata": {
    "execution": {
     "iopub.execute_input": "2023-08-04T15:51:53.286333Z",
     "iopub.status.busy": "2023-08-04T15:51:53.286272Z",
     "iopub.status.idle": "2023-08-04T15:51:53.288591Z",
     "shell.execute_reply": "2023-08-04T15:51:53.288289Z"
    }
   },
   "outputs": [
    {
     "data": {
      "text/plain": [
       "array([0.5       , 0.84134475, 0.97724987, 0.9986501 , 0.99996833])"
      ]
     },
     "execution_count": 97,
     "metadata": {},
     "output_type": "execute_result"
    }
   ],
   "source": [
    "expr10.getValue_c(database=myData, prepareIds=True)"
   ]
  },
  {
   "cell_type": "markdown",
   "metadata": {},
   "source": [
    "Min and max operators are also available. To avoid any ambiguity with the Python operator, they are called bioMin and bioMax. "
   ]
  },
  {
   "cell_type": "code",
   "execution_count": 98,
   "metadata": {
    "execution": {
     "iopub.execute_input": "2023-08-04T15:51:53.289841Z",
     "iopub.status.busy": "2023-08-04T15:51:53.289767Z",
     "iopub.status.idle": "2023-08-04T15:51:53.292884Z",
     "shell.execute_reply": "2023-08-04T15:51:53.292588Z"
    }
   },
   "outputs": [
    {
     "data": {
      "text/plain": [
       "array([0.19323324, 0.19323324, 0.19323324, 0.9986501 , 0.99996833])"
      ]
     },
     "execution_count": 98,
     "metadata": {},
     "output_type": "execute_result"
    }
   ],
   "source": [
    "expr11 = ex.bioMin(expr5, expr10)\n",
    "expr11.getValue_c(database=myData, prepareIds=True)"
   ]
  },
  {
   "cell_type": "code",
   "execution_count": 99,
   "metadata": {
    "execution": {
     "iopub.execute_input": "2023-08-04T15:51:53.294001Z",
     "iopub.status.busy": "2023-08-04T15:51:53.293931Z",
     "iopub.status.idle": "2023-08-04T15:51:53.297692Z",
     "shell.execute_reply": "2023-08-04T15:51:53.297282Z"
    }
   },
   "outputs": [
    {
     "data": {
      "text/plain": [
       "array([ 0.5       ,  0.84134475,  0.97724987,  8.        , 10.        ])"
      ]
     },
     "execution_count": 99,
     "metadata": {},
     "output_type": "execute_result"
    }
   ],
   "source": [
    "expr12 = ex.bioMax(expr5, expr10)\n",
    "expr12.getValue_c(database=myData, prepareIds=True)"
   ]
  },
  {
   "cell_type": "markdown",
   "metadata": {},
   "source": [
    "For the sake of efficiency, it is possible to specify explicitly a linear function, where each term is the product of a parameter and a variable."
   ]
  },
  {
   "cell_type": "code",
   "execution_count": 100,
   "metadata": {
    "execution": {
     "iopub.execute_input": "2023-08-04T15:51:53.299161Z",
     "iopub.status.busy": "2023-08-04T15:51:53.299054Z",
     "iopub.status.idle": "2023-08-04T15:51:53.300954Z",
     "shell.execute_reply": "2023-08-04T15:51:53.300619Z"
    }
   },
   "outputs": [],
   "source": [
    "terms = [(beta1, ex.Variable('Variable1')),\n",
    "         (beta2, ex.Variable('Variable2')),\n",
    "         (beta3, ex.Variable('newvar_b'))]"
   ]
  },
  {
   "cell_type": "code",
   "execution_count": 101,
   "metadata": {
    "execution": {
     "iopub.execute_input": "2023-08-04T15:51:53.302226Z",
     "iopub.status.busy": "2023-08-04T15:51:53.302126Z",
     "iopub.status.idle": "2023-08-04T15:51:53.304073Z",
     "shell.execute_reply": "2023-08-04T15:51:53.303790Z"
    }
   },
   "outputs": [],
   "source": [
    "expr13 = ex.bioLinearUtility(terms)"
   ]
  },
  {
   "cell_type": "code",
   "execution_count": 102,
   "metadata": {
    "execution": {
     "iopub.execute_input": "2023-08-04T15:51:53.305185Z",
     "iopub.status.busy": "2023-08-04T15:51:53.305086Z",
     "iopub.status.idle": "2023-08-04T15:51:53.307820Z",
     "shell.execute_reply": "2023-08-04T15:51:53.307484Z"
    }
   },
   "outputs": [
    {
     "data": {
      "text/plain": [
       "array([ 540., 1080., 1620., 2160., 2700.])"
      ]
     },
     "execution_count": 102,
     "metadata": {},
     "output_type": "execute_result"
    }
   ],
   "source": [
    "expr13.getValue_c(database=myData, prepareIds=True)"
   ]
  },
  {
   "cell_type": "markdown",
   "metadata": {},
   "source": [
    "In terms of specification, it is equivalent to the expression below. But the calculation of the derivatives is more efficient, as the linear structure of the specification is exploited."
   ]
  },
  {
   "cell_type": "code",
   "execution_count": 103,
   "metadata": {
    "execution": {
     "iopub.execute_input": "2023-08-04T15:51:53.309065Z",
     "iopub.status.busy": "2023-08-04T15:51:53.308937Z",
     "iopub.status.idle": "2023-08-04T15:51:53.310675Z",
     "shell.execute_reply": "2023-08-04T15:51:53.310369Z"
    }
   },
   "outputs": [],
   "source": [
    "expr13bis = beta1 * Variable1 + beta2 * Variable2 + beta3 * newvar_b"
   ]
  },
  {
   "cell_type": "code",
   "execution_count": 104,
   "metadata": {
    "execution": {
     "iopub.execute_input": "2023-08-04T15:51:53.311926Z",
     "iopub.status.busy": "2023-08-04T15:51:53.311851Z",
     "iopub.status.idle": "2023-08-04T15:51:53.314504Z",
     "shell.execute_reply": "2023-08-04T15:51:53.314209Z"
    }
   },
   "outputs": [
    {
     "data": {
      "text/plain": [
       "array([ 540., 1080., 1620., 2160., 2700.])"
      ]
     },
     "execution_count": 104,
     "metadata": {},
     "output_type": "execute_result"
    }
   ],
   "source": [
    "expr13bis.getValue_c(database=myData, prepareIds=True)"
   ]
  },
  {
   "cell_type": "markdown",
   "metadata": {},
   "source": [
    "A Pythonic way to write a linear utility function"
   ]
  },
  {
   "cell_type": "code",
   "execution_count": 105,
   "metadata": {
    "execution": {
     "iopub.execute_input": "2023-08-04T15:51:53.315649Z",
     "iopub.status.busy": "2023-08-04T15:51:53.315552Z",
     "iopub.status.idle": "2023-08-04T15:51:53.317813Z",
     "shell.execute_reply": "2023-08-04T15:51:53.317554Z"
    }
   },
   "outputs": [
    {
     "name": "stdout",
     "output_type": "stream",
     "text": [
      "((((((`0.0` + (beta_v1(init=0) * v1)) + (beta_v2(init=0) * v2)) + (beta_v3(init=0) * v3)) + (beta_cost(init=0) * cost)) + (beta_time(init=0) * time)) + (beta_headway(init=0) * headway))\n"
     ]
    }
   ],
   "source": [
    "variables = ['v1', 'v2', 'v3', 'cost', 'time', 'headway']\n",
    "coefficients = {f'{v}': ex.Beta(f'beta_{v}', 0, None, None, 0) \n",
    "                for v in variables}\n",
    "terms = [coefficients[v] * ex.Variable(v) for v in variables]\n",
    "util = sum(terms)\n",
    "print(util)"
   ]
  },
  {
   "cell_type": "markdown",
   "metadata": {},
   "source": [
    "If the data is organized a panel data, it means that several rows correspond to the same individual. The expression `PanelLikelihoodTrajectory` calculates the product of the expression evaluated for each row. If Monte Carlo integration is involved, the same draws are used for each them."
   ]
  },
  {
   "cell_type": "markdown",
   "metadata": {},
   "source": [
    "Our database contains 5 observations."
   ]
  },
  {
   "cell_type": "code",
   "execution_count": 106,
   "metadata": {
    "execution": {
     "iopub.execute_input": "2023-08-04T15:51:53.318990Z",
     "iopub.status.busy": "2023-08-04T15:51:53.318889Z",
     "iopub.status.idle": "2023-08-04T15:51:53.321044Z",
     "shell.execute_reply": "2023-08-04T15:51:53.320795Z"
    }
   },
   "outputs": [
    {
     "data": {
      "text/plain": [
       "5"
      ]
     },
     "execution_count": 106,
     "metadata": {},
     "output_type": "execute_result"
    }
   ],
   "source": [
    "myData.getSampleSize()"
   ]
  },
  {
   "cell_type": "code",
   "execution_count": 107,
   "metadata": {
    "execution": {
     "iopub.execute_input": "2023-08-04T15:51:53.322085Z",
     "iopub.status.busy": "2023-08-04T15:51:53.322016Z",
     "iopub.status.idle": "2023-08-04T15:51:53.325735Z",
     "shell.execute_reply": "2023-08-04T15:51:53.325491Z"
    }
   },
   "outputs": [],
   "source": [
    "myData.panel('Person')"
   ]
  },
  {
   "cell_type": "markdown",
   "metadata": {},
   "source": [
    "Once the data has been labeled as \"panel\", it is considered that there are only two series of observations, corresponding to each person. Each of these observations is associated with several rows of observations."
   ]
  },
  {
   "cell_type": "code",
   "execution_count": 108,
   "metadata": {
    "execution": {
     "iopub.execute_input": "2023-08-04T15:51:53.326958Z",
     "iopub.status.busy": "2023-08-04T15:51:53.326850Z",
     "iopub.status.idle": "2023-08-04T15:51:53.329061Z",
     "shell.execute_reply": "2023-08-04T15:51:53.328769Z"
    }
   },
   "outputs": [
    {
     "data": {
      "text/plain": [
       "2"
      ]
     },
     "execution_count": 108,
     "metadata": {},
     "output_type": "execute_result"
    }
   ],
   "source": [
    "myData.getSampleSize()"
   ]
  },
  {
   "cell_type": "markdown",
   "metadata": {},
   "source": [
    "If we try to evaluate again the integral $\\int_0^1 x^2 dx=\\frac{1}{3}$, an exception is raised."
   ]
  },
  {
   "cell_type": "code",
   "execution_count": 109,
   "metadata": {
    "execution": {
     "iopub.execute_input": "2023-08-04T15:51:53.330244Z",
     "iopub.status.busy": "2023-08-04T15:51:53.330137Z",
     "iopub.status.idle": "2023-08-04T15:51:53.332199Z",
     "shell.execute_reply": "2023-08-04T15:51:53.331875Z"
    }
   },
   "outputs": [
    {
     "name": "stderr",
     "output_type": "stream",
     "text": [
      "As the database is panel, the argument of MonteCarlo must contain a PanelLikelihoodTrajectory: MonteCarlo((bioDraws(\"myDraws\", \"UNIFORM\") * bioDraws(\"myDraws\", \"UNIFORM\"))) \n"
     ]
    },
    {
     "name": "stdout",
     "output_type": "stream",
     "text": [
      "Exception: As the database is panel, the argument of MonteCarlo must contain a PanelLikelihoodTrajectory: MonteCarlo((bioDraws(\"myDraws\", \"UNIFORM\") * bioDraws(\"myDraws\", \"UNIFORM\")))\n"
     ]
    }
   ],
   "source": [
    "try:\n",
    "    expr3.getValue_c(database=myData)\n",
    "except excep.BiogemeError as e:\n",
    "    print(f'Exception: {e}')"
   ]
  },
  {
   "cell_type": "markdown",
   "metadata": {},
   "source": [
    "This is detected by the `audit` function, called before the expression is evaluated."
   ]
  },
  {
   "cell_type": "code",
   "execution_count": 110,
   "metadata": {
    "execution": {
     "iopub.execute_input": "2023-08-04T15:51:53.333403Z",
     "iopub.status.busy": "2023-08-04T15:51:53.333295Z",
     "iopub.status.idle": "2023-08-04T15:51:53.335433Z",
     "shell.execute_reply": "2023-08-04T15:51:53.335164Z"
    }
   },
   "outputs": [
    {
     "data": {
      "text/plain": [
       "(['As the database is panel, the argument of MonteCarlo must contain a PanelLikelihoodTrajectory: MonteCarlo((bioDraws(\"myDraws\", \"UNIFORM\") * bioDraws(\"myDraws\", \"UNIFORM\")))'],\n",
       " [])"
      ]
     },
     "execution_count": 110,
     "metadata": {},
     "output_type": "execute_result"
    }
   ],
   "source": [
    "expr3.audit(database=myData)"
   ]
  },
  {
   "cell_type": "markdown",
   "metadata": {},
   "source": [
    "We now evaluate an expression for panel data."
   ]
  },
  {
   "cell_type": "code",
   "execution_count": 111,
   "metadata": {
    "execution": {
     "iopub.execute_input": "2023-08-04T15:51:53.336629Z",
     "iopub.status.busy": "2023-08-04T15:51:53.336510Z",
     "iopub.status.idle": "2023-08-04T15:51:53.338816Z",
     "shell.execute_reply": "2023-08-04T15:51:53.338562Z"
    }
   },
   "outputs": [],
   "source": [
    "c1 = ex.bioDraws('draws1', 'NORMAL_HALTON2')\n",
    "c2 = ex.bioDraws('draws2', 'NORMAL_HALTON2')\n",
    "U1 = ex.Beta('beta1', 0, None, None, 0) * Variable1 + 10 * c1\n",
    "U2 = ex.Beta('beta2', 0, None, None, 0) * Variable2 + 10 * c2\n",
    "U3 = 0\n",
    "U = {1: U1, 2: U2, 3: U3}\n",
    "av = {1: Av1, 2: Av2, 3: Av3}\n",
    "expr14 = ex.log(ex.MonteCarlo(ex.PanelLikelihoodTrajectory(models.logit(U, av, Choice))))"
   ]
  },
  {
   "cell_type": "code",
   "execution_count": 112,
   "metadata": {
    "execution": {
     "iopub.execute_input": "2023-08-04T15:51:53.339760Z",
     "iopub.status.busy": "2023-08-04T15:51:53.339681Z",
     "iopub.status.idle": "2023-08-04T15:51:53.342378Z",
     "shell.execute_reply": "2023-08-04T15:51:53.341995Z"
    }
   },
   "outputs": [
    {
     "data": {
      "text/plain": [
       "log(MonteCarlo(PanelLikelihoodTrajectory(exp(_bioLogLogit[choice=Choice]U=(1:((beta1(init=0) * Variable1) + (`10.0` * bioDraws(\"draws1\", \"NORMAL_HALTON2\"))), 2:((beta2(init=0) * Variable2) + (`10.0` * bioDraws(\"draws2\", \"NORMAL_HALTON2\"))), 3:`0.0`)av=(1:Av1, 2:Av2, 3:Av3)))))"
      ]
     },
     "execution_count": 112,
     "metadata": {},
     "output_type": "execute_result"
    }
   ],
   "source": [
    "expr14.prepare(database=myData, numberOfDraws=number_of_draws)\n",
    "expr14"
   ]
  },
  {
   "cell_type": "code",
   "execution_count": 113,
   "metadata": {
    "execution": {
     "iopub.execute_input": "2023-08-04T15:51:53.343644Z",
     "iopub.status.busy": "2023-08-04T15:51:53.343542Z",
     "iopub.status.idle": "2023-08-04T15:51:53.348241Z",
     "shell.execute_reply": "2023-08-04T15:51:53.348008Z"
    }
   },
   "outputs": [
    {
     "data": {
      "text/plain": [
       "array([-3.91914292, -2.11209896])"
      ]
     },
     "execution_count": 113,
     "metadata": {},
     "output_type": "execute_result"
    }
   ],
   "source": [
    "expr14.getValue_c(database=myData, numberOfDraws=number_of_draws, prepareIds=True)"
   ]
  },
  {
   "cell_type": "code",
   "execution_count": 114,
   "metadata": {
    "execution": {
     "iopub.execute_input": "2023-08-04T15:51:53.349246Z",
     "iopub.status.busy": "2023-08-04T15:51:53.349175Z",
     "iopub.status.idle": "2023-08-04T15:51:53.353460Z",
     "shell.execute_reply": "2023-08-04T15:51:53.353237Z"
    }
   },
   "outputs": [
    {
     "data": {
      "text/plain": [
       "(array([-3.91914292, -2.11209896]),\n",
       " array([[-12.31921998,  76.80780015],\n",
       "        [ -3.14130423,  68.58695767]]),\n",
       " array([[[  -165.65755306,   1546.42166536],\n",
       "         [  1546.42166536, -16565.75530623]],\n",
       " \n",
       "        [[  -987.62129533,   9777.04786414],\n",
       "         [  9777.04786414, -98762.12953279]]]),\n",
       " array([[[ 151.76318103, -946.21218663],\n",
       "         [-946.21218663, 5899.4381646 ]],\n",
       " \n",
       "        [[   9.86779229, -215.45250047],\n",
       "         [-215.45250047, 4704.17076195]]]))"
      ]
     },
     "execution_count": 114,
     "metadata": {},
     "output_type": "execute_result"
    }
   ],
   "source": [
    "expr14.getValueAndDerivatives(database=myData, numberOfDraws=number_of_draws, gradient=True, hessian=True, aggregation=False)"
   ]
  },
  {
   "cell_type": "code",
   "execution_count": 115,
   "metadata": {
    "execution": {
     "iopub.execute_input": "2023-08-04T15:51:53.354454Z",
     "iopub.status.busy": "2023-08-04T15:51:53.354373Z",
     "iopub.status.idle": "2023-08-04T15:51:53.358468Z",
     "shell.execute_reply": "2023-08-04T15:51:53.358239Z"
    }
   },
   "outputs": [
    {
     "data": {
      "text/plain": [
       "(-6.0312418791725335,\n",
       " array([-15.46052422, 145.39475782]),\n",
       " array([[  -1153.27884839,   11323.46952949],\n",
       "        [  11323.46952949, -115327.88483902]]),\n",
       " array([[  161.63097331, -1161.6646871 ],\n",
       "        [-1161.6646871 , 10603.60892655]]))"
      ]
     },
     "execution_count": 115,
     "metadata": {},
     "output_type": "execute_result"
    }
   ],
   "source": [
    "expr14.getValueAndDerivatives(database=myData, numberOfDraws=number_of_draws, gradient=True, hessian=True, aggregation=True)"
   ]
  },
  {
   "cell_type": "markdown",
   "metadata": {},
   "source": [
    "A Python function can also be obtained for this expression. Note that it is available only for the aggregated version, summing over the database."
   ]
  },
  {
   "cell_type": "code",
   "execution_count": 116,
   "metadata": {
    "execution": {
     "iopub.execute_input": "2023-08-04T15:51:53.359574Z",
     "iopub.status.busy": "2023-08-04T15:51:53.359495Z",
     "iopub.status.idle": "2023-08-04T15:51:53.361074Z",
     "shell.execute_reply": "2023-08-04T15:51:53.360864Z"
    }
   },
   "outputs": [],
   "source": [
    "the_function = expr14.createFunction(database=myData, numberOfDraws=number_of_draws, gradient=True, hessian=True)"
   ]
  },
  {
   "cell_type": "code",
   "execution_count": 117,
   "metadata": {
    "execution": {
     "iopub.execute_input": "2023-08-04T15:51:53.361994Z",
     "iopub.status.busy": "2023-08-04T15:51:53.361932Z",
     "iopub.status.idle": "2023-08-04T15:51:53.366205Z",
     "shell.execute_reply": "2023-08-04T15:51:53.365975Z"
    }
   },
   "outputs": [
    {
     "data": {
      "text/plain": [
       "(-6.0312418791725335,\n",
       " array([-15.46052422, 145.39475782]),\n",
       " array([[  -1153.27884839,   11323.46952949],\n",
       "        [  11323.46952949, -115327.88483902]]))"
      ]
     },
     "execution_count": 117,
     "metadata": {},
     "output_type": "execute_result"
    }
   ],
   "source": [
    "the_function([0, 0])"
   ]
  },
  {
   "cell_type": "code",
   "execution_count": 118,
   "metadata": {
    "execution": {
     "iopub.execute_input": "2023-08-04T15:51:53.367131Z",
     "iopub.status.busy": "2023-08-04T15:51:53.367065Z",
     "iopub.status.idle": "2023-08-04T15:51:53.371221Z",
     "shell.execute_reply": "2023-08-04T15:51:53.370976Z"
    }
   },
   "outputs": [
    {
     "data": {
      "text/plain": [
       "(-49.645666583910895,\n",
       " array([  39.99999992, -553.04056325]),\n",
       " array([[-1.62802916e-06,  1.46098013e-05],\n",
       "        [ 1.46098013e-05, -1.18518603e+03]]))"
      ]
     },
     "execution_count": 118,
     "metadata": {},
     "output_type": "execute_result"
    }
   ],
   "source": [
    "the_function([0.1, 0.1])"
   ]
  },
  {
   "cell_type": "markdown",
   "metadata": {},
   "source": [
    "It is possible to fix the value of some (or all) beta parameters"
   ]
  },
  {
   "cell_type": "code",
   "execution_count": 119,
   "metadata": {
    "execution": {
     "iopub.execute_input": "2023-08-04T15:51:53.372271Z",
     "iopub.status.busy": "2023-08-04T15:51:53.372177Z",
     "iopub.status.idle": "2023-08-04T15:51:53.373986Z",
     "shell.execute_reply": "2023-08-04T15:51:53.373685Z"
    }
   },
   "outputs": [
    {
     "name": "stdout",
     "output_type": "stream",
     "text": [
      "log(MonteCarlo(PanelLikelihoodTrajectory(exp(_bioLogLogit[choice=Choice]U=(1:((beta1(init=0) * Variable1) + (`10.0` * bioDraws(\"draws1\", \"NORMAL_HALTON2\"))), 2:((beta2(init=0) * Variable2) + (`10.0` * bioDraws(\"draws2\", \"NORMAL_HALTON2\"))), 3:`0.0`)av=(1:Av1, 2:Av2, 3:Av3)))))\n"
     ]
    }
   ],
   "source": [
    "print(expr14)"
   ]
  },
  {
   "cell_type": "code",
   "execution_count": 120,
   "metadata": {
    "execution": {
     "iopub.execute_input": "2023-08-04T15:51:53.374945Z",
     "iopub.status.busy": "2023-08-04T15:51:53.374868Z",
     "iopub.status.idle": "2023-08-04T15:51:53.376540Z",
     "shell.execute_reply": "2023-08-04T15:51:53.376253Z"
    }
   },
   "outputs": [],
   "source": [
    "expr14.fix_betas({'beta2': 0.123})"
   ]
  },
  {
   "cell_type": "code",
   "execution_count": 121,
   "metadata": {
    "execution": {
     "iopub.execute_input": "2023-08-04T15:51:53.377469Z",
     "iopub.status.busy": "2023-08-04T15:51:53.377388Z",
     "iopub.status.idle": "2023-08-04T15:51:53.378957Z",
     "shell.execute_reply": "2023-08-04T15:51:53.378734Z"
    }
   },
   "outputs": [
    {
     "name": "stdout",
     "output_type": "stream",
     "text": [
      "log(MonteCarlo(PanelLikelihoodTrajectory(exp(_bioLogLogit[choice=Choice]U=(1:((beta1(init=0) * Variable1) + (`10.0` * bioDraws(\"draws1\", \"NORMAL_HALTON2\"))), 2:((beta2(fixed=0.123) * Variable2) + (`10.0` * bioDraws(\"draws2\", \"NORMAL_HALTON2\"))), 3:`0.0`)av=(1:Av1, 2:Av2, 3:Av3)))))\n"
     ]
    }
   ],
   "source": [
    "print(expr14)"
   ]
  },
  {
   "cell_type": "markdown",
   "metadata": {},
   "source": [
    "The name of the parameter can also be changed while fixing its value."
   ]
  },
  {
   "cell_type": "code",
   "execution_count": 122,
   "metadata": {
    "execution": {
     "iopub.execute_input": "2023-08-04T15:51:53.379984Z",
     "iopub.status.busy": "2023-08-04T15:51:53.379911Z",
     "iopub.status.idle": "2023-08-04T15:51:53.381445Z",
     "shell.execute_reply": "2023-08-04T15:51:53.381217Z"
    }
   },
   "outputs": [],
   "source": [
    "expr14.fix_betas({'beta2': 123}, prefix='prefix_', suffix='_suffix')"
   ]
  },
  {
   "cell_type": "code",
   "execution_count": 123,
   "metadata": {
    "execution": {
     "iopub.execute_input": "2023-08-04T15:51:53.382443Z",
     "iopub.status.busy": "2023-08-04T15:51:53.382342Z",
     "iopub.status.idle": "2023-08-04T15:51:53.383999Z",
     "shell.execute_reply": "2023-08-04T15:51:53.383789Z"
    }
   },
   "outputs": [
    {
     "name": "stdout",
     "output_type": "stream",
     "text": [
      "log(MonteCarlo(PanelLikelihoodTrajectory(exp(_bioLogLogit[choice=Choice]U=(1:((beta1(init=0) * Variable1) + (`10.0` * bioDraws(\"draws1\", \"NORMAL_HALTON2\"))), 2:((prefix_beta2_suffix(fixed=123) * Variable2) + (`10.0` * bioDraws(\"draws2\", \"NORMAL_HALTON2\"))), 3:`0.0`)av=(1:Av1, 2:Av2, 3:Av3)))))\n"
     ]
    }
   ],
   "source": [
    "print(expr14)"
   ]
  },
  {
   "cell_type": "markdown",
   "metadata": {},
   "source": [
    "It can also be renamed using the following function."
   ]
  },
  {
   "cell_type": "code",
   "execution_count": 124,
   "metadata": {
    "execution": {
     "iopub.execute_input": "2023-08-04T15:51:53.384950Z",
     "iopub.status.busy": "2023-08-04T15:51:53.384876Z",
     "iopub.status.idle": "2023-08-04T15:51:53.386384Z",
     "shell.execute_reply": "2023-08-04T15:51:53.386154Z"
    }
   },
   "outputs": [],
   "source": [
    "expr14.rename_elementary(['prefix_beta2_suffix'], prefix='PREFIX_', suffix='_SUFFIX')"
   ]
  },
  {
   "cell_type": "code",
   "execution_count": 125,
   "metadata": {
    "execution": {
     "iopub.execute_input": "2023-08-04T15:51:53.387335Z",
     "iopub.status.busy": "2023-08-04T15:51:53.387248Z",
     "iopub.status.idle": "2023-08-04T15:51:53.388748Z",
     "shell.execute_reply": "2023-08-04T15:51:53.388576Z"
    }
   },
   "outputs": [
    {
     "name": "stdout",
     "output_type": "stream",
     "text": [
      "log(MonteCarlo(PanelLikelihoodTrajectory(exp(_bioLogLogit[choice=Choice]U=(1:((beta1(init=0) * Variable1) + (`10.0` * bioDraws(\"draws1\", \"NORMAL_HALTON2\"))), 2:((PREFIX_prefix_beta2_suffix_SUFFIX(fixed=123) * Variable2) + (`10.0` * bioDraws(\"draws2\", \"NORMAL_HALTON2\"))), 3:`0.0`)av=(1:Av1, 2:Av2, 3:Av3)))))\n"
     ]
    }
   ],
   "source": [
    "print(expr14)"
   ]
  },
  {
   "cell_type": "markdown",
   "metadata": {},
   "source": [
    "# Signatures"
   ]
  },
  {
   "cell_type": "markdown",
   "metadata": {},
   "source": [
    "The Python library communicates the expressions to the C++ library using a syntax called a \"signature\". We describe and illustrate now the signature for each expression. Each expression is identified by an identifier provided by Python using the function 'id'. "
   ]
  },
  {
   "cell_type": "code",
   "execution_count": 126,
   "metadata": {
    "execution": {
     "iopub.execute_input": "2023-08-04T15:51:53.389852Z",
     "iopub.status.busy": "2023-08-04T15:51:53.389763Z",
     "iopub.status.idle": "2023-08-04T15:51:53.391604Z",
     "shell.execute_reply": "2023-08-04T15:51:53.391393Z"
    }
   },
   "outputs": [
    {
     "data": {
      "text/plain": [
       "6125185744"
      ]
     },
     "execution_count": 126,
     "metadata": {},
     "output_type": "execute_result"
    }
   ],
   "source": [
    "id(expr1)"
   ]
  },
  {
   "cell_type": "markdown",
   "metadata": {},
   "source": [
    "## Numerical expression"
   ]
  },
  {
   "cell_type": "markdown",
   "metadata": {},
   "source": [
    "&lt;Numeric&gt;{identifier},value"
   ]
  },
  {
   "cell_type": "code",
   "execution_count": 127,
   "metadata": {
    "execution": {
     "iopub.execute_input": "2023-08-04T15:51:53.392675Z",
     "iopub.status.busy": "2023-08-04T15:51:53.392578Z",
     "iopub.status.idle": "2023-08-04T15:51:53.394686Z",
     "shell.execute_reply": "2023-08-04T15:51:53.394415Z"
    }
   },
   "outputs": [
    {
     "data": {
      "text/plain": [
       "[b'<Numeric>{6129194448},0.0']"
      ]
     },
     "execution_count": 127,
     "metadata": {},
     "output_type": "execute_result"
    }
   ],
   "source": [
    "ex.Numeric(0).getSignature()"
   ]
  },
  {
   "cell_type": "markdown",
   "metadata": {},
   "source": [
    "## Beta parameters"
   ]
  },
  {
   "cell_type": "markdown",
   "metadata": {},
   "source": [
    "&lt;Beta&gt;{identifier}\"name\"[status],uniqueId,betaId'\n",
    "where \n",
    "- status is 0 for free parameters, and non zero for fixed parameters,\n",
    "- uniqueId is a unique index given by Biogeme to all elementary expressions,\n",
    "- betaId is a unique index given by Biogeme to all free parameters, and to all fixed parameters."
   ]
  },
  {
   "cell_type": "markdown",
   "metadata": {},
   "source": [
    "As the signature requires an Id, we need to prepare the expression first. "
   ]
  },
  {
   "cell_type": "code",
   "execution_count": 128,
   "metadata": {
    "execution": {
     "iopub.execute_input": "2023-08-04T15:51:53.395926Z",
     "iopub.status.busy": "2023-08-04T15:51:53.395859Z",
     "iopub.status.idle": "2023-08-04T15:51:53.397900Z",
     "shell.execute_reply": "2023-08-04T15:51:53.397679Z"
    }
   },
   "outputs": [
    {
     "data": {
      "text/plain": [
       "[b'<Beta>{4399541712}\"beta1\"[0],0,0']"
      ]
     },
     "execution_count": 128,
     "metadata": {},
     "output_type": "execute_result"
    }
   ],
   "source": [
    "beta1.prepare(database=myData, numberOfDraws=0)\n",
    "beta1.getSignature()"
   ]
  },
  {
   "cell_type": "code",
   "execution_count": 129,
   "metadata": {
    "execution": {
     "iopub.execute_input": "2023-08-04T15:51:53.398794Z",
     "iopub.status.busy": "2023-08-04T15:51:53.398728Z",
     "iopub.status.idle": "2023-08-04T15:51:53.400613Z",
     "shell.execute_reply": "2023-08-04T15:51:53.400410Z"
    }
   },
   "outputs": [
    {
     "data": {
      "text/plain": [
       "[b'<Beta>{6127335888}\"beta3\"[1],0,0']"
      ]
     },
     "execution_count": 129,
     "metadata": {},
     "output_type": "execute_result"
    }
   ],
   "source": [
    "beta3.prepare(database=myData, numberOfDraws=0)\n",
    "beta3.getSignature()"
   ]
  },
  {
   "cell_type": "markdown",
   "metadata": {},
   "source": [
    "## Variables"
   ]
  },
  {
   "cell_type": "markdown",
   "metadata": {},
   "source": [
    "&lt;Variable&gt;{identifier}\"name\",uniqueId,variableId \n",
    "where\n",
    "- uniqueId is a unique index given by Biogeme to all elementary expressions,\n",
    "- variableId is a unique index given by Biogeme to all variables.\n"
   ]
  },
  {
   "cell_type": "code",
   "execution_count": 130,
   "metadata": {
    "execution": {
     "iopub.execute_input": "2023-08-04T15:51:53.401603Z",
     "iopub.status.busy": "2023-08-04T15:51:53.401541Z",
     "iopub.status.idle": "2023-08-04T15:51:53.403222Z",
     "shell.execute_reply": "2023-08-04T15:51:53.403014Z"
    }
   },
   "outputs": [
    {
     "data": {
      "text/plain": [
       "[b'<Variable>{6127297616}\"Variable1\",6,2']"
      ]
     },
     "execution_count": 130,
     "metadata": {},
     "output_type": "execute_result"
    }
   ],
   "source": [
    "Variable1.getSignature()"
   ]
  },
  {
   "cell_type": "markdown",
   "metadata": {},
   "source": [
    "## Random variables"
   ]
  },
  {
   "cell_type": "markdown",
   "metadata": {},
   "source": [
    "&lt;RandomVariable&gt;{identifier}\"name\",uniqueId,randomVariableId\n",
    "where\n",
    "- uniqueId is a unique index given by Biogeme to all elementary expressions,\n",
    "- randomVariableId is a unique index given by Biogeme to all random variables."
   ]
  },
  {
   "cell_type": "code",
   "execution_count": 131,
   "metadata": {
    "execution": {
     "iopub.execute_input": "2023-08-04T15:51:53.404186Z",
     "iopub.status.busy": "2023-08-04T15:51:53.404126Z",
     "iopub.status.idle": "2023-08-04T15:51:53.405895Z",
     "shell.execute_reply": "2023-08-04T15:51:53.405701Z"
    }
   },
   "outputs": [
    {
     "data": {
      "text/plain": [
       "[b'<RandomVariable>{6127177744}\"omega\",0,0']"
      ]
     },
     "execution_count": 131,
     "metadata": {},
     "output_type": "execute_result"
    }
   ],
   "source": [
    "omega.prepare(database=myData, numberOfDraws=0)\n",
    "omega.getSignature()"
   ]
  },
  {
   "cell_type": "markdown",
   "metadata": {},
   "source": [
    "## Draws"
   ]
  },
  {
   "cell_type": "markdown",
   "metadata": {},
   "source": [
    "&lt;bioDraws&gt;{identifier}\"name\",uniqueId,drawId\n",
    "where\n",
    "- uniqueId is a unique index given by Biogeme to all elementary expressions,\n",
    "- drawId is a unique index given by Biogeme to all draws.\n"
   ]
  },
  {
   "cell_type": "code",
   "execution_count": 132,
   "metadata": {
    "execution": {
     "iopub.execute_input": "2023-08-04T15:51:53.406873Z",
     "iopub.status.busy": "2023-08-04T15:51:53.406793Z",
     "iopub.status.idle": "2023-08-04T15:51:53.408676Z",
     "shell.execute_reply": "2023-08-04T15:51:53.408460Z"
    }
   },
   "outputs": [
    {
     "data": {
      "text/plain": [
       "[b'<bioDraws>{6127498640}\"myDraws\",0,0']"
      ]
     },
     "execution_count": 132,
     "metadata": {},
     "output_type": "execute_result"
    }
   ],
   "source": [
    "myDraws.prepare(database=myData, numberOfDraws=number_of_draws)\n",
    "myDraws.getSignature()"
   ]
  },
  {
   "cell_type": "markdown",
   "metadata": {},
   "source": [
    "## General expression"
   ]
  },
  {
   "cell_type": "markdown",
   "metadata": {},
   "source": [
    "<code>&lt;operator&gt;{identifier}(numberOfChildren),idFirstChild,idSecondChild,idThirdChild,</code> etc...\n",
    "where the number of identifiers given after the comma matches the reported number of children. \n",
    "\n",
    "Specific examples are reported below."
   ]
  },
  {
   "cell_type": "markdown",
   "metadata": {},
   "source": [
    "### Binary operator"
   ]
  },
  {
   "cell_type": "markdown",
   "metadata": {},
   "source": [
    "<code>&lt;operator&gt;{identifier}(2),idFirstChild,idSecondChild </code>\n",
    "where operator is one of: \n",
    "    - 'Plus'\n",
    "    - 'Minus'\n",
    "    - 'Times'\n",
    "    - 'Divide'\n",
    "    - 'Power'\n",
    "    - 'bioMin'\n",
    "    - 'bioMax'\n",
    "    - 'And'\n",
    "    - 'Or'\n",
    "    - 'Equal'\n",
    "    - 'NotEqual'\n",
    "    - 'LessOrEqual'\n",
    "    - 'GreaterOrEqual'\n",
    "    - 'Less'\n",
    "    - 'Greater'\n"
   ]
  },
  {
   "cell_type": "code",
   "execution_count": 133,
   "metadata": {
    "execution": {
     "iopub.execute_input": "2023-08-04T15:51:53.409645Z",
     "iopub.status.busy": "2023-08-04T15:51:53.409576Z",
     "iopub.status.idle": "2023-08-04T15:51:53.410990Z",
     "shell.execute_reply": "2023-08-04T15:51:53.410791Z"
    }
   },
   "outputs": [],
   "source": [
    "sum = beta1 + Variable1"
   ]
  },
  {
   "cell_type": "code",
   "execution_count": 134,
   "metadata": {
    "execution": {
     "iopub.execute_input": "2023-08-04T15:51:53.411908Z",
     "iopub.status.busy": "2023-08-04T15:51:53.411850Z",
     "iopub.status.idle": "2023-08-04T15:51:53.413551Z",
     "shell.execute_reply": "2023-08-04T15:51:53.413351Z"
    }
   },
   "outputs": [
    {
     "data": {
      "text/plain": [
       "[b'<Beta>{4399541712}\"beta1\"[0],0,0',\n",
       " b'<Variable>{6127297616}\"Variable1\",6,2',\n",
       " b'<Plus>{6129459728}(2),4399541712,6127297616']"
      ]
     },
     "execution_count": 134,
     "metadata": {},
     "output_type": "execute_result"
    }
   ],
   "source": [
    "sum.getSignature()"
   ]
  },
  {
   "cell_type": "markdown",
   "metadata": {},
   "source": [
    "### Unary operator"
   ]
  },
  {
   "cell_type": "markdown",
   "metadata": {},
   "source": [
    "&lt;operator&gt;{identifier}(1),idChild, \n",
    "where operator is one of: \n",
    "    - 'UnaryMinus'\n",
    "    - 'MonteCarlo'\n",
    "    - 'bioNormalCdf'\n",
    "    - 'PanelLikelihoodTrajectory'\n",
    "    - 'exp'\n",
    "    - 'log'"
   ]
  },
  {
   "cell_type": "code",
   "execution_count": 135,
   "metadata": {
    "execution": {
     "iopub.execute_input": "2023-08-04T15:51:53.414442Z",
     "iopub.status.busy": "2023-08-04T15:51:53.414374Z",
     "iopub.status.idle": "2023-08-04T15:51:53.415698Z",
     "shell.execute_reply": "2023-08-04T15:51:53.415503Z"
    }
   },
   "outputs": [],
   "source": [
    "m = -beta1"
   ]
  },
  {
   "cell_type": "code",
   "execution_count": 136,
   "metadata": {
    "execution": {
     "iopub.execute_input": "2023-08-04T15:51:53.416579Z",
     "iopub.status.busy": "2023-08-04T15:51:53.416509Z",
     "iopub.status.idle": "2023-08-04T15:51:53.418174Z",
     "shell.execute_reply": "2023-08-04T15:51:53.417971Z"
    }
   },
   "outputs": [
    {
     "data": {
      "text/plain": [
       "[b'<Beta>{4399541712}\"beta1\"[0],0,0',\n",
       " b'<UnaryMinus>{6129462160}(1),4399541712']"
      ]
     },
     "execution_count": 136,
     "metadata": {},
     "output_type": "execute_result"
    }
   ],
   "source": [
    "m.getSignature()"
   ]
  },
  {
   "cell_type": "markdown",
   "metadata": {},
   "source": [
    "## LogLogit"
   ]
  },
  {
   "cell_type": "markdown",
   "metadata": {},
   "source": [
    "&lt;LogLogit&gt;{identifier}(nbrOfAlternatives),chosenAlt,altNumber,utility,availability,altNumber,utility,availability, etc."
   ]
  },
  {
   "cell_type": "code",
   "execution_count": 137,
   "metadata": {
    "execution": {
     "iopub.execute_input": "2023-08-04T15:51:53.419087Z",
     "iopub.status.busy": "2023-08-04T15:51:53.419017Z",
     "iopub.status.idle": "2023-08-04T15:51:53.420884Z",
     "shell.execute_reply": "2023-08-04T15:51:53.420684Z"
    }
   },
   "outputs": [
    {
     "data": {
      "text/plain": [
       "[b'<Numeric>{6127334928},1.0',\n",
       " b'<Beta>{4399541712}\"beta1\"[0],0,0',\n",
       " b'<UnaryMinus>{6127463696}(1),4399541712',\n",
       " b'<Beta>{6127298512}\"beta2\"[0],1,1',\n",
       " b'<UnaryMinus>{6127522256}(1),6127298512',\n",
       " b'<Beta>{4399541712}\"beta1\"[0],0,0',\n",
       " b'<UnaryMinus>{6129189840}(1),4399541712',\n",
       " b'<Numeric>{6127358800},1.0',\n",
       " b'<Numeric>{6127325392},1.0',\n",
       " b'<Numeric>{6127325456},1.0',\n",
       " b'<_bioLogLogit>{6129203152}(3),6127334928,0,6127463696,6127358800,1,6127522256,6127325392,2,6129189840,6127325456']"
      ]
     },
     "execution_count": 137,
     "metadata": {},
     "output_type": "execute_result"
    }
   ],
   "source": [
    "expr7.prepare(database=myData, numberOfDraws=number_of_draws)\n",
    "expr7.getSignature()"
   ]
  },
  {
   "cell_type": "markdown",
   "metadata": {},
   "source": [
    "## Derive"
   ]
  },
  {
   "cell_type": "markdown",
   "metadata": {},
   "source": [
    "&lt;Derive&gt;{identifier},id of expression to derive,unique index of elementary expression"
   ]
  },
  {
   "cell_type": "code",
   "execution_count": 138,
   "metadata": {
    "execution": {
     "iopub.execute_input": "2023-08-04T15:51:53.421838Z",
     "iopub.status.busy": "2023-08-04T15:51:53.421769Z",
     "iopub.status.idle": "2023-08-04T15:51:53.423693Z",
     "shell.execute_reply": "2023-08-04T15:51:53.423493Z"
    }
   },
   "outputs": [
    {
     "data": {
      "text/plain": [
       "[b'<Numeric>{6129249168},1.0',\n",
       " b'<Beta>{4399541712}\"beta1\"[0],0,0',\n",
       " b'<UnaryMinus>{6127463696}(1),4399541712',\n",
       " b'<Beta>{6127298512}\"beta2\"[0],1,1',\n",
       " b'<UnaryMinus>{6127522256}(1),6127298512',\n",
       " b'<Beta>{4399541712}\"beta1\"[0],0,0',\n",
       " b'<UnaryMinus>{6129189840}(1),4399541712',\n",
       " b'<Numeric>{6129201872},1.0',\n",
       " b'<Numeric>{6129203600},1.0',\n",
       " b'<Numeric>{6127530768},1.0',\n",
       " b'<_bioLogLogit>{6129192272}(3),6129249168,0,6127463696,6129201872,1,6127522256,6129203600,2,6129189840,6127530768',\n",
       " b'<Derive>{6129250256},6129192272,1']"
      ]
     },
     "execution_count": 138,
     "metadata": {},
     "output_type": "execute_result"
    }
   ],
   "source": [
    "expr9.prepare(database=myData, numberOfDraws=number_of_draws)\n",
    "expr9.getSignature()"
   ]
  },
  {
   "cell_type": "markdown",
   "metadata": {},
   "source": [
    "## Integrate"
   ]
  },
  {
   "cell_type": "markdown",
   "metadata": {},
   "source": [
    "&lt;Integrate&gt;{identifier},id of expression to derive,index of random variable"
   ]
  },
  {
   "cell_type": "code",
   "execution_count": 139,
   "metadata": {
    "execution": {
     "iopub.execute_input": "2023-08-04T15:51:53.424599Z",
     "iopub.status.busy": "2023-08-04T15:51:53.424538Z",
     "iopub.status.idle": "2023-08-04T15:51:53.426624Z",
     "shell.execute_reply": "2023-08-04T15:51:53.426439Z"
    }
   },
   "outputs": [
    {
     "data": {
      "text/plain": [
       "[b'<Numeric>{6127518480},0.0',\n",
       " b'<Numeric>{6059787920},1.0',\n",
       " b'<Numeric>{6125182096},1.0',\n",
       " b'<RandomVariable>{6127177744}\"omega\",0,0',\n",
       " b'<UnaryMinus>{6127524816}(1),6127177744',\n",
       " b'<exp>{6127415760}(1),6127524816',\n",
       " b'<Plus>{6059169616}(2),6125182096,6127415760',\n",
       " b'<Divide>{6127445584}(2),6059787920,6059169616',\n",
       " b'<Plus>{6059787728}(2),6127518480,6127445584',\n",
       " b'<Numeric>{6127518480},0.0',\n",
       " b'<Numeric>{6059787920},1.0',\n",
       " b'<Numeric>{6125182096},1.0',\n",
       " b'<RandomVariable>{6127177744}\"omega\",0,0',\n",
       " b'<UnaryMinus>{6127524816}(1),6127177744',\n",
       " b'<exp>{6127415760}(1),6127524816',\n",
       " b'<Plus>{6059169616}(2),6125182096,6127415760',\n",
       " b'<Divide>{6127445584}(2),6059787920,6059169616',\n",
       " b'<Plus>{6059787728}(2),6127518480,6127445584',\n",
       " b'<Times>{6127518928}(2),6059787728,6059787728',\n",
       " b'<Numeric>{6127525136},1.0',\n",
       " b'<RandomVariable>{6127177744}\"omega\",0,0',\n",
       " b'<UnaryMinus>{6127518800}(1),6127177744',\n",
       " b'<exp>{6127522512}(1),6127518800',\n",
       " b'<Times>{6127526672}(2),6127525136,6127522512',\n",
       " b'<Numeric>{6127525904},1.0',\n",
       " b'<RandomVariable>{6127177744}\"omega\",0,0',\n",
       " b'<UnaryMinus>{6127524432}(1),6127177744',\n",
       " b'<exp>{6127521168}(1),6127524432',\n",
       " b'<Plus>{6127523024}(2),6127525904,6127521168',\n",
       " b'<Numeric>{6127522128},-2.0',\n",
       " b'<Power>{6127523920}(2),6127523024,6127522128',\n",
       " b'<Times>{6126913296}(2),6127526672,6127523920',\n",
       " b'<Times>{6127439632}(2),6127518928,6126913296',\n",
       " b'<Numeric>{6127526928},1.0',\n",
       " b'<Divide>{6127526352}(2),6127439632,6127526928',\n",
       " b'<Integrate>{6127527184},6127526352,0']"
      ]
     },
     "execution_count": 139,
     "metadata": {},
     "output_type": "execute_result"
    }
   ],
   "source": [
    "expr4.prepare(database=myData, numberOfDraws=number_of_draws)\n",
    "expr4.getSignature()"
   ]
  },
  {
   "cell_type": "markdown",
   "metadata": {},
   "source": [
    "## Elem"
   ]
  },
  {
   "cell_type": "markdown",
   "metadata": {},
   "source": [
    "&lt;Elem&gt;{identifier}(numberOfExpressions),keyId,value1,expression1,value2,expression2, etc...\n",
    "\n",
    "where\n",
    "- keyId is the identifier of the expression calculating the key,\n",
    "- the number of pairs valuex,expressionx must correspond to the value of numberOfExpressions"
   ]
  },
  {
   "cell_type": "code",
   "execution_count": 140,
   "metadata": {
    "execution": {
     "iopub.execute_input": "2023-08-04T15:51:53.427517Z",
     "iopub.status.busy": "2023-08-04T15:51:53.427461Z",
     "iopub.status.idle": "2023-08-04T15:51:53.429483Z",
     "shell.execute_reply": "2023-08-04T15:51:53.429293Z"
    }
   },
   "outputs": [
    {
     "data": {
      "text/plain": [
       "[b'<Variable>{6127300048}\"Person\",4,0',\n",
       " b'<Numeric>{6127330704},2.0',\n",
       " b'<Beta>{4399541712}\"beta1\"[0],0,0',\n",
       " b'<Times>{6127326224}(2),6127330704,4399541712',\n",
       " b'<Beta>{6127298512}\"beta2\"[0],1,1',\n",
       " b'<UnaryMinus>{6127322576}(1),6127298512',\n",
       " b'<exp>{6127177040}(1),6127322576',\n",
       " b'<Beta>{6127298512}\"beta2\"[0],1,1',\n",
       " b'<Beta>{6127335888}\"beta3\"[1],2,0',\n",
       " b'<Beta>{6127329744}\"beta4\"[1],3,1',\n",
       " b'<GreaterOrEqual>{4599328976}(2),6127335888,6127329744',\n",
       " b'<Times>{6127175632}(2),6127298512,4599328976',\n",
       " b'<Beta>{4399541712}\"beta1\"[0],0,0',\n",
       " b'<Beta>{6127335888}\"beta3\"[1],2,0',\n",
       " b'<Beta>{6127329744}\"beta4\"[1],3,1',\n",
       " b'<Less>{4610699536}(2),6127335888,6127329744',\n",
       " b'<Times>{6127325648}(2),4399541712,4610699536',\n",
       " b'<Plus>{4610700304}(2),6127175632,6127325648',\n",
       " b'<Divide>{4679416976}(2),6127177040,4610700304',\n",
       " b'<Minus>{6125185744}(2),6127326224,4679416976',\n",
       " b'<Numeric>{6127446992},2.0',\n",
       " b'<Beta>{4399541712}\"beta1\"[0],0,0',\n",
       " b'<Times>{6127437456}(2),6127446992,4399541712',\n",
       " b'<Variable>{6127297616}\"Variable1\",6,2',\n",
       " b'<Times>{6127441616}(2),6127437456,6127297616',\n",
       " b'<Beta>{6127298512}\"beta2\"[0],1,1',\n",
       " b'<UnaryMinus>{6127436752}(1),6127298512',\n",
       " b'<Variable>{6127297936}\"Variable2\",7,3',\n",
       " b'<Times>{6127358480}(2),6127436752,6127297936',\n",
       " b'<exp>{6127358608}(1),6127358480',\n",
       " b'<Beta>{6127298512}\"beta2\"[0],1,1',\n",
       " b'<Beta>{6127335888}\"beta3\"[1],2,0',\n",
       " b'<Beta>{6127329744}\"beta4\"[1],3,1',\n",
       " b'<GreaterOrEqual>{6127228304}(2),6127335888,6127329744',\n",
       " b'<Times>{6127437776}(2),6127298512,6127228304',\n",
       " b'<Beta>{4399541712}\"beta1\"[0],0,0',\n",
       " b'<Beta>{6127335888}\"beta3\"[1],2,0',\n",
       " b'<Beta>{6127329744}\"beta4\"[1],3,1',\n",
       " b'<Less>{6127444560}(2),6127335888,6127329744',\n",
       " b'<Times>{6127446736}(2),4399541712,6127444560',\n",
       " b'<Plus>{6127228688}(2),6127437776,6127446736',\n",
       " b'<Divide>{6127417616}(2),6127358608,6127228688',\n",
       " b'<Minus>{6127336592}(2),6127441616,6127417616',\n",
       " b'<Elem>{6127445456}(2),6127300048,1,6125185744,2,6127336592']"
      ]
     },
     "execution_count": 140,
     "metadata": {},
     "output_type": "execute_result"
    }
   ],
   "source": [
    "elemExpr.prepare(database=myData, numberOfDraws=number_of_draws)\n",
    "elemExpr.getSignature()"
   ]
  },
  {
   "cell_type": "markdown",
   "metadata": {},
   "source": [
    "## bioLinearUtility"
   ]
  },
  {
   "cell_type": "markdown",
   "metadata": {},
   "source": [
    "&lt;bioLinearUtility&gt;{identifier}(numberOfTerms), beta1_exprId, beta1_uniqueId, beta1_name, variable1_exprId, variable1_uniqueId, variable1_name, etc...\n",
    "\n",
    "where 6 entries are provided for each term:\n",
    "    - beta1_exprId is the expression id of the beta parameter\n",
    "    - beta1_uniqueId is the unique id of the beta parameter\n",
    "    - beta1_name is the name of the parameter\n",
    "    - variable1_exprId is the expression id of the variable\n",
    "    - variable1_uniqueId is the unique id of the variable\n",
    "    - variable1_name is the name of the variable\n"
   ]
  },
  {
   "cell_type": "code",
   "execution_count": 141,
   "metadata": {
    "execution": {
     "iopub.execute_input": "2023-08-04T15:51:53.430400Z",
     "iopub.status.busy": "2023-08-04T15:51:53.430341Z",
     "iopub.status.idle": "2023-08-04T15:51:53.432116Z",
     "shell.execute_reply": "2023-08-04T15:51:53.431924Z"
    }
   },
   "outputs": [
    {
     "data": {
      "text/plain": [
       "[b'<Beta>{4399541712}\"beta1\"[0],0,0',\n",
       " b'<Beta>{6127298512}\"beta2\"[0],1,1',\n",
       " b'<Beta>{6127335888}\"beta3\"[1],2,0',\n",
       " b'<Variable>{6040895184}\"Variable1\",5,2',\n",
       " b'<Variable>{6127325968}\"Variable2\",6,3',\n",
       " b'<Variable>{6127358288}\"newvar_b\",11,8',\n",
       " b'<bioLinearUtility>{6129204240}(3),4399541712,0,beta1,6040895184,5,Variable1,6127298512,1,beta2,6127325968,6,Variable2,6127335888,2,beta3,6127358288,11,newvar_b']"
      ]
     },
     "execution_count": 141,
     "metadata": {},
     "output_type": "execute_result"
    }
   ],
   "source": [
    "expr13.prepare(database=myData, numberOfDraws=number_of_draws)\n",
    "expr13.getSignature()"
   ]
  }
 ],
 "metadata": {
  "kernelspec": {
   "display_name": "Python 3 (ipykernel)",
   "language": "python",
   "name": "python3"
  },
  "language_info": {
   "codemirror_mode": {
    "name": "ipython",
    "version": 3
   },
   "file_extension": ".py",
   "mimetype": "text/x-python",
   "name": "python",
   "nbconvert_exporter": "python",
   "pygments_lexer": "ipython3",
   "version": "3.11.3"
  }
 },
 "nbformat": 4,
 "nbformat_minor": 4
}
