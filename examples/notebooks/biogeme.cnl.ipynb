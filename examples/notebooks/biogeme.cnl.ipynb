{
 "cells": [
  {
   "cell_type": "markdown",
   "id": "103d0ff2",
   "metadata": {},
   "source": [
    "# Module biogeme.cnl"
   ]
  },
  {
   "cell_type": "markdown",
   "id": "70f2838b",
   "metadata": {},
   "source": [
    "## Examples of use of each function"
   ]
  },
  {
   "cell_type": "markdown",
   "id": "b629d510",
   "metadata": {},
   "source": [
    "This webpage is for programmers who need examples of use of the functions of the class. The examples are designed to illustrate the syntax. "
   ]
  },
  {
   "cell_type": "code",
   "execution_count": 1,
   "id": "69ad741c",
   "metadata": {
    "execution": {
     "iopub.execute_input": "2023-08-04T15:50:38.195500Z",
     "iopub.status.busy": "2023-08-04T15:50:38.195213Z",
     "iopub.status.idle": "2023-08-04T15:50:38.844208Z",
     "shell.execute_reply": "2023-08-04T15:50:38.843920Z"
    }
   },
   "outputs": [],
   "source": [
    "import numpy as np\n",
    "import biogeme.cnl as cnl\n",
    "import biogeme.tools as tools\n",
    "import biogeme.logging as blog"
   ]
  },
  {
   "cell_type": "code",
   "execution_count": 2,
   "id": "f4baa009",
   "metadata": {
    "execution": {
     "iopub.execute_input": "2023-08-04T15:50:38.845588Z",
     "iopub.status.busy": "2023-08-04T15:50:38.845461Z",
     "iopub.status.idle": "2023-08-04T15:50:38.847433Z",
     "shell.execute_reply": "2023-08-04T15:50:38.847217Z"
    }
   },
   "outputs": [
    {
     "name": "stderr",
     "output_type": "stream",
     "text": [
      "Logging on \n"
     ]
    }
   ],
   "source": [
    "logger = blog.get_screen_logger(level=blog.INFO)\n",
    "logger.info('Logging on')"
   ]
  },
  {
   "cell_type": "code",
   "execution_count": 3,
   "id": "6b45f852",
   "metadata": {
    "execution": {
     "iopub.execute_input": "2023-08-04T15:50:38.848339Z",
     "iopub.status.busy": "2023-08-04T15:50:38.848262Z",
     "iopub.status.idle": "2023-08-04T15:50:38.849974Z",
     "shell.execute_reply": "2023-08-04T15:50:38.849779Z"
    }
   },
   "outputs": [],
   "source": [
    "mu_nest_1 = 1.4\n",
    "alphas_1 =  {'i': 1, 'j': 0.5, 'k':0.2}\n",
    "nest_1 = mu_nest_1, alphas_1\n",
    "mu_nest_2 = 1.2\n",
    "alphas_2 = {'j': 0.5, 'k': 0.8, 'ell': 1}\n",
    "nest_2 = mu_nest_2, alphas_2\n",
    "nests = nest_1, nest_2"
   ]
  },
  {
   "cell_type": "markdown",
   "id": "fe75ffd3",
   "metadata": {},
   "source": [
    "We retrieve the G function of the cross-nested logit, and verify numerically the implementation of the derivatives."
   ]
  },
  {
   "cell_type": "code",
   "execution_count": 4,
   "id": "1bd540f8",
   "metadata": {
    "execution": {
     "iopub.execute_input": "2023-08-04T15:50:38.850910Z",
     "iopub.status.busy": "2023-08-04T15:50:38.850839Z",
     "iopub.status.idle": "2023-08-04T15:50:38.852295Z",
     "shell.execute_reply": "2023-08-04T15:50:38.852082Z"
    }
   },
   "outputs": [],
   "source": [
    "G = cnl.cnl_G(['i', 'j', 'k', 'ell'], nests)"
   ]
  },
  {
   "cell_type": "code",
   "execution_count": 5,
   "id": "b4e0147f",
   "metadata": {
    "execution": {
     "iopub.execute_input": "2023-08-04T15:50:38.853100Z",
     "iopub.status.busy": "2023-08-04T15:50:38.853031Z",
     "iopub.status.idle": "2023-08-04T15:50:38.855841Z",
     "shell.execute_reply": "2023-08-04T15:50:38.855612Z"
    }
   },
   "outputs": [
    {
     "data": {
      "text/plain": [
       "array([0.45843504, 0.63923393, 0.6802607 , 0.16229431])"
      ]
     },
     "execution_count": 5,
     "metadata": {},
     "output_type": "execute_result"
    }
   ],
   "source": [
    "y = np.random.uniform(low=0.01, high=2, size=4)\n",
    "y"
   ]
  },
  {
   "cell_type": "code",
   "execution_count": 6,
   "id": "2284341f",
   "metadata": {
    "execution": {
     "iopub.execute_input": "2023-08-04T15:50:38.856685Z",
     "iopub.status.busy": "2023-08-04T15:50:38.856607Z",
     "iopub.status.idle": "2023-08-04T15:50:38.861066Z",
     "shell.execute_reply": "2023-08-04T15:50:38.860898Z"
    }
   },
   "outputs": [
    {
     "name": "stderr",
     "output_type": "stream",
     "text": [
      "x\t\tGradient\tFinDiff\t\tDifference \n"
     ]
    },
    {
     "name": "stderr",
     "output_type": "stream",
     "text": [
      "x[0]           \t+8.472828E-01\t+8.472828E-01\t-1.648416E-08 \n"
     ]
    },
    {
     "name": "stderr",
     "output_type": "stream",
     "text": [
      "x[1]           \t+7.757365E-01\t+7.757365E-01\t-1.124587E-08 \n"
     ]
    },
    {
     "name": "stderr",
     "output_type": "stream",
     "text": [
      "x[2]           \t+8.321590E-01\t+8.321590E-01\t-7.501546E-09 \n"
     ]
    },
    {
     "name": "stderr",
     "output_type": "stream",
     "text": [
      "x[3]           \t+7.143340E-01\t+7.143341E-01\t-3.812279E-08 \n"
     ]
    },
    {
     "name": "stderr",
     "output_type": "stream",
     "text": [
      "Row\t\tCol\t\tHessian\tFinDiff\t\tDifference \n"
     ]
    },
    {
     "name": "stderr",
     "output_type": "stream",
     "text": [
      "x[0]           \tx[0]           \t+3.253689E-01\t+3.253688E-01\t+5.728724E-08 \n"
     ]
    },
    {
     "name": "stderr",
     "output_type": "stream",
     "text": [
      "x[0]           \tx[1]           \t-1.791517E-01\t-1.791517E-01\t-1.681563E-09 \n"
     ]
    },
    {
     "name": "stderr",
     "output_type": "stream",
     "text": [
      "x[0]           \tx[2]           \t-5.092266E-02\t-5.092266E-02\t+1.090862E-09 \n"
     ]
    },
    {
     "name": "stderr",
     "output_type": "stream",
     "text": [
      "x[0]           \tx[3]           \t+0.000000E+00\t+0.000000E+00\t+0.000000E+00 \n"
     ]
    },
    {
     "name": "stderr",
     "output_type": "stream",
     "text": [
      "x[1]           \tx[0]           \t-1.791517E-01\t-1.791516E-01\t-1.056335E-08 \n"
     ]
    },
    {
     "name": "stderr",
     "output_type": "stream",
     "text": [
      "x[1]           \tx[1]           \t+2.415609E-01\t+2.415608E-01\t+2.329543E-08 \n"
     ]
    },
    {
     "name": "stderr",
     "output_type": "stream",
     "text": [
      "x[1]           \tx[2]           \t-9.028285E-02\t-9.028285E-02\t-1.329855E-09 \n"
     ]
    },
    {
     "name": "stderr",
     "output_type": "stream",
     "text": [
      "x[1]           \tx[3]           \t-6.696863E-02\t-6.696863E-02\t+9.979915E-10 \n"
     ]
    },
    {
     "name": "stderr",
     "output_type": "stream",
     "text": [
      "x[2]           \tx[0]           \t-5.092266E-02\t-5.092265E-02\t-3.350030E-09 \n"
     ]
    },
    {
     "name": "stderr",
     "output_type": "stream",
     "text": [
      "x[2]           \tx[1]           \t-9.028285E-02\t-9.028285E-02\t-1.329855E-09 \n"
     ]
    },
    {
     "name": "stderr",
     "output_type": "stream",
     "text": [
      "x[2]           \tx[2]           \t+1.475897E-01\t+1.475897E-01\t+1.366950E-08 \n"
     ]
    },
    {
     "name": "stderr",
     "output_type": "stream",
     "text": [
      "x[2]           \tx[3]           \t-1.191842E-01\t-1.191842E-01\t-2.794546E-10 \n"
     ]
    },
    {
     "name": "stderr",
     "output_type": "stream",
     "text": [
      "x[3]           \tx[0]           \t+0.000000E+00\t+0.000000E+00\t+0.000000E+00 \n"
     ]
    },
    {
     "name": "stderr",
     "output_type": "stream",
     "text": [
      "x[3]           \tx[1]           \t-6.696863E-02\t-6.696863E-02\t-1.222455E-09 \n"
     ]
    },
    {
     "name": "stderr",
     "output_type": "stream",
     "text": [
      "x[3]           \tx[2]           \t-1.191842E-01\t-1.191842E-01\t-4.720347E-09 \n"
     ]
    },
    {
     "name": "stderr",
     "output_type": "stream",
     "text": [
      "x[3]           \tx[3]           \t+7.633350E-01\t+7.633347E-01\t+2.308223E-07 \n"
     ]
    }
   ],
   "source": [
    "f, g, h, gdiff, hdiff = tools.checkDerivatives(G, y, names=None, logg=True)"
   ]
  },
  {
   "cell_type": "markdown",
   "id": "d85f3c22",
   "metadata": {},
   "source": [
    "We do the same for the CDF. "
   ]
  },
  {
   "cell_type": "code",
   "execution_count": 7,
   "id": "8d8bd34a",
   "metadata": {
    "execution": {
     "iopub.execute_input": "2023-08-04T15:50:38.862069Z",
     "iopub.status.busy": "2023-08-04T15:50:38.861959Z",
     "iopub.status.idle": "2023-08-04T15:50:38.863772Z",
     "shell.execute_reply": "2023-08-04T15:50:38.863588Z"
    }
   },
   "outputs": [
    {
     "data": {
      "text/plain": [
       "array([-7.12367773,  5.86798442,  5.59756377,  3.4463114 ])"
      ]
     },
     "execution_count": 7,
     "metadata": {},
     "output_type": "execute_result"
    }
   ],
   "source": [
    "xi = np.random.uniform(low=-10, high=10, size=4)\n",
    "xi"
   ]
  },
  {
   "cell_type": "code",
   "execution_count": 8,
   "id": "4a75e1b4",
   "metadata": {
    "execution": {
     "iopub.execute_input": "2023-08-04T15:50:38.864656Z",
     "iopub.status.busy": "2023-08-04T15:50:38.864598Z",
     "iopub.status.idle": "2023-08-04T15:50:38.866048Z",
     "shell.execute_reply": "2023-08-04T15:50:38.865866Z"
    }
   },
   "outputs": [],
   "source": [
    "F = cnl.cnl_CDF(['i', 'j', 'k', 'ell'], nests)"
   ]
  },
  {
   "cell_type": "code",
   "execution_count": 9,
   "id": "96b665c2",
   "metadata": {
    "execution": {
     "iopub.execute_input": "2023-08-04T15:50:38.866985Z",
     "iopub.status.busy": "2023-08-04T15:50:38.866925Z",
     "iopub.status.idle": "2023-08-04T15:50:38.871819Z",
     "shell.execute_reply": "2023-08-04T15:50:38.871597Z"
    }
   },
   "outputs": [
    {
     "name": "stderr",
     "output_type": "stream",
     "text": [
      "x\t\tGradient\tFinDiff\t\tDifference \n"
     ]
    },
    {
     "name": "stderr",
     "output_type": "stream",
     "text": [
      "x[0]           \t+7.167858E-02\t+7.167858E-02\t+2.122351E-09 \n"
     ]
    },
    {
     "name": "stderr",
     "output_type": "stream",
     "text": [
      "x[1]           \t+4.490200E-02\t+4.490200E-02\t+2.608422E-09 \n"
     ]
    },
    {
     "name": "stderr",
     "output_type": "stream",
     "text": [
      "x[2]           \t+4.536849E-02\t+4.536849E-02\t+2.331215E-09 \n"
     ]
    },
    {
     "name": "stderr",
     "output_type": "stream",
     "text": [
      "x[3]           \t+9.697084E-02\t+9.697084E-02\t+1.550828E-09 \n"
     ]
    },
    {
     "name": "stderr",
     "output_type": "stream",
     "text": [
      "Row\t\tCol\t\tHessian\tFinDiff\t\tDifference \n"
     ]
    },
    {
     "name": "stderr",
     "output_type": "stream",
     "text": [
      "x[0]           \tx[0]           \t-3.802881E-02\t-3.802881E-02\t+1.927144E-09 \n"
     ]
    },
    {
     "name": "stderr",
     "output_type": "stream",
     "text": [
      "x[0]           \tx[1]           \t+3.209310E-02\t+3.209310E-02\t+1.594917E-09 \n"
     ]
    },
    {
     "name": "stderr",
     "output_type": "stream",
     "text": [
      "x[0]           \tx[2]           \t+2.782150E-02\t+2.782150E-02\t+1.374324E-09 \n"
     ]
    },
    {
     "name": "stderr",
     "output_type": "stream",
     "text": [
      "x[0]           \tx[3]           \t+5.602388E-02\t+5.602388E-02\t+8.761767E-10 \n"
     ]
    },
    {
     "name": "stderr",
     "output_type": "stream",
     "text": [
      "x[1]           \tx[0]           \t+3.209310E-02\t+3.209310E-02\t+5.540829E-10 \n"
     ]
    },
    {
     "name": "stderr",
     "output_type": "stream",
     "text": [
      "x[1]           \tx[1]           \t-3.933324E-02\t-3.933324E-02\t-2.062656E-10 \n"
     ]
    },
    {
     "name": "stderr",
     "output_type": "stream",
     "text": [
      "x[1]           \tx[2]           \t+1.807489E-02\t+1.807489E-02\t+9.479315E-10 \n"
     ]
    },
    {
     "name": "stderr",
     "output_type": "stream",
     "text": [
      "x[1]           \tx[3]           \t+3.797063E-02\t+3.797063E-02\t+4.467934E-10 \n"
     ]
    },
    {
     "name": "stderr",
     "output_type": "stream",
     "text": [
      "x[2]           \tx[0]           \t+2.782150E-02\t+2.782150E-02\t+7.498234E-10 \n"
     ]
    },
    {
     "name": "stderr",
     "output_type": "stream",
     "text": [
      "x[2]           \tx[1]           \t+1.807489E-02\t+1.807489E-02\t+9.479315E-10 \n"
     ]
    },
    {
     "name": "stderr",
     "output_type": "stream",
     "text": [
      "x[2]           \tx[2]           \t-3.685501E-02\t-3.685501E-02\t-2.908980E-10 \n"
     ]
    },
    {
     "name": "stderr",
     "output_type": "stream",
     "text": [
      "x[2]           \tx[3]           \t+4.027104E-02\t+4.027104E-02\t+3.296073E-10 \n"
     ]
    },
    {
     "name": "stderr",
     "output_type": "stream",
     "text": [
      "x[3]           \tx[0]           \t+5.602388E-02\t+5.602388E-02\t+1.708844E-09 \n"
     ]
    },
    {
     "name": "stderr",
     "output_type": "stream",
     "text": [
      "x[3]           \tx[1]           \t+3.797063E-02\t+3.797062E-02\t+2.112128E-09 \n"
     ]
    },
    {
     "name": "stderr",
     "output_type": "stream",
     "text": [
      "x[3]           \tx[2]           \t+4.027104E-02\t+4.027104E-02\t+1.925553E-09 \n"
     ]
    },
    {
     "name": "stderr",
     "output_type": "stream",
     "text": [
      "x[3]           \tx[3]           \t-2.886493E-02\t-2.886493E-02\t+4.025260E-09 \n"
     ]
    }
   ],
   "source": [
    "f, g, h, gdiff, hdiff = tools.checkDerivatives(F, y, names=None, logg=True)"
   ]
  },
  {
   "cell_type": "code",
   "execution_count": null,
   "id": "61fdf627",
   "metadata": {},
   "outputs": [],
   "source": []
  }
 ],
 "metadata": {
  "kernelspec": {
   "display_name": "Python 3 (ipykernel)",
   "language": "python",
   "name": "python3"
  },
  "language_info": {
   "codemirror_mode": {
    "name": "ipython",
    "version": 3
   },
   "file_extension": ".py",
   "mimetype": "text/x-python",
   "name": "python",
   "nbconvert_exporter": "python",
   "pygments_lexer": "ipython3",
   "version": "3.11.3"
  }
 },
 "nbformat": 4,
 "nbformat_minor": 5
}
