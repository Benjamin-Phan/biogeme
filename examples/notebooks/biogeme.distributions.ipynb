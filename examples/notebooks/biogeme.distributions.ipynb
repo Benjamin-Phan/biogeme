{
 "cells": [
  {
   "cell_type": "markdown",
   "metadata": {},
   "source": [
    "# Module biogeme.distributions"
   ]
  },
  {
   "cell_type": "markdown",
   "metadata": {},
   "source": [
    "## Examples of use of each function"
   ]
  },
  {
   "cell_type": "markdown",
   "metadata": {},
   "source": [
    "This webpage is for programmers who need examples of use of the functions of the class. The examples are designed to illustrate the syntax. They do not correspond to any meaningful model. For examples of models, visit  [biogeme.epfl.ch](http://biogeme.epfl.ch)."
   ]
  },
  {
   "cell_type": "code",
   "execution_count": 1,
   "metadata": {
    "execution": {
     "iopub.execute_input": "2023-08-04T15:51:55.662816Z",
     "iopub.status.busy": "2023-08-04T15:51:55.662375Z",
     "iopub.status.idle": "2023-08-04T15:51:55.670863Z",
     "shell.execute_reply": "2023-08-04T15:51:55.670242Z"
    }
   },
   "outputs": [
    {
     "name": "stdout",
     "output_type": "stream",
     "text": [
      "2023-08-04 17:51:55.668470\n"
     ]
    }
   ],
   "source": [
    "import datetime\n",
    "print(datetime.datetime.now())"
   ]
  },
  {
   "cell_type": "code",
   "execution_count": 2,
   "metadata": {
    "execution": {
     "iopub.execute_input": "2023-08-04T15:51:55.673390Z",
     "iopub.status.busy": "2023-08-04T15:51:55.673145Z",
     "iopub.status.idle": "2023-08-04T15:51:55.677291Z",
     "shell.execute_reply": "2023-08-04T15:51:55.676846Z"
    }
   },
   "outputs": [
    {
     "name": "stdout",
     "output_type": "stream",
     "text": [
      "biogeme 3.2.12 [2023-08-04]\n",
      "Home page: http://biogeme.epfl.ch\n",
      "Submit questions to https://groups.google.com/d/forum/biogeme\n",
      "Michel Bierlaire, Transport and Mobility Laboratory, Ecole Polytechnique Fédérale de Lausanne (EPFL)\n",
      "\n"
     ]
    }
   ],
   "source": [
    "import biogeme.version as ver\n",
    "print(ver.getText())"
   ]
  },
  {
   "cell_type": "code",
   "execution_count": 3,
   "metadata": {
    "execution": {
     "iopub.execute_input": "2023-08-04T15:51:55.679440Z",
     "iopub.status.busy": "2023-08-04T15:51:55.679232Z",
     "iopub.status.idle": "2023-08-04T15:51:55.982072Z",
     "shell.execute_reply": "2023-08-04T15:51:55.981717Z"
    }
   },
   "outputs": [],
   "source": [
    "import biogeme.distributions as dist\n",
    "from biogeme.expressions import Beta"
   ]
  },
  {
   "cell_type": "markdown",
   "metadata": {},
   "source": [
    "## pdf of the normal distribution"
   ]
  },
  {
   "cell_type": "markdown",
   "metadata": {},
   "source": [
    "Returns the biogeme expression of the probability density function of the normal distribution\n",
    "\\\\[ f(x;\\mu, \\sigma) =\n",
    "        \\frac{1}{\\sigma \\sqrt{2\\pi}} \\exp{-\\frac{(x-\\mu)^2}{2\\sigma^2}}\\\\]\n"
   ]
  },
  {
   "cell_type": "markdown",
   "metadata": {},
   "source": [
    "Calculated for a numeric value"
   ]
  },
  {
   "cell_type": "code",
   "execution_count": 4,
   "metadata": {
    "execution": {
     "iopub.execute_input": "2023-08-04T15:51:55.983689Z",
     "iopub.status.busy": "2023-08-04T15:51:55.983526Z",
     "iopub.status.idle": "2023-08-04T15:51:55.985492Z",
     "shell.execute_reply": "2023-08-04T15:51:55.985284Z"
    }
   },
   "outputs": [
    {
     "name": "stdout",
     "output_type": "stream",
     "text": [
      "(exp((((-(`0.0` - `0.0`)) * (`0.0` - `0.0`)) / ((`2.0` * `1.0`) * `1.0`))) / (`1.0` * `2.506628275`))\n"
     ]
    }
   ],
   "source": [
    "print(dist.normalpdf(0))"
   ]
  },
  {
   "cell_type": "markdown",
   "metadata": {},
   "source": [
    "Calculated for an expression"
   ]
  },
  {
   "cell_type": "code",
   "execution_count": 5,
   "metadata": {
    "execution": {
     "iopub.execute_input": "2023-08-04T15:51:55.986398Z",
     "iopub.status.busy": "2023-08-04T15:51:55.986337Z",
     "iopub.status.idle": "2023-08-04T15:51:55.987976Z",
     "shell.execute_reply": "2023-08-04T15:51:55.987772Z"
    }
   },
   "outputs": [],
   "source": [
    "aParameter = Beta('aParameter', 0, None, None, 0)\n",
    "mu = Beta('mu', 0, None, None, 0)\n",
    "sigma = Beta('sigma', 0, None, None, 0)"
   ]
  },
  {
   "cell_type": "code",
   "execution_count": 6,
   "metadata": {
    "execution": {
     "iopub.execute_input": "2023-08-04T15:51:55.988847Z",
     "iopub.status.busy": "2023-08-04T15:51:55.988788Z",
     "iopub.status.idle": "2023-08-04T15:51:55.990375Z",
     "shell.execute_reply": "2023-08-04T15:51:55.990159Z"
    },
    "scrolled": true
   },
   "outputs": [
    {
     "name": "stdout",
     "output_type": "stream",
     "text": [
      "(exp((((-(aParameter(init=0) - mu(init=0))) * (aParameter(init=0) - mu(init=0))) / ((`2.0` * sigma(init=0)) * sigma(init=0)))) / (sigma(init=0) * `2.506628275`))\n"
     ]
    }
   ],
   "source": [
    "print(dist.normalpdf(aParameter, mu=mu, s=sigma))"
   ]
  },
  {
   "cell_type": "markdown",
   "metadata": {},
   "source": [
    "## pdf of the lognormal distribution"
   ]
  },
  {
   "cell_type": "markdown",
   "metadata": {},
   "source": [
    "Returns the biogeme expression of the probability density function of the lognormal distribution\n",
    "\\\\[f(x;\\mu, \\sigma) =\n",
    "              \\frac{1}{x\\sigma \\sqrt{2\\pi}}\n",
    "              \\exp{-\\frac{(\\ln x-\\mu)^2}{2\\sigma^2}} \\\\]\n"
   ]
  },
  {
   "cell_type": "markdown",
   "metadata": {},
   "source": [
    "Calculated for a numeric value"
   ]
  },
  {
   "cell_type": "code",
   "execution_count": 7,
   "metadata": {
    "execution": {
     "iopub.execute_input": "2023-08-04T15:51:55.991314Z",
     "iopub.status.busy": "2023-08-04T15:51:55.991255Z",
     "iopub.status.idle": "2023-08-04T15:51:55.992786Z",
     "shell.execute_reply": "2023-08-04T15:51:55.992577Z"
    }
   },
   "outputs": [
    {
     "name": "stdout",
     "output_type": "stream",
     "text": [
      "((`0.0` * exp((((-(log(`0.0`) - `0.0`)) * (log(`0.0`) - `0.0`)) / `2.0`))) / `0.0`)\n"
     ]
    }
   ],
   "source": [
    "print(dist.lognormalpdf(0))"
   ]
  },
  {
   "cell_type": "markdown",
   "metadata": {},
   "source": [
    "Calculated for an expression"
   ]
  },
  {
   "cell_type": "code",
   "execution_count": 8,
   "metadata": {
    "execution": {
     "iopub.execute_input": "2023-08-04T15:51:55.993764Z",
     "iopub.status.busy": "2023-08-04T15:51:55.993675Z",
     "iopub.status.idle": "2023-08-04T15:51:55.995307Z",
     "shell.execute_reply": "2023-08-04T15:51:55.995113Z"
    }
   },
   "outputs": [],
   "source": [
    "aParameter = Beta('aParameter', 0, None, None, 0)\n",
    "mu = Beta('mu', 0, None, None, 0)\n",
    "sigma = Beta('sigma', 0, None, None, 0)"
   ]
  },
  {
   "cell_type": "code",
   "execution_count": 9,
   "metadata": {
    "execution": {
     "iopub.execute_input": "2023-08-04T15:51:55.996153Z",
     "iopub.status.busy": "2023-08-04T15:51:55.996076Z",
     "iopub.status.idle": "2023-08-04T15:51:55.997745Z",
     "shell.execute_reply": "2023-08-04T15:51:55.997529Z"
    }
   },
   "outputs": [
    {
     "name": "stdout",
     "output_type": "stream",
     "text": [
      "(((aParameter(init=0) > `0.0`) * exp((((-(log(aParameter(init=0)) - mu(init=0))) * (log(aParameter(init=0)) - mu(init=0))) / ((`2.0` * sigma(init=0)) * sigma(init=0))))) / ((aParameter(init=0) * sigma(init=0)) * `2.506628275`))\n"
     ]
    }
   ],
   "source": [
    "print(dist.lognormalpdf(aParameter, mu=mu, s=sigma))"
   ]
  },
  {
   "cell_type": "markdown",
   "metadata": {},
   "source": [
    "## pdf of the uniform distribution"
   ]
  },
  {
   "cell_type": "markdown",
   "metadata": {},
   "source": [
    "Returns the biogeme expression of the probability density function of the uniform distribution\n",
    "\n",
    "\\\\[f(x; a, b) = \\left\\{ \\begin{array}{ll}\n",
    "              \\frac{1}{b-a} & \\mbox{for } x \\in [a, b] \\\\\n",
    "              0 & \\mbox{otherwise}\\end{array} \\right. \\\\]\n"
   ]
  },
  {
   "cell_type": "markdown",
   "metadata": {},
   "source": [
    "Calculated for a numeric value"
   ]
  },
  {
   "cell_type": "code",
   "execution_count": 10,
   "metadata": {
    "execution": {
     "iopub.execute_input": "2023-08-04T15:51:55.998633Z",
     "iopub.status.busy": "2023-08-04T15:51:55.998577Z",
     "iopub.status.idle": "2023-08-04T15:51:56.000092Z",
     "shell.execute_reply": "2023-08-04T15:51:55.999879Z"
    }
   },
   "outputs": [
    {
     "name": "stdout",
     "output_type": "stream",
     "text": [
      "0.5\n"
     ]
    }
   ],
   "source": [
    "print(dist.uniformpdf(0))"
   ]
  },
  {
   "cell_type": "markdown",
   "metadata": {},
   "source": [
    "Calculated for an expression"
   ]
  },
  {
   "cell_type": "code",
   "execution_count": 11,
   "metadata": {
    "execution": {
     "iopub.execute_input": "2023-08-04T15:51:56.000978Z",
     "iopub.status.busy": "2023-08-04T15:51:56.000907Z",
     "iopub.status.idle": "2023-08-04T15:51:56.002453Z",
     "shell.execute_reply": "2023-08-04T15:51:56.002231Z"
    }
   },
   "outputs": [],
   "source": [
    "aParameter = Beta('aParameter', 0, None, None, 0)\n",
    "a = Beta('a', 0, None, None, 0)\n",
    "b = Beta('b', 0, None, None, 0)"
   ]
  },
  {
   "cell_type": "code",
   "execution_count": 12,
   "metadata": {
    "execution": {
     "iopub.execute_input": "2023-08-04T15:51:56.003411Z",
     "iopub.status.busy": "2023-08-04T15:51:56.003338Z",
     "iopub.status.idle": "2023-08-04T15:51:56.004907Z",
     "shell.execute_reply": "2023-08-04T15:51:56.004703Z"
    }
   },
   "outputs": [
    {
     "name": "stdout",
     "output_type": "stream",
     "text": [
      "((((aParameter(init=0) < a(init=0)) * `0.0`) + ((aParameter(init=0) >= b(init=0)) * `0.0`)) + (((aParameter(init=0) >= a(init=0)) * (aParameter(init=0) < b(init=0))) / (b(init=0) - a(init=0))))\n"
     ]
    }
   ],
   "source": [
    "print(dist.uniformpdf(aParameter, a=a, b=b))"
   ]
  },
  {
   "cell_type": "markdown",
   "metadata": {},
   "source": [
    "## pdf of the triangular distribution"
   ]
  },
  {
   "cell_type": "markdown",
   "metadata": {},
   "source": [
    "Returns the biogeme expression of the probability density function of the triangular distribution\n",
    "\n",
    "\\\\[f(x;a, b, c) = \\left\\{ \\begin{array}{ll} 0 &\n",
    "             \\text{if } x < a \\\\\\frac{2(x-a)}{(b-a)(c-a)} &\n",
    "             \\text{if } a \\leq x < c \\\\\\frac{2(b-x)}{(b-a)(b-c)} &\n",
    "             \\text{if } c \\leq x < b \\\\0 & \\text{if } x \\geq b.\n",
    "             \\end{array} \\right. \\\\]\n",
    "\n",
    "It is assumed that $a < c < b$. It is not verified.\n"
   ]
  },
  {
   "cell_type": "markdown",
   "metadata": {},
   "source": [
    "Calculated for a numeric value"
   ]
  },
  {
   "cell_type": "code",
   "execution_count": 13,
   "metadata": {
    "execution": {
     "iopub.execute_input": "2023-08-04T15:51:56.005894Z",
     "iopub.status.busy": "2023-08-04T15:51:56.005819Z",
     "iopub.status.idle": "2023-08-04T15:51:56.007291Z",
     "shell.execute_reply": "2023-08-04T15:51:56.007068Z"
    }
   },
   "outputs": [
    {
     "name": "stdout",
     "output_type": "stream",
     "text": [
      "0.0\n"
     ]
    }
   ],
   "source": [
    "print(dist.triangularpdf(0))"
   ]
  },
  {
   "cell_type": "markdown",
   "metadata": {},
   "source": [
    "Calculated for an expression"
   ]
  },
  {
   "cell_type": "code",
   "execution_count": 14,
   "metadata": {
    "execution": {
     "iopub.execute_input": "2023-08-04T15:51:56.008191Z",
     "iopub.status.busy": "2023-08-04T15:51:56.008134Z",
     "iopub.status.idle": "2023-08-04T15:51:56.009828Z",
     "shell.execute_reply": "2023-08-04T15:51:56.009633Z"
    }
   },
   "outputs": [],
   "source": [
    "aParameter = Beta('aParameter', 0, None, None, 0)\n",
    "a = Beta('a', 0, None, None, 0)\n",
    "b = Beta('b', 0, None, None, 0)\n",
    "c = Beta('c', 0, None, None, 0)"
   ]
  },
  {
   "cell_type": "code",
   "execution_count": 15,
   "metadata": {
    "execution": {
     "iopub.execute_input": "2023-08-04T15:51:56.010622Z",
     "iopub.status.busy": "2023-08-04T15:51:56.010552Z",
     "iopub.status.idle": "2023-08-04T15:51:56.012139Z",
     "shell.execute_reply": "2023-08-04T15:51:56.011941Z"
    }
   },
   "outputs": [
    {
     "name": "stdout",
     "output_type": "stream",
     "text": [
      "((((aParameter(init=0) < a(init=0)) * `0.0`) + ((aParameter(init=0) >= b(init=0)) * `0.0`)) + (((((((((aParameter(init=0) >= a(init=0)) * (aParameter(init=0) < c(init=0))) * `2.0`) * ((aParameter(init=0) - a(init=0)) / ((b(init=0) - a(init=0)) * (c(init=0) - a(init=0))))) * (aParameter(init=0) >= c(init=0))) * (aParameter(init=0) < b(init=0))) * `2.0`) * (b(init=0) - aParameter(init=0))) / ((b(init=0) - a(init=0)) * (b(init=0) - c(init=0)))))\n"
     ]
    }
   ],
   "source": [
    "print(dist.triangularpdf(aParameter, a=a, b=b, c=c))"
   ]
  },
  {
   "cell_type": "markdown",
   "metadata": {},
   "source": [
    "## CDF of the logistic distribution"
   ]
  },
  {
   "cell_type": "markdown",
   "metadata": {},
   "source": [
    "Returns the biogeme expression of the cumulative distribution function of the logistic distribution\n",
    "\n",
    "\\\\[ f(x;\\mu, \\sigma) = \\frac{1}{1+\\exp\\left(-\\frac{x-\\mu}{\\sigma} \\right)}\\\\]\n",
    "\n",
    "\n"
   ]
  },
  {
   "cell_type": "markdown",
   "metadata": {},
   "source": [
    "Calculated for a numeric value"
   ]
  },
  {
   "cell_type": "code",
   "execution_count": 16,
   "metadata": {
    "execution": {
     "iopub.execute_input": "2023-08-04T15:51:56.013030Z",
     "iopub.status.busy": "2023-08-04T15:51:56.012969Z",
     "iopub.status.idle": "2023-08-04T15:51:56.014420Z",
     "shell.execute_reply": "2023-08-04T15:51:56.014223Z"
    }
   },
   "outputs": [
    {
     "name": "stdout",
     "output_type": "stream",
     "text": [
      "(`1.0` / (`1.0` + exp(((-(`0.0` - `0.0`)) / `1.0`))))\n"
     ]
    }
   ],
   "source": [
    "print(dist.logisticcdf(0))"
   ]
  },
  {
   "cell_type": "markdown",
   "metadata": {},
   "source": [
    "Calculated for an expression"
   ]
  },
  {
   "cell_type": "code",
   "execution_count": 17,
   "metadata": {
    "execution": {
     "iopub.execute_input": "2023-08-04T15:51:56.015297Z",
     "iopub.status.busy": "2023-08-04T15:51:56.015237Z",
     "iopub.status.idle": "2023-08-04T15:51:56.016782Z",
     "shell.execute_reply": "2023-08-04T15:51:56.016561Z"
    }
   },
   "outputs": [],
   "source": [
    "aParameter = Beta('aParameter', 0, None, None, 0)\n",
    "mu = Beta('mu', 0, None, None, 0)\n",
    "sigma = Beta('sigma', 0, None, None, 0)"
   ]
  },
  {
   "cell_type": "code",
   "execution_count": 18,
   "metadata": {
    "execution": {
     "iopub.execute_input": "2023-08-04T15:51:56.017587Z",
     "iopub.status.busy": "2023-08-04T15:51:56.017515Z",
     "iopub.status.idle": "2023-08-04T15:51:56.019003Z",
     "shell.execute_reply": "2023-08-04T15:51:56.018810Z"
    }
   },
   "outputs": [
    {
     "name": "stdout",
     "output_type": "stream",
     "text": [
      "(`1.0` / (`1.0` + exp(((-(aParameter(init=0) - mu(init=0))) / sigma(init=0)))))\n"
     ]
    }
   ],
   "source": [
    "print(dist.logisticcdf(aParameter, mu=mu, s=sigma))"
   ]
  }
 ],
 "metadata": {
  "kernelspec": {
   "display_name": "Python 3 (ipykernel)",
   "language": "python",
   "name": "python3"
  },
  "language_info": {
   "codemirror_mode": {
    "name": "ipython",
    "version": 3
   },
   "file_extension": ".py",
   "mimetype": "text/x-python",
   "name": "python",
   "nbconvert_exporter": "python",
   "pygments_lexer": "ipython3",
   "version": "3.11.3"
  }
 },
 "nbformat": 4,
 "nbformat_minor": 4
}
