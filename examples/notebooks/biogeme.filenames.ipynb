{
 "cells": [
  {
   "cell_type": "markdown",
   "metadata": {},
   "source": [
    "# Module biogeme.filenames"
   ]
  },
  {
   "cell_type": "markdown",
   "metadata": {},
   "source": [
    "## Examples of use of each function"
   ]
  },
  {
   "cell_type": "markdown",
   "metadata": {},
   "source": [
    "This webpage is for programmers who need examples of use of the functions of the module. The examples are designed to illustrate the syntax. They do not correspond to any meaningful model. For examples of models, visit  [biogeme.epfl.ch](http://biogeme.epfl.ch)."
   ]
  },
  {
   "cell_type": "code",
   "execution_count": 1,
   "metadata": {
    "execution": {
     "iopub.execute_input": "2023-08-04T15:51:54.786003Z",
     "iopub.status.busy": "2023-08-04T15:51:54.785856Z",
     "iopub.status.idle": "2023-08-04T15:51:54.793521Z",
     "shell.execute_reply": "2023-08-04T15:51:54.793093Z"
    }
   },
   "outputs": [
    {
     "name": "stdout",
     "output_type": "stream",
     "text": [
      "2023-08-04 17:51:54.791579\n"
     ]
    }
   ],
   "source": [
    "import datetime\n",
    "print(datetime.datetime.now())"
   ]
  },
  {
   "cell_type": "code",
   "execution_count": 2,
   "metadata": {
    "execution": {
     "iopub.execute_input": "2023-08-04T15:51:54.795600Z",
     "iopub.status.busy": "2023-08-04T15:51:54.795285Z",
     "iopub.status.idle": "2023-08-04T15:51:54.799824Z",
     "shell.execute_reply": "2023-08-04T15:51:54.799425Z"
    }
   },
   "outputs": [
    {
     "name": "stdout",
     "output_type": "stream",
     "text": [
      "biogeme 3.2.12 [2023-08-04]\n",
      "Home page: http://biogeme.epfl.ch\n",
      "Submit questions to https://groups.google.com/d/forum/biogeme\n",
      "Michel Bierlaire, Transport and Mobility Laboratory, Ecole Polytechnique Fédérale de Lausanne (EPFL)\n",
      "\n"
     ]
    }
   ],
   "source": [
    "import biogeme.version as ver\n",
    "print(ver.getText())"
   ]
  },
  {
   "cell_type": "code",
   "execution_count": 3,
   "metadata": {
    "execution": {
     "iopub.execute_input": "2023-08-04T15:51:54.801657Z",
     "iopub.status.busy": "2023-08-04T15:51:54.801481Z",
     "iopub.status.idle": "2023-08-04T15:51:54.804526Z",
     "shell.execute_reply": "2023-08-04T15:51:54.803922Z"
    }
   },
   "outputs": [],
   "source": [
    "import biogeme.filenames as fl"
   ]
  },
  {
   "cell_type": "markdown",
   "metadata": {},
   "source": [
    "The role of this function is to obtain the name of a file that does not exist."
   ]
  },
  {
   "cell_type": "code",
   "execution_count": 4,
   "metadata": {
    "execution": {
     "iopub.execute_input": "2023-08-04T15:51:54.806552Z",
     "iopub.status.busy": "2023-08-04T15:51:54.806387Z",
     "iopub.status.idle": "2023-08-04T15:51:54.812727Z",
     "shell.execute_reply": "2023-08-04T15:51:54.812298Z"
    }
   },
   "outputs": [
    {
     "data": {
      "text/plain": [
       "'test~05.dat'"
      ]
     },
     "execution_count": 4,
     "metadata": {},
     "output_type": "execute_result"
    }
   ],
   "source": [
    "theName = fl.getNewFileName('test', 'dat')\n",
    "theName"
   ]
  },
  {
   "cell_type": "markdown",
   "metadata": {},
   "source": [
    "Now, let's create that file, and call the function again. A suffix with a number is appended to the name of the file, before its extension."
   ]
  },
  {
   "cell_type": "code",
   "execution_count": 5,
   "metadata": {
    "execution": {
     "iopub.execute_input": "2023-08-04T15:51:54.814737Z",
     "iopub.status.busy": "2023-08-04T15:51:54.814570Z",
     "iopub.status.idle": "2023-08-04T15:51:54.816690Z",
     "shell.execute_reply": "2023-08-04T15:51:54.816371Z"
    }
   },
   "outputs": [],
   "source": [
    "open(theName, 'a').close()"
   ]
  },
  {
   "cell_type": "code",
   "execution_count": 6,
   "metadata": {
    "execution": {
     "iopub.execute_input": "2023-08-04T15:51:54.817768Z",
     "iopub.status.busy": "2023-08-04T15:51:54.817677Z",
     "iopub.status.idle": "2023-08-04T15:51:54.819696Z",
     "shell.execute_reply": "2023-08-04T15:51:54.819457Z"
    }
   },
   "outputs": [
    {
     "data": {
      "text/plain": [
       "'test~06.dat'"
      ]
     },
     "execution_count": 6,
     "metadata": {},
     "output_type": "execute_result"
    }
   ],
   "source": [
    "theName = fl.getNewFileName('test', 'dat')\n",
    "theName"
   ]
  },
  {
   "cell_type": "markdown",
   "metadata": {},
   "source": [
    "If we do it again, the number is incremented. "
   ]
  },
  {
   "cell_type": "code",
   "execution_count": 7,
   "metadata": {
    "execution": {
     "iopub.execute_input": "2023-08-04T15:51:54.820676Z",
     "iopub.status.busy": "2023-08-04T15:51:54.820610Z",
     "iopub.status.idle": "2023-08-04T15:51:54.822227Z",
     "shell.execute_reply": "2023-08-04T15:51:54.822029Z"
    }
   },
   "outputs": [],
   "source": [
    "open(theName, 'a').close()"
   ]
  },
  {
   "cell_type": "code",
   "execution_count": 8,
   "metadata": {
    "execution": {
     "iopub.execute_input": "2023-08-04T15:51:54.823138Z",
     "iopub.status.busy": "2023-08-04T15:51:54.823048Z",
     "iopub.status.idle": "2023-08-04T15:51:54.825225Z",
     "shell.execute_reply": "2023-08-04T15:51:54.824999Z"
    }
   },
   "outputs": [
    {
     "data": {
      "text/plain": [
       "'test~07.dat'"
      ]
     },
     "execution_count": 8,
     "metadata": {},
     "output_type": "execute_result"
    }
   ],
   "source": [
    "theName = fl.getNewFileName('test', 'dat')\n",
    "theName"
   ]
  },
  {
   "cell_type": "code",
   "execution_count": null,
   "metadata": {},
   "outputs": [],
   "source": []
  }
 ],
 "metadata": {
  "kernelspec": {
   "display_name": "Python 3 (ipykernel)",
   "language": "python",
   "name": "python3"
  },
  "language_info": {
   "codemirror_mode": {
    "name": "ipython",
    "version": 3
   },
   "file_extension": ".py",
   "mimetype": "text/x-python",
   "name": "python",
   "nbconvert_exporter": "python",
   "pygments_lexer": "ipython3",
   "version": "3.11.3"
  }
 },
 "nbformat": 4,
 "nbformat_minor": 4
}
