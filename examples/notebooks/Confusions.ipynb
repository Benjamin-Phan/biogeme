{
 "cells": [
  {
   "cell_type": "code",
   "execution_count": 1,
   "id": "b69beceb",
   "metadata": {},
   "outputs": [],
   "source": [
    "from math import e"
   ]
  },
  {
   "cell_type": "code",
   "execution_count": 2,
   "id": "862d3cdb",
   "metadata": {},
   "outputs": [],
   "source": [
    "from biogeme.expressions import exp, Beta"
   ]
  },
  {
   "cell_type": "code",
   "execution_count": 3,
   "id": "f55a3305",
   "metadata": {},
   "outputs": [
    {
     "data": {
      "text/plain": [
       "7.3890560989306495"
      ]
     },
     "execution_count": 3,
     "metadata": {},
     "output_type": "execute_result"
    }
   ],
   "source": [
    "e**2"
   ]
  },
  {
   "cell_type": "code",
   "execution_count": 4,
   "id": "10deae2a",
   "metadata": {},
   "outputs": [],
   "source": [
    "p = exp(2)"
   ]
  },
  {
   "cell_type": "code",
   "execution_count": 5,
   "id": "478edd2a",
   "metadata": {},
   "outputs": [
    {
     "data": {
      "text/plain": [
       "7.38905609893065"
      ]
     },
     "execution_count": 5,
     "metadata": {},
     "output_type": "execute_result"
    }
   ],
   "source": [
    "p.getValue_c(prepareIds=True)"
   ]
  },
  {
   "cell_type": "code",
   "execution_count": 6,
   "id": "8515f755",
   "metadata": {},
   "outputs": [],
   "source": [
    "beta = Beta('beta', 5, None, None, 0)"
   ]
  },
  {
   "cell_type": "code",
   "execution_count": 7,
   "id": "356b2938",
   "metadata": {},
   "outputs": [
    {
     "data": {
      "text/plain": [
       "(`2.718281828459045` ** beta(init=5))"
      ]
     },
     "execution_count": 7,
     "metadata": {},
     "output_type": "execute_result"
    }
   ],
   "source": [
    "p1 = e**beta\n",
    "p1"
   ]
  },
  {
   "cell_type": "code",
   "execution_count": 8,
   "id": "f9537a6c",
   "metadata": {},
   "outputs": [
    {
     "data": {
      "text/plain": [
       "exp(beta(init=5))"
      ]
     },
     "execution_count": 8,
     "metadata": {},
     "output_type": "execute_result"
    }
   ],
   "source": [
    "p2 = exp(beta)\n",
    "p2"
   ]
  },
  {
   "cell_type": "code",
   "execution_count": 9,
   "id": "029d5a57",
   "metadata": {},
   "outputs": [
    {
     "data": {
      "text/plain": [
       "(148.41313656762816,\n",
       " array([148.41313206]),\n",
       " array([[148.41312755]]),\n",
       " array([[22026.45776805]]))"
      ]
     },
     "execution_count": 9,
     "metadata": {},
     "output_type": "execute_result"
    }
   ],
   "source": [
    "p1.getValueAndDerivatives(prepareIds=True)"
   ]
  },
  {
   "cell_type": "code",
   "execution_count": 10,
   "id": "28329cd8",
   "metadata": {},
   "outputs": [
    {
     "data": {
      "text/plain": [
       "(148.4131591025766,\n",
       " array([148.4131591]),\n",
       " array([[148.4131591]]),\n",
       " array([[22026.46579481]]))"
      ]
     },
     "execution_count": 10,
     "metadata": {},
     "output_type": "execute_result"
    }
   ],
   "source": [
    "p2.getValueAndDerivatives(prepareIds=True)"
   ]
  },
  {
   "cell_type": "code",
   "execution_count": null,
   "id": "791213d6",
   "metadata": {},
   "outputs": [],
   "source": []
  }
 ],
 "metadata": {
  "kernelspec": {
   "display_name": "Python 3 (ipykernel)",
   "language": "python",
   "name": "python3"
  },
  "language_info": {
   "codemirror_mode": {
    "name": "ipython",
    "version": 3
   },
   "file_extension": ".py",
   "mimetype": "text/x-python",
   "name": "python",
   "nbconvert_exporter": "python",
   "pygments_lexer": "ipython3",
   "version": "3.10.4"
  }
 },
 "nbformat": 4,
 "nbformat_minor": 5
}
