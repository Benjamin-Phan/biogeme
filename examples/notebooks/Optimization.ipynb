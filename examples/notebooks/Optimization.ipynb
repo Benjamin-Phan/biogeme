{
 "cells": [
  {
   "cell_type": "markdown",
   "metadata": {},
   "source": [
    "# module optimization: examples of use of each function"
   ]
  },
  {
   "cell_type": "markdown",
   "metadata": {},
   "source": [
    "This webpage is for programmers who need examples of use of the functions of the class. The examples are designed to illustrate the syntax. They do not correspond to any meaningful model. For examples of models, visit  [biogeme.epfl.ch](http://biogeme.epfl.ch)."
   ]
  },
  {
   "cell_type": "code",
   "execution_count": 1,
   "metadata": {},
   "outputs": [
    {
     "name": "stdout",
     "output_type": "stream",
     "text": [
      "2020-04-08 18:37:58.367897\n"
     ]
    }
   ],
   "source": [
    "import datetime\n",
    "print(datetime.datetime.now())"
   ]
  },
  {
   "cell_type": "code",
   "execution_count": 2,
   "metadata": {},
   "outputs": [
    {
     "name": "stdout",
     "output_type": "stream",
     "text": [
      "biogeme 3.2.6a [2020-04-08]\n",
      "Version entirely written in Python\n",
      "Home page: http://biogeme.epfl.ch\n",
      "Submit questions to https://groups.google.com/d/forum/biogeme\n",
      "Michel Bierlaire, Transport and Mobility Laboratory, Ecole Polytechnique Fédérale de Lausanne (EPFL)\n",
      "\n"
     ]
    }
   ],
   "source": [
    "import biogeme.version as ver\n",
    "print(ver.getText())"
   ]
  },
  {
   "cell_type": "code",
   "execution_count": 3,
   "metadata": {},
   "outputs": [],
   "source": [
    "import biogeme.optimization as opt"
   ]
  },
  {
   "cell_type": "code",
   "execution_count": 4,
   "metadata": {},
   "outputs": [],
   "source": [
    "import numpy as np"
   ]
  },
  {
   "cell_type": "code",
   "execution_count": 5,
   "metadata": {},
   "outputs": [],
   "source": [
    "%matplotlib inline\n",
    "import matplotlib\n",
    "import matplotlib.pyplot as plt"
   ]
  },
  {
   "cell_type": "markdown",
   "metadata": {},
   "source": [
    "Defne the verbosity of Biogeme"
   ]
  },
  {
   "cell_type": "code",
   "execution_count": 6,
   "metadata": {},
   "outputs": [],
   "source": [
    "import biogeme.messaging as msg\n",
    "logger = msg.bioMessage()\n",
    "logger.setSilent()\n",
    "#logger.setDetailed()\n",
    "#logger.setDebug()"
   ]
  },
  {
   "cell_type": "markdown",
   "metadata": {},
   "source": [
    "# Modified Cholesky factorization by Schnabel and Eskow (1999)"
   ]
  },
  {
   "cell_type": "markdown",
   "metadata": {},
   "source": [
    "## Example by Eskow and Schnabel, 1991"
   ]
  },
  {
   "cell_type": "code",
   "execution_count": 7,
   "metadata": {},
   "outputs": [
    {
     "data": {
      "text/plain": [
       "array([[ 0.3571, -0.103 ,  0.0274, -0.0459],\n",
       "       [-0.103 ,  0.2525,  0.0736, -0.3845],\n",
       "       [ 0.0274,  0.0736,  0.234 , -0.2878],\n",
       "       [-0.0459, -0.3845, -0.2878,  0.5549]])"
      ]
     },
     "execution_count": 7,
     "metadata": {},
     "output_type": "execute_result"
    }
   ],
   "source": [
    "A = np.array([[0.3571,-0.1030,0.0274,-0.0459],[-0.1030,0.2525,0.0736,-0.3845],[0.0274,0.0736,0.2340,-0.2878],[-0.0459,-0.3845,-0.2878,0.5549]])\n",
    "A"
   ]
  },
  {
   "cell_type": "code",
   "execution_count": 8,
   "metadata": {},
   "outputs": [
    {
     "data": {
      "text/plain": [
       "array([[ 0.7449161 ,  0.        ,  0.        ,  0.        ],\n",
       "       [-0.06161768,  0.59439319,  0.        ,  0.        ],\n",
       "       [-0.38635223,  0.00604629,  0.46941286,  0.        ],\n",
       "       [-0.51616551, -0.22679419, -0.26511936,  0.00152451]])"
      ]
     },
     "execution_count": 8,
     "metadata": {},
     "output_type": "execute_result"
    }
   ],
   "source": [
    "L,E,P = opt.schnabelEskow(A)\n",
    "L"
   ]
  },
  {
   "cell_type": "markdown",
   "metadata": {},
   "source": [
    "The factor $L$ is such that $A + E = PLL^TP^T$. Therefore, the expression below should be the null matrix."
   ]
  },
  {
   "cell_type": "code",
   "execution_count": 9,
   "metadata": {},
   "outputs": [
    {
     "data": {
      "text/plain": [
       "array([[-5.55111512e-17,  0.00000000e+00,  0.00000000e+00,\n",
       "         0.00000000e+00],\n",
       "       [ 0.00000000e+00, -5.55111512e-17,  1.38777878e-17,\n",
       "         0.00000000e+00],\n",
       "       [ 0.00000000e+00,  1.38777878e-17,  0.00000000e+00,\n",
       "         0.00000000e+00],\n",
       "       [ 0.00000000e+00,  0.00000000e+00,  0.00000000e+00,\n",
       "         0.00000000e+00]])"
      ]
     },
     "execution_count": 9,
     "metadata": {},
     "output_type": "execute_result"
    }
   ],
   "source": [
    "P @ L @ L.T @ P.T - E - A"
   ]
  },
  {
   "cell_type": "markdown",
   "metadata": {},
   "source": [
    "## Example by Schnabel and Eskow (1999)"
   ]
  },
  {
   "cell_type": "code",
   "execution_count": 10,
   "metadata": {},
   "outputs": [
    {
     "data": {
      "text/plain": [
       "array([[ 1890.3, -1705.6,  -315.8,  3000.3],\n",
       "       [-1705.6,  1538.3,   284.9, -2706.6],\n",
       "       [ -315.8,   284.9,    52.5,  -501.2],\n",
       "       [ 3000.3, -2706.6,  -501.2,  4760.8]])"
      ]
     },
     "execution_count": 10,
     "metadata": {},
     "output_type": "execute_result"
    }
   ],
   "source": [
    "A2 = np.array([[1890.3,-1705.6,-315.8,3000.3],[-1705.6,1538.3,284.9,-2706.6],[-315.8,284.9,52.5,-501.2],[3000.3,-2706.6,-501.2,4760.8]])\n",
    "A2"
   ]
  },
  {
   "cell_type": "code",
   "execution_count": 11,
   "metadata": {},
   "outputs": [
    {
     "data": {
      "text/plain": [
       "array([[ 6.89985507e+01,  0.00000000e+00,  0.00000000e+00,\n",
       "         0.00000000e+00],\n",
       "       [-7.26392069e+00,  3.19413321e-01,  0.00000000e+00,\n",
       "         0.00000000e+00],\n",
       "       [-3.92269109e+01, -1.28891153e-01,  4.44731720e-01,\n",
       "         0.00000000e+00],\n",
       "       [ 4.34835220e+01,  1.90522168e-01,  3.34584739e-01,\n",
       "         1.71484739e-03]])"
      ]
     },
     "execution_count": 11,
     "metadata": {},
     "output_type": "execute_result"
    }
   ],
   "source": [
    "L,E,P = opt.schnabelEskow(A2)\n",
    "L"
   ]
  },
  {
   "cell_type": "markdown",
   "metadata": {},
   "source": [
    "The factor $L$ is such that $A + E = PLL^TP^T$. Therefore, the expression below should be the null matrix."
   ]
  },
  {
   "cell_type": "code",
   "execution_count": 12,
   "metadata": {},
   "outputs": [
    {
     "data": {
      "text/plain": [
       "array([[-2.27373675e-13,  0.00000000e+00,  0.00000000e+00,\n",
       "         0.00000000e+00],\n",
       "       [ 0.00000000e+00,  0.00000000e+00,  0.00000000e+00,\n",
       "         0.00000000e+00],\n",
       "       [ 0.00000000e+00,  0.00000000e+00,  0.00000000e+00,\n",
       "         0.00000000e+00],\n",
       "       [ 0.00000000e+00,  0.00000000e+00,  0.00000000e+00,\n",
       "        -9.09494702e-13]])"
      ]
     },
     "execution_count": 12,
     "metadata": {},
     "output_type": "execute_result"
    }
   ],
   "source": [
    "P @ L @ L.T @ P.T - E - A2"
   ]
  },
  {
   "cell_type": "markdown",
   "metadata": {},
   "source": [
    "# Rosenbrock problem"
   ]
  },
  {
   "cell_type": "code",
   "execution_count": 13,
   "metadata": {},
   "outputs": [],
   "source": [
    "class rosenbrock(opt.functionToMinimize):\n",
    "    def __init__(self):\n",
    "        self.x = None\n",
    "        \n",
    "    def setVariables(self,x):\n",
    "        self.x = x\n",
    "\n",
    "    def f(self, batch = None):\n",
    "        if batch is not None:\n",
    "            raise excep.biogemeError('This function is not data driven.')\n",
    "        n = len(self.x)\n",
    "        f = sum(100.0 * (self.x[i+1]-self.x[i]**2)**2 + (1.0-self.x[i])**2 for i in range(n-1))\n",
    "        return f\n",
    "\n",
    "    def g(self):\n",
    "        n = len(self.x)\n",
    "        g = np.zeros(n)\n",
    "        for i in range(n-1):\n",
    "            g[i] = g[i] - 400 * self.x[i] * (self.x[i+1]-self.x[i]**2) - 2 * (1-self.x[i])\n",
    "            g[i+1] = g[i+1] + 200 * (self.x[i+1]-self.x[i]**2)\n",
    "\n",
    "        return g\n",
    "    def h(self):\n",
    "        n = len(self.x)\n",
    "        H = np.zeros((n,n))\n",
    "        for i in range(n-1):\n",
    "            H[[i],[i]] = H[[i],[i]] - 400 * self.x[i+1] + 1200 * self.x[i]**2 + 2\n",
    "            H[[i+1],[i]] = H[[i+1],[i]] - 400 * self.x[i]\n",
    "            H[[i],[i+1]] = H[[i],[i+1]] - 400 * self.x[i]\n",
    "            H[[i+1],[i+1]] = H[[i+1],[i+1]] + 200\n",
    "        return H \n",
    "\n",
    "    def f_g(self, batch = None):\n",
    "        if batch is not None:\n",
    "            raise excep.biogemeError('This function is not data driven.')\n",
    "        return self.f(), self.g()\n",
    "\n",
    "    def f_g_h(self, batch= None):\n",
    "        if batch is not None:\n",
    "            raise excep.biogemeError('This function is not data driven.')\n",
    "        return self.f(), self.g(), self.h()\n",
    "    \n",
    "    def f_g_bhhh(self, batch = None):\n",
    "        raise excep.biogemeError('This function is not data driven.')\n",
    "\n",
    "theFunction = rosenbrock()\n"
   ]
  },
  {
   "cell_type": "markdown",
   "metadata": {},
   "source": [
    "# Example 5.8 from Bierlaire (2015)"
   ]
  },
  {
   "cell_type": "code",
   "execution_count": 14,
   "metadata": {},
   "outputs": [],
   "source": [
    "class example58(opt.functionToMinimize):\n",
    "    def __init__(self):\n",
    "        self.x = None\n",
    "        \n",
    "    def setVariables(self,x):\n",
    "        self.x = x\n",
    "\n",
    "    def f(self, batch = None):\n",
    "        if batch is not None:\n",
    "            raise excep.biogemeError('This function is not data driven.')\n",
    "        n = len(self.x)\n",
    "        f = 0.5 * self.x[0] * self.x[0] + self.x[0] * np.cos(self.x[1])\n",
    "        return f\n",
    "\n",
    "    def g(self):\n",
    "        n = len(self.x)\n",
    "        g = np.array([self.x[0]+np.cos(self.x[1]),-self.x[0]*np.sin(self.x[1])])\n",
    "        return g\n",
    "\n",
    "    def h(self):\n",
    "        n = len(self.x)\n",
    "        H = np.array([[1,-np.sin(self.x[1])],[-np.sin(self.x[1]),-self.x[0]*np.cos(self.x[1])]])\n",
    "        return H \n",
    "\n",
    "    def f_g(self, batch = None):\n",
    "        if batch is not None:\n",
    "            raise excep.biogemeError('This function is not data driven.')\n",
    "        return self.f(), self.g()\n",
    "\n",
    "    def f_g_h(self, batch= None):\n",
    "        if batch is not None:\n",
    "            raise excep.biogemeError('This function is not data driven.')\n",
    "        return self.f(), self.g(), self.h()\n",
    "    \n",
    "    def f_g_bhhh(self, batch = None):\n",
    "        raise excep.biogemeError('This function is not data driven.')\n",
    "\n",
    "ex58 = example58()\n"
   ]
  },
  {
   "cell_type": "markdown",
   "metadata": {},
   "source": [
    "# Line search algorithm"
   ]
  },
  {
   "cell_type": "code",
   "execution_count": 15,
   "metadata": {},
   "outputs": [
    {
     "name": "stdout",
     "output_type": "stream",
     "text": [
      "alpha=0.0009765625 nfev=12\n"
     ]
    }
   ],
   "source": [
    "x = np.array([-1.5,1.5])\n",
    "theFunction.setVariables(x)\n",
    "f,g = theFunction.f_g()\n",
    "alpha,nfev = opt.lineSearch(theFunction,x,f,g,-g)\n",
    "print(f\"alpha={alpha} nfev={nfev}\")"
   ]
  },
  {
   "cell_type": "markdown",
   "metadata": {},
   "source": [
    "# Newton with linesearch"
   ]
  },
  {
   "cell_type": "markdown",
   "metadata": {},
   "source": [
    "Rosenbrock"
   ]
  },
  {
   "cell_type": "code",
   "execution_count": 16,
   "metadata": {},
   "outputs": [
    {
     "data": {
      "text/plain": [
       "array([0.99999961, 0.99999918])"
      ]
     },
     "execution_count": 16,
     "metadata": {},
     "output_type": "execute_result"
    }
   ],
   "source": [
    "x0 = np.array([-1.5,1.5])\n",
    "xstar, messages = opt.newtonLineSearch(theFunction,x0)\n",
    "xstar"
   ]
  },
  {
   "cell_type": "code",
   "execution_count": 17,
   "metadata": {},
   "outputs": [
    {
     "name": "stdout",
     "output_type": "stream",
     "text": [
      "Algorithm:\tUnconstrained Newton with line search\n",
      "Relative gradient:\t2.0646130808264894e-07\n",
      "Number of iterations:\t22\n",
      "Number of function evaluations:\t77\n",
      "Number of gradient evaluations:\t77\n",
      "Number of hessian evaluations:\t23\n",
      "Cause of termination:\tRelative gradient = 2.0646130808264894e-07 <= 6.06273418136464e-06\n"
     ]
    }
   ],
   "source": [
    "for k, v in messages.items():\n",
    "    print(f'{k}:\\t{v}')"
   ]
  },
  {
   "cell_type": "markdown",
   "metadata": {},
   "source": [
    "Example 5.8"
   ]
  },
  {
   "cell_type": "code",
   "execution_count": 18,
   "metadata": {},
   "outputs": [
    {
     "data": {
      "text/plain": [
       "array([1.        , 3.14159265])"
      ]
     },
     "execution_count": 18,
     "metadata": {},
     "output_type": "execute_result"
    }
   ],
   "source": [
    "x0 = np.array([1,1])\n",
    "xstar, messages = opt.newtonLineSearch(ex58,x0)\n",
    "xstar"
   ]
  },
  {
   "cell_type": "code",
   "execution_count": 19,
   "metadata": {},
   "outputs": [
    {
     "name": "stdout",
     "output_type": "stream",
     "text": [
      "Algorithm:\tUnconstrained Newton with line search\n",
      "Relative gradient:\t2.117211853102874e-10\n",
      "Number of iterations:\t5\n",
      "Number of function evaluations:\t28\n",
      "Number of gradient evaluations:\t28\n",
      "Number of hessian evaluations:\t6\n",
      "Cause of termination:\tRelative gradient = 2.117211853102874e-10 <= 6.06273418136464e-06\n"
     ]
    }
   ],
   "source": [
    "for k, v in messages.items():\n",
    "    print(f'{k}:\\t{v}')"
   ]
  },
  {
   "cell_type": "markdown",
   "metadata": {},
   "source": [
    "# Newton with trust region"
   ]
  },
  {
   "cell_type": "markdown",
   "metadata": {},
   "source": [
    "Rosenbrock"
   ]
  },
  {
   "cell_type": "code",
   "execution_count": 20,
   "metadata": {},
   "outputs": [
    {
     "data": {
      "text/plain": [
       "array([0.99999995, 0.99999989])"
      ]
     },
     "execution_count": 20,
     "metadata": {},
     "output_type": "execute_result"
    }
   ],
   "source": [
    "x0 = np.array([-1.5,1.5])\n",
    "xstar, messages = opt.newtonTrustRegion(theFunction,x0)\n",
    "xstar"
   ]
  },
  {
   "cell_type": "code",
   "execution_count": 21,
   "metadata": {},
   "outputs": [
    {
     "name": "stdout",
     "output_type": "stream",
     "text": [
      "Algorithm:\tUnconstrained Newton with trust region\n",
      "Relative gradient:\t9.752977092603033e-10\n",
      "Cause of termination:\tRelative gradient = 9.752977092603033e-10 <= 6.06273418136464e-06\n",
      "Number of iterations:\t28\n",
      "Number of function evaluations:\t49\n",
      "Number of gradient evaluations:\t22\n",
      "Number of hessian evaluations:\t22\n"
     ]
    }
   ],
   "source": [
    "for k, v in messages.items():\n",
    "    print(f'{k}:\\t{v}')"
   ]
  },
  {
   "cell_type": "markdown",
   "metadata": {},
   "source": [
    "Example 5.8"
   ]
  },
  {
   "cell_type": "code",
   "execution_count": 22,
   "metadata": {},
   "outputs": [
    {
     "data": {
      "text/plain": [
       "array([-1.00000000e+00, -1.56439954e-09])"
      ]
     },
     "execution_count": 22,
     "metadata": {},
     "output_type": "execute_result"
    }
   ],
   "source": [
    "x0 = np.array([1.0,1.0])\n",
    "xstar, messages = opt.newtonTrustRegion(ex58,x0)\n",
    "xstar"
   ]
  },
  {
   "cell_type": "code",
   "execution_count": 23,
   "metadata": {},
   "outputs": [
    {
     "name": "stdout",
     "output_type": "stream",
     "text": [
      "Algorithm:\tUnconstrained Newton with trust region\n",
      "Relative gradient:\t1.5037932097369974e-09\n",
      "Cause of termination:\tRelative gradient = 1.5037932097369974e-09 <= 6.06273418136464e-06\n",
      "Number of iterations:\t5\n",
      "Number of function evaluations:\t10\n",
      "Number of gradient evaluations:\t6\n",
      "Number of hessian evaluations:\t6\n"
     ]
    }
   ],
   "source": [
    "for k, v in messages.items():\n",
    "    print(f'{k}:\\t{v}')"
   ]
  },
  {
   "cell_type": "markdown",
   "metadata": {},
   "source": [
    "# BFGS and linesearch"
   ]
  },
  {
   "cell_type": "markdown",
   "metadata": {},
   "source": [
    "Rosenbrock"
   ]
  },
  {
   "cell_type": "code",
   "execution_count": 24,
   "metadata": {},
   "outputs": [
    {
     "data": {
      "text/plain": [
       "array([0.99999897, 0.99999797])"
      ]
     },
     "execution_count": 24,
     "metadata": {},
     "output_type": "execute_result"
    }
   ],
   "source": [
    "x0 = np.array([-1.5,1.5])\n",
    "xstar, messages = opt.bfgsLineSearch(theFunction,x0,maxiter=10000)\n",
    "xstar"
   ]
  },
  {
   "cell_type": "code",
   "execution_count": 25,
   "metadata": {},
   "outputs": [
    {
     "name": "stdout",
     "output_type": "stream",
     "text": [
      "Algorithm:\tInverse BFGS with line search\n",
      "Relative gradient:\t1.531551364614023e-07\n",
      "Cause of termination:\tRelative gradient = 1.531551364614023e-07 <= 6.06273418136464e-06\n",
      "Number of iterations:\t32\n",
      "Number of function evaluations:\t152\n",
      "Number of gradient evaluations:\t33\n"
     ]
    }
   ],
   "source": [
    "for k, v in messages.items():\n",
    "    print(f'{k}:\\t{v}')"
   ]
  },
  {
   "cell_type": "markdown",
   "metadata": {},
   "source": [
    "Example 5.8"
   ]
  },
  {
   "cell_type": "code",
   "execution_count": 26,
   "metadata": {},
   "outputs": [
    {
     "data": {
      "text/plain": [
       "array([-1.00000142e+00,  3.57636862e-06])"
      ]
     },
     "execution_count": 26,
     "metadata": {},
     "output_type": "execute_result"
    }
   ],
   "source": [
    "x0 = np.array([1,1])\n",
    "xstar, messages = opt.bfgsLineSearch(ex58,x0,maxiter=10000)\n",
    "xstar"
   ]
  },
  {
   "cell_type": "code",
   "execution_count": 27,
   "metadata": {},
   "outputs": [
    {
     "name": "stdout",
     "output_type": "stream",
     "text": [
      "Algorithm:\tInverse BFGS with line search\n",
      "Relative gradient:\t3.4378215567736776e-06\n",
      "Cause of termination:\tRelative gradient = 3.4378215567736776e-06 <= 6.06273418136464e-06\n",
      "Number of iterations:\t10\n",
      "Number of function evaluations:\t48\n",
      "Number of gradient evaluations:\t11\n"
     ]
    }
   ],
   "source": [
    "for k, v in messages.items():\n",
    "    print(f'{k}:\\t{v}')"
   ]
  },
  {
   "cell_type": "markdown",
   "metadata": {},
   "source": [
    "# BFGS and trust region"
   ]
  },
  {
   "cell_type": "markdown",
   "metadata": {},
   "source": [
    "Rosenbrock"
   ]
  },
  {
   "cell_type": "code",
   "execution_count": 28,
   "metadata": {},
   "outputs": [
    {
     "data": {
      "text/plain": [
       "array([1.00000052, 1.00000078])"
      ]
     },
     "execution_count": 28,
     "metadata": {},
     "output_type": "execute_result"
    }
   ],
   "source": [
    "x0 = np.array([-1.5,1.5])\n",
    "xstar, messages = opt.bfgsTrustRegion(theFunction,x0,maxiter=10000)\n",
    "xstar"
   ]
  },
  {
   "cell_type": "code",
   "execution_count": 29,
   "metadata": {},
   "outputs": [
    {
     "name": "stdout",
     "output_type": "stream",
     "text": [
      "Algorithm:\tBFGS with trust region\n",
      "Relative gradient:\t1.7562432530828692e-06\n",
      "Cause of termination:\tRelative gradient = 1.7562432530828692e-06 <= 6.06273418136464e-06\n",
      "Number of iterations:\t50\n",
      "Number of function evaluations:\t88\n",
      "Number of gradient evaluations:\t38\n"
     ]
    }
   ],
   "source": [
    "for k, v in messages.items():\n",
    "    print(f'{k}:\\t{v}')"
   ]
  },
  {
   "cell_type": "markdown",
   "metadata": {},
   "source": [
    "Example 5.8"
   ]
  },
  {
   "cell_type": "code",
   "execution_count": 30,
   "metadata": {},
   "outputs": [
    {
     "data": {
      "text/plain": [
       "array([-9.99999972e-01,  1.58776353e-08])"
      ]
     },
     "execution_count": 30,
     "metadata": {},
     "output_type": "execute_result"
    }
   ],
   "source": [
    "x0 = np.array([1,1])\n",
    "xstar, messages = opt.bfgsTrustRegion(ex58,x0,maxiter=10000)\n",
    "xstar"
   ]
  },
  {
   "cell_type": "code",
   "execution_count": 31,
   "metadata": {},
   "outputs": [
    {
     "name": "stdout",
     "output_type": "stream",
     "text": [
      "Algorithm:\tBFGS with trust region\n",
      "Relative gradient:\t2.7200302000474536e-08\n",
      "Cause of termination:\tRelative gradient = 2.7200302000474536e-08 <= 6.06273418136464e-06\n",
      "Number of iterations:\t17\n",
      "Number of function evaluations:\t30\n",
      "Number of gradient evaluations:\t13\n"
     ]
    }
   ],
   "source": [
    "for k, v in messages.items():\n",
    "    print(f'{k}:\\t{v}')"
   ]
  },
  {
   "cell_type": "markdown",
   "metadata": {},
   "source": [
    "# Biogeme example"
   ]
  },
  {
   "cell_type": "code",
   "execution_count": 32,
   "metadata": {},
   "outputs": [
    {
     "name": "stdout",
     "output_type": "stream",
     "text": [
      "simpleExample: database [test]{'loglike': _bioLogLogitFullChoiceSet1:(beta1(0) * Variable1),2:(beta2(0) * Variable2),3:`0`)}\n",
      "simpleExample: database [test]{'loglike': _bioLogLogitFullChoiceSet1:(beta1(0) * Variable1),2:(beta2(0) * Variable2),3:`0`)}\n"
     ]
    }
   ],
   "source": [
    "import pandas as pd\n",
    "import biogeme.biogeme as bio\n",
    "import biogeme.database as db\n",
    "import biogeme.models as models\n",
    "from biogeme.expressions import *\n",
    "df = pd.DataFrame({'Person':[1,1,1,2,2],\n",
    "                   'Exclude':[0,0,1,0,1],\n",
    "                   'Variable1':[1,2,3,4,5],\n",
    "                   'Variable2':[10,20,30,40,50],\n",
    "                   'Choice':[1,2,3,1,2],\n",
    "                   'Av1':[0,1,1,1,1],\n",
    "                   'Av2':[1,1,1,1,1],\n",
    "                   'Av3':[0,1,1,1,1]})\n",
    "myData = db.Database('test',df)\n",
    "\n",
    "Choice=Variable('Choice')\n",
    "Variable1=Variable('Variable1')\n",
    "Variable2=Variable('Variable2')\n",
    "beta1 = Beta('beta1',0,None,None,0)\n",
    "beta2 = Beta('beta2',0,None,None,0)\n",
    "V1 = beta1 * Variable1\n",
    "V2 = beta2 * Variable2\n",
    "V3 = 0\n",
    "V ={1:V1,2:V2,3:V3}\n",
    "\n",
    "likelihood = models.loglogit(V,av=None,i=Choice)\n",
    "myBiogeme = bio.BIOGEME(myData,likelihood)\n",
    "myBiogeme.modelName = 'simpleExample'\n",
    "print(myBiogeme)\n"
   ]
  },
  {
   "cell_type": "markdown",
   "metadata": {},
   "source": [
    "## scipy"
   ]
  },
  {
   "cell_type": "markdown",
   "metadata": {},
   "source": [
    "The default optimization algorithm is from scipy. It is possible to transfer parameters to the algorithm. We include here an irrelevant parameter to illustrate the warning. "
   ]
  },
  {
   "cell_type": "code",
   "execution_count": 33,
   "metadata": {},
   "outputs": [
    {
     "name": "stderr",
     "output_type": "stream",
     "text": [
      "/Users/michelbierlaire/opt/anaconda3/envs/python38/lib/python3.8/site-packages/biogeme-3.2.6a0-py3.8-macosx-10.9-x86_64.egg/biogeme/optimization.py:494: OptimizeWarning: Unknown solver options: myparam\n",
      "  results =  sc.minimize(f_and_grad,initBetas,bounds=bounds,jac=True,options=opts)\n"
     ]
    },
    {
     "data": {
      "text/html": [
       "<div>\n",
       "<style scoped>\n",
       "    .dataframe tbody tr th:only-of-type {\n",
       "        vertical-align: middle;\n",
       "    }\n",
       "\n",
       "    .dataframe tbody tr th {\n",
       "        vertical-align: top;\n",
       "    }\n",
       "\n",
       "    .dataframe thead th {\n",
       "        text-align: right;\n",
       "    }\n",
       "</style>\n",
       "<table border=\"1\" class=\"dataframe\">\n",
       "  <thead>\n",
       "    <tr style=\"text-align: right;\">\n",
       "      <th></th>\n",
       "      <th>Value</th>\n",
       "      <th>Std err</th>\n",
       "      <th>t-test</th>\n",
       "      <th>p-value</th>\n",
       "      <th>Rob. Std err</th>\n",
       "      <th>Rob. t-test</th>\n",
       "      <th>Rob. p-value</th>\n",
       "    </tr>\n",
       "  </thead>\n",
       "  <tbody>\n",
       "    <tr>\n",
       "      <th>beta1</th>\n",
       "      <td>0.144546</td>\n",
       "      <td>0.391017</td>\n",
       "      <td>0.369666</td>\n",
       "      <td>0.711632</td>\n",
       "      <td>0.366198</td>\n",
       "      <td>0.394720</td>\n",
       "      <td>0.693049</td>\n",
       "    </tr>\n",
       "    <tr>\n",
       "      <th>beta2</th>\n",
       "      <td>0.023502</td>\n",
       "      <td>0.036947</td>\n",
       "      <td>0.636086</td>\n",
       "      <td>0.524720</td>\n",
       "      <td>0.034280</td>\n",
       "      <td>0.685574</td>\n",
       "      <td>0.492982</td>\n",
       "    </tr>\n",
       "  </tbody>\n",
       "</table>\n",
       "</div>"
      ],
      "text/plain": [
       "          Value   Std err    t-test   p-value  Rob. Std err  Rob. t-test  \\\n",
       "beta1  0.144546  0.391017  0.369666  0.711632      0.366198     0.394720   \n",
       "beta2  0.023502  0.036947  0.636086  0.524720      0.034280     0.685574   \n",
       "\n",
       "       Rob. p-value  \n",
       "beta1      0.693049  \n",
       "beta2      0.492982  "
      ]
     },
     "execution_count": 33,
     "metadata": {},
     "output_type": "execute_result"
    }
   ],
   "source": [
    "results = myBiogeme.estimate(algorithm = opt.scipy, algoParameters={'myparam':3})\n",
    "results.getEstimatedParameters()"
   ]
  },
  {
   "cell_type": "code",
   "execution_count": 34,
   "metadata": {},
   "outputs": [
    {
     "name": "stdout",
     "output_type": "stream",
     "text": [
      "Algorithm:\tscipy.optimize\n",
      "Cause of termination:\tb'CONVERGENCE: NORM_OF_PROJECTED_GRADIENT_<=_PGTOL'\n",
      "Number of iterations:\t13\n",
      "Number of function evaluations:\t16\n",
      "Optimization time:\t0:00:00.007264\n"
     ]
    }
   ],
   "source": [
    "for k, v in results.data.optimizationMessages.items():\n",
    "    print(f'{k}:\\t{v}')"
   ]
  },
  {
   "cell_type": "markdown",
   "metadata": {},
   "source": [
    "## Newton with linesearch"
   ]
  },
  {
   "cell_type": "code",
   "execution_count": 35,
   "metadata": {},
   "outputs": [
    {
     "data": {
      "text/html": [
       "<div>\n",
       "<style scoped>\n",
       "    .dataframe tbody tr th:only-of-type {\n",
       "        vertical-align: middle;\n",
       "    }\n",
       "\n",
       "    .dataframe tbody tr th {\n",
       "        vertical-align: top;\n",
       "    }\n",
       "\n",
       "    .dataframe thead th {\n",
       "        text-align: right;\n",
       "    }\n",
       "</style>\n",
       "<table border=\"1\" class=\"dataframe\">\n",
       "  <thead>\n",
       "    <tr style=\"text-align: right;\">\n",
       "      <th></th>\n",
       "      <th>Value</th>\n",
       "      <th>Std err</th>\n",
       "      <th>t-test</th>\n",
       "      <th>p-value</th>\n",
       "      <th>Rob. Std err</th>\n",
       "      <th>Rob. t-test</th>\n",
       "      <th>Rob. p-value</th>\n",
       "    </tr>\n",
       "  </thead>\n",
       "  <tbody>\n",
       "    <tr>\n",
       "      <th>beta1</th>\n",
       "      <td>0.144545</td>\n",
       "      <td>0.391017</td>\n",
       "      <td>0.369665</td>\n",
       "      <td>0.711632</td>\n",
       "      <td>0.366198</td>\n",
       "      <td>0.394720</td>\n",
       "      <td>0.693050</td>\n",
       "    </tr>\n",
       "    <tr>\n",
       "      <th>beta2</th>\n",
       "      <td>0.023502</td>\n",
       "      <td>0.036947</td>\n",
       "      <td>0.636086</td>\n",
       "      <td>0.524720</td>\n",
       "      <td>0.034280</td>\n",
       "      <td>0.685573</td>\n",
       "      <td>0.492982</td>\n",
       "    </tr>\n",
       "  </tbody>\n",
       "</table>\n",
       "</div>"
      ],
      "text/plain": [
       "          Value   Std err    t-test   p-value  Rob. Std err  Rob. t-test  \\\n",
       "beta1  0.144545  0.391017  0.369665  0.711632      0.366198     0.394720   \n",
       "beta2  0.023502  0.036947  0.636086  0.524720      0.034280     0.685573   \n",
       "\n",
       "       Rob. p-value  \n",
       "beta1      0.693050  \n",
       "beta2      0.492982  "
      ]
     },
     "execution_count": 35,
     "metadata": {},
     "output_type": "execute_result"
    }
   ],
   "source": [
    "results = myBiogeme.estimate(algorithm=opt.newtonLineSearchForBiogeme)\n",
    "results.getEstimatedParameters()"
   ]
  },
  {
   "cell_type": "code",
   "execution_count": 36,
   "metadata": {},
   "outputs": [
    {
     "name": "stdout",
     "output_type": "stream",
     "text": [
      "Algorithm:\tUnconstrained Newton with line search\n",
      "Relative gradient:\t3.2893676167559224e-07\n",
      "Number of iterations:\t3\n",
      "Number of function evaluations:\t10\n",
      "Number of gradient evaluations:\t10\n",
      "Number of hessian evaluations:\t4\n",
      "Cause of termination:\tRelative gradient = 3.2893676167559224e-07 <= 6.06273418136464e-06\n",
      "Optimization time:\t0:00:00.004667\n"
     ]
    }
   ],
   "source": [
    "for k, v in results.data.optimizationMessages.items():\n",
    "    print(f'{k}:\\t{v}')"
   ]
  },
  {
   "cell_type": "markdown",
   "metadata": {},
   "source": [
    "Changing the requested precision\n"
   ]
  },
  {
   "cell_type": "code",
   "execution_count": 37,
   "metadata": {},
   "outputs": [
    {
     "data": {
      "text/html": [
       "<div>\n",
       "<style scoped>\n",
       "    .dataframe tbody tr th:only-of-type {\n",
       "        vertical-align: middle;\n",
       "    }\n",
       "\n",
       "    .dataframe tbody tr th {\n",
       "        vertical-align: top;\n",
       "    }\n",
       "\n",
       "    .dataframe thead th {\n",
       "        text-align: right;\n",
       "    }\n",
       "</style>\n",
       "<table border=\"1\" class=\"dataframe\">\n",
       "  <thead>\n",
       "    <tr style=\"text-align: right;\">\n",
       "      <th></th>\n",
       "      <th>Value</th>\n",
       "      <th>Std err</th>\n",
       "      <th>t-test</th>\n",
       "      <th>p-value</th>\n",
       "      <th>Rob. Std err</th>\n",
       "      <th>Rob. t-test</th>\n",
       "      <th>Rob. p-value</th>\n",
       "    </tr>\n",
       "  </thead>\n",
       "  <tbody>\n",
       "    <tr>\n",
       "      <th>beta1</th>\n",
       "      <td>0.144317</td>\n",
       "      <td>0.390742</td>\n",
       "      <td>0.369340</td>\n",
       "      <td>0.711874</td>\n",
       "      <td>0.365691</td>\n",
       "      <td>0.394641</td>\n",
       "      <td>0.693108</td>\n",
       "    </tr>\n",
       "    <tr>\n",
       "      <th>beta2</th>\n",
       "      <td>0.023428</td>\n",
       "      <td>0.036930</td>\n",
       "      <td>0.634377</td>\n",
       "      <td>0.525835</td>\n",
       "      <td>0.034256</td>\n",
       "      <td>0.683887</td>\n",
       "      <td>0.494047</td>\n",
       "    </tr>\n",
       "  </tbody>\n",
       "</table>\n",
       "</div>"
      ],
      "text/plain": [
       "          Value   Std err    t-test   p-value  Rob. Std err  Rob. t-test  \\\n",
       "beta1  0.144317  0.390742  0.369340  0.711874      0.365691     0.394641   \n",
       "beta2  0.023428  0.036930  0.634377  0.525835      0.034256     0.683887   \n",
       "\n",
       "       Rob. p-value  \n",
       "beta1      0.693108  \n",
       "beta2      0.494047  "
      ]
     },
     "execution_count": 37,
     "metadata": {},
     "output_type": "execute_result"
    }
   ],
   "source": [
    "results = myBiogeme.estimate(algorithm=opt.newtonLineSearchForBiogeme,algoParameters = {'tolerance': 0.1})\n",
    "results.getEstimatedParameters()"
   ]
  },
  {
   "cell_type": "code",
   "execution_count": 38,
   "metadata": {},
   "outputs": [
    {
     "name": "stdout",
     "output_type": "stream",
     "text": [
      "Algorithm:\tUnconstrained Newton with line search\n",
      "Relative gradient:\t0.014746524905599795\n",
      "Number of iterations:\t2\n",
      "Number of function evaluations:\t7\n",
      "Number of gradient evaluations:\t7\n",
      "Number of hessian evaluations:\t3\n",
      "Cause of termination:\tRelative gradient = 0.014746524905599795 <= 0.1\n",
      "Optimization time:\t0:00:00.003303\n"
     ]
    }
   ],
   "source": [
    "for k, v in results.data.optimizationMessages.items():\n",
    "    print(f'{k}:\\t{v}')"
   ]
  },
  {
   "cell_type": "markdown",
   "metadata": {},
   "source": [
    "## CFSQP algorithm"
   ]
  },
  {
   "cell_type": "code",
   "execution_count": 39,
   "metadata": {},
   "outputs": [
    {
     "data": {
      "text/html": [
       "<div>\n",
       "<style scoped>\n",
       "    .dataframe tbody tr th:only-of-type {\n",
       "        vertical-align: middle;\n",
       "    }\n",
       "\n",
       "    .dataframe tbody tr th {\n",
       "        vertical-align: top;\n",
       "    }\n",
       "\n",
       "    .dataframe thead th {\n",
       "        text-align: right;\n",
       "    }\n",
       "</style>\n",
       "<table border=\"1\" class=\"dataframe\">\n",
       "  <thead>\n",
       "    <tr style=\"text-align: right;\">\n",
       "      <th></th>\n",
       "      <th>Value</th>\n",
       "      <th>Std err</th>\n",
       "      <th>t-test</th>\n",
       "      <th>p-value</th>\n",
       "      <th>Rob. Std err</th>\n",
       "      <th>Rob. t-test</th>\n",
       "      <th>Rob. p-value</th>\n",
       "    </tr>\n",
       "  </thead>\n",
       "  <tbody>\n",
       "    <tr>\n",
       "      <th>beta1</th>\n",
       "      <td>0.144544</td>\n",
       "      <td>0.391018</td>\n",
       "      <td>0.369661</td>\n",
       "      <td>0.711635</td>\n",
       "      <td>0.366199</td>\n",
       "      <td>0.394714</td>\n",
       "      <td>0.693054</td>\n",
       "    </tr>\n",
       "    <tr>\n",
       "      <th>beta2</th>\n",
       "      <td>0.023502</td>\n",
       "      <td>0.036947</td>\n",
       "      <td>0.636090</td>\n",
       "      <td>0.524718</td>\n",
       "      <td>0.034280</td>\n",
       "      <td>0.685578</td>\n",
       "      <td>0.492979</td>\n",
       "    </tr>\n",
       "  </tbody>\n",
       "</table>\n",
       "</div>"
      ],
      "text/plain": [
       "          Value   Std err    t-test   p-value  Rob. Std err  Rob. t-test  \\\n",
       "beta1  0.144544  0.391018  0.369661  0.711635      0.366199     0.394714   \n",
       "beta2  0.023502  0.036947  0.636090  0.524718      0.034280     0.685578   \n",
       "\n",
       "       Rob. p-value  \n",
       "beta1      0.693054  \n",
       "beta2      0.492979  "
      ]
     },
     "execution_count": 39,
     "metadata": {},
     "output_type": "execute_result"
    }
   ],
   "source": [
    "results = myBiogeme.estimate(algorithm=None)\n",
    "results.getEstimatedParameters()"
   ]
  },
  {
   "cell_type": "code",
   "execution_count": 40,
   "metadata": {},
   "outputs": [
    {
     "name": "stdout",
     "output_type": "stream",
     "text": [
      "Algorithm:\tCFSQP\n",
      "Number of iterations:\t7\n",
      "Number fo function evaluations:\t20\n",
      "Cause of termination:\tb'Normal termination. Obj: 6.05545e-06 Const: 6.05545e-06'\n",
      "Optimization time:\t0:00:00.003038\n"
     ]
    }
   ],
   "source": [
    "for k, v in results.data.optimizationMessages.items():\n",
    "    print(f'{k}:\\t{v}')"
   ]
  },
  {
   "cell_type": "markdown",
   "metadata": {},
   "source": [
    "## Newton with trust region"
   ]
  },
  {
   "cell_type": "code",
   "execution_count": 41,
   "metadata": {},
   "outputs": [
    {
     "data": {
      "text/html": [
       "<div>\n",
       "<style scoped>\n",
       "    .dataframe tbody tr th:only-of-type {\n",
       "        vertical-align: middle;\n",
       "    }\n",
       "\n",
       "    .dataframe tbody tr th {\n",
       "        vertical-align: top;\n",
       "    }\n",
       "\n",
       "    .dataframe thead th {\n",
       "        text-align: right;\n",
       "    }\n",
       "</style>\n",
       "<table border=\"1\" class=\"dataframe\">\n",
       "  <thead>\n",
       "    <tr style=\"text-align: right;\">\n",
       "      <th></th>\n",
       "      <th>Value</th>\n",
       "      <th>Std err</th>\n",
       "      <th>t-test</th>\n",
       "      <th>p-value</th>\n",
       "      <th>Rob. Std err</th>\n",
       "      <th>Rob. t-test</th>\n",
       "      <th>Rob. p-value</th>\n",
       "    </tr>\n",
       "  </thead>\n",
       "  <tbody>\n",
       "    <tr>\n",
       "      <th>beta1</th>\n",
       "      <td>0.144545</td>\n",
       "      <td>0.391017</td>\n",
       "      <td>0.369665</td>\n",
       "      <td>0.711632</td>\n",
       "      <td>0.366198</td>\n",
       "      <td>0.394720</td>\n",
       "      <td>0.693050</td>\n",
       "    </tr>\n",
       "    <tr>\n",
       "      <th>beta2</th>\n",
       "      <td>0.023502</td>\n",
       "      <td>0.036947</td>\n",
       "      <td>0.636086</td>\n",
       "      <td>0.524720</td>\n",
       "      <td>0.034280</td>\n",
       "      <td>0.685573</td>\n",
       "      <td>0.492982</td>\n",
       "    </tr>\n",
       "  </tbody>\n",
       "</table>\n",
       "</div>"
      ],
      "text/plain": [
       "          Value   Std err    t-test   p-value  Rob. Std err  Rob. t-test  \\\n",
       "beta1  0.144545  0.391017  0.369665  0.711632      0.366198     0.394720   \n",
       "beta2  0.023502  0.036947  0.636086  0.524720      0.034280     0.685573   \n",
       "\n",
       "       Rob. p-value  \n",
       "beta1      0.693050  \n",
       "beta2      0.492982  "
      ]
     },
     "execution_count": 41,
     "metadata": {},
     "output_type": "execute_result"
    }
   ],
   "source": [
    "results = myBiogeme.estimate(algorithm=opt.newtonTrustRegionForBiogeme)\n",
    "results.getEstimatedParameters()"
   ]
  },
  {
   "cell_type": "code",
   "execution_count": 42,
   "metadata": {},
   "outputs": [
    {
     "name": "stdout",
     "output_type": "stream",
     "text": [
      "Algorithm:\tUnconstrained Newton with trust region\n",
      "Relative gradient:\t3.289367618372832e-07\n",
      "Cause of termination:\tRelative gradient = 3.289367618372832e-07 <= 6.06273418136464e-06\n",
      "Number of iterations:\t3\n",
      "Number of function evaluations:\t6\n",
      "Number of gradient evaluations:\t4\n",
      "Number of hessian evaluations:\t4\n",
      "Optimization time:\t0:00:00.003653\n"
     ]
    }
   ],
   "source": [
    "for k, v in results.data.optimizationMessages.items():\n",
    "    print(f'{k}:\\t{v}')"
   ]
  },
  {
   "cell_type": "markdown",
   "metadata": {},
   "source": [
    "We illustrate the parameters. We use the truncated conjugate gradient instead of dogleg for the trust region subproblem, starting with a small trust region of radius 0.001, and a maximum of 3 iterations."
   ]
  },
  {
   "cell_type": "code",
   "execution_count": 43,
   "metadata": {},
   "outputs": [
    {
     "data": {
      "text/html": [
       "<div>\n",
       "<style scoped>\n",
       "    .dataframe tbody tr th:only-of-type {\n",
       "        vertical-align: middle;\n",
       "    }\n",
       "\n",
       "    .dataframe tbody tr th {\n",
       "        vertical-align: top;\n",
       "    }\n",
       "\n",
       "    .dataframe thead th {\n",
       "        text-align: right;\n",
       "    }\n",
       "</style>\n",
       "<table border=\"1\" class=\"dataframe\">\n",
       "  <thead>\n",
       "    <tr style=\"text-align: right;\">\n",
       "      <th></th>\n",
       "      <th>Value</th>\n",
       "      <th>Std err</th>\n",
       "      <th>t-test</th>\n",
       "      <th>p-value</th>\n",
       "      <th>Rob. Std err</th>\n",
       "      <th>Rob. t-test</th>\n",
       "      <th>Rob. p-value</th>\n",
       "    </tr>\n",
       "  </thead>\n",
       "  <tbody>\n",
       "    <tr>\n",
       "      <th>beta1</th>\n",
       "      <td>0.000053</td>\n",
       "      <td>0.348093</td>\n",
       "      <td>0.000151</td>\n",
       "      <td>0.99988</td>\n",
       "      <td>0.308910</td>\n",
       "      <td>0.000170</td>\n",
       "      <td>0.999864</td>\n",
       "    </tr>\n",
       "    <tr>\n",
       "      <th>beta2</th>\n",
       "      <td>0.007000</td>\n",
       "      <td>0.032583</td>\n",
       "      <td>0.214830</td>\n",
       "      <td>0.82990</td>\n",
       "      <td>0.030019</td>\n",
       "      <td>0.233173</td>\n",
       "      <td>0.815627</td>\n",
       "    </tr>\n",
       "  </tbody>\n",
       "</table>\n",
       "</div>"
      ],
      "text/plain": [
       "          Value   Std err    t-test  p-value  Rob. Std err  Rob. t-test  \\\n",
       "beta1  0.000053  0.348093  0.000151  0.99988      0.308910     0.000170   \n",
       "beta2  0.007000  0.032583  0.214830  0.82990      0.030019     0.233173   \n",
       "\n",
       "       Rob. p-value  \n",
       "beta1      0.999864  \n",
       "beta2      0.815627  "
      ]
     },
     "execution_count": 43,
     "metadata": {},
     "output_type": "execute_result"
    }
   ],
   "source": [
    "results = myBiogeme.estimate(algorithm=opt.newtonTrustRegionForBiogeme,algoParameters={'dogleg':False,'radius':0.001,'maxiter':3})\n",
    "results.getEstimatedParameters()"
   ]
  },
  {
   "cell_type": "code",
   "execution_count": 44,
   "metadata": {},
   "outputs": [
    {
     "name": "stdout",
     "output_type": "stream",
     "text": [
      "Algorithm:\tUnconstrained Newton with trust region\n",
      "Relative gradient:\t2.0182963630997235\n",
      "Cause of termination:\tMaximum number of iterations reached: 3\n",
      "Number of iterations:\t3\n",
      "Number of function evaluations:\t6\n",
      "Number of gradient evaluations:\t4\n",
      "Number of hessian evaluations:\t4\n",
      "Optimization time:\t0:00:00.002635\n"
     ]
    }
   ],
   "source": [
    "for k, v in results.data.optimizationMessages.items():\n",
    "    print(f'{k}:\\t{v}')"
   ]
  },
  {
   "cell_type": "markdown",
   "metadata": {},
   "source": [
    "Changing the requested precision\n"
   ]
  },
  {
   "cell_type": "code",
   "execution_count": 45,
   "metadata": {},
   "outputs": [
    {
     "data": {
      "text/html": [
       "<div>\n",
       "<style scoped>\n",
       "    .dataframe tbody tr th:only-of-type {\n",
       "        vertical-align: middle;\n",
       "    }\n",
       "\n",
       "    .dataframe tbody tr th {\n",
       "        vertical-align: top;\n",
       "    }\n",
       "\n",
       "    .dataframe thead th {\n",
       "        text-align: right;\n",
       "    }\n",
       "</style>\n",
       "<table border=\"1\" class=\"dataframe\">\n",
       "  <thead>\n",
       "    <tr style=\"text-align: right;\">\n",
       "      <th></th>\n",
       "      <th>Value</th>\n",
       "      <th>Std err</th>\n",
       "      <th>t-test</th>\n",
       "      <th>p-value</th>\n",
       "      <th>Rob. Std err</th>\n",
       "      <th>Rob. t-test</th>\n",
       "      <th>Rob. p-value</th>\n",
       "    </tr>\n",
       "  </thead>\n",
       "  <tbody>\n",
       "    <tr>\n",
       "      <th>beta1</th>\n",
       "      <td>0.144317</td>\n",
       "      <td>0.390742</td>\n",
       "      <td>0.369340</td>\n",
       "      <td>0.711874</td>\n",
       "      <td>0.365691</td>\n",
       "      <td>0.394641</td>\n",
       "      <td>0.693108</td>\n",
       "    </tr>\n",
       "    <tr>\n",
       "      <th>beta2</th>\n",
       "      <td>0.023428</td>\n",
       "      <td>0.036930</td>\n",
       "      <td>0.634377</td>\n",
       "      <td>0.525835</td>\n",
       "      <td>0.034256</td>\n",
       "      <td>0.683887</td>\n",
       "      <td>0.494047</td>\n",
       "    </tr>\n",
       "  </tbody>\n",
       "</table>\n",
       "</div>"
      ],
      "text/plain": [
       "          Value   Std err    t-test   p-value  Rob. Std err  Rob. t-test  \\\n",
       "beta1  0.144317  0.390742  0.369340  0.711874      0.365691     0.394641   \n",
       "beta2  0.023428  0.036930  0.634377  0.525835      0.034256     0.683887   \n",
       "\n",
       "       Rob. p-value  \n",
       "beta1      0.693108  \n",
       "beta2      0.494047  "
      ]
     },
     "execution_count": 45,
     "metadata": {},
     "output_type": "execute_result"
    }
   ],
   "source": [
    "results = myBiogeme.estimate(algorithm=opt.newtonTrustRegionForBiogeme,algoParameters={'tolerance':0.1})\n",
    "results.getEstimatedParameters()"
   ]
  },
  {
   "cell_type": "code",
   "execution_count": 46,
   "metadata": {},
   "outputs": [
    {
     "name": "stdout",
     "output_type": "stream",
     "text": [
      "Algorithm:\tUnconstrained Newton with trust region\n",
      "Relative gradient:\t0.014746524905603029\n",
      "Cause of termination:\tRelative gradient = 0.014746524905603029 <= 0.1\n",
      "Number of iterations:\t2\n",
      "Number of function evaluations:\t4\n",
      "Number of gradient evaluations:\t3\n",
      "Number of hessian evaluations:\t3\n",
      "Optimization time:\t0:00:00.002786\n"
     ]
    }
   ],
   "source": [
    "for k, v in results.data.optimizationMessages.items():\n",
    "    print(f'{k}:\\t{v}')"
   ]
  },
  {
   "cell_type": "markdown",
   "metadata": {},
   "source": [
    "## BFGS with line search"
   ]
  },
  {
   "cell_type": "code",
   "execution_count": 47,
   "metadata": {},
   "outputs": [
    {
     "data": {
      "text/html": [
       "<div>\n",
       "<style scoped>\n",
       "    .dataframe tbody tr th:only-of-type {\n",
       "        vertical-align: middle;\n",
       "    }\n",
       "\n",
       "    .dataframe tbody tr th {\n",
       "        vertical-align: top;\n",
       "    }\n",
       "\n",
       "    .dataframe thead th {\n",
       "        text-align: right;\n",
       "    }\n",
       "</style>\n",
       "<table border=\"1\" class=\"dataframe\">\n",
       "  <thead>\n",
       "    <tr style=\"text-align: right;\">\n",
       "      <th></th>\n",
       "      <th>Value</th>\n",
       "      <th>Std err</th>\n",
       "      <th>t-test</th>\n",
       "      <th>p-value</th>\n",
       "      <th>Rob. Std err</th>\n",
       "      <th>Rob. t-test</th>\n",
       "      <th>Rob. p-value</th>\n",
       "    </tr>\n",
       "  </thead>\n",
       "  <tbody>\n",
       "    <tr>\n",
       "      <th>beta1</th>\n",
       "      <td>0.144545</td>\n",
       "      <td>0.391017</td>\n",
       "      <td>0.369665</td>\n",
       "      <td>0.711632</td>\n",
       "      <td>0.366198</td>\n",
       "      <td>0.394720</td>\n",
       "      <td>0.693050</td>\n",
       "    </tr>\n",
       "    <tr>\n",
       "      <th>beta2</th>\n",
       "      <td>0.023502</td>\n",
       "      <td>0.036947</td>\n",
       "      <td>0.636086</td>\n",
       "      <td>0.524720</td>\n",
       "      <td>0.034280</td>\n",
       "      <td>0.685573</td>\n",
       "      <td>0.492982</td>\n",
       "    </tr>\n",
       "  </tbody>\n",
       "</table>\n",
       "</div>"
      ],
      "text/plain": [
       "          Value   Std err    t-test   p-value  Rob. Std err  Rob. t-test  \\\n",
       "beta1  0.144545  0.391017  0.369665  0.711632      0.366198     0.394720   \n",
       "beta2  0.023502  0.036947  0.636086  0.524720      0.034280     0.685573   \n",
       "\n",
       "       Rob. p-value  \n",
       "beta1      0.693050  \n",
       "beta2      0.492982  "
      ]
     },
     "execution_count": 47,
     "metadata": {},
     "output_type": "execute_result"
    }
   ],
   "source": [
    "results = myBiogeme.estimate(algorithm=opt.bfgsLineSearchForBiogeme)\n",
    "results.getEstimatedParameters()"
   ]
  },
  {
   "cell_type": "code",
   "execution_count": 48,
   "metadata": {},
   "outputs": [
    {
     "name": "stdout",
     "output_type": "stream",
     "text": [
      "Algorithm:\tInverse BFGS with line search\n",
      "Relative gradient:\t5.933646980468922e-07\n",
      "Cause of termination:\tRelative gradient = 5.933646980468922e-07 <= 6.06273418136464e-06\n",
      "Number of iterations:\t5\n",
      "Number of function evaluations:\t28\n",
      "Number of gradient evaluations:\t6\n",
      "Optimization time:\t0:00:00.006753\n"
     ]
    }
   ],
   "source": [
    "for k, v in results.data.optimizationMessages.items():\n",
    "    print(f'{k}:\\t{v}')"
   ]
  },
  {
   "cell_type": "markdown",
   "metadata": {},
   "source": [
    "## BFGS with trust region"
   ]
  },
  {
   "cell_type": "code",
   "execution_count": 49,
   "metadata": {},
   "outputs": [
    {
     "data": {
      "text/html": [
       "<div>\n",
       "<style scoped>\n",
       "    .dataframe tbody tr th:only-of-type {\n",
       "        vertical-align: middle;\n",
       "    }\n",
       "\n",
       "    .dataframe tbody tr th {\n",
       "        vertical-align: top;\n",
       "    }\n",
       "\n",
       "    .dataframe thead th {\n",
       "        text-align: right;\n",
       "    }\n",
       "</style>\n",
       "<table border=\"1\" class=\"dataframe\">\n",
       "  <thead>\n",
       "    <tr style=\"text-align: right;\">\n",
       "      <th></th>\n",
       "      <th>Value</th>\n",
       "      <th>Std err</th>\n",
       "      <th>t-test</th>\n",
       "      <th>p-value</th>\n",
       "      <th>Rob. Std err</th>\n",
       "      <th>Rob. t-test</th>\n",
       "      <th>Rob. p-value</th>\n",
       "    </tr>\n",
       "  </thead>\n",
       "  <tbody>\n",
       "    <tr>\n",
       "      <th>beta1</th>\n",
       "      <td>0.144546</td>\n",
       "      <td>0.391018</td>\n",
       "      <td>0.369667</td>\n",
       "      <td>0.711631</td>\n",
       "      <td>0.366198</td>\n",
       "      <td>0.394721</td>\n",
       "      <td>0.693048</td>\n",
       "    </tr>\n",
       "    <tr>\n",
       "      <th>beta2</th>\n",
       "      <td>0.023502</td>\n",
       "      <td>0.036947</td>\n",
       "      <td>0.636087</td>\n",
       "      <td>0.524720</td>\n",
       "      <td>0.034280</td>\n",
       "      <td>0.685574</td>\n",
       "      <td>0.492982</td>\n",
       "    </tr>\n",
       "  </tbody>\n",
       "</table>\n",
       "</div>"
      ],
      "text/plain": [
       "          Value   Std err    t-test   p-value  Rob. Std err  Rob. t-test  \\\n",
       "beta1  0.144546  0.391018  0.369667  0.711631      0.366198     0.394721   \n",
       "beta2  0.023502  0.036947  0.636087  0.524720      0.034280     0.685574   \n",
       "\n",
       "       Rob. p-value  \n",
       "beta1      0.693048  \n",
       "beta2      0.492982  "
      ]
     },
     "execution_count": 49,
     "metadata": {},
     "output_type": "execute_result"
    }
   ],
   "source": [
    "results = myBiogeme.estimate(algorithm=opt.bfgsTrustRegionForBiogeme)\n",
    "results.getEstimatedParameters()"
   ]
  },
  {
   "cell_type": "code",
   "execution_count": 50,
   "metadata": {},
   "outputs": [
    {
     "name": "stdout",
     "output_type": "stream",
     "text": [
      "Algorithm:\tBFGS with trust region\n",
      "Relative gradient:\t5.039394505504404e-07\n",
      "Cause of termination:\tRelative gradient = 5.039394505504404e-07 <= 6.06273418136464e-06\n",
      "Number of iterations:\t14\n",
      "Number of function evaluations:\t23\n",
      "Number of gradient evaluations:\t9\n",
      "Optimization time:\t0:00:00.012047\n"
     ]
    }
   ],
   "source": [
    "for k, v in results.data.optimizationMessages.items():\n",
    "    print(f'{k}:\\t{v}')"
   ]
  },
  {
   "cell_type": "markdown",
   "metadata": {},
   "source": [
    "## Newton/BFGS with trust region for simple bounds"
   ]
  },
  {
   "cell_type": "markdown",
   "metadata": {},
   "source": [
    "This is the default algorithm used by Biogeme. It is the implementation of the algorithm proposed by [Conn et al. (1988)](https://www.ams.org/journals/mcom/1988-50-182/S0025-5718-1988-0929544-3/S0025-5718-1988-0929544-3.pdf)."
   ]
  },
  {
   "cell_type": "code",
   "execution_count": 51,
   "metadata": {},
   "outputs": [
    {
     "name": "stdout",
     "output_type": "stream",
     "text": [
      "[18:38:00] < General >   Log likelihood (N=5):  -5.493061\n",
      "[18:38:00] < Detailed >  ** Optimization: Newton with trust region for simple bounds\n",
      "[18:38:00] < Debug >     beta1:          0\n",
      "[18:38:00] < Debug >     beta2:          0\n",
      "[18:38:00] < General >   Log likelihood (N=5):  -5.493061 Gradient norm:      2e+01 Hessian norm:       1e+03 \n",
      "[18:38:00] < Debug >     xk = [0.0, 0.0]\n",
      "[18:38:00] < Debug >     f(xk) = 1.0986122886681098\n",
      "[18:38:00] < Debug >     xc = [0.10909091 0.02181818]\n",
      "[18:38:00] < General >   Log likelihood (N=5):  -5.271161\n",
      "[18:38:00] < Debug >     f(xc) = 1.0542321665399093\n",
      "[18:38:00] < Debug >     Step length: 0.1112513348420244\n",
      "[18:38:00] < Debug >     rho = 0.04438012212820053 / 0.043636363636363605 = 1.0170444654379296\n",
      "[18:38:00] < Debug >     beta1:  0.1090909\n",
      "[18:38:00] < Debug >     beta2: 0.02181818\n",
      "[18:38:00] < General >   Log likelihood (N=5):  -5.271161 Gradient norm:        0.8 Hessian norm:       1e+03 \n",
      "[18:38:00] < Detailed >  1 f=  1.054232 projected rel. grad.=  0.13 delta=     2 rho=     1 ++\n",
      "[18:38:00] < Debug >     xk = [0.10909091 0.02181818]\n",
      "[18:38:00] < Debug >     f(xk) = 1.0542321665399093\n",
      "[18:38:00] < Debug >     xc = [0.14431663 0.0234275 ]\n",
      "[18:38:00] < General >   Log likelihood (N=5):  -5.266802\n",
      "[18:38:00] < Debug >     f(xc) = 1.0533603886275724\n",
      "[18:38:00] < Debug >     Step length: 0.03526246826407367\n",
      "[18:38:00] < Debug >     rho = 0.0008717779123368352 / 0.0008718705982151242 = 0.9998936930795937\n",
      "[18:38:00] < Debug >     beta1:  0.1443166\n",
      "[18:38:00] < Debug >     beta2:  0.0234275\n",
      "[18:38:00] < General >   Log likelihood (N=5):  -5.266802 Gradient norm:       0.08 Hessian norm:       1e+03 \n",
      "[18:38:00] < Detailed >  2 f=   1.05336 projected rel. grad.= 0.015 delta=     4 rho=     1 ++\n",
      "[18:38:00] < Debug >     xk = [0.14431663 0.0234275 ]\n",
      "[18:38:00] < Debug >     f(xk) = 1.0533603886275724\n",
      "[18:38:00] < Debug >     xc = [0.14454546 0.02350153]\n",
      "[18:38:00] < General >   Log likelihood (N=5):  -5.266799\n",
      "[18:38:00] < Debug >     f(xc) = 1.0533598738280066\n",
      "[18:38:00] < Debug >     Step length: 0.0002404983624042395\n",
      "[18:38:00] < Debug >     rho = 5.147995658649762e-07 / 5.147650077187052e-07 = 1.00006713382952\n",
      "[18:38:00] < Debug >     beta1:  0.1445455\n",
      "[18:38:00] < Debug >     beta2: 0.02350153\n",
      "[18:38:00] < General >   Log likelihood (N=5):  -5.266799 Gradient norm:      2e-06 Hessian norm:       1e+03 \n",
      "[18:38:00] < Detailed >  3 f=   1.05336 projected rel. grad.=3.3e-07 delta=     8 rho=     1 ++\n",
      "[18:38:00] < Detailed >  Proportion of Hessian calculation: 100.0%\n",
      "[18:38:00] < Debug >     beta1:  0.1445455\n",
      "[18:38:00] < Debug >     beta2: 0.02350153\n",
      "[18:38:00] < General >   Log likelihood (N=5):  -5.266799 Gradient norm:      2e-06 Hessian norm:       1e+03 BHHH norm:       1e+03\n",
      "[18:38:00] < General >   Results saved in file simpleExample~118.html\n",
      "[18:38:00] < General >   Results saved in file simpleExample~122.pickle\n"
     ]
    },
    {
     "data": {
      "text/html": [
       "<div>\n",
       "<style scoped>\n",
       "    .dataframe tbody tr th:only-of-type {\n",
       "        vertical-align: middle;\n",
       "    }\n",
       "\n",
       "    .dataframe tbody tr th {\n",
       "        vertical-align: top;\n",
       "    }\n",
       "\n",
       "    .dataframe thead th {\n",
       "        text-align: right;\n",
       "    }\n",
       "</style>\n",
       "<table border=\"1\" class=\"dataframe\">\n",
       "  <thead>\n",
       "    <tr style=\"text-align: right;\">\n",
       "      <th></th>\n",
       "      <th>Value</th>\n",
       "      <th>Std err</th>\n",
       "      <th>t-test</th>\n",
       "      <th>p-value</th>\n",
       "      <th>Rob. Std err</th>\n",
       "      <th>Rob. t-test</th>\n",
       "      <th>Rob. p-value</th>\n",
       "    </tr>\n",
       "  </thead>\n",
       "  <tbody>\n",
       "    <tr>\n",
       "      <th>beta1</th>\n",
       "      <td>0.144545</td>\n",
       "      <td>0.391017</td>\n",
       "      <td>0.369665</td>\n",
       "      <td>0.711632</td>\n",
       "      <td>0.366198</td>\n",
       "      <td>0.394720</td>\n",
       "      <td>0.693050</td>\n",
       "    </tr>\n",
       "    <tr>\n",
       "      <th>beta2</th>\n",
       "      <td>0.023502</td>\n",
       "      <td>0.036947</td>\n",
       "      <td>0.636086</td>\n",
       "      <td>0.524720</td>\n",
       "      <td>0.034280</td>\n",
       "      <td>0.685573</td>\n",
       "      <td>0.492982</td>\n",
       "    </tr>\n",
       "  </tbody>\n",
       "</table>\n",
       "</div>"
      ],
      "text/plain": [
       "          Value   Std err    t-test   p-value  Rob. Std err  Rob. t-test  \\\n",
       "beta1  0.144545  0.391017  0.369665  0.711632      0.366198     0.394720   \n",
       "beta2  0.023502  0.036947  0.636086  0.524720      0.034280     0.685573   \n",
       "\n",
       "       Rob. p-value  \n",
       "beta1      0.693050  \n",
       "beta2      0.492982  "
      ]
     },
     "execution_count": 51,
     "metadata": {},
     "output_type": "execute_result"
    }
   ],
   "source": [
    "logger.setDebug()\n",
    "results = myBiogeme.estimate(algorithm=opt.simpleBoundsNewtonAlgorithmForBiogeme)\n",
    "results.getEstimatedParameters()"
   ]
  },
  {
   "cell_type": "code",
   "execution_count": 52,
   "metadata": {},
   "outputs": [
    {
     "name": "stdout",
     "output_type": "stream",
     "text": [
      "Algorithm:\tNewton with trust region for simple bound constraints\n",
      "Relative projected gradient:\t3.2893676168569793e-07\n",
      "Number of iterations:\t3\n",
      "Number of function evaluations:\t10\n",
      "Number of gradient evaluations:\t4\n",
      "Number of hessian evaluations:\t4\n",
      "Cause of termination:\tRelative gradient = 3.2893676168569793e-07 <= 6.06273418136464e-06\n",
      "Optimization time:\t0:00:00.007752\n"
     ]
    }
   ],
   "source": [
    "for k, v in results.data.optimizationMessages.items():\n",
    "    print(f'{k}:\\t{v}')"
   ]
  },
  {
   "cell_type": "markdown",
   "metadata": {},
   "source": [
    "When the second derivatives are too computationally expensive to calculate, it is possible to avoid calculating them at each successful iteration. The parameter 'proportionAnalyticalHessian' allows to control that."
   ]
  },
  {
   "cell_type": "code",
   "execution_count": 53,
   "metadata": {},
   "outputs": [
    {
     "name": "stdout",
     "output_type": "stream",
     "text": [
      "[18:38:00] < General >   Log likelihood (N=5):  -5.493061\n",
      "[18:38:00] < Detailed >  ** Optimization: Hybrid Newton {100*proportionTrueHessian}%/BFGS with trust region for simple bounds\n",
      "[18:38:00] < Debug >     beta1:          0\n",
      "[18:38:00] < Debug >     beta2:          0\n",
      "[18:38:00] < General >   Log likelihood (N=5):  -5.493061 Gradient norm:      2e+01 Hessian norm:       1e+03 \n",
      "[18:38:00] < Debug >     xk = [0.0, 0.0]\n",
      "[18:38:00] < Debug >     f(xk) = 1.0986122886681098\n",
      "[18:38:00] < Debug >     xc = [0.10909091 0.02181818]\n",
      "[18:38:00] < General >   Log likelihood (N=5):  -5.271161\n",
      "[18:38:00] < Debug >     f(xc) = 1.0542321665399093\n",
      "[18:38:00] < Debug >     Step length: 0.1112513348420244\n",
      "[18:38:00] < Debug >     rho = 0.04438012212820053 / 0.043636363636363605 = 1.0170444654379296\n",
      "[18:38:00] < Debug >     beta1:  0.1090909\n",
      "[18:38:00] < Debug >     beta2: 0.02181818\n",
      "[18:38:00] < General >   Log likelihood (N=5):  -5.271161 Gradient norm:        0.8  \n",
      "[18:38:00] < Detailed >  1 f=  1.054232 projected rel. grad.=  0.13 delta=     2 rho=     1 ++\n",
      "[18:38:00] < Debug >     xk = [0.10909091 0.02181818]\n",
      "[18:38:00] < Debug >     f(xk) = 1.0542321665399093\n",
      "[18:38:00] < Debug >     xc = [0.1384003  0.02292065]\n",
      "[18:38:00] < General >   Log likelihood (N=5):  -5.266947\n",
      "[18:38:00] < Debug >     f(xc) = 1.053389421454174\n",
      "[18:38:00] < Debug >     Step length: 0.02933011588336685\n",
      "[18:38:00] < Debug >     rho = 0.0008427450857353413 / 0.0007428319950706858 = 1.1345029445792087\n",
      "[18:38:00] < Debug >     beta1:  0.1384003\n",
      "[18:38:00] < Debug >     beta2: 0.02292065\n",
      "[18:38:00] < General >   Log likelihood (N=5):  -5.266947 Gradient norm:        0.3 Hessian norm:       1e+03 \n",
      "[18:38:00] < Detailed >  2 f=  1.053389 projected rel. grad.= 0.047 delta=     4 rho=   1.1 ++\n",
      "[18:38:00] < Debug >     xk = [0.1384003  0.02292065]\n",
      "[18:38:00] < Debug >     f(xk) = 1.053389421454174\n",
      "[18:38:00] < Debug >     xc = [0.14450273 0.02349707]\n",
      "[18:38:00] < General >   Log likelihood (N=5):  -5.266799\n",
      "[18:38:00] < Debug >     f(xc) = 1.05335987543974\n",
      "[18:38:00] < Debug >     Step length: 0.006129597472650199\n",
      "[18:38:00] < Debug >     rho = 2.9546014433945444e-05 / 2.9402795794333182e-05 = 1.0048709190994642\n",
      "[18:38:00] < Debug >     beta1:  0.1445027\n",
      "[18:38:00] < Debug >     beta2: 0.02349707\n",
      "[18:38:00] < General >   Log likelihood (N=5):  -5.266799 Gradient norm:      0.002  \n",
      "[18:38:00] < Detailed >  3 f=   1.05336 projected rel. grad.=0.00043 delta=     8 rho=     1 ++\n",
      "[18:38:00] < Debug >     xk = [0.14450273 0.02349707]\n",
      "[18:38:00] < Debug >     f(xk) = 1.05335987543974\n",
      "[18:38:00] < Debug >     xc = [0.14454541 0.02350152]\n",
      "[18:38:00] < General >   Log likelihood (N=5):  -5.266799\n",
      "[18:38:00] < Debug >     f(xc) = 1.0533598738280407\n",
      "[18:38:00] < Debug >     Step length: 4.291223768311972e-05\n",
      "[18:38:00] < Debug >     rho = 1.6116992185288836e-09 / 1.5998344232526354e-09 = 1.0074162645232536\n",
      "[18:38:00] < Debug >     beta1:  0.1445454\n",
      "[18:38:00] < Debug >     beta2: 0.02350152\n",
      "[18:38:00] < General >   Log likelihood (N=5):  -5.266799 Gradient norm:      2e-05 Hessian norm:       1e+03 \n",
      "[18:38:00] < Detailed >  4 f=   1.05336 projected rel. grad.=2.8e-06 delta=    16 rho=     1 ++\n",
      "[18:38:00] < Detailed >  Proportion of Hessian calculation: 60.0%\n",
      "[18:38:00] < Debug >     beta1:  0.1445454\n",
      "[18:38:00] < Debug >     beta2: 0.02350152\n",
      "[18:38:00] < General >   Log likelihood (N=5):  -5.266799 Gradient norm:      2e-05 Hessian norm:       1e+03 BHHH norm:       1e+03\n",
      "[18:38:00] < General >   Results saved in file simpleExample~119.html\n",
      "[18:38:00] < General >   Results saved in file simpleExample~123.pickle\n"
     ]
    },
    {
     "data": {
      "text/html": [
       "<div>\n",
       "<style scoped>\n",
       "    .dataframe tbody tr th:only-of-type {\n",
       "        vertical-align: middle;\n",
       "    }\n",
       "\n",
       "    .dataframe tbody tr th {\n",
       "        vertical-align: top;\n",
       "    }\n",
       "\n",
       "    .dataframe thead th {\n",
       "        text-align: right;\n",
       "    }\n",
       "</style>\n",
       "<table border=\"1\" class=\"dataframe\">\n",
       "  <thead>\n",
       "    <tr style=\"text-align: right;\">\n",
       "      <th></th>\n",
       "      <th>Value</th>\n",
       "      <th>Std err</th>\n",
       "      <th>t-test</th>\n",
       "      <th>p-value</th>\n",
       "      <th>Rob. Std err</th>\n",
       "      <th>Rob. t-test</th>\n",
       "      <th>Rob. p-value</th>\n",
       "    </tr>\n",
       "  </thead>\n",
       "  <tbody>\n",
       "    <tr>\n",
       "      <th>beta1</th>\n",
       "      <td>0.144545</td>\n",
       "      <td>0.391017</td>\n",
       "      <td>0.369665</td>\n",
       "      <td>0.711632</td>\n",
       "      <td>0.366198</td>\n",
       "      <td>0.394720</td>\n",
       "      <td>0.693050</td>\n",
       "    </tr>\n",
       "    <tr>\n",
       "      <th>beta2</th>\n",
       "      <td>0.023502</td>\n",
       "      <td>0.036947</td>\n",
       "      <td>0.636086</td>\n",
       "      <td>0.524721</td>\n",
       "      <td>0.034280</td>\n",
       "      <td>0.685573</td>\n",
       "      <td>0.492982</td>\n",
       "    </tr>\n",
       "  </tbody>\n",
       "</table>\n",
       "</div>"
      ],
      "text/plain": [
       "          Value   Std err    t-test   p-value  Rob. Std err  Rob. t-test  \\\n",
       "beta1  0.144545  0.391017  0.369665  0.711632      0.366198     0.394720   \n",
       "beta2  0.023502  0.036947  0.636086  0.524721      0.034280     0.685573   \n",
       "\n",
       "       Rob. p-value  \n",
       "beta1      0.693050  \n",
       "beta2      0.492982  "
      ]
     },
     "execution_count": 53,
     "metadata": {},
     "output_type": "execute_result"
    }
   ],
   "source": [
    "results = myBiogeme.estimate(algorithm=opt.simpleBoundsNewtonAlgorithmForBiogeme, algoParameters = {'proportionAnalyticalHessian': 0.5})\n",
    "results.getEstimatedParameters()"
   ]
  },
  {
   "cell_type": "code",
   "execution_count": 54,
   "metadata": {},
   "outputs": [
    {
     "name": "stdout",
     "output_type": "stream",
     "text": [
      "Algorithm:\tNewton with trust region for simple bound constraints\n",
      "Relative projected gradient:\t2.790944329115531e-06\n",
      "Number of iterations:\t4\n",
      "Number of function evaluations:\t13\n",
      "Number of gradient evaluations:\t5\n",
      "Number of hessian evaluations:\t3\n",
      "Cause of termination:\tRelative gradient = 2.790944329115531e-06 <= 6.06273418136464e-06\n",
      "Optimization time:\t0:00:00.008283\n"
     ]
    }
   ],
   "source": [
    "for k, v in results.data.optimizationMessages.items():\n",
    "    print(f'{k}:\\t{v}')"
   ]
  },
  {
   "cell_type": "markdown",
   "metadata": {},
   "source": [
    "If the parameter is set to zero, the second derivatives are not used at all, and the algorithm relies only on the BFGS update."
   ]
  },
  {
   "cell_type": "code",
   "execution_count": 55,
   "metadata": {},
   "outputs": [
    {
     "name": "stdout",
     "output_type": "stream",
     "text": [
      "[18:38:00] < General >   Log likelihood (N=5):  -5.493061\n",
      "[18:38:00] < Detailed >  ** Optimization: BFGS with trust region for simple bounds\n",
      "[18:38:00] < Debug >     beta1:          0\n",
      "[18:38:00] < Debug >     beta2:          0\n",
      "[18:38:00] < General >   Log likelihood (N=5):  -5.493061 Gradient norm:      2e+01  \n",
      "[18:38:00] < Debug >     xk = [0.0, 0.0]\n",
      "[18:38:00] < Debug >     f(xk) = 1.0986122886681098\n",
      "[18:38:00] < Debug >     xc = [1.11022302e-17 1.00000000e+00]\n",
      "[18:38:00] < General >   Log likelihood (N=5):  -80.00009\n",
      "[18:38:00] < Debug >     f(xc) = 16.000018159971994\n",
      "[18:38:00] < Debug >     Step length: 1.0\n",
      "[18:38:00] < Debug >     rho = -14.901405871303885 / 3.4999999999999987 = -4.257544534658255\n",
      "[18:38:00] < Detailed >  1 f=  1.098612 projected rel. grad.=   3.6 delta=   0.5 rho=  -4.3 -\n",
      "[18:38:00] < Debug >     xk = [0.0, 0.0]\n",
      "[18:38:00] < Debug >     f(xk) = 1.0986122886681098\n",
      "[18:38:00] < Debug >     xc = [5.55111512e-18 5.00000000e-01]\n",
      "[18:38:00] < General >   Log likelihood (N=5):  -40.01348\n",
      "[18:38:00] < Debug >     f(xc) = 8.002695462682691\n",
      "[18:38:00] < Debug >     Step length: 0.5\n",
      "[18:38:00] < Debug >     rho = -6.904083174014581 / 1.8749999999999993 = -3.682177692807778\n",
      "[18:38:00] < Detailed >  2 f=  1.098612 projected rel. grad.=   3.6 delta=  0.25 rho=  -3.7 -\n",
      "[18:38:00] < Debug >     xk = [0.0, 0.0]\n",
      "[18:38:00] < Debug >     f(xk) = 1.0986122886681098\n",
      "[18:38:00] < Debug >     xc = [2.77555756e-18 2.50000000e-01]\n",
      "[18:38:00] < General >   Log likelihood (N=5):   -20.1666\n",
      "[18:38:00] < Debug >     f(xc) = 4.033319618503015\n",
      "[18:38:00] < Debug >     Step length: 0.25\n",
      "[18:38:00] < Debug >     rho = -2.9347073298349047 / 0.9687499999999997 = -3.029375308216677\n",
      "[18:38:00] < Detailed >  3 f=  1.098612 projected rel. grad.=   3.6 delta=  0.12 rho=    -3 -\n",
      "[18:38:00] < Debug >     xk = [0.0, 0.0]\n",
      "[18:38:00] < Debug >     f(xk) = 1.0986122886681098\n",
      "[18:38:00] < Debug >     xc = [1.38777878e-18 1.25000000e-01]\n",
      "[18:38:00] < General >   Log likelihood (N=5):   -10.6682\n",
      "[18:38:00] < Debug >     f(xc) = 2.133640262611633\n",
      "[18:38:00] < Debug >     Step length: 0.125\n",
      "[18:38:00] < Debug >     rho = -1.0350279739435233 / 0.49218749999999983 = -2.1029139788058893\n",
      "[18:38:00] < Detailed >  4 f=  1.098612 projected rel. grad.=   3.6 delta= 0.062 rho=  -2.1 -\n",
      "[18:38:00] < Debug >     xk = [0.0, 0.0]\n",
      "[18:38:00] < Debug >     f(xk) = 1.0986122886681098\n",
      "[18:38:00] < Debug >     xc = [6.9388939e-19 6.2500000e-02]\n",
      "[18:38:00] < General >   Log likelihood (N=5):  -6.684538\n",
      "[18:38:00] < Debug >     f(xc) = 1.3369075917491133\n",
      "[18:38:00] < Debug >     Step length: 0.0625\n",
      "[18:38:00] < Debug >     rho = -0.23829530308100355 / 0.24804687499999992 = -0.9606865762005816\n",
      "[18:38:00] < Detailed >  5 f=  1.098612 projected rel. grad.=   3.6 delta= 0.031 rho= -0.96 -\n",
      "[18:38:00] < Debug >     xk = [0.0, 0.0]\n",
      "[18:38:00] < Debug >     f(xk) = 1.0986122886681098\n",
      "[18:38:00] < Debug >     xc = [3.46944695e-19 3.12500000e-02]\n",
      "[18:38:00] < General >   Log likelihood (N=5):  -5.510791\n",
      "[18:38:00] < Debug >     f(xc) = 1.1021582174874147\n",
      "[18:38:00] < Debug >     Step length: 0.03125\n",
      "[18:38:00] < Debug >     rho = -0.003545928819304933 / 0.12451171874999996 = -0.02847867538014316\n",
      "[18:38:00] < Detailed >  6 f=  1.098612 projected rel. grad.=   3.6 delta= 0.016 rho=-0.028 -\n",
      "[18:38:00] < Debug >     xk = [0.0, 0.0]\n",
      "[18:38:00] < Debug >     f(xk) = 1.0986122886681098\n",
      "[18:38:00] < Debug >     xc = [1.73472348e-19 1.56250000e-02]\n",
      "[18:38:00] < General >   Log likelihood (N=5):  -5.338171\n",
      "[18:38:00] < Debug >     f(xc) = 1.0676342437635533\n",
      "[18:38:00] < Debug >     Step length: 0.015625\n",
      "[18:38:00] < Debug >     rho = 0.030978044904556468 / 0.06237792968749998 = 0.4966186768260796\n",
      "[18:38:00] < Debug >     beta1: 1.734723e-19\n",
      "[18:38:00] < Debug >     beta2:   0.015625\n",
      "[18:38:00] < General >   Log likelihood (N=5):  -5.338171 Gradient norm:          1  \n",
      "[18:38:00] < Detailed >  7 f=  1.067634 projected rel. grad.=  0.19 delta= 0.016 rho=   0.5 +\n",
      "[18:38:00] < Debug >     xk = [1.73472348e-19 1.56250000e-02]\n",
      "[18:38:00] < Debug >     f(xk) = 1.0676342437635533\n",
      "[18:38:00] < Debug >     xc = [0.015625   0.01637347]\n",
      "[18:38:00] < General >   Log likelihood (N=5):  -5.323391\n",
      "[18:38:00] < Debug >     f(xc) = 1.0646781919740227\n",
      "[18:38:00] < Debug >     Step length: 0.01564291625649151\n",
      "[18:38:00] < Debug >     rho = 0.0029560517895306226 / 0.003006407006312353 = 0.9832506986991439\n",
      "[18:38:00] < Debug >     beta1:   0.015625\n",
      "[18:38:00] < Debug >     beta2: 0.01637347\n",
      "[18:38:00] < General >   Log likelihood (N=5):  -5.323391 Gradient norm:          1  \n",
      "[18:38:00] < Detailed >  8 f=  1.064678 projected rel. grad.=  0.17 delta= 0.031 rho=  0.98 ++\n",
      "[18:38:00] < Debug >     xk = [0.015625   0.01637347]\n",
      "[18:38:00] < Debug >     f(xk) = 1.0646781919740227\n",
      "[18:38:00] < Debug >     xc = [0.046875   0.01787201]\n",
      "[18:38:00] < General >   Log likelihood (N=5):  -5.299015\n",
      "[18:38:00] < Debug >     f(xc) = 1.0598030492059998\n",
      "[18:38:00] < Debug >     Step length: 0.03128590946843452\n",
      "[18:38:00] < Debug >     rho = 0.004875142768022922 / 0.004876195971405799 = 0.999784011268404\n",
      "[18:38:00] < Debug >     beta1:   0.046875\n",
      "[18:38:00] < Debug >     beta2: 0.01787201\n",
      "[18:38:00] < General >   Log likelihood (N=5):  -5.299015 Gradient norm:        0.7  \n",
      "[18:38:00] < Detailed >  9 f=  1.059803 projected rel. grad.=  0.12 delta= 0.062 rho=     1 ++\n",
      "[18:38:00] < Debug >     xk = [0.046875   0.01787201]\n",
      "[18:38:00] < Debug >     f(xk) = 1.0598030492059998\n",
      "[18:38:00] < Debug >     xc = [0.109375   0.02107497]\n",
      "[18:38:00] < General >   Log likelihood (N=5):   -5.27093\n",
      "[18:38:00] < Debug >     f(xc) = 1.0541859262327151\n",
      "[18:38:00] < Debug >     Step length: 0.06258201800872285\n",
      "[18:38:00] < Debug >     rho = 0.0056171229732846495 / 0.005601735721319848 = 1.0027468721714663\n",
      "[18:38:00] < Debug >     beta1:   0.109375\n",
      "[18:38:00] < Debug >     beta2: 0.02107497\n",
      "[18:38:00] < General >   Log likelihood (N=5):   -5.27093 Gradient norm:        0.4  \n",
      "[18:38:00] < Detailed >  10 f=  1.054186 projected rel. grad.= 0.055 delta=  0.12 rho=     1 ++\n",
      "[18:38:00] < Debug >     xk = [0.109375   0.02107497]\n",
      "[18:38:00] < Debug >     f(xk) = 1.0541859262327151\n",
      "[18:38:00] < Debug >     xc = [0.14305975 0.02325926]\n",
      "[18:38:00] < General >   Log likelihood (N=5):  -5.266821\n",
      "[18:38:00] < Debug >     f(xc) = 1.053364261546698\n",
      "[18:38:00] < Debug >     Step length: 0.03375549486244959\n",
      "[18:38:00] < Debug >     rho = 0.0008216646860170762 / 0.0007932967503088014 = 1.0357595511354765\n",
      "[18:38:00] < Debug >     beta1:  0.1430597\n",
      "[18:38:00] < Debug >     beta2: 0.02325926\n",
      "[18:38:00] < General >   Log likelihood (N=5):  -5.266821 Gradient norm:        0.2  \n",
      "[18:38:00] < Detailed >  11 f=  1.053364 projected rel. grad.= 0.036 delta=  0.25 rho=     1 ++\n",
      "[18:38:00] < Debug >     xk = [0.14305975 0.02325926]\n",
      "[18:38:00] < Debug >     f(xk) = 1.053364261546698\n",
      "[18:38:00] < Debug >     xc = [0.1444636  0.02349873]\n",
      "[18:38:00] < General >   Log likelihood (N=5):  -5.266799\n",
      "[18:38:00] < Debug >     f(xc) = 1.0533598790673697\n",
      "[18:38:00] < Debug >     Step length: 0.001424130823043401\n",
      "[18:38:00] < Debug >     rho = 4.382479328324251e-06 / 4.35928979268228e-06 = 1.00531956734808\n",
      "[18:38:00] < Debug >     beta1:  0.1444636\n",
      "[18:38:00] < Debug >     beta2: 0.02349873\n",
      "[18:38:00] < General >   Log likelihood (N=5):  -5.266799 Gradient norm:      0.003  \n",
      "[18:38:00] < Detailed >  12 f=   1.05336 projected rel. grad.=0.00061 delta=   0.5 rho=     1 ++\n",
      "[18:38:00] < Debug >     xk = [0.1444636  0.02349873]\n",
      "[18:38:00] < Debug >     f(xk) = 1.0533598790673697\n",
      "[18:38:00] < Debug >     xc = [0.14454693 0.02350156]\n",
      "[18:38:00] < General >   Log likelihood (N=5):  -5.266799\n",
      "[18:38:00] < Debug >     f(xc) = 1.0533598738294703\n",
      "[18:38:00] < Debug >     Step length: 8.337739641287023e-05\n",
      "[18:38:00] < Debug >     rho = 5.237899447507743e-09 / 5.325339265237308e-09 = 0.9835804230726944\n",
      "[18:38:00] < Debug >     beta1:  0.1445469\n",
      "[18:38:00] < Debug >     beta2: 0.02350156\n",
      "[18:38:00] < General >   Log likelihood (N=5):  -5.266799 Gradient norm:      9e-05  \n",
      "[18:38:00] < Detailed >  13 f=   1.05336 projected rel. grad.=1.6e-05 delta=     1 rho=  0.98 ++\n",
      "[18:38:00] < Debug >     xk = [0.14454693 0.02350156]\n",
      "[18:38:00] < Debug >     f(xk) = 1.0533598738294703\n",
      "[18:38:00] < Debug >     xc = [0.14454692 0.02350163]\n",
      "[18:38:00] < General >   Log likelihood (N=5):  -5.266799\n",
      "[18:38:00] < Debug >     f(xc) = 1.0533598738288563\n",
      "[18:38:00] < Debug >     Step length: 6.711806338167147e-08\n",
      "[18:38:00] < Debug >     rho = 6.139533326177116e-13 / 6.136931585975714e-13 = 1.0004239480536734\n",
      "[18:38:00] < Debug >     beta1:  0.1445469\n",
      "[18:38:00] < Debug >     beta2: 0.02350163\n",
      "[18:38:00] < General >   Log likelihood (N=5):  -5.266799 Gradient norm:      8e-06  \n",
      "[18:38:00] < Detailed >  14 f=   1.05336 projected rel. grad.=1.4e-06 delta=     2 rho=     1 ++\n",
      "[18:38:00] < Detailed >  Proportion of Hessian calculation: 0.0%\n",
      "[18:38:00] < Debug >     beta1:  0.1445469\n",
      "[18:38:00] < Debug >     beta2: 0.02350163\n",
      "[18:38:00] < General >   Log likelihood (N=5):  -5.266799 Gradient norm:      8e-06 Hessian norm:       1e+03 BHHH norm:       1e+03\n",
      "[18:38:00] < General >   Results saved in file simpleExample~120.html\n"
     ]
    },
    {
     "name": "stdout",
     "output_type": "stream",
     "text": [
      "[18:38:00] < General >   Results saved in file simpleExample~124.pickle\n"
     ]
    },
    {
     "data": {
      "text/html": [
       "<div>\n",
       "<style scoped>\n",
       "    .dataframe tbody tr th:only-of-type {\n",
       "        vertical-align: middle;\n",
       "    }\n",
       "\n",
       "    .dataframe tbody tr th {\n",
       "        vertical-align: top;\n",
       "    }\n",
       "\n",
       "    .dataframe thead th {\n",
       "        text-align: right;\n",
       "    }\n",
       "</style>\n",
       "<table border=\"1\" class=\"dataframe\">\n",
       "  <thead>\n",
       "    <tr style=\"text-align: right;\">\n",
       "      <th></th>\n",
       "      <th>Value</th>\n",
       "      <th>Std err</th>\n",
       "      <th>t-test</th>\n",
       "      <th>p-value</th>\n",
       "      <th>Rob. Std err</th>\n",
       "      <th>Rob. t-test</th>\n",
       "      <th>Rob. p-value</th>\n",
       "    </tr>\n",
       "  </thead>\n",
       "  <tbody>\n",
       "    <tr>\n",
       "      <th>beta1</th>\n",
       "      <td>0.144547</td>\n",
       "      <td>0.391018</td>\n",
       "      <td>0.369669</td>\n",
       "      <td>0.711629</td>\n",
       "      <td>0.366198</td>\n",
       "      <td>0.394723</td>\n",
       "      <td>0.693047</td>\n",
       "    </tr>\n",
       "    <tr>\n",
       "      <th>beta2</th>\n",
       "      <td>0.023502</td>\n",
       "      <td>0.036947</td>\n",
       "      <td>0.636088</td>\n",
       "      <td>0.524719</td>\n",
       "      <td>0.034280</td>\n",
       "      <td>0.685574</td>\n",
       "      <td>0.492981</td>\n",
       "    </tr>\n",
       "  </tbody>\n",
       "</table>\n",
       "</div>"
      ],
      "text/plain": [
       "          Value   Std err    t-test   p-value  Rob. Std err  Rob. t-test  \\\n",
       "beta1  0.144547  0.391018  0.369669  0.711629      0.366198     0.394723   \n",
       "beta2  0.023502  0.036947  0.636088  0.524719      0.034280     0.685574   \n",
       "\n",
       "       Rob. p-value  \n",
       "beta1      0.693047  \n",
       "beta2      0.492981  "
      ]
     },
     "execution_count": 55,
     "metadata": {},
     "output_type": "execute_result"
    }
   ],
   "source": [
    "results = myBiogeme.estimate(algorithm=opt.simpleBoundsNewtonAlgorithmForBiogeme, algoParameters = {'proportionAnalyticalHessian': 0})\n",
    "results.getEstimatedParameters()"
   ]
  },
  {
   "cell_type": "code",
   "execution_count": 56,
   "metadata": {},
   "outputs": [
    {
     "name": "stdout",
     "output_type": "stream",
     "text": [
      "Algorithm:\tNewton with trust region for simple bound constraints\n",
      "Relative projected gradient:\t1.3873770983933678e-06\n",
      "Number of iterations:\t14\n",
      "Number of function evaluations:\t31\n",
      "Number of gradient evaluations:\t9\n",
      "Number of hessian evaluations:\t0\n",
      "Cause of termination:\tRelative gradient = 1.3873770983933678e-06 <= 6.06273418136464e-06\n",
      "Optimization time:\t0:00:00.042400\n"
     ]
    }
   ],
   "source": [
    "for k, v in results.data.optimizationMessages.items():\n",
    "    print(f'{k}:\\t{v}')"
   ]
  },
  {
   "cell_type": "code",
   "execution_count": null,
   "metadata": {},
   "outputs": [],
   "source": []
  }
 ],
 "metadata": {
  "kernelspec": {
   "display_name": "Python 3",
   "language": "python",
   "name": "python3"
  },
  "language_info": {
   "codemirror_mode": {
    "name": "ipython",
    "version": 3
   },
   "file_extension": ".py",
   "mimetype": "text/x-python",
   "name": "python",
   "nbconvert_exporter": "python",
   "pygments_lexer": "ipython3",
   "version": "3.8.0"
  }
 },
 "nbformat": 4,
 "nbformat_minor": 2
}
