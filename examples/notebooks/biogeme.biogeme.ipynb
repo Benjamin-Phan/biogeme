{
 "cells": [
  {
   "cell_type": "markdown",
   "metadata": {},
   "source": [
    "# Module biogeme.biogeme "
   ]
  },
  {
   "cell_type": "markdown",
   "metadata": {},
   "source": [
    "## Examples of use of each function"
   ]
  },
  {
   "cell_type": "markdown",
   "metadata": {},
   "source": [
    "This webpage is for programmers who need examples of use of the functions of the module. The examples are designed to illustrate the syntax. They do not correspond to any meaningful model. For examples of models, visit  [biogeme.epfl.ch](http://biogeme.epfl.ch)."
   ]
  },
  {
   "cell_type": "code",
   "execution_count": 1,
   "metadata": {},
   "outputs": [],
   "source": [
    "import datetime\n",
    "print(datetime.datetime.now())"
   ]
  },
  {
   "cell_type": "code",
   "execution_count": 2,
   "metadata": {},
   "outputs": [],
   "source": [
    "import biogeme.version as ver\n",
    "print(ver.getText())"
   ]
  },
  {
   "cell_type": "code",
   "execution_count": 3,
   "metadata": {},
   "outputs": [],
   "source": [
    "import biogeme.biogeme as bio\n",
    "import biogeme.database as db\n",
    "import pandas as pd\n",
    "import numpy as np\n",
    "from biogeme.expressions import Beta, Variable, exp"
   ]
  },
  {
   "cell_type": "markdown",
   "metadata": {},
   "source": [
    "Define the verbosity of Biogeme"
   ]
  },
  {
   "cell_type": "code",
   "execution_count": 4,
   "metadata": {},
   "outputs": [
    {
     "name": "stderr",
     "output_type": "stream",
     "text": [
      "[INFO] 2023-07-30 16:43:09,745 Logger initalized <2747012181.py:3>\n"
     ]
    }
   ],
   "source": [
    "import biogeme.logging as blog\n",
    "logger = blog.get_screen_logger(level=blog.DEBUG)\n",
    "logger.info('Logger initalized')\n"
   ]
  },
  {
   "cell_type": "markdown",
   "metadata": {},
   "source": [
    "##  Definition of a database"
   ]
  },
  {
   "cell_type": "code",
   "execution_count": 5,
   "metadata": {},
   "outputs": [],
   "source": [
    "df = pd.DataFrame({'Person':[1,1,1,2,2],\n",
    "                   'Exclude':[0,0,1,0,1],\n",
    "                   'Variable1':[1,2,3,4,5],\n",
    "                   'Variable2':[10,20,30,40,50],\n",
    "                   'Choice':[1,2,3,1,2],\n",
    "                   'Av1':[0,1,1,1,1],\n",
    "                   'Av2':[1,1,1,1,1],\n",
    "                   'Av3':[0,1,1,1,1]})\n",
    "myData = db.Database('test', df)"
   ]
  },
  {
   "cell_type": "markdown",
   "metadata": {},
   "source": [
    "## Definition of various expressions"
   ]
  },
  {
   "cell_type": "code",
   "execution_count": 6,
   "metadata": {},
   "outputs": [],
   "source": [
    "Variable1=Variable('Variable1')\n",
    "Variable2=Variable('Variable2')\n",
    "beta1 = Beta('beta1', -1.0, -3, 3, 0)\n",
    "beta2 = Beta('beta2', 2.0, -3, 10, 0)\n",
    "likelihood = -beta1**2 * Variable1 - exp(beta2 * beta1) \\\n",
    "    * Variable2 - beta2**4\n",
    "simul = beta1 / Variable1 + beta2 / Variable2\n",
    "dictOfExpressions = {'loglike': likelihood, \n",
    "                     'beta1': beta1,\n",
    "                     'simul': simul}"
   ]
  },
  {
   "cell_type": "markdown",
   "metadata": {},
   "source": [
    "## Creation of the BIOGEME object"
   ]
  },
  {
   "cell_type": "code",
   "execution_count": 7,
   "metadata": {},
   "outputs": [
    {
     "name": "stderr",
     "output_type": "stream",
     "text": [
      "[INFO] 2023-07-30 16:43:09,759 File biogeme.toml has been parsed. <parameters.py:118>\n"
     ]
    },
    {
     "name": "stdout",
     "output_type": "stream",
     "text": [
      "simpleExample: database [test]{'loglike': ((((-(beta1(init=-1.0) ** `2.0`)) * Variable1) - (exp((beta2(init=2.0) * beta1(init=-1.0))) * Variable2)) - (beta2(init=2.0) ** `4.0`)), 'beta1': beta1(init=-1.0), 'simul': ((beta1(init=-1.0) / Variable1) + (beta2(init=2.0) / Variable2))}\n"
     ]
    }
   ],
   "source": [
    "myBiogeme = bio.BIOGEME(myData, dictOfExpressions)\n",
    "myBiogeme.modelName = 'simpleExample'\n",
    "print(myBiogeme)"
   ]
  },
  {
   "cell_type": "markdown",
   "metadata": {},
   "source": [
    "Note that, by default, Biogeme removes the unused variables from the database to optimize space."
   ]
  },
  {
   "cell_type": "code",
   "execution_count": 8,
   "metadata": {},
   "outputs": [
    {
     "data": {
      "text/plain": [
       "Index(['Person', 'Exclude', 'Variable1', 'Variable2', 'Choice', 'Av1', 'Av2',\n",
       "       'Av3'],\n",
       "      dtype='object')"
      ]
     },
     "execution_count": 8,
     "metadata": {},
     "output_type": "execute_result"
    }
   ],
   "source": [
    "myBiogeme.database.data.columns"
   ]
  },
  {
   "cell_type": "markdown",
   "metadata": {},
   "source": [
    "## calculateInitLikelihood"
   ]
  },
  {
   "cell_type": "code",
   "execution_count": 9,
   "metadata": {},
   "outputs": [
    {
     "name": "stderr",
     "output_type": "stream",
     "text": [
      "[DEBUG] 2023-07-30 16:43:09,767 Log likelihood (N = 5):  -115.3003 <biogeme.py:979>\n"
     ]
    },
    {
     "data": {
      "text/plain": [
       "-115.30029248549191"
      ]
     },
     "execution_count": 9,
     "metadata": {},
     "output_type": "execute_result"
    }
   ],
   "source": [
    "myBiogeme.calculateInitLikelihood()"
   ]
  },
  {
   "cell_type": "markdown",
   "metadata": {},
   "source": [
    "## calculateLikelihood"
   ]
  },
  {
   "cell_type": "code",
   "execution_count": 10,
   "metadata": {},
   "outputs": [
    {
     "name": "stdout",
     "output_type": "stream",
     "text": [
      "[0.0, 3.0]\n"
     ]
    }
   ],
   "source": [
    "x = myBiogeme.id_manager.free_betas_values\n",
    "xplus = [v + 1 for v in x]\n",
    "print(xplus)"
   ]
  },
  {
   "cell_type": "code",
   "execution_count": 11,
   "metadata": {},
   "outputs": [
    {
     "name": "stderr",
     "output_type": "stream",
     "text": [
      "[DEBUG] 2023-07-30 16:43:09,772 Log likelihood (N = 5):       -555 <biogeme.py:979>\n"
     ]
    },
    {
     "data": {
      "text/plain": [
       "-111.0"
      ]
     },
     "execution_count": 11,
     "metadata": {},
     "output_type": "execute_result"
    }
   ],
   "source": [
    "myBiogeme.calculateLikelihood(xplus, scaled=True)"
   ]
  },
  {
   "cell_type": "code",
   "execution_count": 12,
   "metadata": {},
   "outputs": [
    {
     "data": {
      "text/html": [
       "<div>\n",
       "<style scoped>\n",
       "    .dataframe tbody tr th:only-of-type {\n",
       "        vertical-align: middle;\n",
       "    }\n",
       "\n",
       "    .dataframe tbody tr th {\n",
       "        vertical-align: top;\n",
       "    }\n",
       "\n",
       "    .dataframe thead th {\n",
       "        text-align: right;\n",
       "    }\n",
       "</style>\n",
       "<table border=\"1\" class=\"dataframe\">\n",
       "  <thead>\n",
       "    <tr style=\"text-align: right;\">\n",
       "      <th></th>\n",
       "      <th>Person</th>\n",
       "      <th>Exclude</th>\n",
       "      <th>Variable1</th>\n",
       "      <th>Variable2</th>\n",
       "      <th>Choice</th>\n",
       "      <th>Av1</th>\n",
       "      <th>Av2</th>\n",
       "      <th>Av3</th>\n",
       "    </tr>\n",
       "  </thead>\n",
       "  <tbody>\n",
       "    <tr>\n",
       "      <th>0</th>\n",
       "      <td>1</td>\n",
       "      <td>0</td>\n",
       "      <td>1</td>\n",
       "      <td>10</td>\n",
       "      <td>1</td>\n",
       "      <td>0</td>\n",
       "      <td>1</td>\n",
       "      <td>0</td>\n",
       "    </tr>\n",
       "    <tr>\n",
       "      <th>1</th>\n",
       "      <td>1</td>\n",
       "      <td>0</td>\n",
       "      <td>2</td>\n",
       "      <td>20</td>\n",
       "      <td>2</td>\n",
       "      <td>1</td>\n",
       "      <td>1</td>\n",
       "      <td>1</td>\n",
       "    </tr>\n",
       "    <tr>\n",
       "      <th>2</th>\n",
       "      <td>1</td>\n",
       "      <td>1</td>\n",
       "      <td>3</td>\n",
       "      <td>30</td>\n",
       "      <td>3</td>\n",
       "      <td>1</td>\n",
       "      <td>1</td>\n",
       "      <td>1</td>\n",
       "    </tr>\n",
       "    <tr>\n",
       "      <th>3</th>\n",
       "      <td>2</td>\n",
       "      <td>0</td>\n",
       "      <td>4</td>\n",
       "      <td>40</td>\n",
       "      <td>1</td>\n",
       "      <td>1</td>\n",
       "      <td>1</td>\n",
       "      <td>1</td>\n",
       "    </tr>\n",
       "    <tr>\n",
       "      <th>4</th>\n",
       "      <td>2</td>\n",
       "      <td>1</td>\n",
       "      <td>5</td>\n",
       "      <td>50</td>\n",
       "      <td>2</td>\n",
       "      <td>1</td>\n",
       "      <td>1</td>\n",
       "      <td>1</td>\n",
       "    </tr>\n",
       "  </tbody>\n",
       "</table>\n",
       "</div>"
      ],
      "text/plain": [
       "   Person  Exclude  Variable1  Variable2  Choice  Av1  Av2  Av3\n",
       "0       1        0          1         10       1    0    1    0\n",
       "1       1        0          2         20       2    1    1    1\n",
       "2       1        1          3         30       3    1    1    1\n",
       "3       2        0          4         40       1    1    1    1\n",
       "4       2        1          5         50       2    1    1    1"
      ]
     },
     "execution_count": 12,
     "metadata": {},
     "output_type": "execute_result"
    }
   ],
   "source": [
    "myBiogeme.database.data"
   ]
  },
  {
   "cell_type": "code",
   "execution_count": 13,
   "metadata": {},
   "outputs": [
    {
     "data": {
      "text/html": [
       "<div>\n",
       "<style scoped>\n",
       "    .dataframe tbody tr th:only-of-type {\n",
       "        vertical-align: middle;\n",
       "    }\n",
       "\n",
       "    .dataframe tbody tr th {\n",
       "        vertical-align: top;\n",
       "    }\n",
       "\n",
       "    .dataframe thead th {\n",
       "        text-align: right;\n",
       "    }\n",
       "</style>\n",
       "<table border=\"1\" class=\"dataframe\">\n",
       "  <thead>\n",
       "    <tr style=\"text-align: right;\">\n",
       "      <th></th>\n",
       "      <th>Person</th>\n",
       "      <th>Exclude</th>\n",
       "      <th>Variable1</th>\n",
       "      <th>Variable2</th>\n",
       "      <th>Choice</th>\n",
       "      <th>Av1</th>\n",
       "      <th>Av2</th>\n",
       "      <th>Av3</th>\n",
       "    </tr>\n",
       "  </thead>\n",
       "  <tbody>\n",
       "    <tr>\n",
       "      <th>0</th>\n",
       "      <td>1</td>\n",
       "      <td>0</td>\n",
       "      <td>1</td>\n",
       "      <td>10</td>\n",
       "      <td>1</td>\n",
       "      <td>0</td>\n",
       "      <td>1</td>\n",
       "      <td>0</td>\n",
       "    </tr>\n",
       "    <tr>\n",
       "      <th>1</th>\n",
       "      <td>1</td>\n",
       "      <td>0</td>\n",
       "      <td>2</td>\n",
       "      <td>20</td>\n",
       "      <td>2</td>\n",
       "      <td>1</td>\n",
       "      <td>1</td>\n",
       "      <td>1</td>\n",
       "    </tr>\n",
       "    <tr>\n",
       "      <th>2</th>\n",
       "      <td>1</td>\n",
       "      <td>1</td>\n",
       "      <td>3</td>\n",
       "      <td>30</td>\n",
       "      <td>3</td>\n",
       "      <td>1</td>\n",
       "      <td>1</td>\n",
       "      <td>1</td>\n",
       "    </tr>\n",
       "    <tr>\n",
       "      <th>3</th>\n",
       "      <td>2</td>\n",
       "      <td>0</td>\n",
       "      <td>4</td>\n",
       "      <td>40</td>\n",
       "      <td>1</td>\n",
       "      <td>1</td>\n",
       "      <td>1</td>\n",
       "      <td>1</td>\n",
       "    </tr>\n",
       "    <tr>\n",
       "      <th>4</th>\n",
       "      <td>2</td>\n",
       "      <td>1</td>\n",
       "      <td>5</td>\n",
       "      <td>50</td>\n",
       "      <td>2</td>\n",
       "      <td>1</td>\n",
       "      <td>1</td>\n",
       "      <td>1</td>\n",
       "    </tr>\n",
       "  </tbody>\n",
       "</table>\n",
       "</div>"
      ],
      "text/plain": [
       "   Person  Exclude  Variable1  Variable2  Choice  Av1  Av2  Av3\n",
       "0       1        0          1         10       1    0    1    0\n",
       "1       1        0          2         20       2    1    1    1\n",
       "2       1        1          3         30       3    1    1    1\n",
       "3       2        0          4         40       1    1    1    1\n",
       "4       2        1          5         50       2    1    1    1"
      ]
     },
     "execution_count": 13,
     "metadata": {},
     "output_type": "execute_result"
    }
   ],
   "source": [
    "myBiogeme.database.data"
   ]
  },
  {
   "cell_type": "markdown",
   "metadata": {},
   "source": [
    "By default, each observation has the same probability to be selected in the sample. It is possible to define the selection probability to be proportional to the values of a column of the database, using the parameter 'weights'. "
   ]
  },
  {
   "cell_type": "code",
   "execution_count": 14,
   "metadata": {},
   "outputs": [
    {
     "name": "stderr",
     "output_type": "stream",
     "text": [
      "[DEBUG] 2023-07-30 16:43:09,783 Log likelihood (N = 5):       -555 <biogeme.py:979>\n"
     ]
    },
    {
     "data": {
      "text/plain": [
       "-111.0"
      ]
     },
     "execution_count": 14,
     "metadata": {},
     "output_type": "execute_result"
    }
   ],
   "source": [
    "myBiogeme.columnForBatchSamplingWeights = 'Variable2'\n",
    "myBiogeme.calculateLikelihood(xplus, scaled=True)"
   ]
  },
  {
   "cell_type": "code",
   "execution_count": 15,
   "metadata": {},
   "outputs": [
    {
     "data": {
      "text/html": [
       "<div>\n",
       "<style scoped>\n",
       "    .dataframe tbody tr th:only-of-type {\n",
       "        vertical-align: middle;\n",
       "    }\n",
       "\n",
       "    .dataframe tbody tr th {\n",
       "        vertical-align: top;\n",
       "    }\n",
       "\n",
       "    .dataframe thead th {\n",
       "        text-align: right;\n",
       "    }\n",
       "</style>\n",
       "<table border=\"1\" class=\"dataframe\">\n",
       "  <thead>\n",
       "    <tr style=\"text-align: right;\">\n",
       "      <th></th>\n",
       "      <th>Person</th>\n",
       "      <th>Exclude</th>\n",
       "      <th>Variable1</th>\n",
       "      <th>Variable2</th>\n",
       "      <th>Choice</th>\n",
       "      <th>Av1</th>\n",
       "      <th>Av2</th>\n",
       "      <th>Av3</th>\n",
       "    </tr>\n",
       "  </thead>\n",
       "  <tbody>\n",
       "    <tr>\n",
       "      <th>0</th>\n",
       "      <td>1</td>\n",
       "      <td>0</td>\n",
       "      <td>1</td>\n",
       "      <td>10</td>\n",
       "      <td>1</td>\n",
       "      <td>0</td>\n",
       "      <td>1</td>\n",
       "      <td>0</td>\n",
       "    </tr>\n",
       "    <tr>\n",
       "      <th>1</th>\n",
       "      <td>1</td>\n",
       "      <td>0</td>\n",
       "      <td>2</td>\n",
       "      <td>20</td>\n",
       "      <td>2</td>\n",
       "      <td>1</td>\n",
       "      <td>1</td>\n",
       "      <td>1</td>\n",
       "    </tr>\n",
       "    <tr>\n",
       "      <th>2</th>\n",
       "      <td>1</td>\n",
       "      <td>1</td>\n",
       "      <td>3</td>\n",
       "      <td>30</td>\n",
       "      <td>3</td>\n",
       "      <td>1</td>\n",
       "      <td>1</td>\n",
       "      <td>1</td>\n",
       "    </tr>\n",
       "    <tr>\n",
       "      <th>3</th>\n",
       "      <td>2</td>\n",
       "      <td>0</td>\n",
       "      <td>4</td>\n",
       "      <td>40</td>\n",
       "      <td>1</td>\n",
       "      <td>1</td>\n",
       "      <td>1</td>\n",
       "      <td>1</td>\n",
       "    </tr>\n",
       "    <tr>\n",
       "      <th>4</th>\n",
       "      <td>2</td>\n",
       "      <td>1</td>\n",
       "      <td>5</td>\n",
       "      <td>50</td>\n",
       "      <td>2</td>\n",
       "      <td>1</td>\n",
       "      <td>1</td>\n",
       "      <td>1</td>\n",
       "    </tr>\n",
       "  </tbody>\n",
       "</table>\n",
       "</div>"
      ],
      "text/plain": [
       "   Person  Exclude  Variable1  Variable2  Choice  Av1  Av2  Av3\n",
       "0       1        0          1         10       1    0    1    0\n",
       "1       1        0          2         20       2    1    1    1\n",
       "2       1        1          3         30       3    1    1    1\n",
       "3       2        0          4         40       1    1    1    1\n",
       "4       2        1          5         50       2    1    1    1"
      ]
     },
     "execution_count": 15,
     "metadata": {},
     "output_type": "execute_result"
    }
   ],
   "source": [
    "myBiogeme.database.data"
   ]
  },
  {
   "cell_type": "markdown",
   "metadata": {},
   "source": [
    "## calculateLikelihoodAndDerivatives"
   ]
  },
  {
   "cell_type": "code",
   "execution_count": 16,
   "metadata": {},
   "outputs": [
    {
     "name": "stderr",
     "output_type": "stream",
     "text": [
      "[DEBUG] 2023-07-30 16:43:09,790 Log likelihood (N = 5):       -555 Gradient norm:      7e+02 Hessian norm:       1e+03 BHHH norm:       1e+05 <biogeme.py:1086>\n"
     ]
    },
    {
     "name": "stdout",
     "output_type": "stream",
     "text": [
      "f = -111.0\n",
      "g = [ -90. -108.]\n",
      "h = [[-270.  -30.]\n",
      " [ -30. -108.]]\n",
      "bhhh = [[ 9900.  9720.]\n",
      " [ 9720. 11664.]]\n"
     ]
    }
   ],
   "source": [
    "f, g, h, bhhh = myBiogeme.\\\n",
    "    calculateLikelihoodAndDerivatives(xplus,\n",
    "                                      scaled=True,\n",
    "                                      hessian=True,\n",
    "                                      bhhh=True)\n",
    "print(f'f = {f}')\n",
    "print(f'g = {g}')\n",
    "print(f'h = {h}')\n",
    "print(f'bhhh = {bhhh}')"
   ]
  },
  {
   "cell_type": "markdown",
   "metadata": {},
   "source": [
    "Now the unscaled version"
   ]
  },
  {
   "cell_type": "code",
   "execution_count": 17,
   "metadata": {},
   "outputs": [
    {
     "name": "stderr",
     "output_type": "stream",
     "text": [
      "[DEBUG] 2023-07-30 16:43:09,794 Log likelihood (N = 5):       -555 Gradient norm:      7e+02 Hessian norm:       1e+03 BHHH norm:       1e+05 <biogeme.py:1086>\n"
     ]
    },
    {
     "name": "stdout",
     "output_type": "stream",
     "text": [
      "f = -555.0\n",
      "g = [-450. -540.]\n",
      "h = [[-1350.  -150.]\n",
      " [ -150.  -540.]]\n",
      "bhhh = [[49500. 48600.]\n",
      " [48600. 58320.]]\n"
     ]
    }
   ],
   "source": [
    "f, g, h, bhhh = myBiogeme.\\\n",
    "    calculateLikelihoodAndDerivatives(xplus,\n",
    "                                      scaled=False,\n",
    "                                      hessian=True,\n",
    "                                      bhhh=True)\n",
    "print(f'f = {f}')\n",
    "print(f'g = {g}')\n",
    "print(f'h = {h}')\n",
    "print(f'bhhh = {bhhh}')"
   ]
  },
  {
   "cell_type": "markdown",
   "metadata": {},
   "source": [
    "Using only a sample of the data"
   ]
  },
  {
   "cell_type": "code",
   "execution_count": 18,
   "metadata": {},
   "outputs": [
    {
     "name": "stderr",
     "output_type": "stream",
     "text": [
      "[DEBUG] 2023-07-30 16:43:09,797 Log likelihood (N = 5):       -555 Gradient norm:      7e+02 Hessian norm:       1e+03 BHHH norm:       1e+05 <biogeme.py:1086>\n"
     ]
    },
    {
     "name": "stdout",
     "output_type": "stream",
     "text": [
      "f = -111.0\n",
      "g = [ -90. -108.]\n",
      "h = [[-270.  -30.]\n",
      " [ -30. -108.]]\n",
      "bhhh = [[ 9900.  9720.]\n",
      " [ 9720. 11664.]]\n"
     ]
    }
   ],
   "source": [
    "f, g, h, bhhh = myBiogeme.\\\n",
    "    calculateLikelihoodAndDerivatives(xplus,\n",
    "                                      scaled=True,\n",
    "                                      hessian=True,\n",
    "                                      bhhh=True)\n",
    "print(f'f = {f}')\n",
    "print(f'g = {g}')\n",
    "print(f'h = {h}')\n",
    "print(f'bhhh = {bhhh}')"
   ]
  },
  {
   "cell_type": "markdown",
   "metadata": {},
   "source": [
    "## likelihoodFiniteDifferenceHessian"
   ]
  },
  {
   "cell_type": "code",
   "execution_count": 19,
   "metadata": {},
   "outputs": [
    {
     "name": "stderr",
     "output_type": "stream",
     "text": [
      "[DEBUG] 2023-07-30 16:43:09,800 Log likelihood (N = 5):       -555 Gradient norm:      7e+02   <biogeme.py:1086>\n",
      "[DEBUG] 2023-07-30 16:43:09,801 Log likelihood (N = 5):       -555 Gradient norm:      7e+02   <biogeme.py:1086>\n",
      "[DEBUG] 2023-07-30 16:43:09,801 Log likelihood (N = 5):  -555.0002 Gradient norm:      7e+02   <biogeme.py:1086>\n"
     ]
    },
    {
     "data": {
      "text/plain": [
       "array([[-1380.00020229,  -150.        ],\n",
       "       [ -150.0000451 ,  -540.00005396]])"
      ]
     },
     "execution_count": 19,
     "metadata": {},
     "output_type": "execute_result"
    }
   ],
   "source": [
    "myBiogeme.likelihoodFiniteDifferenceHessian(xplus)"
   ]
  },
  {
   "cell_type": "markdown",
   "metadata": {},
   "source": [
    "## checkDerivatives"
   ]
  },
  {
   "cell_type": "code",
   "execution_count": 20,
   "metadata": {},
   "outputs": [
    {
     "name": "stderr",
     "output_type": "stream",
     "text": [
      "[DEBUG] 2023-07-30 16:43:09,804 Log likelihood (N = 5):       -555 Gradient norm:      7e+02 Hessian norm:       1e+03  <biogeme.py:1086>\n",
      "[DEBUG] 2023-07-30 16:43:09,805 Log likelihood (N = 5):       -555 Gradient norm:      7e+02 Hessian norm:       1e+03  <biogeme.py:1086>\n",
      "[DEBUG] 2023-07-30 16:43:09,806 Log likelihood (N = 5):       -555 Gradient norm:      7e+02 Hessian norm:       1e+03  <biogeme.py:1086>\n",
      "[DEBUG] 2023-07-30 16:43:09,806 Log likelihood (N = 5):  -555.0002 Gradient norm:      7e+02 Hessian norm:       1e+03  <biogeme.py:1086>\n",
      "[DEBUG] 2023-07-30 16:43:09,807 Log likelihood (N = 5):       -555 Gradient norm:      7e+02 Hessian norm:       1e+03  <biogeme.py:1086>\n",
      "[DEBUG] 2023-07-30 16:43:09,808 Log likelihood (N = 5):       -555 Gradient norm:      7e+02 Hessian norm:       1e+03  <biogeme.py:1086>\n",
      "[DEBUG] 2023-07-30 16:43:09,808 Log likelihood (N = 5):  -555.0002 Gradient norm:      7e+02 Hessian norm:       1e+03  <biogeme.py:1086>\n"
     ]
    }
   ],
   "source": [
    "f, g, h, gdiff, hdiff = myBiogeme.checkDerivatives(xplus, verbose=True)"
   ]
  },
  {
   "cell_type": "code",
   "execution_count": 21,
   "metadata": {},
   "outputs": [
    {
     "name": "stdout",
     "output_type": "stream",
     "text": [
      "f = -555.0\n",
      "g = [-450. -540.]\n",
      "h = [[-1350.  -150.]\n",
      " [ -150.  -540.]]\n",
      "gdiff = [6.93496986e-05 8.08701104e-05]\n",
      "hdiff = [[3.00002023e+01 2.42550868e-10]\n",
      " [4.50960215e-05 5.39642255e-05]]\n"
     ]
    },
    {
     "data": {
      "text/plain": [
       "array([[3.00002023e+01, 2.42550868e-10],\n",
       "       [4.50960215e-05, 5.39642255e-05]])"
      ]
     },
     "execution_count": 21,
     "metadata": {},
     "output_type": "execute_result"
    }
   ],
   "source": [
    "print(f'f = {f}')\n",
    "print(f'g = {g}')\n",
    "print(f'h = {h}')\n",
    "print(f'gdiff = {gdiff}')\n",
    "print(f'hdiff = {hdiff}')\n",
    "hdiff"
   ]
  },
  {
   "cell_type": "markdown",
   "metadata": {},
   "source": [
    "## estimate"
   ]
  },
  {
   "cell_type": "markdown",
   "metadata": {},
   "source": [
    "During estimation, it is possible to save intermediate results, in case the estimation must be interrupted. "
   ]
  },
  {
   "cell_type": "code",
   "execution_count": 22,
   "metadata": {},
   "outputs": [
    {
     "name": "stderr",
     "output_type": "stream",
     "text": [
      "[INFO] 2023-07-30 16:43:09,814 *** Initial values of the parameters are obtained from the file __simpleExample.iter <biogeme.py:1442>\n",
      "[INFO] 2023-07-30 16:43:09,814 Parameter values restored from __simpleExample.iter <biogeme.py:1206>\n",
      "[DEBUG] 2023-07-30 16:43:09,814 Log likelihood (N = 5):       -555 <biogeme.py:979>\n",
      "[DEBUG] 2023-07-30 16:43:09,815 Run simple_bounds <biogeme.py:1702>\n",
      "[INFO] 2023-07-30 16:43:09,815 Optimization algorithm: hybrid Newton/BFGS with simple bounds [simple_bounds] <optimization.py:458>\n",
      "[INFO] 2023-07-30 16:43:09,815 ** Optimization: Newton with trust region for simple bounds <optimization.py:488>\n",
      "[DEBUG] 2023-07-30 16:43:09,815 Log likelihood (N = 5):       -555 Gradient norm:      7e+02   <biogeme.py:1086>\n",
      "[DEBUG] 2023-07-30 16:43:09,816 Log likelihood (N = 5):       -555 Gradient norm:      7e+02 Hessian norm:       1e+03  <biogeme.py:1086>\n",
      "[INFO] 2023-07-30 16:43:09,817 Iter.           beta1           beta2     Function    Relgrad   Radius      Rho      <simple_bounds.py:175>\n",
      "[DEBUG] 2023-07-30 16:43:09,817 Log likelihood (N = 5):  -184.9275 <biogeme.py:979>\n",
      "[DEBUG] 2023-07-30 16:43:09,818 Log likelihood (N = 5):  -184.9275 Gradient norm:      2e+02   <biogeme.py:1086>\n",
      "[DEBUG] 2023-07-30 16:43:09,819 Log likelihood (N = 5):  -184.9275 Gradient norm:      2e+02 Hessian norm:       5e+02  <biogeme.py:1086>\n",
      "[INFO] 2023-07-30 16:43:09,819     0           -0.23             2.1      1.8e+02      0.019    1e+02      1.2   ++ <simple_bounds.py:190>\n",
      "[DEBUG] 2023-07-30 16:43:09,820 Log likelihood (N = 5):  -92.85155 <biogeme.py:979>\n",
      "[DEBUG] 2023-07-30 16:43:09,820 Log likelihood (N = 5):  -92.85155 Gradient norm:      8e+01   <biogeme.py:1086>\n",
      "[DEBUG] 2023-07-30 16:43:09,820 Log likelihood (N = 5):  -92.85155 Gradient norm:      8e+01 Hessian norm:       2e+02  <biogeme.py:1086>\n",
      "[INFO] 2023-07-30 16:43:09,821     1            -0.6             1.5           93      0.013    1e+03      1.2   ++ <simple_bounds.py:190>\n",
      "[DEBUG] 2023-07-30 16:43:09,822 Log likelihood (N = 5):  -69.69244 <biogeme.py:979>\n",
      "[DEBUG] 2023-07-30 16:43:09,822 Log likelihood (N = 5):  -69.69244 Gradient norm:      2e+01   <biogeme.py:1086>\n",
      "[DEBUG] 2023-07-30 16:43:09,823 Log likelihood (N = 5):  -69.69244 Gradient norm:      2e+01 Hessian norm:       2e+02  <biogeme.py:1086>\n",
      "[INFO] 2023-07-30 16:43:09,823     2              -1             1.3           70       0.01    1e+04      1.2   ++ <simple_bounds.py:190>\n",
      "[DEBUG] 2023-07-30 16:43:09,824 Log likelihood (N = 5):  -67.10013 <biogeme.py:979>\n",
      "[DEBUG] 2023-07-30 16:43:09,824 Log likelihood (N = 5):  -67.10013 Gradient norm:          2   <biogeme.py:1086>\n",
      "[DEBUG] 2023-07-30 16:43:09,825 Log likelihood (N = 5):  -67.10013 Gradient norm:          2 Hessian norm:       2e+02  <biogeme.py:1086>\n",
      "[INFO] 2023-07-30 16:43:09,825     3            -1.2             1.3           67     0.0039    1e+05      1.1   ++ <simple_bounds.py:190>\n",
      "[DEBUG] 2023-07-30 16:43:09,826 Log likelihood (N = 5):   -67.0655 <biogeme.py:979>\n",
      "[DEBUG] 2023-07-30 16:43:09,826 Log likelihood (N = 5):   -67.0655 Gradient norm:       0.03   <biogeme.py:1086>\n",
      "[DEBUG] 2023-07-30 16:43:09,827 Log likelihood (N = 5):   -67.0655 Gradient norm:       0.03 Hessian norm:       2e+02  <biogeme.py:1086>\n",
      "[INFO] 2023-07-30 16:43:09,827     4            -1.3             1.2           67    6.8e-05    1e+06        1   ++ <simple_bounds.py:190>\n",
      "[DEBUG] 2023-07-30 16:43:09,828 Log likelihood (N = 5):  -67.06549 <biogeme.py:979>\n",
      "[DEBUG] 2023-07-30 16:43:09,828 Log likelihood (N = 5):  -67.06549 Gradient norm:      5e-06   <biogeme.py:1086>\n",
      "[INFO] 2023-07-30 16:43:09,828     5            -1.3             1.2           67    1.2e-08    1e+06        1   ++ <simple_bounds.py:190>\n",
      "[DEBUG] 2023-07-30 16:43:09,829 Log likelihood (N = 5):  -67.06549 Gradient norm:      5e-06 Hessian norm:       2e+02 BHHH norm:       7e+01 <biogeme.py:1086>\n",
      "[INFO] 2023-07-30 16:43:09,829 Re-estimate the model 10 times for bootstrapping <biogeme.py:1490>\n",
      "  0%|                                                                                                                                                                                                                                                                                                                                                | 0/10 [00:00<?, ?it/s][INFO] 2023-07-30 16:43:09,839 Optimization algorithm: hybrid Newton/BFGS with simple bounds [simple_bounds] <optimization.py:458>\n",
      "[INFO] 2023-07-30 16:43:09,840 ** Optimization: Newton with trust region for simple bounds <optimization.py:488>\n",
      "[INFO] 2023-07-30 16:43:09,841 Iter.           beta1           beta2     Function    Relgrad   Radius      Rho      <simple_bounds.py:175>\n",
      "[INFO] 2023-07-30 16:43:09,842     0            -1.3             1.1           48      0.012    1e+02        1   ++ <simple_bounds.py:190>\n",
      "[INFO] 2023-07-30 16:43:09,844     1            -1.3             1.1           48    2.1e-05    1e+03        1   ++ <simple_bounds.py:190>\n",
      "[INFO] 2023-07-30 16:43:09,844     2            -1.3             1.1           48      6e-11    1e+03        1   ++ <simple_bounds.py:190>\n",
      "[INFO] 2023-07-30 16:43:09,845 Optimization algorithm: hybrid Newton/BFGS with simple bounds [simple_bounds] <optimization.py:458>\n",
      "[INFO] 2023-07-30 16:43:09,845 ** Optimization: Newton with trust region for simple bounds <optimization.py:488>\n",
      "[INFO] 2023-07-30 16:43:09,846 Iter.           beta1           beta2     Function    Relgrad   Radius      Rho      <simple_bounds.py:175>\n",
      "[INFO] 2023-07-30 16:43:09,847     0            -1.3             1.3           85     0.0036    1e+02     0.99   ++ <simple_bounds.py:190>\n",
      "[INFO] 2023-07-30 16:43:09,848     1            -1.3             1.3           85    1.3e-06    1e+02        1   ++ <simple_bounds.py:190>\n",
      "[INFO] 2023-07-30 16:43:09,848 Optimization algorithm: hybrid Newton/BFGS with simple bounds [simple_bounds] <optimization.py:458>\n",
      "[INFO] 2023-07-30 16:43:09,849 ** Optimization: Newton with trust region for simple bounds <optimization.py:488>\n",
      "[INFO] 2023-07-30 16:43:09,849 Iter.           beta1           beta2     Function    Relgrad   Radius      Rho      <simple_bounds.py:175>\n",
      "[INFO] 2023-07-30 16:43:09,851     0            -1.3             1.3           74    0.00082    1e+02     0.99   ++ <simple_bounds.py:190>\n",
      "[INFO] 2023-07-30 16:43:09,852     1            -1.3             1.3           74    7.1e-08    1e+02        1   ++ <simple_bounds.py:190>\n",
      "[INFO] 2023-07-30 16:43:09,852 Optimization algorithm: hybrid Newton/BFGS with simple bounds [simple_bounds] <optimization.py:458>\n",
      "[INFO] 2023-07-30 16:43:09,852 ** Optimization: Newton with trust region for simple bounds <optimization.py:488>\n",
      "[INFO] 2023-07-30 16:43:09,853 Iter.           beta1           beta2     Function    Relgrad   Radius      Rho      <simple_bounds.py:175>\n",
      "[INFO] 2023-07-30 16:43:09,855     0            -1.3             1.3           74    0.00082    1e+02     0.99   ++ <simple_bounds.py:190>\n",
      "[INFO] 2023-07-30 16:43:09,855     1            -1.3             1.3           74    7.1e-08    1e+02        1   ++ <simple_bounds.py:190>\n",
      "[INFO] 2023-07-30 16:43:09,856 Optimization algorithm: hybrid Newton/BFGS with simple bounds [simple_bounds] <optimization.py:458>\n",
      "[INFO] 2023-07-30 16:43:09,856 ** Optimization: Newton with trust region for simple bounds <optimization.py:488>\n",
      "[INFO] 2023-07-30 16:43:09,857 Iter.           beta1           beta2     Function    Relgrad   Radius      Rho      <simple_bounds.py:175>\n",
      "[INFO] 2023-07-30 16:43:09,858     0            -1.3             1.3           78     0.0016    1e+02     0.99   ++ <simple_bounds.py:190>\n",
      "[INFO] 2023-07-30 16:43:09,859     1            -1.3             1.3           78    2.8e-07    1e+02        1   ++ <simple_bounds.py:190>\n",
      "[INFO] 2023-07-30 16:43:09,859 Optimization algorithm: hybrid Newton/BFGS with simple bounds [simple_bounds] <optimization.py:458>\n",
      "[INFO] 2023-07-30 16:43:09,860 ** Optimization: Newton with trust region for simple bounds <optimization.py:488>\n",
      "[INFO] 2023-07-30 16:43:09,861 Iter.           beta1           beta2     Function    Relgrad   Radius      Rho      <simple_bounds.py:175>\n",
      "[INFO] 2023-07-30 16:43:09,862     0            -1.3             1.2           56     0.0034    1e+02        1   ++ <simple_bounds.py:190>\n"
     ]
    },
    {
     "name": "stderr",
     "output_type": "stream",
     "text": [
      "[INFO] 2023-07-30 16:43:09,862     1            -1.3             1.2           56    1.4e-06    1e+02        1   ++ <simple_bounds.py:190>\n",
      "[INFO] 2023-07-30 16:43:09,863 Optimization algorithm: hybrid Newton/BFGS with simple bounds [simple_bounds] <optimization.py:458>\n",
      "[INFO] 2023-07-30 16:43:09,863 ** Optimization: Newton with trust region for simple bounds <optimization.py:488>\n",
      "[INFO] 2023-07-30 16:43:09,864 Iter.           beta1           beta2     Function    Relgrad   Radius      Rho      <simple_bounds.py:175>\n",
      "[INFO] 2023-07-30 16:43:09,865     0            -1.3             1.3           71    0.00023    1e+02        1   ++ <simple_bounds.py:190>\n",
      "[INFO] 2023-07-30 16:43:09,866     1            -1.3             1.3           71    5.8e-09    1e+02        1   ++ <simple_bounds.py:190>\n",
      "[INFO] 2023-07-30 16:43:09,866 Optimization algorithm: hybrid Newton/BFGS with simple bounds [simple_bounds] <optimization.py:458>\n",
      "[INFO] 2023-07-30 16:43:09,866 ** Optimization: Newton with trust region for simple bounds <optimization.py:488>\n",
      "[INFO] 2023-07-30 16:43:09,867 Iter.           beta1           beta2     Function    Relgrad   Radius      Rho      <simple_bounds.py:175>\n",
      "[INFO] 2023-07-30 16:43:09,868     0            -1.3             1.2           60     0.0013    1e+02        1   ++ <simple_bounds.py:190>\n",
      "[INFO] 2023-07-30 16:43:09,869     1            -1.3             1.2           60    2.1e-07    1e+02        1   ++ <simple_bounds.py:190>\n",
      "[INFO] 2023-07-30 16:43:09,870 Optimization algorithm: hybrid Newton/BFGS with simple bounds [simple_bounds] <optimization.py:458>\n",
      "[INFO] 2023-07-30 16:43:09,870 ** Optimization: Newton with trust region for simple bounds <optimization.py:488>\n",
      "[INFO] 2023-07-30 16:43:09,871 Iter.           beta1           beta2     Function    Relgrad   Radius      Rho      <simple_bounds.py:175>\n",
      "[INFO] 2023-07-30 16:43:09,872     0            -1.3             1.1           48      0.012    1e+02        1   ++ <simple_bounds.py:190>\n",
      "[INFO] 2023-07-30 16:43:09,873     1            -1.3             1.1           48    2.1e-05    1e+03        1   ++ <simple_bounds.py:190>\n",
      "[INFO] 2023-07-30 16:43:09,874     2            -1.3             1.1           48      6e-11    1e+03        1   ++ <simple_bounds.py:190>\n",
      "[INFO] 2023-07-30 16:43:09,874 Optimization algorithm: hybrid Newton/BFGS with simple bounds [simple_bounds] <optimization.py:458>\n",
      "[INFO] 2023-07-30 16:43:09,875 ** Optimization: Newton with trust region for simple bounds <optimization.py:488>\n",
      "[INFO] 2023-07-30 16:43:09,876 Iter.           beta1           beta2     Function    Relgrad   Radius      Rho      <simple_bounds.py:175>\n",
      "[INFO] 2023-07-30 16:43:09,877     0            -1.3             1.3           71    0.00023    1e+02        1   ++ <simple_bounds.py:190>\n",
      "[INFO] 2023-07-30 16:43:09,878     1            -1.3             1.3           71    5.8e-09    1e+02        1   ++ <simple_bounds.py:190>\n",
      "100%|██████████████████████████████████████████████████████████████████████████████████████████████████████████████████████████████████████████████████████████████████████████████████████████████████████████████████████████████████████████████████████████████████████████████████████████████████████████████████████████████████████| 10/10 [00:00<00:00, 252.15it/s]\n",
      "[INFO] 2023-07-30 16:43:09,883 Results saved in file simpleExample~00.html <results.py:1263>\n",
      "[INFO] 2023-07-30 16:43:09,883 Results saved in file simpleExample~00.pickle <results.py:379>\n"
     ]
    }
   ],
   "source": [
    "myBiogeme.bootstrap_samples=10\n",
    "results = myBiogeme.estimate(run_bootstrap=True)"
   ]
  },
  {
   "cell_type": "code",
   "execution_count": 23,
   "metadata": {},
   "outputs": [
    {
     "data": {
      "text/html": [
       "<div>\n",
       "<style scoped>\n",
       "    .dataframe tbody tr th:only-of-type {\n",
       "        vertical-align: middle;\n",
       "    }\n",
       "\n",
       "    .dataframe tbody tr th {\n",
       "        vertical-align: top;\n",
       "    }\n",
       "\n",
       "    .dataframe thead th {\n",
       "        text-align: right;\n",
       "    }\n",
       "</style>\n",
       "<table border=\"1\" class=\"dataframe\">\n",
       "  <thead>\n",
       "    <tr style=\"text-align: right;\">\n",
       "      <th></th>\n",
       "      <th>Value</th>\n",
       "      <th>Rob. Std err</th>\n",
       "      <th>Rob. t-test</th>\n",
       "      <th>Rob. p-value</th>\n",
       "    </tr>\n",
       "  </thead>\n",
       "  <tbody>\n",
       "    <tr>\n",
       "      <th>beta1</th>\n",
       "      <td>-1.273264</td>\n",
       "      <td>0.013724</td>\n",
       "      <td>-92.776769</td>\n",
       "      <td>0.0</td>\n",
       "    </tr>\n",
       "    <tr>\n",
       "      <th>beta2</th>\n",
       "      <td>1.248769</td>\n",
       "      <td>0.059086</td>\n",
       "      <td>21.134795</td>\n",
       "      <td>0.0</td>\n",
       "    </tr>\n",
       "  </tbody>\n",
       "</table>\n",
       "</div>"
      ],
      "text/plain": [
       "          Value  Rob. Std err  Rob. t-test  Rob. p-value\n",
       "beta1 -1.273264      0.013724   -92.776769           0.0\n",
       "beta2  1.248769      0.059086    21.134795           0.0"
      ]
     },
     "execution_count": 23,
     "metadata": {},
     "output_type": "execute_result"
    }
   ],
   "source": [
    "results.getEstimatedParameters()"
   ]
  },
  {
   "cell_type": "markdown",
   "metadata": {},
   "source": [
    "If the model has already been estimated, it is possible to recycle the estimation results. In that case, the other arguments are ignored, and the results are whatever is in the file."
   ]
  },
  {
   "cell_type": "code",
   "execution_count": 24,
   "metadata": {},
   "outputs": [
    {
     "name": "stderr",
     "output_type": "stream",
     "text": [
      "[WARNING] 2023-07-30 16:43:09,893 Several pickle files are available for this model: ['simpleExample.pickle', 'simpleExample~00.pickle']. The file simpleExample~00.pickle is used to load the results. <biogeme.py:1421>\n",
      "[WARNING] 2023-07-30 16:43:09,899 Estimation results read from simpleExample~00.pickle. There is no guarantee that they correspond to the specified model. <biogeme.py:1426>\n"
     ]
    }
   ],
   "source": [
    "recycled_results = myBiogeme.estimate(recycle=True, run_bootstrap=True)"
   ]
  },
  {
   "cell_type": "code",
   "execution_count": 25,
   "metadata": {},
   "outputs": [
    {
     "name": "stderr",
     "output_type": "stream",
     "text": [
      "[WARNING] 2023-07-30 16:43:09,901 The syntax \"shortSummary\" is deprecated and is replaced by the syntax \"short_summary\". <results.py:597>\n"
     ]
    },
    {
     "name": "stdout",
     "output_type": "stream",
     "text": [
      "Results for model simpleExample\n",
      "Nbr of parameters:\t\t2\n",
      "Sample size:\t\t\t5\n",
      "Excluded data:\t\t\t0\n",
      "Final log likelihood:\t\t-67.06549\n",
      "Akaike Information Criterion:\t138.131\n",
      "Bayesian Information Criterion:\t137.3499\n",
      "\n"
     ]
    }
   ],
   "source": [
    "print(recycled_results.shortSummary())"
   ]
  },
  {
   "cell_type": "code",
   "execution_count": 26,
   "metadata": {},
   "outputs": [
    {
     "data": {
      "text/html": [
       "<div>\n",
       "<style scoped>\n",
       "    .dataframe tbody tr th:only-of-type {\n",
       "        vertical-align: middle;\n",
       "    }\n",
       "\n",
       "    .dataframe tbody tr th {\n",
       "        vertical-align: top;\n",
       "    }\n",
       "\n",
       "    .dataframe thead th {\n",
       "        text-align: right;\n",
       "    }\n",
       "</style>\n",
       "<table border=\"1\" class=\"dataframe\">\n",
       "  <thead>\n",
       "    <tr style=\"text-align: right;\">\n",
       "      <th></th>\n",
       "      <th>Value</th>\n",
       "      <th>Rob. Std err</th>\n",
       "      <th>Rob. t-test</th>\n",
       "      <th>Rob. p-value</th>\n",
       "    </tr>\n",
       "  </thead>\n",
       "  <tbody>\n",
       "    <tr>\n",
       "      <th>beta1</th>\n",
       "      <td>-1.273264</td>\n",
       "      <td>0.013724</td>\n",
       "      <td>-92.776769</td>\n",
       "      <td>0.0</td>\n",
       "    </tr>\n",
       "    <tr>\n",
       "      <th>beta2</th>\n",
       "      <td>1.248769</td>\n",
       "      <td>0.059086</td>\n",
       "      <td>21.134795</td>\n",
       "      <td>0.0</td>\n",
       "    </tr>\n",
       "  </tbody>\n",
       "</table>\n",
       "</div>"
      ],
      "text/plain": [
       "          Value  Rob. Std err  Rob. t-test  Rob. p-value\n",
       "beta1 -1.273264      0.013724   -92.776769           0.0\n",
       "beta2  1.248769      0.059086    21.134795           0.0"
      ]
     },
     "execution_count": 26,
     "metadata": {},
     "output_type": "execute_result"
    }
   ],
   "source": [
    "recycled_results.getEstimatedParameters()"
   ]
  },
  {
   "cell_type": "markdown",
   "metadata": {},
   "source": [
    "## simulate"
   ]
  },
  {
   "cell_type": "markdown",
   "metadata": {},
   "source": [
    "Simulate with the default values for the parameters"
   ]
  },
  {
   "cell_type": "code",
   "execution_count": 27,
   "metadata": {},
   "outputs": [
    {
     "data": {
      "text/html": [
       "<div>\n",
       "<style scoped>\n",
       "    .dataframe tbody tr th:only-of-type {\n",
       "        vertical-align: middle;\n",
       "    }\n",
       "\n",
       "    .dataframe tbody tr th {\n",
       "        vertical-align: top;\n",
       "    }\n",
       "\n",
       "    .dataframe thead th {\n",
       "        text-align: right;\n",
       "    }\n",
       "</style>\n",
       "<table border=\"1\" class=\"dataframe\">\n",
       "  <thead>\n",
       "    <tr style=\"text-align: right;\">\n",
       "      <th></th>\n",
       "      <th>loglike</th>\n",
       "      <th>beta1</th>\n",
       "      <th>simul</th>\n",
       "    </tr>\n",
       "  </thead>\n",
       "  <tbody>\n",
       "    <tr>\n",
       "      <th>0</th>\n",
       "      <td>-131.0</td>\n",
       "      <td>0.0</td>\n",
       "      <td>0.06</td>\n",
       "    </tr>\n",
       "    <tr>\n",
       "      <th>1</th>\n",
       "      <td>-111.0</td>\n",
       "      <td>0.0</td>\n",
       "      <td>0.10</td>\n",
       "    </tr>\n",
       "    <tr>\n",
       "      <th>2</th>\n",
       "      <td>-111.0</td>\n",
       "      <td>0.0</td>\n",
       "      <td>0.10</td>\n",
       "    </tr>\n",
       "    <tr>\n",
       "      <th>3</th>\n",
       "      <td>-111.0</td>\n",
       "      <td>0.0</td>\n",
       "      <td>0.10</td>\n",
       "    </tr>\n",
       "    <tr>\n",
       "      <th>4</th>\n",
       "      <td>-101.0</td>\n",
       "      <td>0.0</td>\n",
       "      <td>0.15</td>\n",
       "    </tr>\n",
       "  </tbody>\n",
       "</table>\n",
       "</div>"
      ],
      "text/plain": [
       "   loglike  beta1  simul\n",
       "0   -131.0    0.0   0.06\n",
       "1   -111.0    0.0   0.10\n",
       "2   -111.0    0.0   0.10\n",
       "3   -111.0    0.0   0.10\n",
       "4   -101.0    0.0   0.15"
      ]
     },
     "execution_count": 27,
     "metadata": {},
     "output_type": "execute_result"
    }
   ],
   "source": [
    "simulationWithDefaultBetas = myBiogeme.simulate(myBiogeme.loglike.get_beta_values())\n",
    "simulationWithDefaultBetas"
   ]
  },
  {
   "cell_type": "markdown",
   "metadata": {},
   "source": [
    "Simulate with the estimated values for the parameters"
   ]
  },
  {
   "cell_type": "code",
   "execution_count": 28,
   "metadata": {},
   "outputs": [
    {
     "name": "stdout",
     "output_type": "stream",
     "text": [
      "{'beta1': -1.273263915009374, 'beta2': 1.248768825523196}\n"
     ]
    },
    {
     "data": {
      "text/html": [
       "<div>\n",
       "<style scoped>\n",
       "    .dataframe tbody tr th:only-of-type {\n",
       "        vertical-align: middle;\n",
       "    }\n",
       "\n",
       "    .dataframe tbody tr th {\n",
       "        vertical-align: top;\n",
       "    }\n",
       "\n",
       "    .dataframe thead th {\n",
       "        text-align: right;\n",
       "    }\n",
       "</style>\n",
       "<table border=\"1\" class=\"dataframe\">\n",
       "  <thead>\n",
       "    <tr style=\"text-align: right;\">\n",
       "      <th></th>\n",
       "      <th>loglike</th>\n",
       "      <th>beta1</th>\n",
       "      <th>simul</th>\n",
       "    </tr>\n",
       "  </thead>\n",
       "  <tbody>\n",
       "    <tr>\n",
       "      <th>0</th>\n",
       "      <td>-20.733962</td>\n",
       "      <td>-1.273264</td>\n",
       "      <td>-0.229677</td>\n",
       "    </tr>\n",
       "    <tr>\n",
       "      <th>1</th>\n",
       "      <td>-13.413098</td>\n",
       "      <td>-1.273264</td>\n",
       "      <td>-0.382796</td>\n",
       "    </tr>\n",
       "    <tr>\n",
       "      <th>2</th>\n",
       "      <td>-13.413098</td>\n",
       "      <td>-1.273264</td>\n",
       "      <td>-0.382796</td>\n",
       "    </tr>\n",
       "    <tr>\n",
       "      <th>3</th>\n",
       "      <td>-13.413098</td>\n",
       "      <td>-1.273264</td>\n",
       "      <td>-0.382796</td>\n",
       "    </tr>\n",
       "    <tr>\n",
       "      <th>4</th>\n",
       "      <td>-9.752666</td>\n",
       "      <td>-1.273264</td>\n",
       "      <td>-0.574194</td>\n",
       "    </tr>\n",
       "  </tbody>\n",
       "</table>\n",
       "</div>"
      ],
      "text/plain": [
       "     loglike     beta1     simul\n",
       "0 -20.733962 -1.273264 -0.229677\n",
       "1 -13.413098 -1.273264 -0.382796\n",
       "2 -13.413098 -1.273264 -0.382796\n",
       "3 -13.413098 -1.273264 -0.382796\n",
       "4  -9.752666 -1.273264 -0.574194"
      ]
     },
     "execution_count": 28,
     "metadata": {},
     "output_type": "execute_result"
    }
   ],
   "source": [
    "print(results.getBetaValues())\n",
    "simulationWithEstimatedBetas =\\\n",
    "    myBiogeme.simulate(results.getBetaValues())\n",
    "simulationWithEstimatedBetas"
   ]
  },
  {
   "cell_type": "markdown",
   "metadata": {},
   "source": [
    "## confidenceIntervals"
   ]
  },
  {
   "cell_type": "code",
   "execution_count": 29,
   "metadata": {},
   "outputs": [
    {
     "data": {
      "text/html": [
       "<div>\n",
       "<style scoped>\n",
       "    .dataframe tbody tr th:only-of-type {\n",
       "        vertical-align: middle;\n",
       "    }\n",
       "\n",
       "    .dataframe tbody tr th {\n",
       "        vertical-align: top;\n",
       "    }\n",
       "\n",
       "    .dataframe thead th {\n",
       "        text-align: right;\n",
       "    }\n",
       "</style>\n",
       "<table border=\"1\" class=\"dataframe\">\n",
       "  <thead>\n",
       "    <tr style=\"text-align: right;\">\n",
       "      <th></th>\n",
       "      <th>loglike</th>\n",
       "      <th>beta1</th>\n",
       "      <th>simul</th>\n",
       "    </tr>\n",
       "  </thead>\n",
       "  <tbody>\n",
       "    <tr>\n",
       "      <th>0</th>\n",
       "      <td>-21.503871</td>\n",
       "      <td>-1.298104</td>\n",
       "      <td>-0.236834</td>\n",
       "    </tr>\n",
       "    <tr>\n",
       "      <th>1</th>\n",
       "      <td>-13.576352</td>\n",
       "      <td>-1.298104</td>\n",
       "      <td>-0.394723</td>\n",
       "    </tr>\n",
       "    <tr>\n",
       "      <th>2</th>\n",
       "      <td>-13.576352</td>\n",
       "      <td>-1.298104</td>\n",
       "      <td>-0.394723</td>\n",
       "    </tr>\n",
       "    <tr>\n",
       "      <th>3</th>\n",
       "      <td>-13.576352</td>\n",
       "      <td>-1.298104</td>\n",
       "      <td>-0.394723</td>\n",
       "    </tr>\n",
       "    <tr>\n",
       "      <th>4</th>\n",
       "      <td>-9.994844</td>\n",
       "      <td>-1.298104</td>\n",
       "      <td>-0.592085</td>\n",
       "    </tr>\n",
       "  </tbody>\n",
       "</table>\n",
       "</div>"
      ],
      "text/plain": [
       "     loglike     beta1     simul\n",
       "0 -21.503871 -1.298104 -0.236834\n",
       "1 -13.576352 -1.298104 -0.394723\n",
       "2 -13.576352 -1.298104 -0.394723\n",
       "3 -13.576352 -1.298104 -0.394723\n",
       "4  -9.994844 -1.298104 -0.592085"
      ]
     },
     "execution_count": 29,
     "metadata": {},
     "output_type": "execute_result"
    }
   ],
   "source": [
    "drawsFromBetas =\\\n",
    "    results.getBetasForSensitivityAnalysis(myBiogeme.id_manager.free_betas.names)\n",
    "left, right = myBiogeme.confidenceIntervals(drawsFromBetas)\n",
    "left"
   ]
  },
  {
   "cell_type": "code",
   "execution_count": 30,
   "metadata": {},
   "outputs": [
    {
     "data": {
      "text/html": [
       "<div>\n",
       "<style scoped>\n",
       "    .dataframe tbody tr th:only-of-type {\n",
       "        vertical-align: middle;\n",
       "    }\n",
       "\n",
       "    .dataframe tbody tr th {\n",
       "        vertical-align: top;\n",
       "    }\n",
       "\n",
       "    .dataframe thead th {\n",
       "        text-align: right;\n",
       "    }\n",
       "</style>\n",
       "<table border=\"1\" class=\"dataframe\">\n",
       "  <thead>\n",
       "    <tr style=\"text-align: right;\">\n",
       "      <th></th>\n",
       "      <th>loglike</th>\n",
       "      <th>beta1</th>\n",
       "      <th>simul</th>\n",
       "    </tr>\n",
       "  </thead>\n",
       "  <tbody>\n",
       "    <tr>\n",
       "      <th>0</th>\n",
       "      <td>-20.460808</td>\n",
       "      <td>-1.257108</td>\n",
       "      <td>-0.225067</td>\n",
       "    </tr>\n",
       "    <tr>\n",
       "      <th>1</th>\n",
       "      <td>-13.417716</td>\n",
       "      <td>-1.257108</td>\n",
       "      <td>-0.375112</td>\n",
       "    </tr>\n",
       "    <tr>\n",
       "      <th>2</th>\n",
       "      <td>-13.417716</td>\n",
       "      <td>-1.257108</td>\n",
       "      <td>-0.375112</td>\n",
       "    </tr>\n",
       "    <tr>\n",
       "      <th>3</th>\n",
       "      <td>-13.417716</td>\n",
       "      <td>-1.257108</td>\n",
       "      <td>-0.375112</td>\n",
       "    </tr>\n",
       "    <tr>\n",
       "      <th>4</th>\n",
       "      <td>-9.612592</td>\n",
       "      <td>-1.257108</td>\n",
       "      <td>-0.562668</td>\n",
       "    </tr>\n",
       "  </tbody>\n",
       "</table>\n",
       "</div>"
      ],
      "text/plain": [
       "     loglike     beta1     simul\n",
       "0 -20.460808 -1.257108 -0.225067\n",
       "1 -13.417716 -1.257108 -0.375112\n",
       "2 -13.417716 -1.257108 -0.375112\n",
       "3 -13.417716 -1.257108 -0.375112\n",
       "4  -9.612592 -1.257108 -0.562668"
      ]
     },
     "execution_count": 30,
     "metadata": {},
     "output_type": "execute_result"
    }
   ],
   "source": [
    "right"
   ]
  },
  {
   "cell_type": "markdown",
   "metadata": {},
   "source": [
    "## validate"
   ]
  },
  {
   "cell_type": "markdown",
   "metadata": {},
   "source": [
    "The validation consists in organizing the data into several slices of about the same size, randomly defined. \n",
    "Each slide is considered as a validation dataset. The model is then re-estimated using all the data except the slice, and the estimated model is applied on the validation set (i.e. the slice). The value of the log likelihood for each observation in the validation set is reported in a dataframe. As this is done for each slice, the output is a list of dataframes, each corresponding to one of these exercises.   "
   ]
  },
  {
   "cell_type": "code",
   "execution_count": 31,
   "metadata": {},
   "outputs": [
    {
     "name": "stdout",
     "output_type": "stream",
     "text": [
      "<class 'pandas.core.frame.DataFrame'>\n",
      "<class 'pandas.core.frame.DataFrame'>\n",
      "<class 'pandas.core.frame.DataFrame'>\n",
      "<class 'pandas.core.frame.DataFrame'>\n",
      "<class 'pandas.core.frame.DataFrame'>\n",
      "<class 'pandas.core.frame.DataFrame'>\n",
      "<class 'pandas.core.frame.DataFrame'>\n",
      "<class 'pandas.core.frame.DataFrame'>\n",
      "<class 'pandas.core.frame.DataFrame'>\n",
      "<class 'pandas.core.frame.DataFrame'>\n"
     ]
    },
    {
     "name": "stderr",
     "output_type": "stream",
     "text": [
      "[INFO] 2023-07-30 16:43:09,979 File biogeme.toml has been parsed. <parameters.py:118>\n",
      "[INFO] 2023-07-30 16:43:09,980 *** Initial values of the parameters are obtained from the file __simpleExample_val_est_1.iter <biogeme.py:1442>\n",
      "[INFO] 2023-07-30 16:43:09,980 Cannot read file __simpleExample_val_est_1.iter. Statement is ignored. <biogeme.py:1208>\n",
      "[DEBUG] 2023-07-30 16:43:09,981 Log likelihood (N = 4):  -57.31282 <biogeme.py:979>\n",
      "[DEBUG] 2023-07-30 16:43:09,981 Run simple_bounds <biogeme.py:1702>\n",
      "[INFO] 2023-07-30 16:43:09,981 Optimization algorithm: hybrid Newton/BFGS with simple bounds [simple_bounds] <optimization.py:458>\n",
      "[INFO] 2023-07-30 16:43:09,982 ** Optimization: Newton with trust region for simple bounds <optimization.py:488>\n",
      "[DEBUG] 2023-07-30 16:43:09,982 Log likelihood (N = 4):  -57.31282 Gradient norm:          3   <biogeme.py:1086>\n",
      "[DEBUG] 2023-07-30 16:43:09,983 Log likelihood (N = 4):  -57.31282 Gradient norm:          3 Hessian norm:       1e+02  <biogeme.py:1086>\n",
      "[INFO] 2023-07-30 16:43:09,984 Iter.           beta1           beta2     Function    Relgrad   Radius      Rho      <simple_bounds.py:175>\n",
      "[DEBUG] 2023-07-30 16:43:09,984 Log likelihood (N = 4):  -57.28342 <biogeme.py:979>\n",
      "[DEBUG] 2023-07-30 16:43:09,985 Log likelihood (N = 4):  -57.28342 Gradient norm:       0.02   <biogeme.py:1086>\n",
      "[DEBUG] 2023-07-30 16:43:09,985 Log likelihood (N = 4):  -57.28342 Gradient norm:       0.02 Hessian norm:       1e+02  <biogeme.py:1086>\n",
      "[INFO] 2023-07-30 16:43:09,986     0            -1.3             1.3           57    0.00035    1e+02        1   ++ <simple_bounds.py:190>\n",
      "[DEBUG] 2023-07-30 16:43:09,987 Log likelihood (N = 4):  -57.28342 <biogeme.py:979>\n",
      "[DEBUG] 2023-07-30 16:43:09,987 Log likelihood (N = 4):  -57.28342 Gradient norm:      6e-07   <biogeme.py:1086>\n",
      "[INFO] 2023-07-30 16:43:09,987     1            -1.3             1.3           57    1.3e-08    1e+02        1   ++ <simple_bounds.py:190>\n",
      "[DEBUG] 2023-07-30 16:43:09,987 Log likelihood (N = 4):  -57.28342 Gradient norm:      6e-07 Hessian norm:       1e+02 BHHH norm:       6e+01 <biogeme.py:1086>\n",
      "[INFO] 2023-07-30 16:43:09,991 Results saved in file simpleExample_val_est_1.html <results.py:1263>\n",
      "[INFO] 2023-07-30 16:43:09,991 Results saved in file simpleExample_val_est_1.pickle <results.py:379>\n",
      "[INFO] 2023-07-30 16:43:09,996 File biogeme.toml has been parsed. <parameters.py:118>\n",
      "[INFO] 2023-07-30 16:43:10,002 File biogeme.toml has been parsed. <parameters.py:118>\n",
      "[INFO] 2023-07-30 16:43:10,002 *** Initial values of the parameters are obtained from the file __simpleExample_val_est_2.iter <biogeme.py:1442>\n",
      "[INFO] 2023-07-30 16:43:10,003 Cannot read file __simpleExample_val_est_2.iter. Statement is ignored. <biogeme.py:1208>\n",
      "[DEBUG] 2023-07-30 16:43:10,003 Log likelihood (N = 4):  -46.33153 <biogeme.py:979>\n",
      "[DEBUG] 2023-07-30 16:43:10,003 Run simple_bounds <biogeme.py:1702>\n",
      "[INFO] 2023-07-30 16:43:10,004 Optimization algorithm: hybrid Newton/BFGS with simple bounds [simple_bounds] <optimization.py:458>\n",
      "[INFO] 2023-07-30 16:43:10,004 ** Optimization: Newton with trust region for simple bounds <optimization.py:488>\n",
      "[DEBUG] 2023-07-30 16:43:10,004 Log likelihood (N = 4):  -46.33153 Gradient norm:          5   <biogeme.py:1086>\n",
      "[DEBUG] 2023-07-30 16:43:10,005 Log likelihood (N = 4):  -46.33153 Gradient norm:          5 Hessian norm:       1e+02  <biogeme.py:1086>\n",
      "[INFO] 2023-07-30 16:43:10,006 Iter.           beta1           beta2     Function    Relgrad   Radius      Rho      <simple_bounds.py:175>\n",
      "[DEBUG] 2023-07-30 16:43:10,006 Log likelihood (N = 4):  -46.20185 <biogeme.py:979>\n",
      "[DEBUG] 2023-07-30 16:43:10,006 Log likelihood (N = 4):  -46.20185 Gradient norm:       0.09   <biogeme.py:1086>\n",
      "[DEBUG] 2023-07-30 16:43:10,007 Log likelihood (N = 4):  -46.20185 Gradient norm:       0.09 Hessian norm:       1e+02  <biogeme.py:1086>\n",
      "[INFO] 2023-07-30 16:43:10,008     0            -1.3             1.2           46     0.0022    1e+02        1   ++ <simple_bounds.py:190>\n",
      "[DEBUG] 2023-07-30 16:43:10,008 Log likelihood (N = 4):  -46.20181 <biogeme.py:979>\n",
      "[DEBUG] 2023-07-30 16:43:10,008 Log likelihood (N = 4):  -46.20181 Gradient norm:      2e-05   <biogeme.py:1086>\n",
      "[INFO] 2023-07-30 16:43:10,009     1            -1.3             1.2           46      6e-07    1e+02        1   ++ <simple_bounds.py:190>\n",
      "[DEBUG] 2023-07-30 16:43:10,009 Log likelihood (N = 4):  -46.20181 Gradient norm:      2e-05 Hessian norm:       1e+02 BHHH norm:       4e+01 <biogeme.py:1086>\n",
      "[INFO] 2023-07-30 16:43:10,013 Results saved in file simpleExample_val_est_2.html <results.py:1263>\n",
      "[INFO] 2023-07-30 16:43:10,013 Results saved in file simpleExample_val_est_2.pickle <results.py:379>\n",
      "[INFO] 2023-07-30 16:43:10,018 File biogeme.toml has been parsed. <parameters.py:118>\n",
      "[INFO] 2023-07-30 16:43:10,024 File biogeme.toml has been parsed. <parameters.py:118>\n",
      "[INFO] 2023-07-30 16:43:10,025 *** Initial values of the parameters are obtained from the file __simpleExample_val_est_3.iter <biogeme.py:1442>\n",
      "[INFO] 2023-07-30 16:43:10,025 Cannot read file __simpleExample_val_est_3.iter. Statement is ignored. <biogeme.py:1208>\n",
      "[DEBUG] 2023-07-30 16:43:10,025 Log likelihood (N = 4):  -53.65239 <biogeme.py:979>\n",
      "[DEBUG] 2023-07-30 16:43:10,025 Run simple_bounds <biogeme.py:1702>\n",
      "[INFO] 2023-07-30 16:43:10,026 Optimization algorithm: hybrid Newton/BFGS with simple bounds [simple_bounds] <optimization.py:458>\n",
      "[INFO] 2023-07-30 16:43:10,026 ** Optimization: Newton with trust region for simple bounds <optimization.py:488>\n",
      "[DEBUG] 2023-07-30 16:43:10,026 Log likelihood (N = 4):  -53.65239 Gradient norm:      4e-06   <biogeme.py:1086>\n",
      "[DEBUG] 2023-07-30 16:43:10,027 Log likelihood (N = 4):  -53.65239 Gradient norm:      4e-06 Hessian norm:       1e+02 BHHH norm:       7e+01 <biogeme.py:1086>\n",
      "[INFO] 2023-07-30 16:43:10,029 Results saved in file simpleExample_val_est_3.html <results.py:1263>\n",
      "[INFO] 2023-07-30 16:43:10,030 Results saved in file simpleExample_val_est_3.pickle <results.py:379>\n",
      "[INFO] 2023-07-30 16:43:10,035 File biogeme.toml has been parsed. <parameters.py:118>\n",
      "[INFO] 2023-07-30 16:43:10,040 File biogeme.toml has been parsed. <parameters.py:118>\n",
      "[INFO] 2023-07-30 16:43:10,041 *** Initial values of the parameters are obtained from the file __simpleExample_val_est_4.iter <biogeme.py:1442>\n",
      "[INFO] 2023-07-30 16:43:10,042 Cannot read file __simpleExample_val_est_4.iter. Statement is ignored. <biogeme.py:1208>\n",
      "[DEBUG] 2023-07-30 16:43:10,042 Log likelihood (N = 4):  -60.97326 <biogeme.py:979>\n",
      "[DEBUG] 2023-07-30 16:43:10,042 Run simple_bounds <biogeme.py:1702>\n",
      "[INFO] 2023-07-30 16:43:10,042 Optimization algorithm: hybrid Newton/BFGS with simple bounds [simple_bounds] <optimization.py:458>\n",
      "[INFO] 2023-07-30 16:43:10,042 ** Optimization: Newton with trust region for simple bounds <optimization.py:488>\n",
      "[DEBUG] 2023-07-30 16:43:10,043 Log likelihood (N = 4):  -60.97326 Gradient norm:          5   <biogeme.py:1086>\n",
      "[DEBUG] 2023-07-30 16:43:10,043 Log likelihood (N = 4):  -60.97326 Gradient norm:          5 Hessian norm:       1e+02  <biogeme.py:1086>\n",
      "[INFO] 2023-07-30 16:43:10,044 Iter.           beta1           beta2     Function    Relgrad   Radius      Rho      <simple_bounds.py:175>\n",
      "[DEBUG] 2023-07-30 16:43:10,045 Log likelihood (N = 4):  -60.85905 <biogeme.py:979>\n",
      "[DEBUG] 2023-07-30 16:43:10,045 Log likelihood (N = 4):  -60.85905 Gradient norm:       0.06   <biogeme.py:1086>\n",
      "[DEBUG] 2023-07-30 16:43:10,045 Log likelihood (N = 4):  -60.85905 Gradient norm:       0.06 Hessian norm:       1e+02  <biogeme.py:1086>\n",
      "[INFO] 2023-07-30 16:43:10,046     0            -1.3             1.3           61     0.0012    1e+02     0.99   ++ <simple_bounds.py:190>\n",
      "[DEBUG] 2023-07-30 16:43:10,046 Log likelihood (N = 4):  -60.85903 <biogeme.py:979>\n",
      "[DEBUG] 2023-07-30 16:43:10,047 Log likelihood (N = 4):  -60.85903 Gradient norm:      7e-06   <biogeme.py:1086>\n",
      "[INFO] 2023-07-30 16:43:10,047     1            -1.3             1.3           61    1.5e-07    1e+02        1   ++ <simple_bounds.py:190>\n",
      "[DEBUG] 2023-07-30 16:43:10,047 Log likelihood (N = 4):  -60.85903 Gradient norm:      7e-06 Hessian norm:       1e+02 BHHH norm:       3e+01 <biogeme.py:1086>\n"
     ]
    },
    {
     "name": "stderr",
     "output_type": "stream",
     "text": [
      "[INFO] 2023-07-30 16:43:10,051 Results saved in file simpleExample_val_est_4.html <results.py:1263>\n",
      "[INFO] 2023-07-30 16:43:10,051 Results saved in file simpleExample_val_est_4.pickle <results.py:379>\n",
      "[INFO] 2023-07-30 16:43:10,056 File biogeme.toml has been parsed. <parameters.py:118>\n",
      "[INFO] 2023-07-30 16:43:10,062 File biogeme.toml has been parsed. <parameters.py:118>\n",
      "[INFO] 2023-07-30 16:43:10,063 *** Initial values of the parameters are obtained from the file __simpleExample_val_est_5.iter <biogeme.py:1442>\n",
      "[INFO] 2023-07-30 16:43:10,063 Cannot read file __simpleExample_val_est_5.iter. Statement is ignored. <biogeme.py:1208>\n",
      "[DEBUG] 2023-07-30 16:43:10,063 Log likelihood (N = 4):  -49.99196 <biogeme.py:979>\n",
      "[DEBUG] 2023-07-30 16:43:10,063 Run simple_bounds <biogeme.py:1702>\n",
      "[INFO] 2023-07-30 16:43:10,063 Optimization algorithm: hybrid Newton/BFGS with simple bounds [simple_bounds] <optimization.py:458>\n",
      "[INFO] 2023-07-30 16:43:10,064 ** Optimization: Newton with trust region for simple bounds <optimization.py:488>\n",
      "[DEBUG] 2023-07-30 16:43:10,064 Log likelihood (N = 4):  -49.99196 Gradient norm:          3   <biogeme.py:1086>\n",
      "[DEBUG] 2023-07-30 16:43:10,065 Log likelihood (N = 4):  -49.99196 Gradient norm:          3 Hessian norm:       1e+02  <biogeme.py:1086>\n",
      "[INFO] 2023-07-30 16:43:10,065 Iter.           beta1           beta2     Function    Relgrad   Radius      Rho      <simple_bounds.py:175>\n",
      "[DEBUG] 2023-07-30 16:43:10,066 Log likelihood (N = 4):  -49.96064 <biogeme.py:979>\n",
      "[DEBUG] 2023-07-30 16:43:10,066 Log likelihood (N = 4):  -49.96064 Gradient norm:       0.02   <biogeme.py:1086>\n",
      "[DEBUG] 2023-07-30 16:43:10,067 Log likelihood (N = 4):  -49.96064 Gradient norm:       0.02 Hessian norm:       1e+02  <biogeme.py:1086>\n",
      "[INFO] 2023-07-30 16:43:10,067     0            -1.3             1.2           50    0.00048    1e+02        1   ++ <simple_bounds.py:190>\n",
      "[DEBUG] 2023-07-30 16:43:10,068 Log likelihood (N = 4):  -49.96063 <biogeme.py:979>\n",
      "[DEBUG] 2023-07-30 16:43:10,068 Log likelihood (N = 4):  -49.96063 Gradient norm:      1e-06   <biogeme.py:1086>\n",
      "[INFO] 2023-07-30 16:43:10,068     1            -1.3             1.2           50    2.6e-08    1e+02        1   ++ <simple_bounds.py:190>\n",
      "[DEBUG] 2023-07-30 16:43:10,069 Log likelihood (N = 4):  -49.96063 Gradient norm:      1e-06 Hessian norm:       1e+02 BHHH norm:       6e+01 <biogeme.py:1086>\n",
      "[INFO] 2023-07-30 16:43:10,072 Results saved in file simpleExample_val_est_5.html <results.py:1263>\n",
      "[INFO] 2023-07-30 16:43:10,072 Results saved in file simpleExample_val_est_5.pickle <results.py:379>\n",
      "[INFO] 2023-07-30 16:43:10,077 File biogeme.toml has been parsed. <parameters.py:118>\n",
      "[INFO] 2023-07-30 16:43:10,079 Simulation results saved in file simpleExample_validation.pickle <biogeme.py:1663>\n"
     ]
    }
   ],
   "source": [
    "validationData = myData.split(slices=5)\n",
    "validation_results = myBiogeme.validate(results, validationData)"
   ]
  },
  {
   "cell_type": "code",
   "execution_count": 32,
   "metadata": {},
   "outputs": [
    {
     "data": {
      "text/plain": [
       "[   Loglikelihood\n",
       " 1       -9.81772,\n",
       "    Loglikelihood\n",
       " 4     -21.037421,\n",
       "    Loglikelihood\n",
       " 2     -13.413098,\n",
       "    Loglikelihood\n",
       " 0      -6.341109,\n",
       "    Loglikelihood\n",
       " 3     -17.145326]"
      ]
     },
     "execution_count": 32,
     "metadata": {},
     "output_type": "execute_result"
    }
   ],
   "source": [
    "validation_results"
   ]
  },
  {
   "cell_type": "code",
   "execution_count": 33,
   "metadata": {},
   "outputs": [
    {
     "name": "stdout",
     "output_type": "stream",
     "text": [
      "Log likelihood for 1 validation data: -9.81771976465043\n",
      "Log likelihood for 1 validation data: -21.03742136293277\n",
      "Log likelihood for 1 validation data: -13.413098095892746\n",
      "Log likelihood for 1 validation data: -6.341108765392212\n",
      "Log likelihood for 1 validation data: -17.145326446024075\n"
     ]
    }
   ],
   "source": [
    "for slide in validation_results:\n",
    "    print(f'Log likelihood for {slide.shape[0]} '\n",
    "          f'validation data: {slide[\"Loglikelihood\"].sum()}')\n"
   ]
  },
  {
   "cell_type": "markdown",
   "metadata": {},
   "source": [
    "## files_of_type"
   ]
  },
  {
   "cell_type": "code",
   "execution_count": 34,
   "metadata": {},
   "outputs": [
    {
     "data": {
      "text/plain": [
       "['simpleExample.pickle', 'simpleExample~00.pickle']"
      ]
     },
     "execution_count": 34,
     "metadata": {},
     "output_type": "execute_result"
    }
   ],
   "source": [
    "myBiogeme.files_of_type('pickle')"
   ]
  },
  {
   "cell_type": "code",
   "execution_count": null,
   "metadata": {},
   "outputs": [],
   "source": []
  }
 ],
 "metadata": {
  "kernelspec": {
   "display_name": "Python 3 (ipykernel)",
   "language": "python",
   "name": "python3"
  },
  "language_info": {
   "codemirror_mode": {
    "name": "ipython",
    "version": 3
   },
   "file_extension": ".py",
   "mimetype": "text/x-python",
   "name": "python",
   "nbconvert_exporter": "python",
   "pygments_lexer": "ipython3",
   "version": "3.11.3"
  }
 },
 "nbformat": 4,
 "nbformat_minor": 2
}
