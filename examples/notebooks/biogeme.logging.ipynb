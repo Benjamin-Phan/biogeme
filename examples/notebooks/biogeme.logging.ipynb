{
 "cells": [
  {
   "cell_type": "markdown",
   "metadata": {},
   "source": [
    "# Module biogeme.logging"
   ]
  },
  {
   "cell_type": "markdown",
   "metadata": {},
   "source": [
    "## Examples of use of each function"
   ]
  },
  {
   "cell_type": "markdown",
   "metadata": {},
   "source": [
    "This webpage is for programmers who need examples of use of the functions of the module. The examples are designed to illustrate the syntax. They do not correspond to any meaningful model. For examples of models, visit  [biogeme.epfl.ch](http://biogeme.epfl.ch)."
   ]
  },
  {
   "cell_type": "code",
   "execution_count": 1,
   "metadata": {
    "execution": {
     "iopub.execute_input": "2023-08-04T15:50:28.995917Z",
     "iopub.status.busy": "2023-08-04T15:50:28.995567Z",
     "iopub.status.idle": "2023-08-04T15:50:29.001584Z",
     "shell.execute_reply": "2023-08-04T15:50:29.001319Z"
    }
   },
   "outputs": [
    {
     "name": "stdout",
     "output_type": "stream",
     "text": [
      "2023-08-04 17:50:29.000197\n"
     ]
    }
   ],
   "source": [
    "import datetime\n",
    "print(datetime.datetime.now())"
   ]
  },
  {
   "cell_type": "code",
   "execution_count": 2,
   "metadata": {
    "execution": {
     "iopub.execute_input": "2023-08-04T15:50:29.002649Z",
     "iopub.status.busy": "2023-08-04T15:50:29.002567Z",
     "iopub.status.idle": "2023-08-04T15:50:29.004840Z",
     "shell.execute_reply": "2023-08-04T15:50:29.004601Z"
    }
   },
   "outputs": [
    {
     "name": "stdout",
     "output_type": "stream",
     "text": [
      "biogeme 3.2.12 [2023-08-04]\n",
      "Home page: http://biogeme.epfl.ch\n",
      "Submit questions to https://groups.google.com/d/forum/biogeme\n",
      "Michel Bierlaire, Transport and Mobility Laboratory, Ecole Polytechnique Fédérale de Lausanne (EPFL)\n",
      "\n"
     ]
    }
   ],
   "source": [
    "import biogeme.version as ver\n",
    "print(ver.getText())"
   ]
  },
  {
   "cell_type": "code",
   "execution_count": 3,
   "metadata": {
    "execution": {
     "iopub.execute_input": "2023-08-04T15:50:29.006005Z",
     "iopub.status.busy": "2023-08-04T15:50:29.005926Z",
     "iopub.status.idle": "2023-08-04T15:50:29.007819Z",
     "shell.execute_reply": "2023-08-04T15:50:29.007574Z"
    }
   },
   "outputs": [],
   "source": [
    "import os\n",
    "import biogeme.logging as blog"
   ]
  },
  {
   "cell_type": "markdown",
   "metadata": {},
   "source": [
    "In Python, the levels of reporting are:\n",
    "\n",
    "    - DEBUG\n",
    "    - INFO\n",
    "    - WARNING\n",
    "    - ERROR\n",
    "    - CRITICAL\n",
    "    \n",
    "In Biogeme, we basically use the first three."
   ]
  },
  {
   "cell_type": "markdown",
   "metadata": {},
   "source": [
    "If we request a specific level, all message from this level and all levels above are displayed. For example, if INFO is requested, everything except DEBUG will be diplayed."
   ]
  },
  {
   "cell_type": "code",
   "execution_count": 4,
   "metadata": {
    "execution": {
     "iopub.execute_input": "2023-08-04T15:50:29.008845Z",
     "iopub.status.busy": "2023-08-04T15:50:29.008772Z",
     "iopub.status.idle": "2023-08-04T15:50:29.010339Z",
     "shell.execute_reply": "2023-08-04T15:50:29.010111Z"
    }
   },
   "outputs": [],
   "source": [
    "logger = blog.get_screen_logger(level=blog.INFO)\n"
   ]
  },
  {
   "cell_type": "code",
   "execution_count": 5,
   "metadata": {
    "execution": {
     "iopub.execute_input": "2023-08-04T15:50:29.011222Z",
     "iopub.status.busy": "2023-08-04T15:50:29.011161Z",
     "iopub.status.idle": "2023-08-04T15:50:29.012941Z",
     "shell.execute_reply": "2023-08-04T15:50:29.012748Z"
    }
   },
   "outputs": [
    {
     "name": "stderr",
     "output_type": "stream",
     "text": [
      "A test \n"
     ]
    }
   ],
   "source": [
    "logger.info(\"A test\")"
   ]
  },
  {
   "cell_type": "markdown",
   "metadata": {},
   "source": [
    "If a debug message is generated, it is not displayed, as the INFO level has been requested above."
   ]
  },
  {
   "cell_type": "code",
   "execution_count": 6,
   "metadata": {
    "execution": {
     "iopub.execute_input": "2023-08-04T15:50:29.013883Z",
     "iopub.status.busy": "2023-08-04T15:50:29.013798Z",
     "iopub.status.idle": "2023-08-04T15:50:29.015358Z",
     "shell.execute_reply": "2023-08-04T15:50:29.015156Z"
    }
   },
   "outputs": [],
   "source": [
    "logger.debug(\"A debug message\")"
   ]
  },
  {
   "cell_type": "markdown",
   "metadata": {},
   "source": [
    "But a warning message is displayed, as it comes higher in the hierarch. "
   ]
  },
  {
   "cell_type": "code",
   "execution_count": 7,
   "metadata": {
    "execution": {
     "iopub.execute_input": "2023-08-04T15:50:29.016273Z",
     "iopub.status.busy": "2023-08-04T15:50:29.016212Z",
     "iopub.status.idle": "2023-08-04T15:50:29.017892Z",
     "shell.execute_reply": "2023-08-04T15:50:29.017669Z"
    }
   },
   "outputs": [
    {
     "name": "stderr",
     "output_type": "stream",
     "text": [
      "A warning message \n"
     ]
    }
   ],
   "source": [
    "logger.warning(\"A warning message\")"
   ]
  },
  {
   "cell_type": "markdown",
   "metadata": {},
   "source": [
    "It is also possible to log the messages on file."
   ]
  },
  {
   "cell_type": "code",
   "execution_count": 8,
   "metadata": {
    "execution": {
     "iopub.execute_input": "2023-08-04T15:50:29.018863Z",
     "iopub.status.busy": "2023-08-04T15:50:29.018798Z",
     "iopub.status.idle": "2023-08-04T15:50:29.020306Z",
     "shell.execute_reply": "2023-08-04T15:50:29.020078Z"
    }
   },
   "outputs": [],
   "source": [
    "the_file = '_test.log'"
   ]
  },
  {
   "cell_type": "markdown",
   "metadata": {},
   "source": [
    "Let's first erase the file if happens to exist"
   ]
  },
  {
   "cell_type": "code",
   "execution_count": 9,
   "metadata": {
    "execution": {
     "iopub.execute_input": "2023-08-04T15:50:29.021255Z",
     "iopub.status.busy": "2023-08-04T15:50:29.021179Z",
     "iopub.status.idle": "2023-08-04T15:50:29.022889Z",
     "shell.execute_reply": "2023-08-04T15:50:29.022656Z"
    }
   },
   "outputs": [],
   "source": [
    "try:\n",
    " os.remove(the_file)\n",
    "except FileNotFoundError:\n",
    "    pass\n",
    "    "
   ]
  },
  {
   "cell_type": "code",
   "execution_count": 10,
   "metadata": {
    "execution": {
     "iopub.execute_input": "2023-08-04T15:50:29.023799Z",
     "iopub.status.busy": "2023-08-04T15:50:29.023712Z",
     "iopub.status.idle": "2023-08-04T15:50:29.025377Z",
     "shell.execute_reply": "2023-08-04T15:50:29.025190Z"
    }
   },
   "outputs": [],
   "source": [
    "file_logger = blog.get_file_logger(filename=the_file, level=blog.DEBUG)"
   ]
  },
  {
   "cell_type": "code",
   "execution_count": 11,
   "metadata": {
    "execution": {
     "iopub.execute_input": "2023-08-04T15:50:29.026230Z",
     "iopub.status.busy": "2023-08-04T15:50:29.026165Z",
     "iopub.status.idle": "2023-08-04T15:50:29.028384Z",
     "shell.execute_reply": "2023-08-04T15:50:29.028166Z"
    }
   },
   "outputs": [
    {
     "name": "stderr",
     "output_type": "stream",
     "text": [
      "A warning message \n"
     ]
    },
    {
     "name": "stderr",
     "output_type": "stream",
     "text": [
      "A info message \n"
     ]
    }
   ],
   "source": [
    "file_logger.debug('A debug message')\n",
    "file_logger.warning('A warning message')\n",
    "file_logger.info('A info message')"
   ]
  },
  {
   "cell_type": "markdown",
   "metadata": {},
   "source": [
    "Here is the content of the log file. Note that the message includes the filename, which is not informative in the context of this Notebook. "
   ]
  },
  {
   "cell_type": "code",
   "execution_count": 12,
   "metadata": {
    "execution": {
     "iopub.execute_input": "2023-08-04T15:50:29.029332Z",
     "iopub.status.busy": "2023-08-04T15:50:29.029261Z",
     "iopub.status.idle": "2023-08-04T15:50:29.031171Z",
     "shell.execute_reply": "2023-08-04T15:50:29.030931Z"
    }
   },
   "outputs": [
    {
     "name": "stdout",
     "output_type": "stream",
     "text": [
      "[DEBUG] 2023-08-04 17:50:29,026 A debug message <458046057.py:1>\n",
      "[WARNING] 2023-08-04 17:50:29,026 A warning message <458046057.py:2>\n",
      "[INFO] 2023-08-04 17:50:29,026 A info message <458046057.py:3>\n",
      "\n"
     ]
    }
   ],
   "source": [
    "with open(the_file) as f:\n",
    "    print(f.read())"
   ]
  },
  {
   "cell_type": "code",
   "execution_count": null,
   "metadata": {},
   "outputs": [],
   "source": []
  }
 ],
 "metadata": {
  "kernelspec": {
   "display_name": "Python 3 (ipykernel)",
   "language": "python",
   "name": "python3"
  },
  "language_info": {
   "codemirror_mode": {
    "name": "ipython",
    "version": 3
   },
   "file_extension": ".py",
   "mimetype": "text/x-python",
   "name": "python",
   "nbconvert_exporter": "python",
   "pygments_lexer": "ipython3",
   "version": "3.11.3"
  }
 },
 "nbformat": 4,
 "nbformat_minor": 4
}
